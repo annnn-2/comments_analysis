{
  "nbformat": 4,
  "nbformat_minor": 0,
  "metadata": {
    "colab": {
      "provenance": [],
      "collapsed_sections": [
        "3erenAK44dJp",
        "HOlDqtuTXYjo",
        "U6yF6Hv0Gmzb",
        "2LdqPTXMiiqu"
      ]
    },
    "kernelspec": {
      "name": "python3",
      "display_name": "Python 3"
    },
    "language_info": {
      "name": "python"
    }
  },
  "cells": [
    {
      "cell_type": "code",
      "execution_count": 1,
      "metadata": {
        "id": "yUdwWdICEZsa"
      },
      "outputs": [],
      "source": [
        "import pandas as pd\n",
        "import numpy as np \n",
        "import matplotlib.pyplot as plt\n",
        "import seaborn as sns"
      ]
    },
    {
      "cell_type": "markdown",
      "source": [
        "#Датасет с нормальными комментариями"
      ],
      "metadata": {
        "id": "gEyHr0zSXE4A"
      }
    },
    {
      "cell_type": "markdown",
      "source": [
        "Скачиваем датасет с номальными комментариями.\n"
      ],
      "metadata": {
        "id": "m1RZ3WbHOEcQ"
      }
    },
    {
      "cell_type": "code",
      "source": [
        "with open('drive/MyDrive/Diplom/my_clean_data_normies.csv') as f:\n",
        "    my_data_normies = pd.read_csv(f, sep=',')"
      ],
      "metadata": {
        "id": "0pxQ8hVuEa4t",
        "colab": {
          "base_uri": "https://localhost:8080/"
        },
        "outputId": "43520fad-8012-4a6b-bc65-043a3918ee01"
      },
      "execution_count": null,
      "outputs": [
        {
          "output_type": "stream",
          "name": "stderr",
          "text": [
            "/usr/local/lib/python3.9/dist-packages/ipykernel/ipkernel.py:283: DeprecationWarning: `should_run_async` will not call `transform_cell` automatically in the future. Please pass the result to `transformed_cell` argument and any exception that happen during thetransform in `preprocessing_exc_tuple` in IPython 7.17 and above.\n",
            "  and should_run_async(code)\n"
          ]
        }
      ]
    },
    {
      "cell_type": "code",
      "source": [
        "#my_data_normies"
      ],
      "metadata": {
        "id": "b4QJNXhGFMFQ",
        "colab": {
          "base_uri": "https://localhost:8080/"
        },
        "outputId": "be8f3b98-1c8d-411a-fafe-4114c767ae2e"
      },
      "execution_count": null,
      "outputs": [
        {
          "output_type": "stream",
          "name": "stderr",
          "text": [
            "/usr/local/lib/python3.9/dist-packages/ipykernel/ipkernel.py:283: DeprecationWarning: `should_run_async` will not call `transform_cell` automatically in the future. Please pass the result to `transformed_cell` argument and any exception that happen during thetransform in `preprocessing_exc_tuple` in IPython 7.17 and above.\n",
            "  and should_run_async(code)\n"
          ]
        }
      ]
    },
    {
      "cell_type": "markdown",
      "source": [
        "Проверим датасет с нормальными комментариями, так как многие имена авторов содержат 'bot', что вызывает подозрения."
      ],
      "metadata": {
        "id": "Mfssv6o0OiWv"
      }
    },
    {
      "cell_type": "code",
      "source": [
        "import re\n",
        "\n",
        "word = '[bB][oO][tT]'\n",
        "\n",
        "def bot(author_name):\n",
        "    #print(author_name)\n",
        "    if pd.isna(author_name):\n",
        "      #print(author_name)\n",
        "      return 0\n",
        "    if re.search(word, author_name) != None:\n",
        "      return 1\n",
        "    return 0\n",
        "\n",
        "\n",
        "my_data_normies['bot_author'] = my_data_normies['author'].apply(bot)"
      ],
      "metadata": {
        "id": "he35IQceHFMl",
        "colab": {
          "base_uri": "https://localhost:8080/"
        },
        "outputId": "4570c09b-1c5a-4069-a95e-177d92aa414f"
      },
      "execution_count": null,
      "outputs": [
        {
          "output_type": "stream",
          "name": "stderr",
          "text": [
            "/usr/local/lib/python3.9/dist-packages/ipykernel/ipkernel.py:283: DeprecationWarning: `should_run_async` will not call `transform_cell` automatically in the future. Please pass the result to `transformed_cell` argument and any exception that happen during thetransform in `preprocessing_exc_tuple` in IPython 7.17 and above.\n",
            "  and should_run_async(code)\n"
          ]
        }
      ]
    },
    {
      "cell_type": "code",
      "source": [
        "sum(my_data_normies['bot_author'])"
      ],
      "metadata": {
        "colab": {
          "base_uri": "https://localhost:8080/"
        },
        "id": "KqW9tdBlChYs",
        "outputId": "b3981355-6090-4eaa-d611-3918d4eb2da9"
      },
      "execution_count": null,
      "outputs": [
        {
          "output_type": "stream",
          "name": "stderr",
          "text": [
            "/usr/local/lib/python3.9/dist-packages/ipykernel/ipkernel.py:283: DeprecationWarning: `should_run_async` will not call `transform_cell` automatically in the future. Please pass the result to `transformed_cell` argument and any exception that happen during thetransform in `preprocessing_exc_tuple` in IPython 7.17 and above.\n",
            "  and should_run_async(code)\n"
          ]
        },
        {
          "output_type": "execute_result",
          "data": {
            "text/plain": [
              "120637"
            ]
          },
          "metadata": {},
          "execution_count": 98
        }
      ]
    },
    {
      "cell_type": "markdown",
      "source": [
        "Получаем 120 637 строк, в которых имя автора похоже имя бота."
      ],
      "metadata": {
        "id": "8AByaELpPHyQ"
      }
    },
    {
      "cell_type": "code",
      "source": [
        "my_data_normies = my_data_normies.drop(my_data_normies[my_data_normies.bot_author == 1].index)"
      ],
      "metadata": {
        "id": "RmTFuM0kG5bj",
        "colab": {
          "base_uri": "https://localhost:8080/"
        },
        "outputId": "e76dfca8-7186-404b-c89e-6751f2ca43e7"
      },
      "execution_count": null,
      "outputs": [
        {
          "output_type": "stream",
          "name": "stderr",
          "text": [
            "/usr/local/lib/python3.9/dist-packages/ipykernel/ipkernel.py:283: DeprecationWarning: `should_run_async` will not call `transform_cell` automatically in the future. Please pass the result to `transformed_cell` argument and any exception that happen during thetransform in `preprocessing_exc_tuple` in IPython 7.17 and above.\n",
            "  and should_run_async(code)\n"
          ]
        }
      ]
    },
    {
      "cell_type": "markdown",
      "source": [
        "Попробуем другой датасет для нормальных комментариев."
      ],
      "metadata": {
        "id": "slYY39rhPI3v"
      }
    },
    {
      "cell_type": "code",
      "source": [
        "normal_comments=pd.read_csv(\"drive/MyDrive/Diplom/csv-zusammenfuehren.de_3mjg6fs7.csv\", \n",
        "                            usecols = [\"link_id\", \"author\", \"score\", \"body\", \"ups\"],\n",
        "                            dtype={\n",
        "                                \"link_id\": str,\n",
        "                                #\"gilded\": bool,  = 0 everywhere\n",
        "                                \"author\": str,\n",
        "                                #\"created_utc\": int,\n",
        "                                #\"score\": np.float64,\n",
        "                                \"body\": str,\n",
        "                                #\"controversiality\": np.float64, = 0 everywhere\n",
        "                                #\"ups\": np.float64\n",
        "                                }, \n",
        "                                 #error_bad_lines=False,\n",
        "                                on_bad_lines='warn')"
      ],
      "metadata": {
        "id": "0ns_HHaoDmS9",
        "colab": {
          "base_uri": "https://localhost:8080/"
        },
        "outputId": "c96d941d-c720-4974-d31c-a2ea1c4c4edd"
      },
      "execution_count": null,
      "outputs": [
        {
          "output_type": "stream",
          "name": "stderr",
          "text": [
            "/usr/local/lib/python3.9/dist-packages/ipykernel/ipkernel.py:283: DeprecationWarning: `should_run_async` will not call `transform_cell` automatically in the future. Please pass the result to `transformed_cell` argument and any exception that happen during thetransform in `preprocessing_exc_tuple` in IPython 7.17 and above.\n",
            "  and should_run_async(code)\n"
          ]
        }
      ]
    },
    {
      "cell_type": "code",
      "source": [
        "normal_comments = normal_comments.convert_dtypes()\n",
        "normal_comments.dtypes"
      ],
      "metadata": {
        "colab": {
          "base_uri": "https://localhost:8080/"
        },
        "id": "YTLw0IvewXfA",
        "outputId": "9d3b9100-0df1-467b-c3eb-e21a98771bba"
      },
      "execution_count": null,
      "outputs": [
        {
          "output_type": "stream",
          "name": "stderr",
          "text": [
            "/usr/local/lib/python3.9/dist-packages/ipykernel/ipkernel.py:283: DeprecationWarning: `should_run_async` will not call `transform_cell` automatically in the future. Please pass the result to `transformed_cell` argument and any exception that happen during thetransform in `preprocessing_exc_tuple` in IPython 7.17 and above.\n",
            "  and should_run_async(code)\n"
          ]
        },
        {
          "output_type": "execute_result",
          "data": {
            "text/plain": [
              "body       string\n",
              "author     string\n",
              "link_id    string\n",
              "score      string\n",
              "ups        string\n",
              "dtype: object"
            ]
          },
          "metadata": {},
          "execution_count": 101
        }
      ]
    },
    {
      "cell_type": "code",
      "source": [
        "normal_comments"
      ],
      "metadata": {
        "colab": {
          "base_uri": "https://localhost:8080/"
        },
        "id": "OeLt8if9KmlY",
        "outputId": "6b3cb90a-0839-4d7d-e07f-2885871fcfee"
      },
      "execution_count": null,
      "outputs": [
        {
          "output_type": "stream",
          "name": "stderr",
          "text": [
            "/usr/local/lib/python3.9/dist-packages/ipykernel/ipkernel.py:283: DeprecationWarning: `should_run_async` will not call `transform_cell` automatically in the future. Please pass the result to `transformed_cell` argument and any exception that happen during thetransform in `preprocessing_exc_tuple` in IPython 7.17 and above.\n",
            "  and should_run_async(code)\n"
          ]
        },
        {
          "output_type": "execute_result",
          "data": {
            "text/plain": [
              "                                                    body              author  \\\n",
              "0      I guess there was some awkwardness, but it was...        elevenghosts   \n",
              "1      Food schmooze isn't bad, I've gotten a few int...       BeerBaldBeard   \n",
              "2      Is there a fatigue animation before sleep that...            tmrxwoot   \n",
              "3      I recently saw some Shohei Inamura films, spec...       Zassolluto711   \n",
              "4                                How long did that take?             Ditto_B   \n",
              "...                                                  ...                 ...   \n",
              "45144  I remember the 2007 clippers.\n",
              "\n",
              "Which is the sa...           kcheng686   \n",
              "45145  On second thought you might actually be autistic     DisconnectedCorn   \n",
              "45146  Hello darkness, my old friend,\n",
              "I've come to ta...          najing_ftw   \n",
              "45147  You can't use the enter key when you're doing ...  Fourteen_of_Twelve   \n",
              "45148  I was, but I flashed stock so I could get OTAs...           RanaI_Ape   \n",
              "\n",
              "         link_id score   ups  \n",
              "0      t3_2urgi1     1     1  \n",
              "1      t3_2wj4w8     1     1  \n",
              "2      t3_2vvy1m     1     1  \n",
              "3      t3_2x9q0x     2     2  \n",
              "4      t3_2w566b     2     2  \n",
              "...          ...   ...   ...  \n",
              "45144  t3_5on47d     1  <NA>  \n",
              "45145  t3_5q9ppf     1  <NA>  \n",
              "45146  t3_5pqb17     3  <NA>  \n",
              "45147  t3_5oh8zt     5  <NA>  \n",
              "45148  t3_5obnei     1  <NA>  \n",
              "\n",
              "[45149 rows x 5 columns]"
            ],
            "text/html": [
              "\n",
              "  <div id=\"df-ebc4728d-b3a6-4b51-b540-f074adee743d\">\n",
              "    <div class=\"colab-df-container\">\n",
              "      <div>\n",
              "<style scoped>\n",
              "    .dataframe tbody tr th:only-of-type {\n",
              "        vertical-align: middle;\n",
              "    }\n",
              "\n",
              "    .dataframe tbody tr th {\n",
              "        vertical-align: top;\n",
              "    }\n",
              "\n",
              "    .dataframe thead th {\n",
              "        text-align: right;\n",
              "    }\n",
              "</style>\n",
              "<table border=\"1\" class=\"dataframe\">\n",
              "  <thead>\n",
              "    <tr style=\"text-align: right;\">\n",
              "      <th></th>\n",
              "      <th>body</th>\n",
              "      <th>author</th>\n",
              "      <th>link_id</th>\n",
              "      <th>score</th>\n",
              "      <th>ups</th>\n",
              "    </tr>\n",
              "  </thead>\n",
              "  <tbody>\n",
              "    <tr>\n",
              "      <th>0</th>\n",
              "      <td>I guess there was some awkwardness, but it was...</td>\n",
              "      <td>elevenghosts</td>\n",
              "      <td>t3_2urgi1</td>\n",
              "      <td>1</td>\n",
              "      <td>1</td>\n",
              "    </tr>\n",
              "    <tr>\n",
              "      <th>1</th>\n",
              "      <td>Food schmooze isn't bad, I've gotten a few int...</td>\n",
              "      <td>BeerBaldBeard</td>\n",
              "      <td>t3_2wj4w8</td>\n",
              "      <td>1</td>\n",
              "      <td>1</td>\n",
              "    </tr>\n",
              "    <tr>\n",
              "      <th>2</th>\n",
              "      <td>Is there a fatigue animation before sleep that...</td>\n",
              "      <td>tmrxwoot</td>\n",
              "      <td>t3_2vvy1m</td>\n",
              "      <td>1</td>\n",
              "      <td>1</td>\n",
              "    </tr>\n",
              "    <tr>\n",
              "      <th>3</th>\n",
              "      <td>I recently saw some Shohei Inamura films, spec...</td>\n",
              "      <td>Zassolluto711</td>\n",
              "      <td>t3_2x9q0x</td>\n",
              "      <td>2</td>\n",
              "      <td>2</td>\n",
              "    </tr>\n",
              "    <tr>\n",
              "      <th>4</th>\n",
              "      <td>How long did that take?</td>\n",
              "      <td>Ditto_B</td>\n",
              "      <td>t3_2w566b</td>\n",
              "      <td>2</td>\n",
              "      <td>2</td>\n",
              "    </tr>\n",
              "    <tr>\n",
              "      <th>...</th>\n",
              "      <td>...</td>\n",
              "      <td>...</td>\n",
              "      <td>...</td>\n",
              "      <td>...</td>\n",
              "      <td>...</td>\n",
              "    </tr>\n",
              "    <tr>\n",
              "      <th>45144</th>\n",
              "      <td>I remember the 2007 clippers.\n",
              "\n",
              "Which is the sa...</td>\n",
              "      <td>kcheng686</td>\n",
              "      <td>t3_5on47d</td>\n",
              "      <td>1</td>\n",
              "      <td>&lt;NA&gt;</td>\n",
              "    </tr>\n",
              "    <tr>\n",
              "      <th>45145</th>\n",
              "      <td>On second thought you might actually be autistic</td>\n",
              "      <td>DisconnectedCorn</td>\n",
              "      <td>t3_5q9ppf</td>\n",
              "      <td>1</td>\n",
              "      <td>&lt;NA&gt;</td>\n",
              "    </tr>\n",
              "    <tr>\n",
              "      <th>45146</th>\n",
              "      <td>Hello darkness, my old friend,\n",
              "I've come to ta...</td>\n",
              "      <td>najing_ftw</td>\n",
              "      <td>t3_5pqb17</td>\n",
              "      <td>3</td>\n",
              "      <td>&lt;NA&gt;</td>\n",
              "    </tr>\n",
              "    <tr>\n",
              "      <th>45147</th>\n",
              "      <td>You can't use the enter key when you're doing ...</td>\n",
              "      <td>Fourteen_of_Twelve</td>\n",
              "      <td>t3_5oh8zt</td>\n",
              "      <td>5</td>\n",
              "      <td>&lt;NA&gt;</td>\n",
              "    </tr>\n",
              "    <tr>\n",
              "      <th>45148</th>\n",
              "      <td>I was, but I flashed stock so I could get OTAs...</td>\n",
              "      <td>RanaI_Ape</td>\n",
              "      <td>t3_5obnei</td>\n",
              "      <td>1</td>\n",
              "      <td>&lt;NA&gt;</td>\n",
              "    </tr>\n",
              "  </tbody>\n",
              "</table>\n",
              "<p>45149 rows × 5 columns</p>\n",
              "</div>\n",
              "      <button class=\"colab-df-convert\" onclick=\"convertToInteractive('df-ebc4728d-b3a6-4b51-b540-f074adee743d')\"\n",
              "              title=\"Convert this dataframe to an interactive table.\"\n",
              "              style=\"display:none;\">\n",
              "        \n",
              "  <svg xmlns=\"http://www.w3.org/2000/svg\" height=\"24px\"viewBox=\"0 0 24 24\"\n",
              "       width=\"24px\">\n",
              "    <path d=\"M0 0h24v24H0V0z\" fill=\"none\"/>\n",
              "    <path d=\"M18.56 5.44l.94 2.06.94-2.06 2.06-.94-2.06-.94-.94-2.06-.94 2.06-2.06.94zm-11 1L8.5 8.5l.94-2.06 2.06-.94-2.06-.94L8.5 2.5l-.94 2.06-2.06.94zm10 10l.94 2.06.94-2.06 2.06-.94-2.06-.94-.94-2.06-.94 2.06-2.06.94z\"/><path d=\"M17.41 7.96l-1.37-1.37c-.4-.4-.92-.59-1.43-.59-.52 0-1.04.2-1.43.59L10.3 9.45l-7.72 7.72c-.78.78-.78 2.05 0 2.83L4 21.41c.39.39.9.59 1.41.59.51 0 1.02-.2 1.41-.59l7.78-7.78 2.81-2.81c.8-.78.8-2.07 0-2.86zM5.41 20L4 18.59l7.72-7.72 1.47 1.35L5.41 20z\"/>\n",
              "  </svg>\n",
              "      </button>\n",
              "      \n",
              "  <style>\n",
              "    .colab-df-container {\n",
              "      display:flex;\n",
              "      flex-wrap:wrap;\n",
              "      gap: 12px;\n",
              "    }\n",
              "\n",
              "    .colab-df-convert {\n",
              "      background-color: #E8F0FE;\n",
              "      border: none;\n",
              "      border-radius: 50%;\n",
              "      cursor: pointer;\n",
              "      display: none;\n",
              "      fill: #1967D2;\n",
              "      height: 32px;\n",
              "      padding: 0 0 0 0;\n",
              "      width: 32px;\n",
              "    }\n",
              "\n",
              "    .colab-df-convert:hover {\n",
              "      background-color: #E2EBFA;\n",
              "      box-shadow: 0px 1px 2px rgba(60, 64, 67, 0.3), 0px 1px 3px 1px rgba(60, 64, 67, 0.15);\n",
              "      fill: #174EA6;\n",
              "    }\n",
              "\n",
              "    [theme=dark] .colab-df-convert {\n",
              "      background-color: #3B4455;\n",
              "      fill: #D2E3FC;\n",
              "    }\n",
              "\n",
              "    [theme=dark] .colab-df-convert:hover {\n",
              "      background-color: #434B5C;\n",
              "      box-shadow: 0px 1px 3px 1px rgba(0, 0, 0, 0.15);\n",
              "      filter: drop-shadow(0px 1px 2px rgba(0, 0, 0, 0.3));\n",
              "      fill: #FFFFFF;\n",
              "    }\n",
              "  </style>\n",
              "\n",
              "      <script>\n",
              "        const buttonEl =\n",
              "          document.querySelector('#df-ebc4728d-b3a6-4b51-b540-f074adee743d button.colab-df-convert');\n",
              "        buttonEl.style.display =\n",
              "          google.colab.kernel.accessAllowed ? 'block' : 'none';\n",
              "\n",
              "        async function convertToInteractive(key) {\n",
              "          const element = document.querySelector('#df-ebc4728d-b3a6-4b51-b540-f074adee743d');\n",
              "          const dataTable =\n",
              "            await google.colab.kernel.invokeFunction('convertToInteractive',\n",
              "                                                     [key], {});\n",
              "          if (!dataTable) return;\n",
              "\n",
              "          const docLinkHtml = 'Like what you see? Visit the ' +\n",
              "            '<a target=\"_blank\" href=https://colab.research.google.com/notebooks/data_table.ipynb>data table notebook</a>'\n",
              "            + ' to learn more about interactive tables.';\n",
              "          element.innerHTML = '';\n",
              "          dataTable['output_type'] = 'display_data';\n",
              "          await google.colab.output.renderOutput(dataTable, element);\n",
              "          const docLink = document.createElement('div');\n",
              "          docLink.innerHTML = docLinkHtml;\n",
              "          element.appendChild(docLink);\n",
              "        }\n",
              "      </script>\n",
              "    </div>\n",
              "  </div>\n",
              "  "
            ]
          },
          "metadata": {},
          "execution_count": 102
        }
      ]
    },
    {
      "cell_type": "markdown",
      "source": [
        "Посчитаем количество авторов содержащих паттерн \"bot\"."
      ],
      "metadata": {
        "id": "MF-Es2h_P2fa"
      }
    },
    {
      "cell_type": "code",
      "source": [
        "normal_comments['bot_author'] = normal_comments['author'].apply(bot)\n",
        "sum(normal_comments['bot_author'])"
      ],
      "metadata": {
        "colab": {
          "base_uri": "https://localhost:8080/"
        },
        "id": "rDZ5eiXeETMw",
        "outputId": "45faf90c-8bae-43ad-c2f4-9dca8282c519"
      },
      "execution_count": null,
      "outputs": [
        {
          "output_type": "stream",
          "name": "stderr",
          "text": [
            "/usr/local/lib/python3.9/dist-packages/ipykernel/ipkernel.py:283: DeprecationWarning: `should_run_async` will not call `transform_cell` automatically in the future. Please pass the result to `transformed_cell` argument and any exception that happen during thetransform in `preprocessing_exc_tuple` in IPython 7.17 and above.\n",
            "  and should_run_async(code)\n"
          ]
        },
        {
          "output_type": "execute_result",
          "data": {
            "text/plain": [
              "303"
            ]
          },
          "metadata": {},
          "execution_count": 103
        }
      ]
    },
    {
      "cell_type": "markdown",
      "source": [
        "Таких авторов всего 303, значит этот датасет нам вероятно подходит больше. Удалим комментарии этих авторов."
      ],
      "metadata": {
        "id": "laLslTy-P9TG"
      }
    },
    {
      "cell_type": "code",
      "source": [
        "normal_comments = normal_comments.drop(normal_comments[normal_comments.bot_author == 1].index)"
      ],
      "metadata": {
        "id": "tIip-oQ4RF2k",
        "colab": {
          "base_uri": "https://localhost:8080/"
        },
        "outputId": "26eb84fa-9a54-4828-94d4-d80c05caa188"
      },
      "execution_count": null,
      "outputs": [
        {
          "output_type": "stream",
          "name": "stderr",
          "text": [
            "/usr/local/lib/python3.9/dist-packages/ipykernel/ipkernel.py:283: DeprecationWarning: `should_run_async` will not call `transform_cell` automatically in the future. Please pass the result to `transformed_cell` argument and any exception that happen during thetransform in `preprocessing_exc_tuple` in IPython 7.17 and above.\n",
            "  and should_run_async(code)\n"
          ]
        }
      ]
    },
    {
      "cell_type": "markdown",
      "source": [
        "Добавим признаки is_bot is_troll is_normal."
      ],
      "metadata": {
        "id": "imTwFsOrZtVY"
      }
    },
    {
      "cell_type": "code",
      "source": [
        "normal_comments.drop(['bot_author'], axis=1, inplace = True)\n",
        "normal_comments['is_bot'] = False\n",
        "normal_comments['is_troll'] = False\n",
        "normal_comments['is_normal'] = True"
      ],
      "metadata": {
        "id": "87yrZgQoq8vM",
        "colab": {
          "base_uri": "https://localhost:8080/"
        },
        "outputId": "12658c35-de22-4006-b46d-f9744e64ba8d"
      },
      "execution_count": null,
      "outputs": [
        {
          "output_type": "stream",
          "name": "stderr",
          "text": [
            "/usr/local/lib/python3.9/dist-packages/ipykernel/ipkernel.py:283: DeprecationWarning: `should_run_async` will not call `transform_cell` automatically in the future. Please pass the result to `transformed_cell` argument and any exception that happen during thetransform in `preprocessing_exc_tuple` in IPython 7.17 and above.\n",
            "  and should_run_async(code)\n"
          ]
        }
      ]
    },
    {
      "cell_type": "markdown",
      "source": [
        "Проверим все признаки на соответствие типу и удалим или заменим пустые значения."
      ],
      "metadata": {
        "id": "K6Gu2zIYXBpx"
      }
    },
    {
      "cell_type": "code",
      "source": [
        "print('number of nuns in score column:' ,normal_comments.score.isna().sum())\n",
        "print('number of nuns in link_id column:' ,normal_comments.link_id.isna().sum())\n",
        "\n",
        "print('number of nuns in author column:' ,normal_comments.author.isna().sum())\n",
        "print('number of nuns in body column:' ,normal_comments.body.isna().sum())\n",
        "\n",
        "print('number of nuns in ups column:' ,normal_comments.ups.isna().sum())"
      ],
      "metadata": {
        "colab": {
          "base_uri": "https://localhost:8080/"
        },
        "id": "-k73VtCnYOY-",
        "outputId": "810c86bd-556e-4e3d-95f4-6732347d994f"
      },
      "execution_count": null,
      "outputs": [
        {
          "output_type": "stream",
          "name": "stdout",
          "text": [
            "number of nuns in score column: 13\n",
            "number of nuns in link_id column: 13\n",
            "number of nuns in author column: 16\n",
            "number of nuns in body column: 0\n",
            "number of nuns in ups column: 13499\n"
          ]
        },
        {
          "output_type": "stream",
          "name": "stderr",
          "text": [
            "/usr/local/lib/python3.9/dist-packages/ipykernel/ipkernel.py:283: DeprecationWarning: `should_run_async` will not call `transform_cell` automatically in the future. Please pass the result to `transformed_cell` argument and any exception that happen during thetransform in `preprocessing_exc_tuple` in IPython 7.17 and above.\n",
            "  and should_run_async(code)\n"
          ]
        }
      ]
    },
    {
      "cell_type": "markdown",
      "source": [
        "Зополняем 'score','ups' нулями, а 'link_id','author' строкой 'unknown'."
      ],
      "metadata": {
        "id": "a4IqN8yFkyjb"
      }
    },
    {
      "cell_type": "code",
      "source": [
        "normal_comments[['score','ups']] = normal_comments[['score','ups']].fillna(value='0')\n",
        "normal_comments[['link_id','author']] = normal_comments[['link_id','author']].fillna(value='unknown')"
      ],
      "metadata": {
        "id": "mrLaLqnkXz_2",
        "colab": {
          "base_uri": "https://localhost:8080/"
        },
        "outputId": "946e8c0a-576e-43b3-fd2f-91288b892809"
      },
      "execution_count": null,
      "outputs": [
        {
          "output_type": "stream",
          "name": "stderr",
          "text": [
            "/usr/local/lib/python3.9/dist-packages/ipykernel/ipkernel.py:283: DeprecationWarning: `should_run_async` will not call `transform_cell` automatically in the future. Please pass the result to `transformed_cell` argument and any exception that happen during thetransform in `preprocessing_exc_tuple` in IPython 7.17 and above.\n",
            "  and should_run_async(code)\n"
          ]
        }
      ]
    },
    {
      "cell_type": "code",
      "source": [
        "def check_num(x):\n",
        "  result = re.match(\"[-+]?\\d+$\", x)\n",
        "  \n",
        "  if result is not None:\n",
        "    return 0\n",
        "  else:\n",
        "    return 1"
      ],
      "metadata": {
        "id": "CEpkPjrdXz6y",
        "colab": {
          "base_uri": "https://localhost:8080/"
        },
        "outputId": "e19e3e19-a01d-4dec-ec65-29c1379275fd"
      },
      "execution_count": null,
      "outputs": [
        {
          "output_type": "stream",
          "name": "stderr",
          "text": [
            "/usr/local/lib/python3.9/dist-packages/ipykernel/ipkernel.py:283: DeprecationWarning: `should_run_async` will not call `transform_cell` automatically in the future. Please pass the result to `transformed_cell` argument and any exception that happen during thetransform in `preprocessing_exc_tuple` in IPython 7.17 and above.\n",
            "  and should_run_async(code)\n",
            "<>:2: DeprecationWarning: invalid escape sequence \\d\n",
            "<>:2: DeprecationWarning: invalid escape sequence \\d\n",
            "<ipython-input-108-698dc9875eca>:2: DeprecationWarning: invalid escape sequence \\d\n",
            "  result = re.match(\"[-+]?\\d+$\", x)\n"
          ]
        }
      ]
    },
    {
      "cell_type": "code",
      "source": [
        "normal_comments['is_score_ok'] = normal_comments.score.apply(lambda x: check_num(x))\n",
        "print('number of wrong-type values in score column', normal_comments['is_score_ok'].sum())"
      ],
      "metadata": {
        "colab": {
          "base_uri": "https://localhost:8080/"
        },
        "id": "C_-kYyyh8ui6",
        "outputId": "fefae756-529d-4158-db67-47961c22e941"
      },
      "execution_count": null,
      "outputs": [
        {
          "output_type": "stream",
          "name": "stdout",
          "text": [
            "number of wrong-type values in score column 6\n"
          ]
        },
        {
          "output_type": "stream",
          "name": "stderr",
          "text": [
            "/usr/local/lib/python3.9/dist-packages/ipykernel/ipkernel.py:283: DeprecationWarning: `should_run_async` will not call `transform_cell` automatically in the future. Please pass the result to `transformed_cell` argument and any exception that happen during thetransform in `preprocessing_exc_tuple` in IPython 7.17 and above.\n",
            "  and should_run_async(code)\n"
          ]
        }
      ]
    },
    {
      "cell_type": "code",
      "source": [
        "normal_comments[normal_comments.is_score_ok == 1]"
      ],
      "metadata": {
        "colab": {
          "base_uri": "https://localhost:8080/"
        },
        "id": "8yfM7j1Vdgr7",
        "outputId": "4a4fc97b-882e-4b93-899e-341e7c69affa"
      },
      "execution_count": null,
      "outputs": [
        {
          "output_type": "stream",
          "name": "stderr",
          "text": [
            "/usr/local/lib/python3.9/dist-packages/ipykernel/ipkernel.py:283: DeprecationWarning: `should_run_async` will not call `transform_cell` automatically in the future. Please pass the result to `transformed_cell` argument and any exception that happen during thetransform in `preprocessing_exc_tuple` in IPython 7.17 and above.\n",
            "  and should_run_async(code)\n"
          ]
        },
        {
          "output_type": "execute_result",
          "data": {
            "text/plain": [
              "                                                    body  \\\n",
              "4579                                             However   \n",
              "9682   &gt; Sometimes, we need a moment to raise awar...   \n",
              "11213                                     And I'm really   \n",
              "33340  I thought Titan of Braavos was used by his fat...   \n",
              "38618  You mean to tell me that not all white people ...   \n",
              "40409  Who let Chip be on Reddit again?\n",
              "[removed],,,,...   \n",
              "\n",
              "                                                  author     link_id  \\\n",
              "4579                                               false  1425957719   \n",
              "9682                                             unknown    t5_2zc5x   \n",
              "11213   those negative people who contribute little o...       false   \n",
              "33340                                            unknown    t5_2r2o9   \n",
              "38618                                            unknown  1489440218   \n",
              "40409                                            unknown    t5_2qh0u   \n",
              "\n",
              "            score         ups  is_bot  is_troll  is_normal  is_score_ok  \n",
              "4579    t3_2ygb9z     cp9w6yh   False     False       True            1  \n",
              "9682   t1_cwbjml0   Fireteams   False     False       True            1  \n",
              "11213  p_U_c_K_IV  t1_ctitrc4   False     False       True            1  \n",
              "33340  t1_d5apvwb      asoiaf   False     False       True            1  \n",
              "38618   t3_5z537w     devy9pm   False     False       True            1  \n",
              "40409   t3_66v6i6        pics   False     False       True            1  "
            ],
            "text/html": [
              "\n",
              "  <div id=\"df-c99f12e4-8cd0-483f-8d32-6f45c52bb971\">\n",
              "    <div class=\"colab-df-container\">\n",
              "      <div>\n",
              "<style scoped>\n",
              "    .dataframe tbody tr th:only-of-type {\n",
              "        vertical-align: middle;\n",
              "    }\n",
              "\n",
              "    .dataframe tbody tr th {\n",
              "        vertical-align: top;\n",
              "    }\n",
              "\n",
              "    .dataframe thead th {\n",
              "        text-align: right;\n",
              "    }\n",
              "</style>\n",
              "<table border=\"1\" class=\"dataframe\">\n",
              "  <thead>\n",
              "    <tr style=\"text-align: right;\">\n",
              "      <th></th>\n",
              "      <th>body</th>\n",
              "      <th>author</th>\n",
              "      <th>link_id</th>\n",
              "      <th>score</th>\n",
              "      <th>ups</th>\n",
              "      <th>is_bot</th>\n",
              "      <th>is_troll</th>\n",
              "      <th>is_normal</th>\n",
              "      <th>is_score_ok</th>\n",
              "    </tr>\n",
              "  </thead>\n",
              "  <tbody>\n",
              "    <tr>\n",
              "      <th>4579</th>\n",
              "      <td>However</td>\n",
              "      <td>false</td>\n",
              "      <td>1425957719</td>\n",
              "      <td>t3_2ygb9z</td>\n",
              "      <td>cp9w6yh</td>\n",
              "      <td>False</td>\n",
              "      <td>False</td>\n",
              "      <td>True</td>\n",
              "      <td>1</td>\n",
              "    </tr>\n",
              "    <tr>\n",
              "      <th>9682</th>\n",
              "      <td>&amp;gt; Sometimes, we need a moment to raise awar...</td>\n",
              "      <td>unknown</td>\n",
              "      <td>t5_2zc5x</td>\n",
              "      <td>t1_cwbjml0</td>\n",
              "      <td>Fireteams</td>\n",
              "      <td>False</td>\n",
              "      <td>False</td>\n",
              "      <td>True</td>\n",
              "      <td>1</td>\n",
              "    </tr>\n",
              "    <tr>\n",
              "      <th>11213</th>\n",
              "      <td>And I'm really</td>\n",
              "      <td>those negative people who contribute little o...</td>\n",
              "      <td>false</td>\n",
              "      <td>p_U_c_K_IV</td>\n",
              "      <td>t1_ctitrc4</td>\n",
              "      <td>False</td>\n",
              "      <td>False</td>\n",
              "      <td>True</td>\n",
              "      <td>1</td>\n",
              "    </tr>\n",
              "    <tr>\n",
              "      <th>33340</th>\n",
              "      <td>I thought Titan of Braavos was used by his fat...</td>\n",
              "      <td>unknown</td>\n",
              "      <td>t5_2r2o9</td>\n",
              "      <td>t1_d5apvwb</td>\n",
              "      <td>asoiaf</td>\n",
              "      <td>False</td>\n",
              "      <td>False</td>\n",
              "      <td>True</td>\n",
              "      <td>1</td>\n",
              "    </tr>\n",
              "    <tr>\n",
              "      <th>38618</th>\n",
              "      <td>You mean to tell me that not all white people ...</td>\n",
              "      <td>unknown</td>\n",
              "      <td>1489440218</td>\n",
              "      <td>t3_5z537w</td>\n",
              "      <td>devy9pm</td>\n",
              "      <td>False</td>\n",
              "      <td>False</td>\n",
              "      <td>True</td>\n",
              "      <td>1</td>\n",
              "    </tr>\n",
              "    <tr>\n",
              "      <th>40409</th>\n",
              "      <td>Who let Chip be on Reddit again?\n",
              "[removed],,,,...</td>\n",
              "      <td>unknown</td>\n",
              "      <td>t5_2qh0u</td>\n",
              "      <td>t3_66v6i6</td>\n",
              "      <td>pics</td>\n",
              "      <td>False</td>\n",
              "      <td>False</td>\n",
              "      <td>True</td>\n",
              "      <td>1</td>\n",
              "    </tr>\n",
              "  </tbody>\n",
              "</table>\n",
              "</div>\n",
              "      <button class=\"colab-df-convert\" onclick=\"convertToInteractive('df-c99f12e4-8cd0-483f-8d32-6f45c52bb971')\"\n",
              "              title=\"Convert this dataframe to an interactive table.\"\n",
              "              style=\"display:none;\">\n",
              "        \n",
              "  <svg xmlns=\"http://www.w3.org/2000/svg\" height=\"24px\"viewBox=\"0 0 24 24\"\n",
              "       width=\"24px\">\n",
              "    <path d=\"M0 0h24v24H0V0z\" fill=\"none\"/>\n",
              "    <path d=\"M18.56 5.44l.94 2.06.94-2.06 2.06-.94-2.06-.94-.94-2.06-.94 2.06-2.06.94zm-11 1L8.5 8.5l.94-2.06 2.06-.94-2.06-.94L8.5 2.5l-.94 2.06-2.06.94zm10 10l.94 2.06.94-2.06 2.06-.94-2.06-.94-.94-2.06-.94 2.06-2.06.94z\"/><path d=\"M17.41 7.96l-1.37-1.37c-.4-.4-.92-.59-1.43-.59-.52 0-1.04.2-1.43.59L10.3 9.45l-7.72 7.72c-.78.78-.78 2.05 0 2.83L4 21.41c.39.39.9.59 1.41.59.51 0 1.02-.2 1.41-.59l7.78-7.78 2.81-2.81c.8-.78.8-2.07 0-2.86zM5.41 20L4 18.59l7.72-7.72 1.47 1.35L5.41 20z\"/>\n",
              "  </svg>\n",
              "      </button>\n",
              "      \n",
              "  <style>\n",
              "    .colab-df-container {\n",
              "      display:flex;\n",
              "      flex-wrap:wrap;\n",
              "      gap: 12px;\n",
              "    }\n",
              "\n",
              "    .colab-df-convert {\n",
              "      background-color: #E8F0FE;\n",
              "      border: none;\n",
              "      border-radius: 50%;\n",
              "      cursor: pointer;\n",
              "      display: none;\n",
              "      fill: #1967D2;\n",
              "      height: 32px;\n",
              "      padding: 0 0 0 0;\n",
              "      width: 32px;\n",
              "    }\n",
              "\n",
              "    .colab-df-convert:hover {\n",
              "      background-color: #E2EBFA;\n",
              "      box-shadow: 0px 1px 2px rgba(60, 64, 67, 0.3), 0px 1px 3px 1px rgba(60, 64, 67, 0.15);\n",
              "      fill: #174EA6;\n",
              "    }\n",
              "\n",
              "    [theme=dark] .colab-df-convert {\n",
              "      background-color: #3B4455;\n",
              "      fill: #D2E3FC;\n",
              "    }\n",
              "\n",
              "    [theme=dark] .colab-df-convert:hover {\n",
              "      background-color: #434B5C;\n",
              "      box-shadow: 0px 1px 3px 1px rgba(0, 0, 0, 0.15);\n",
              "      filter: drop-shadow(0px 1px 2px rgba(0, 0, 0, 0.3));\n",
              "      fill: #FFFFFF;\n",
              "    }\n",
              "  </style>\n",
              "\n",
              "      <script>\n",
              "        const buttonEl =\n",
              "          document.querySelector('#df-c99f12e4-8cd0-483f-8d32-6f45c52bb971 button.colab-df-convert');\n",
              "        buttonEl.style.display =\n",
              "          google.colab.kernel.accessAllowed ? 'block' : 'none';\n",
              "\n",
              "        async function convertToInteractive(key) {\n",
              "          const element = document.querySelector('#df-c99f12e4-8cd0-483f-8d32-6f45c52bb971');\n",
              "          const dataTable =\n",
              "            await google.colab.kernel.invokeFunction('convertToInteractive',\n",
              "                                                     [key], {});\n",
              "          if (!dataTable) return;\n",
              "\n",
              "          const docLinkHtml = 'Like what you see? Visit the ' +\n",
              "            '<a target=\"_blank\" href=https://colab.research.google.com/notebooks/data_table.ipynb>data table notebook</a>'\n",
              "            + ' to learn more about interactive tables.';\n",
              "          element.innerHTML = '';\n",
              "          dataTable['output_type'] = 'display_data';\n",
              "          await google.colab.output.renderOutput(dataTable, element);\n",
              "          const docLink = document.createElement('div');\n",
              "          docLink.innerHTML = docLinkHtml;\n",
              "          element.appendChild(docLink);\n",
              "        }\n",
              "      </script>\n",
              "    </div>\n",
              "  </div>\n",
              "  "
            ]
          },
          "metadata": {},
          "execution_count": 110
        }
      ]
    },
    {
      "cell_type": "markdown",
      "source": [
        "Удалим строки, приведенные выше (в них перепутаны значения в столбцах)."
      ],
      "metadata": {
        "id": "tNwUegOllIjv"
      }
    },
    {
      "cell_type": "code",
      "source": [
        "normal_comments = normal_comments.drop(normal_comments[normal_comments.is_score_ok == 1].index)"
      ],
      "metadata": {
        "id": "MMDWVd2qggPn",
        "colab": {
          "base_uri": "https://localhost:8080/"
        },
        "outputId": "4c6f69b8-fa54-466d-fe2a-0b1f86f952a5"
      },
      "execution_count": null,
      "outputs": [
        {
          "output_type": "stream",
          "name": "stderr",
          "text": [
            "/usr/local/lib/python3.9/dist-packages/ipykernel/ipkernel.py:283: DeprecationWarning: `should_run_async` will not call `transform_cell` automatically in the future. Please pass the result to `transformed_cell` argument and any exception that happen during thetransform in `preprocessing_exc_tuple` in IPython 7.17 and above.\n",
            "  and should_run_async(code)\n"
          ]
        }
      ]
    },
    {
      "cell_type": "code",
      "source": [
        "normal_comments['is_ups_ok'] = normal_comments.score.apply(lambda x: check_num(x))\n",
        "print('number of wrong values in ups column', normal_comments['is_ups_ok'].sum())"
      ],
      "metadata": {
        "colab": {
          "base_uri": "https://localhost:8080/"
        },
        "id": "ESrmbjezgzwv",
        "outputId": "23ad8885-b355-4c57-9bbf-aa753efd123a"
      },
      "execution_count": null,
      "outputs": [
        {
          "output_type": "stream",
          "name": "stderr",
          "text": [
            "/usr/local/lib/python3.9/dist-packages/ipykernel/ipkernel.py:283: DeprecationWarning: `should_run_async` will not call `transform_cell` automatically in the future. Please pass the result to `transformed_cell` argument and any exception that happen during thetransform in `preprocessing_exc_tuple` in IPython 7.17 and above.\n",
            "  and should_run_async(code)\n"
          ]
        },
        {
          "output_type": "stream",
          "name": "stdout",
          "text": [
            "number of wrong values in ups column 0\n"
          ]
        }
      ]
    },
    {
      "cell_type": "code",
      "source": [
        "normal_comments.drop(['is_ups_ok'], axis=1, inplace = True)\n",
        "normal_comments.drop(['is_score_ok'], axis=1, inplace = True)"
      ],
      "metadata": {
        "id": "Ym5RV_9KhPct",
        "colab": {
          "base_uri": "https://localhost:8080/"
        },
        "outputId": "77041e4f-c12a-481d-80ab-2ffcc537b389"
      },
      "execution_count": null,
      "outputs": [
        {
          "output_type": "stream",
          "name": "stderr",
          "text": [
            "/usr/local/lib/python3.9/dist-packages/ipykernel/ipkernel.py:283: DeprecationWarning: `should_run_async` will not call `transform_cell` automatically in the future. Please pass the result to `transformed_cell` argument and any exception that happen during thetransform in `preprocessing_exc_tuple` in IPython 7.17 and above.\n",
            "  and should_run_async(code)\n"
          ]
        }
      ]
    },
    {
      "cell_type": "code",
      "source": [
        "normal_comments.score = normal_comments.score.astype('int64')\n",
        "normal_comments.ups = normal_comments.ups.astype('int64')"
      ],
      "metadata": {
        "id": "Wg62r2RthYUR",
        "colab": {
          "base_uri": "https://localhost:8080/"
        },
        "outputId": "d919386d-a8bf-471b-ab31-44c1bec644b1"
      },
      "execution_count": null,
      "outputs": [
        {
          "output_type": "stream",
          "name": "stderr",
          "text": [
            "/usr/local/lib/python3.9/dist-packages/ipykernel/ipkernel.py:283: DeprecationWarning: `should_run_async` will not call `transform_cell` automatically in the future. Please pass the result to `transformed_cell` argument and any exception that happen during thetransform in `preprocessing_exc_tuple` in IPython 7.17 and above.\n",
            "  and should_run_async(code)\n"
          ]
        }
      ]
    },
    {
      "cell_type": "code",
      "source": [
        "normal_comments['score'].plot(kind='line')"
      ],
      "metadata": {
        "colab": {
          "base_uri": "https://localhost:8080/"
        },
        "id": "-aYedRKLbjbg",
        "outputId": "2aa105c7-806b-4513-85e1-521bfbb7839a"
      },
      "execution_count": null,
      "outputs": [
        {
          "output_type": "stream",
          "name": "stderr",
          "text": [
            "/usr/local/lib/python3.9/dist-packages/ipykernel/ipkernel.py:283: DeprecationWarning: `should_run_async` will not call `transform_cell` automatically in the future. Please pass the result to `transformed_cell` argument and any exception that happen during thetransform in `preprocessing_exc_tuple` in IPython 7.17 and above.\n",
            "  and should_run_async(code)\n"
          ]
        },
        {
          "output_type": "execute_result",
          "data": {
            "text/plain": [
              "<Axes: >"
            ]
          },
          "metadata": {},
          "execution_count": 115
        },
        {
          "output_type": "display_data",
          "data": {
            "text/plain": [
              "<Figure size 640x480 with 1 Axes>"
            ],
            "image/png": "[encoded data removed]"
          },
          "metadata": {}
        }
      ]
    },
    {
      "cell_type": "code",
      "source": [
        "normal_comments['ups'].plot(kind='line')"
      ],
      "metadata": {
        "colab": {
          "base_uri": "https://localhost:8080/"
        },
        "id": "BwT32xORhnRL",
        "outputId": "3568fd7b-f5a3-472b-f4bd-68cc8df84d45"
      },
      "execution_count": null,
      "outputs": [
        {
          "output_type": "stream",
          "name": "stderr",
          "text": [
            "/usr/local/lib/python3.9/dist-packages/ipykernel/ipkernel.py:283: DeprecationWarning: `should_run_async` will not call `transform_cell` automatically in the future. Please pass the result to `transformed_cell` argument and any exception that happen during thetransform in `preprocessing_exc_tuple` in IPython 7.17 and above.\n",
            "  and should_run_async(code)\n"
          ]
        },
        {
          "output_type": "execute_result",
          "data": {
            "text/plain": [
              "<Axes: >"
            ]
          },
          "metadata": {},
          "execution_count": 116
        },
        {
          "output_type": "display_data",
          "data": {
            "text/plain": [
              "<Figure size 640x480 with 1 Axes>"
            ],
            "image/png": "[encoded data removed]"
          },
          "metadata": {}
        }
      ]
    },
    {
      "cell_type": "code",
      "source": [
        "normal_comments[normal_comments.score > 4000]"
      ],
      "metadata": {
        "colab": {
          "base_uri": "https://localhost:8080/"
        },
        "id": "qZu1pp88iMH5",
        "outputId": "bfb973a9-a6a5-47a8-fc4d-bd7278b4cfdb"
      },
      "execution_count": null,
      "outputs": [
        {
          "output_type": "stream",
          "name": "stderr",
          "text": [
            "/usr/local/lib/python3.9/dist-packages/ipykernel/ipkernel.py:283: DeprecationWarning: `should_run_async` will not call `transform_cell` automatically in the future. Please pass the result to `transformed_cell` argument and any exception that happen during thetransform in `preprocessing_exc_tuple` in IPython 7.17 and above.\n",
            "  and should_run_async(code)\n"
          ]
        },
        {
          "output_type": "execute_result",
          "data": {
            "text/plain": [
              "                                                    body        author  \\\n",
              "34280  I know this is the opposite of what you asked ...  dewayneestes   \n",
              "\n",
              "         link_id  score   ups  is_bot  is_troll  is_normal  \n",
              "34280  t3_4r4a7r   4490  4490   False     False       True  "
            ],
            "text/html": [
              "\n",
              "  <div id=\"df-c09fc0c5-bbbc-4660-af9f-cbe4b0978276\">\n",
              "    <div class=\"colab-df-container\">\n",
              "      <div>\n",
              "<style scoped>\n",
              "    .dataframe tbody tr th:only-of-type {\n",
              "        vertical-align: middle;\n",
              "    }\n",
              "\n",
              "    .dataframe tbody tr th {\n",
              "        vertical-align: top;\n",
              "    }\n",
              "\n",
              "    .dataframe thead th {\n",
              "        text-align: right;\n",
              "    }\n",
              "</style>\n",
              "<table border=\"1\" class=\"dataframe\">\n",
              "  <thead>\n",
              "    <tr style=\"text-align: right;\">\n",
              "      <th></th>\n",
              "      <th>body</th>\n",
              "      <th>author</th>\n",
              "      <th>link_id</th>\n",
              "      <th>score</th>\n",
              "      <th>ups</th>\n",
              "      <th>is_bot</th>\n",
              "      <th>is_troll</th>\n",
              "      <th>is_normal</th>\n",
              "    </tr>\n",
              "  </thead>\n",
              "  <tbody>\n",
              "    <tr>\n",
              "      <th>34280</th>\n",
              "      <td>I know this is the opposite of what you asked ...</td>\n",
              "      <td>dewayneestes</td>\n",
              "      <td>t3_4r4a7r</td>\n",
              "      <td>4490</td>\n",
              "      <td>4490</td>\n",
              "      <td>False</td>\n",
              "      <td>False</td>\n",
              "      <td>True</td>\n",
              "    </tr>\n",
              "  </tbody>\n",
              "</table>\n",
              "</div>\n",
              "      <button class=\"colab-df-convert\" onclick=\"convertToInteractive('df-c09fc0c5-bbbc-4660-af9f-cbe4b0978276')\"\n",
              "              title=\"Convert this dataframe to an interactive table.\"\n",
              "              style=\"display:none;\">\n",
              "        \n",
              "  <svg xmlns=\"http://www.w3.org/2000/svg\" height=\"24px\"viewBox=\"0 0 24 24\"\n",
              "       width=\"24px\">\n",
              "    <path d=\"M0 0h24v24H0V0z\" fill=\"none\"/>\n",
              "    <path d=\"M18.56 5.44l.94 2.06.94-2.06 2.06-.94-2.06-.94-.94-2.06-.94 2.06-2.06.94zm-11 1L8.5 8.5l.94-2.06 2.06-.94-2.06-.94L8.5 2.5l-.94 2.06-2.06.94zm10 10l.94 2.06.94-2.06 2.06-.94-2.06-.94-.94-2.06-.94 2.06-2.06.94z\"/><path d=\"M17.41 7.96l-1.37-1.37c-.4-.4-.92-.59-1.43-.59-.52 0-1.04.2-1.43.59L10.3 9.45l-7.72 7.72c-.78.78-.78 2.05 0 2.83L4 21.41c.39.39.9.59 1.41.59.51 0 1.02-.2 1.41-.59l7.78-7.78 2.81-2.81c.8-.78.8-2.07 0-2.86zM5.41 20L4 18.59l7.72-7.72 1.47 1.35L5.41 20z\"/>\n",
              "  </svg>\n",
              "      </button>\n",
              "      \n",
              "  <style>\n",
              "    .colab-df-container {\n",
              "      display:flex;\n",
              "      flex-wrap:wrap;\n",
              "      gap: 12px;\n",
              "    }\n",
              "\n",
              "    .colab-df-convert {\n",
              "      background-color: #E8F0FE;\n",
              "      border: none;\n",
              "      border-radius: 50%;\n",
              "      cursor: pointer;\n",
              "      display: none;\n",
              "      fill: #1967D2;\n",
              "      height: 32px;\n",
              "      padding: 0 0 0 0;\n",
              "      width: 32px;\n",
              "    }\n",
              "\n",
              "    .colab-df-convert:hover {\n",
              "      background-color: #E2EBFA;\n",
              "      box-shadow: 0px 1px 2px rgba(60, 64, 67, 0.3), 0px 1px 3px 1px rgba(60, 64, 67, 0.15);\n",
              "      fill: #174EA6;\n",
              "    }\n",
              "\n",
              "    [theme=dark] .colab-df-convert {\n",
              "      background-color: #3B4455;\n",
              "      fill: #D2E3FC;\n",
              "    }\n",
              "\n",
              "    [theme=dark] .colab-df-convert:hover {\n",
              "      background-color: #434B5C;\n",
              "      box-shadow: 0px 1px 3px 1px rgba(0, 0, 0, 0.15);\n",
              "      filter: drop-shadow(0px 1px 2px rgba(0, 0, 0, 0.3));\n",
              "      fill: #FFFFFF;\n",
              "    }\n",
              "  </style>\n",
              "\n",
              "      <script>\n",
              "        const buttonEl =\n",
              "          document.querySelector('#df-c09fc0c5-bbbc-4660-af9f-cbe4b0978276 button.colab-df-convert');\n",
              "        buttonEl.style.display =\n",
              "          google.colab.kernel.accessAllowed ? 'block' : 'none';\n",
              "\n",
              "        async function convertToInteractive(key) {\n",
              "          const element = document.querySelector('#df-c09fc0c5-bbbc-4660-af9f-cbe4b0978276');\n",
              "          const dataTable =\n",
              "            await google.colab.kernel.invokeFunction('convertToInteractive',\n",
              "                                                     [key], {});\n",
              "          if (!dataTable) return;\n",
              "\n",
              "          const docLinkHtml = 'Like what you see? Visit the ' +\n",
              "            '<a target=\"_blank\" href=https://colab.research.google.com/notebooks/data_table.ipynb>data table notebook</a>'\n",
              "            + ' to learn more about interactive tables.';\n",
              "          element.innerHTML = '';\n",
              "          dataTable['output_type'] = 'display_data';\n",
              "          await google.colab.output.renderOutput(dataTable, element);\n",
              "          const docLink = document.createElement('div');\n",
              "          docLink.innerHTML = docLinkHtml;\n",
              "          element.appendChild(docLink);\n",
              "        }\n",
              "      </script>\n",
              "    </div>\n",
              "  </div>\n",
              "  "
            ]
          },
          "metadata": {},
          "execution_count": 117
        }
      ]
    },
    {
      "cell_type": "markdown",
      "source": [
        "#Датасет с ботами и троллями"
      ],
      "metadata": {
        "id": "pOIoFDMeXM5U"
      }
    },
    {
      "cell_type": "markdown",
      "source": [
        "Теперь откроем датасет с ботами и тролями."
      ],
      "metadata": {
        "id": "xoGz3HHeow2i"
      }
    },
    {
      "cell_type": "code",
      "source": [
        "with open('drive/MyDrive/Diplom/training-dump.csv') as f:\n",
        "    my_data = pd.read_csv(f, sep=',',\n",
        "                          usecols = [\"link_id\",  \"author\", \"score\", \"body\", \"ups\",\"is_bot\",\"is_troll\"],\n",
        "                          dtype={\"link_id\": str,\n",
        "                                 \"author\": str,\n",
        "                                 \"body\": str,\n",
        "                                 \"is_bot\": bool,\n",
        "                                 \"is_troll\": bool})"
      ],
      "metadata": {
        "id": "jwhyEfhQSEZa",
        "colab": {
          "base_uri": "https://localhost:8080/"
        },
        "outputId": "d2cbdc46-4d58-4009-8631-2ce309047966"
      },
      "execution_count": null,
      "outputs": [
        {
          "output_type": "stream",
          "name": "stderr",
          "text": [
            "/usr/local/lib/python3.9/dist-packages/ipykernel/ipkernel.py:283: DeprecationWarning: `should_run_async` will not call `transform_cell` automatically in the future. Please pass the result to `transformed_cell` argument and any exception that happen during thetransform in `preprocessing_exc_tuple` in IPython 7.17 and above.\n",
            "  and should_run_async(code)\n"
          ]
        }
      ]
    },
    {
      "cell_type": "code",
      "source": [
        "my_data['is_normal'] = False"
      ],
      "metadata": {
        "id": "beup5UhqpZDn",
        "colab": {
          "base_uri": "https://localhost:8080/"
        },
        "outputId": "c975d52b-97c1-457a-b7fd-6fdce460c934"
      },
      "execution_count": null,
      "outputs": [
        {
          "output_type": "stream",
          "name": "stderr",
          "text": [
            "/usr/local/lib/python3.9/dist-packages/ipykernel/ipkernel.py:283: DeprecationWarning: `should_run_async` will not call `transform_cell` automatically in the future. Please pass the result to `transformed_cell` argument and any exception that happen during thetransform in `preprocessing_exc_tuple` in IPython 7.17 and above.\n",
            "  and should_run_async(code)\n"
          ]
        }
      ]
    },
    {
      "cell_type": "code",
      "source": [
        "my_data"
      ],
      "metadata": {
        "colab": {
          "base_uri": "https://localhost:8080/",
          "height": 478
        },
        "id": "8KSCRlV6p_zX",
        "outputId": "229ca574-882b-49b7-db2a-94f241f84ea6"
      },
      "execution_count": null,
      "outputs": [
        {
          "output_type": "stream",
          "name": "stderr",
          "text": [
            "/usr/local/lib/python3.9/dist-packages/ipykernel/ipkernel.py:283: DeprecationWarning: `should_run_async` will not call `transform_cell` automatically in the future. Please pass the result to `transformed_cell` argument and any exception that happen during thetransform in `preprocessing_exc_tuple` in IPython 7.17 and above.\n",
            "  and should_run_async(code)\n"
          ]
        },
        {
          "output_type": "execute_result",
          "data": {
            "text/plain": [
              "          link_id       author  score  \\\n",
              "0       t3_2l5szg      ADHDbot      1   \n",
              "1       t3_2l61gs      ADHDbot      1   \n",
              "2       t3_2l7ma8      ADHDbot      1   \n",
              "3       t3_2l7t5h      ADHDbot      1   \n",
              "4       t3_2l900k      ADHDbot      1   \n",
              "...           ...          ...    ...   \n",
              "267031  t3_96p3s7  haiku_robot      7   \n",
              "267032  t3_1w5fy8  tipmoonbot2      2   \n",
              "267033  t3_1w5fy8  tipmoonbot2      1   \n",
              "267034  t3_1w6etv  tipmoonbot2      2   \n",
              "267035  t3_1w6etv  tipmoonbot2      1   \n",
              "\n",
              "                                                     body  ups  is_bot  \\\n",
              "0       As per the rules in the side bar, yes or no qu...    1    True   \n",
              "1       Meme and image posts are not allowed on this s...    1    True   \n",
              "2       As per the rules in the side bar, yes or no qu...    1    True   \n",
              "3       As per the rules in the side bar, yes or no qu...    1    True   \n",
              "4       We cannot and will not diagnose anyone.  You n...    1    True   \n",
              "...                                                   ...  ...     ...   \n",
              "267031                                               ಠ\\_ಠ    7    True   \n",
              "267032                +/u/tipmoonbot 48 moon TO THE MOON!    2    True   \n",
              "267033                +/u/tipmoonbot 26 moon TO THE MOON!    1    True   \n",
              "267034                                          blah blah    2    True   \n",
              "267035                            +/u/tipmoonbot 35 moons    1    True   \n",
              "\n",
              "        is_troll  is_normal  \n",
              "0          False      False  \n",
              "1          False      False  \n",
              "2          False      False  \n",
              "3          False      False  \n",
              "4          False      False  \n",
              "...          ...        ...  \n",
              "267031     False      False  \n",
              "267032     False      False  \n",
              "267033     False      False  \n",
              "267034     False      False  \n",
              "267035     False      False  \n",
              "\n",
              "[267036 rows x 8 columns]"
            ],
            "text/html": [
              "\n",
              "  <div id=\"df-c466ba13-e759-432f-9e0b-db6e2bbabd5a\">\n",
              "    <div class=\"colab-df-container\">\n",
              "      <div>\n",
              "<style scoped>\n",
              "    .dataframe tbody tr th:only-of-type {\n",
              "        vertical-align: middle;\n",
              "    }\n",
              "\n",
              "    .dataframe tbody tr th {\n",
              "        vertical-align: top;\n",
              "    }\n",
              "\n",
              "    .dataframe thead th {\n",
              "        text-align: right;\n",
              "    }\n",
              "</style>\n",
              "<table border=\"1\" class=\"dataframe\">\n",
              "  <thead>\n",
              "    <tr style=\"text-align: right;\">\n",
              "      <th></th>\n",
              "      <th>link_id</th>\n",
              "      <th>author</th>\n",
              "      <th>score</th>\n",
              "      <th>body</th>\n",
              "      <th>ups</th>\n",
              "      <th>is_bot</th>\n",
              "      <th>is_troll</th>\n",
              "      <th>is_normal</th>\n",
              "    </tr>\n",
              "  </thead>\n",
              "  <tbody>\n",
              "    <tr>\n",
              "      <th>0</th>\n",
              "      <td>t3_2l5szg</td>\n",
              "      <td>ADHDbot</td>\n",
              "      <td>1</td>\n",
              "      <td>As per the rules in the side bar, yes or no qu...</td>\n",
              "      <td>1</td>\n",
              "      <td>True</td>\n",
              "      <td>False</td>\n",
              "      <td>False</td>\n",
              "    </tr>\n",
              "    <tr>\n",
              "      <th>1</th>\n",
              "      <td>t3_2l61gs</td>\n",
              "      <td>ADHDbot</td>\n",
              "      <td>1</td>\n",
              "      <td>Meme and image posts are not allowed on this s...</td>\n",
              "      <td>1</td>\n",
              "      <td>True</td>\n",
              "      <td>False</td>\n",
              "      <td>False</td>\n",
              "    </tr>\n",
              "    <tr>\n",
              "      <th>2</th>\n",
              "      <td>t3_2l7ma8</td>\n",
              "      <td>ADHDbot</td>\n",
              "      <td>1</td>\n",
              "      <td>As per the rules in the side bar, yes or no qu...</td>\n",
              "      <td>1</td>\n",
              "      <td>True</td>\n",
              "      <td>False</td>\n",
              "      <td>False</td>\n",
              "    </tr>\n",
              "    <tr>\n",
              "      <th>3</th>\n",
              "      <td>t3_2l7t5h</td>\n",
              "      <td>ADHDbot</td>\n",
              "      <td>1</td>\n",
              "      <td>As per the rules in the side bar, yes or no qu...</td>\n",
              "      <td>1</td>\n",
              "      <td>True</td>\n",
              "      <td>False</td>\n",
              "      <td>False</td>\n",
              "    </tr>\n",
              "    <tr>\n",
              "      <th>4</th>\n",
              "      <td>t3_2l900k</td>\n",
              "      <td>ADHDbot</td>\n",
              "      <td>1</td>\n",
              "      <td>We cannot and will not diagnose anyone.  You n...</td>\n",
              "      <td>1</td>\n",
              "      <td>True</td>\n",
              "      <td>False</td>\n",
              "      <td>False</td>\n",
              "    </tr>\n",
              "    <tr>\n",
              "      <th>...</th>\n",
              "      <td>...</td>\n",
              "      <td>...</td>\n",
              "      <td>...</td>\n",
              "      <td>...</td>\n",
              "      <td>...</td>\n",
              "      <td>...</td>\n",
              "      <td>...</td>\n",
              "      <td>...</td>\n",
              "    </tr>\n",
              "    <tr>\n",
              "      <th>267031</th>\n",
              "      <td>t3_96p3s7</td>\n",
              "      <td>haiku_robot</td>\n",
              "      <td>7</td>\n",
              "      <td>ಠ\\_ಠ</td>\n",
              "      <td>7</td>\n",
              "      <td>True</td>\n",
              "      <td>False</td>\n",
              "      <td>False</td>\n",
              "    </tr>\n",
              "    <tr>\n",
              "      <th>267032</th>\n",
              "      <td>t3_1w5fy8</td>\n",
              "      <td>tipmoonbot2</td>\n",
              "      <td>2</td>\n",
              "      <td>+/u/tipmoonbot 48 moon TO THE MOON!</td>\n",
              "      <td>2</td>\n",
              "      <td>True</td>\n",
              "      <td>False</td>\n",
              "      <td>False</td>\n",
              "    </tr>\n",
              "    <tr>\n",
              "      <th>267033</th>\n",
              "      <td>t3_1w5fy8</td>\n",
              "      <td>tipmoonbot2</td>\n",
              "      <td>1</td>\n",
              "      <td>+/u/tipmoonbot 26 moon TO THE MOON!</td>\n",
              "      <td>1</td>\n",
              "      <td>True</td>\n",
              "      <td>False</td>\n",
              "      <td>False</td>\n",
              "    </tr>\n",
              "    <tr>\n",
              "      <th>267034</th>\n",
              "      <td>t3_1w6etv</td>\n",
              "      <td>tipmoonbot2</td>\n",
              "      <td>2</td>\n",
              "      <td>blah blah</td>\n",
              "      <td>2</td>\n",
              "      <td>True</td>\n",
              "      <td>False</td>\n",
              "      <td>False</td>\n",
              "    </tr>\n",
              "    <tr>\n",
              "      <th>267035</th>\n",
              "      <td>t3_1w6etv</td>\n",
              "      <td>tipmoonbot2</td>\n",
              "      <td>1</td>\n",
              "      <td>+/u/tipmoonbot 35 moons</td>\n",
              "      <td>1</td>\n",
              "      <td>True</td>\n",
              "      <td>False</td>\n",
              "      <td>False</td>\n",
              "    </tr>\n",
              "  </tbody>\n",
              "</table>\n",
              "<p>267036 rows × 8 columns</p>\n",
              "</div>\n",
              "      <button class=\"colab-df-convert\" onclick=\"convertToInteractive('df-c466ba13-e759-432f-9e0b-db6e2bbabd5a')\"\n",
              "              title=\"Convert this dataframe to an interactive table.\"\n",
              "              style=\"display:none;\">\n",
              "        \n",
              "  <svg xmlns=\"http://www.w3.org/2000/svg\" height=\"24px\"viewBox=\"0 0 24 24\"\n",
              "       width=\"24px\">\n",
              "    <path d=\"M0 0h24v24H0V0z\" fill=\"none\"/>\n",
              "    <path d=\"M18.56 5.44l.94 2.06.94-2.06 2.06-.94-2.06-.94-.94-2.06-.94 2.06-2.06.94zm-11 1L8.5 8.5l.94-2.06 2.06-.94-2.06-.94L8.5 2.5l-.94 2.06-2.06.94zm10 10l.94 2.06.94-2.06 2.06-.94-2.06-.94-.94-2.06-.94 2.06-2.06.94z\"/><path d=\"M17.41 7.96l-1.37-1.37c-.4-.4-.92-.59-1.43-.59-.52 0-1.04.2-1.43.59L10.3 9.45l-7.72 7.72c-.78.78-.78 2.05 0 2.83L4 21.41c.39.39.9.59 1.41.59.51 0 1.02-.2 1.41-.59l7.78-7.78 2.81-2.81c.8-.78.8-2.07 0-2.86zM5.41 20L4 18.59l7.72-7.72 1.47 1.35L5.41 20z\"/>\n",
              "  </svg>\n",
              "      </button>\n",
              "      \n",
              "  <style>\n",
              "    .colab-df-container {\n",
              "      display:flex;\n",
              "      flex-wrap:wrap;\n",
              "      gap: 12px;\n",
              "    }\n",
              "\n",
              "    .colab-df-convert {\n",
              "      background-color: #E8F0FE;\n",
              "      border: none;\n",
              "      border-radius: 50%;\n",
              "      cursor: pointer;\n",
              "      display: none;\n",
              "      fill: #1967D2;\n",
              "      height: 32px;\n",
              "      padding: 0 0 0 0;\n",
              "      width: 32px;\n",
              "    }\n",
              "\n",
              "    .colab-df-convert:hover {\n",
              "      background-color: #E2EBFA;\n",
              "      box-shadow: 0px 1px 2px rgba(60, 64, 67, 0.3), 0px 1px 3px 1px rgba(60, 64, 67, 0.15);\n",
              "      fill: #174EA6;\n",
              "    }\n",
              "\n",
              "    [theme=dark] .colab-df-convert {\n",
              "      background-color: #3B4455;\n",
              "      fill: #D2E3FC;\n",
              "    }\n",
              "\n",
              "    [theme=dark] .colab-df-convert:hover {\n",
              "      background-color: #434B5C;\n",
              "      box-shadow: 0px 1px 3px 1px rgba(0, 0, 0, 0.15);\n",
              "      filter: drop-shadow(0px 1px 2px rgba(0, 0, 0, 0.3));\n",
              "      fill: #FFFFFF;\n",
              "    }\n",
              "  </style>\n",
              "\n",
              "      <script>\n",
              "        const buttonEl =\n",
              "          document.querySelector('#df-c466ba13-e759-432f-9e0b-db6e2bbabd5a button.colab-df-convert');\n",
              "        buttonEl.style.display =\n",
              "          google.colab.kernel.accessAllowed ? 'block' : 'none';\n",
              "\n",
              "        async function convertToInteractive(key) {\n",
              "          const element = document.querySelector('#df-c466ba13-e759-432f-9e0b-db6e2bbabd5a');\n",
              "          const dataTable =\n",
              "            await google.colab.kernel.invokeFunction('convertToInteractive',\n",
              "                                                     [key], {});\n",
              "          if (!dataTable) return;\n",
              "\n",
              "          const docLinkHtml = 'Like what you see? Visit the ' +\n",
              "            '<a target=\"_blank\" href=https://colab.research.google.com/notebooks/data_table.ipynb>data table notebook</a>'\n",
              "            + ' to learn more about interactive tables.';\n",
              "          element.innerHTML = '';\n",
              "          dataTable['output_type'] = 'display_data';\n",
              "          await google.colab.output.renderOutput(dataTable, element);\n",
              "          const docLink = document.createElement('div');\n",
              "          docLink.innerHTML = docLinkHtml;\n",
              "          element.appendChild(docLink);\n",
              "        }\n",
              "      </script>\n",
              "    </div>\n",
              "  </div>\n",
              "  "
            ]
          },
          "metadata": {},
          "execution_count": 120
        }
      ]
    },
    {
      "cell_type": "code",
      "source": [
        "my_data = my_data.convert_dtypes()\n",
        "my_data.dtypes"
      ],
      "metadata": {
        "colab": {
          "base_uri": "https://localhost:8080/"
        },
        "id": "XaHpPmzf3fjV",
        "outputId": "1dd792b7-c89c-4fca-926f-defe36fe6fe7"
      },
      "execution_count": null,
      "outputs": [
        {
          "output_type": "stream",
          "name": "stderr",
          "text": [
            "/usr/local/lib/python3.9/dist-packages/ipykernel/ipkernel.py:283: DeprecationWarning: `should_run_async` will not call `transform_cell` automatically in the future. Please pass the result to `transformed_cell` argument and any exception that happen during thetransform in `preprocessing_exc_tuple` in IPython 7.17 and above.\n",
            "  and should_run_async(code)\n"
          ]
        },
        {
          "output_type": "execute_result",
          "data": {
            "text/plain": [
              "link_id       string\n",
              "author        string\n",
              "score          Int64\n",
              "body          string\n",
              "ups            Int64\n",
              "is_bot       boolean\n",
              "is_troll     boolean\n",
              "is_normal    boolean\n",
              "dtype: object"
            ]
          },
          "metadata": {},
          "execution_count": 121
        }
      ]
    },
    {
      "cell_type": "code",
      "source": [
        "print('number of nuns in score column:' ,my_data.score.isna().sum())\n",
        "print('number of nuns in link_id column:' ,my_data.link_id.isna().sum())\n",
        "\n",
        "print('number of nuns in author column:' ,my_data.author.isna().sum())\n",
        "print('number of nuns in body column:' ,my_data.body.isna().sum())\n",
        "\n",
        "\n",
        "print('number of nuns in ups column:' ,my_data.ups.isna().sum())\n",
        "\n",
        "print('number of nuns in is_bot column:' ,my_data.is_bot.isna().sum())\n",
        "print('number of nuns in is_troll column:' ,my_data.is_troll.isna().sum())"
      ],
      "metadata": {
        "colab": {
          "base_uri": "https://localhost:8080/"
        },
        "id": "YDae4UXKjB-x",
        "outputId": "09b46a8e-1144-42f4-99d7-a23bffce051d"
      },
      "execution_count": null,
      "outputs": [
        {
          "output_type": "stream",
          "name": "stdout",
          "text": [
            "number of nuns in score column: 0\n",
            "number of nuns in link_id column: 0\n",
            "number of nuns in author column: 0\n",
            "number of nuns in body column: 1\n",
            "number of nuns in ups column: 0\n",
            "number of nuns in is_bot column: 0\n",
            "number of nuns in is_troll column: 0\n"
          ]
        },
        {
          "output_type": "stream",
          "name": "stderr",
          "text": [
            "/usr/local/lib/python3.9/dist-packages/ipykernel/ipkernel.py:283: DeprecationWarning: `should_run_async` will not call `transform_cell` automatically in the future. Please pass the result to `transformed_cell` argument and any exception that happen during thetransform in `preprocessing_exc_tuple` in IPython 7.17 and above.\n",
            "  and should_run_async(code)\n"
          ]
        }
      ]
    },
    {
      "cell_type": "code",
      "source": [
        "my_data.dropna(subset = ['body'], inplace = True)"
      ],
      "metadata": {
        "id": "gaL1hj3hjDtQ",
        "colab": {
          "base_uri": "https://localhost:8080/"
        },
        "outputId": "8d418469-2643-42ff-edef-6e5fa6437f24"
      },
      "execution_count": null,
      "outputs": [
        {
          "output_type": "stream",
          "name": "stderr",
          "text": [
            "/usr/local/lib/python3.9/dist-packages/ipykernel/ipkernel.py:283: DeprecationWarning: `should_run_async` will not call `transform_cell` automatically in the future. Please pass the result to `transformed_cell` argument and any exception that happen during thetransform in `preprocessing_exc_tuple` in IPython 7.17 and above.\n",
            "  and should_run_async(code)\n"
          ]
        }
      ]
    },
    {
      "cell_type": "code",
      "source": [
        "my_data.is_bot = my_data.is_bot.astype(bool)\n",
        "my_data.is_troll = my_data.is_troll.astype(bool)\n",
        "my_data.is_normal = my_data.is_normal.astype(bool)"
      ],
      "metadata": {
        "id": "KzuzZ6BD5-YG",
        "colab": {
          "base_uri": "https://localhost:8080/"
        },
        "outputId": "ed863ac6-8b2b-4f54-b30c-f1fec5d624a0"
      },
      "execution_count": null,
      "outputs": [
        {
          "output_type": "stream",
          "name": "stderr",
          "text": [
            "/usr/local/lib/python3.9/dist-packages/ipykernel/ipkernel.py:283: DeprecationWarning: `should_run_async` will not call `transform_cell` automatically in the future. Please pass the result to `transformed_cell` argument and any exception that happen during thetransform in `preprocessing_exc_tuple` in IPython 7.17 and above.\n",
            "  and should_run_async(code)\n"
          ]
        }
      ]
    },
    {
      "cell_type": "code",
      "source": [
        "my_data.dtypes"
      ],
      "metadata": {
        "colab": {
          "base_uri": "https://localhost:8080/"
        },
        "id": "jB4ACYNw6YZo",
        "outputId": "6719470b-2b78-4b2e-c15d-de4bab0b5ae1"
      },
      "execution_count": null,
      "outputs": [
        {
          "output_type": "stream",
          "name": "stderr",
          "text": [
            "/usr/local/lib/python3.9/dist-packages/ipykernel/ipkernel.py:283: DeprecationWarning: `should_run_async` will not call `transform_cell` automatically in the future. Please pass the result to `transformed_cell` argument and any exception that happen during thetransform in `preprocessing_exc_tuple` in IPython 7.17 and above.\n",
            "  and should_run_async(code)\n"
          ]
        },
        {
          "output_type": "execute_result",
          "data": {
            "text/plain": [
              "link_id      string\n",
              "author       string\n",
              "score         Int64\n",
              "body         string\n",
              "ups           Int64\n",
              "is_bot         bool\n",
              "is_troll       bool\n",
              "is_normal      bool\n",
              "dtype: object"
            ]
          },
          "metadata": {},
          "execution_count": 125
        }
      ]
    },
    {
      "cell_type": "code",
      "source": [
        "my_data['score'].plot(kind='line')"
      ],
      "metadata": {
        "colab": {
          "base_uri": "https://localhost:8080/",
          "height": 502
        },
        "id": "xGgYu_sKb__x",
        "outputId": "c77d72aa-45dc-4aaf-ace6-95e3b95f5351"
      },
      "execution_count": null,
      "outputs": [
        {
          "output_type": "stream",
          "name": "stderr",
          "text": [
            "/usr/local/lib/python3.9/dist-packages/ipykernel/ipkernel.py:283: DeprecationWarning: `should_run_async` will not call `transform_cell` automatically in the future. Please pass the result to `transformed_cell` argument and any exception that happen during thetransform in `preprocessing_exc_tuple` in IPython 7.17 and above.\n",
            "  and should_run_async(code)\n"
          ]
        },
        {
          "output_type": "execute_result",
          "data": {
            "text/plain": [
              "<Axes: >"
            ]
          },
          "metadata": {},
          "execution_count": 126
        },
        {
          "output_type": "display_data",
          "data": {
            "text/plain": [
              "<Figure size 640x480 with 1 Axes>"
            ],
            "image/png": "[encoded data removed]"
          },
          "metadata": {}
        }
      ]
    },
    {
      "cell_type": "code",
      "source": [
        "my_data['ups'].plot(kind='line')"
      ],
      "metadata": {
        "colab": {
          "base_uri": "https://localhost:8080/",
          "height": 502
        },
        "id": "AkreOF2fkOmR",
        "outputId": "05f14356-af28-45df-9e2d-e3945d2d87af"
      },
      "execution_count": null,
      "outputs": [
        {
          "output_type": "stream",
          "name": "stderr",
          "text": [
            "/usr/local/lib/python3.9/dist-packages/ipykernel/ipkernel.py:283: DeprecationWarning: `should_run_async` will not call `transform_cell` automatically in the future. Please pass the result to `transformed_cell` argument and any exception that happen during thetransform in `preprocessing_exc_tuple` in IPython 7.17 and above.\n",
            "  and should_run_async(code)\n"
          ]
        },
        {
          "output_type": "execute_result",
          "data": {
            "text/plain": [
              "<Axes: >"
            ]
          },
          "metadata": {},
          "execution_count": 127
        },
        {
          "output_type": "display_data",
          "data": {
            "text/plain": [
              "<Figure size 640x480 with 1 Axes>"
            ],
            "image/png": "[encoded data removed]"
          },
          "metadata": {}
        }
      ]
    },
    {
      "cell_type": "markdown",
      "source": [
        "Посмотрим на это крайнее значение."
      ],
      "metadata": {
        "id": "6c7lvsZ6kV98"
      }
    },
    {
      "cell_type": "code",
      "source": [
        "my_data[my_data.score > 10000]"
      ],
      "metadata": {
        "colab": {
          "base_uri": "https://localhost:8080/",
          "height": 261
        },
        "id": "dlIQfYNrkU8o",
        "outputId": "325c8e91-d411-48d6-8241-1a51a485d513"
      },
      "execution_count": null,
      "outputs": [
        {
          "output_type": "stream",
          "name": "stderr",
          "text": [
            "/usr/local/lib/python3.9/dist-packages/ipykernel/ipkernel.py:283: DeprecationWarning: `should_run_async` will not call `transform_cell` automatically in the future. Please pass the result to `transformed_cell` argument and any exception that happen during thetransform in `preprocessing_exc_tuple` in IPython 7.17 and above.\n",
            "  and should_run_async(code)\n"
          ]
        },
        {
          "output_type": "execute_result",
          "data": {
            "text/plain": [
              "          link_id   author  score  \\\n",
              "192972  t3_7ja1xx  BerskyN  22893   \n",
              "192973  t3_7ja1xx  BerskyN  11927   \n",
              "192974  t3_7ja1xx  BerskyN  14938   \n",
              "192975  t3_7ja1xx  BerskyN  22030   \n",
              "192976  t3_7ja1xx  BerskyN  14104   \n",
              "\n",
              "                                                     body    ups  is_bot  \\\n",
              "192972          You may never know if you've gone insane.  22893   False   \n",
              "192973  If you become an astronaut and are in the ISS ...  11927   False   \n",
              "192974  There are a huge amount of illnesses that aren...  14938   False   \n",
              "192975  The first firefighter killed responding to the...  22030   False   \n",
              "192976  Every picture you pose for could be the one us...  14104   False   \n",
              "\n",
              "        is_troll  is_normal  \n",
              "192972      True      False  \n",
              "192973      True      False  \n",
              "192974      True      False  \n",
              "192975      True      False  \n",
              "192976      True      False  "
            ],
            "text/html": [
              "\n",
              "  <div id=\"df-1c849a1f-e251-4bae-aada-b67cb4f7eece\">\n",
              "    <div class=\"colab-df-container\">\n",
              "      <div>\n",
              "<style scoped>\n",
              "    .dataframe tbody tr th:only-of-type {\n",
              "        vertical-align: middle;\n",
              "    }\n",
              "\n",
              "    .dataframe tbody tr th {\n",
              "        vertical-align: top;\n",
              "    }\n",
              "\n",
              "    .dataframe thead th {\n",
              "        text-align: right;\n",
              "    }\n",
              "</style>\n",
              "<table border=\"1\" class=\"dataframe\">\n",
              "  <thead>\n",
              "    <tr style=\"text-align: right;\">\n",
              "      <th></th>\n",
              "      <th>link_id</th>\n",
              "      <th>author</th>\n",
              "      <th>score</th>\n",
              "      <th>body</th>\n",
              "      <th>ups</th>\n",
              "      <th>is_bot</th>\n",
              "      <th>is_troll</th>\n",
              "      <th>is_normal</th>\n",
              "    </tr>\n",
              "  </thead>\n",
              "  <tbody>\n",
              "    <tr>\n",
              "      <th>192972</th>\n",
              "      <td>t3_7ja1xx</td>\n",
              "      <td>BerskyN</td>\n",
              "      <td>22893</td>\n",
              "      <td>You may never know if you've gone insane.</td>\n",
              "      <td>22893</td>\n",
              "      <td>False</td>\n",
              "      <td>True</td>\n",
              "      <td>False</td>\n",
              "    </tr>\n",
              "    <tr>\n",
              "      <th>192973</th>\n",
              "      <td>t3_7ja1xx</td>\n",
              "      <td>BerskyN</td>\n",
              "      <td>11927</td>\n",
              "      <td>If you become an astronaut and are in the ISS ...</td>\n",
              "      <td>11927</td>\n",
              "      <td>False</td>\n",
              "      <td>True</td>\n",
              "      <td>False</td>\n",
              "    </tr>\n",
              "    <tr>\n",
              "      <th>192974</th>\n",
              "      <td>t3_7ja1xx</td>\n",
              "      <td>BerskyN</td>\n",
              "      <td>14938</td>\n",
              "      <td>There are a huge amount of illnesses that aren...</td>\n",
              "      <td>14938</td>\n",
              "      <td>False</td>\n",
              "      <td>True</td>\n",
              "      <td>False</td>\n",
              "    </tr>\n",
              "    <tr>\n",
              "      <th>192975</th>\n",
              "      <td>t3_7ja1xx</td>\n",
              "      <td>BerskyN</td>\n",
              "      <td>22030</td>\n",
              "      <td>The first firefighter killed responding to the...</td>\n",
              "      <td>22030</td>\n",
              "      <td>False</td>\n",
              "      <td>True</td>\n",
              "      <td>False</td>\n",
              "    </tr>\n",
              "    <tr>\n",
              "      <th>192976</th>\n",
              "      <td>t3_7ja1xx</td>\n",
              "      <td>BerskyN</td>\n",
              "      <td>14104</td>\n",
              "      <td>Every picture you pose for could be the one us...</td>\n",
              "      <td>14104</td>\n",
              "      <td>False</td>\n",
              "      <td>True</td>\n",
              "      <td>False</td>\n",
              "    </tr>\n",
              "  </tbody>\n",
              "</table>\n",
              "</div>\n",
              "      <button class=\"colab-df-convert\" onclick=\"convertToInteractive('df-1c849a1f-e251-4bae-aada-b67cb4f7eece')\"\n",
              "              title=\"Convert this dataframe to an interactive table.\"\n",
              "              style=\"display:none;\">\n",
              "        \n",
              "  <svg xmlns=\"http://www.w3.org/2000/svg\" height=\"24px\"viewBox=\"0 0 24 24\"\n",
              "       width=\"24px\">\n",
              "    <path d=\"M0 0h24v24H0V0z\" fill=\"none\"/>\n",
              "    <path d=\"M18.56 5.44l.94 2.06.94-2.06 2.06-.94-2.06-.94-.94-2.06-.94 2.06-2.06.94zm-11 1L8.5 8.5l.94-2.06 2.06-.94-2.06-.94L8.5 2.5l-.94 2.06-2.06.94zm10 10l.94 2.06.94-2.06 2.06-.94-2.06-.94-.94-2.06-.94 2.06-2.06.94z\"/><path d=\"M17.41 7.96l-1.37-1.37c-.4-.4-.92-.59-1.43-.59-.52 0-1.04.2-1.43.59L10.3 9.45l-7.72 7.72c-.78.78-.78 2.05 0 2.83L4 21.41c.39.39.9.59 1.41.59.51 0 1.02-.2 1.41-.59l7.78-7.78 2.81-2.81c.8-.78.8-2.07 0-2.86zM5.41 20L4 18.59l7.72-7.72 1.47 1.35L5.41 20z\"/>\n",
              "  </svg>\n",
              "      </button>\n",
              "      \n",
              "  <style>\n",
              "    .colab-df-container {\n",
              "      display:flex;\n",
              "      flex-wrap:wrap;\n",
              "      gap: 12px;\n",
              "    }\n",
              "\n",
              "    .colab-df-convert {\n",
              "      background-color: #E8F0FE;\n",
              "      border: none;\n",
              "      border-radius: 50%;\n",
              "      cursor: pointer;\n",
              "      display: none;\n",
              "      fill: #1967D2;\n",
              "      height: 32px;\n",
              "      padding: 0 0 0 0;\n",
              "      width: 32px;\n",
              "    }\n",
              "\n",
              "    .colab-df-convert:hover {\n",
              "      background-color: #E2EBFA;\n",
              "      box-shadow: 0px 1px 2px rgba(60, 64, 67, 0.3), 0px 1px 3px 1px rgba(60, 64, 67, 0.15);\n",
              "      fill: #174EA6;\n",
              "    }\n",
              "\n",
              "    [theme=dark] .colab-df-convert {\n",
              "      background-color: #3B4455;\n",
              "      fill: #D2E3FC;\n",
              "    }\n",
              "\n",
              "    [theme=dark] .colab-df-convert:hover {\n",
              "      background-color: #434B5C;\n",
              "      box-shadow: 0px 1px 3px 1px rgba(0, 0, 0, 0.15);\n",
              "      filter: drop-shadow(0px 1px 2px rgba(0, 0, 0, 0.3));\n",
              "      fill: #FFFFFF;\n",
              "    }\n",
              "  </style>\n",
              "\n",
              "      <script>\n",
              "        const buttonEl =\n",
              "          document.querySelector('#df-1c849a1f-e251-4bae-aada-b67cb4f7eece button.colab-df-convert');\n",
              "        buttonEl.style.display =\n",
              "          google.colab.kernel.accessAllowed ? 'block' : 'none';\n",
              "\n",
              "        async function convertToInteractive(key) {\n",
              "          const element = document.querySelector('#df-1c849a1f-e251-4bae-aada-b67cb4f7eece');\n",
              "          const dataTable =\n",
              "            await google.colab.kernel.invokeFunction('convertToInteractive',\n",
              "                                                     [key], {});\n",
              "          if (!dataTable) return;\n",
              "\n",
              "          const docLinkHtml = 'Like what you see? Visit the ' +\n",
              "            '<a target=\"_blank\" href=https://colab.research.google.com/notebooks/data_table.ipynb>data table notebook</a>'\n",
              "            + ' to learn more about interactive tables.';\n",
              "          element.innerHTML = '';\n",
              "          dataTable['output_type'] = 'display_data';\n",
              "          await google.colab.output.renderOutput(dataTable, element);\n",
              "          const docLink = document.createElement('div');\n",
              "          docLink.innerHTML = docLinkHtml;\n",
              "          element.appendChild(docLink);\n",
              "        }\n",
              "      </script>\n",
              "    </div>\n",
              "  </div>\n",
              "  "
            ]
          },
          "metadata": {},
          "execution_count": 128
        }
      ]
    },
    {
      "cell_type": "markdown",
      "source": [
        "#Объединенный датасет"
      ],
      "metadata": {
        "id": "4VBKPFbkXSYA"
      }
    },
    {
      "cell_type": "markdown",
      "source": [
        "Соединяем два датасета"
      ],
      "metadata": {
        "id": "B5bnLFYbrwwS"
      }
    },
    {
      "cell_type": "code",
      "source": [
        "#full_data = my_data.append(normal_comments)\n",
        "frames = [my_data, normal_comments]\n",
        "\n",
        "full_data = pd.concat(frames, ignore_index=True)"
      ],
      "metadata": {
        "id": "9gBzogQErz8U",
        "colab": {
          "base_uri": "https://localhost:8080/"
        },
        "outputId": "7e89e227-0e43-47bd-e7ca-7cedf8b3e461"
      },
      "execution_count": null,
      "outputs": [
        {
          "output_type": "stream",
          "name": "stderr",
          "text": [
            "/usr/local/lib/python3.9/dist-packages/ipykernel/ipkernel.py:283: DeprecationWarning: `should_run_async` will not call `transform_cell` automatically in the future. Please pass the result to `transformed_cell` argument and any exception that happen during thetransform in `preprocessing_exc_tuple` in IPython 7.17 and above.\n",
            "  and should_run_async(code)\n"
          ]
        }
      ]
    },
    {
      "cell_type": "code",
      "source": [
        "full_data.dtypes"
      ],
      "metadata": {
        "colab": {
          "base_uri": "https://localhost:8080/"
        },
        "id": "QHhOUYYv7Acp",
        "outputId": "da102288-b310-4b20-cd5f-b372a6904502"
      },
      "execution_count": null,
      "outputs": [
        {
          "output_type": "stream",
          "name": "stderr",
          "text": [
            "/usr/local/lib/python3.9/dist-packages/ipykernel/ipkernel.py:283: DeprecationWarning: `should_run_async` will not call `transform_cell` automatically in the future. Please pass the result to `transformed_cell` argument and any exception that happen during thetransform in `preprocessing_exc_tuple` in IPython 7.17 and above.\n",
            "  and should_run_async(code)\n"
          ]
        },
        {
          "output_type": "execute_result",
          "data": {
            "text/plain": [
              "link_id      string\n",
              "author       string\n",
              "score         Int64\n",
              "body         string\n",
              "ups           Int64\n",
              "is_bot         bool\n",
              "is_troll       bool\n",
              "is_normal      bool\n",
              "dtype: object"
            ]
          },
          "metadata": {},
          "execution_count": 130
        }
      ]
    },
    {
      "cell_type": "markdown",
      "source": [
        "Удалим повторяющиеся строки и строки с пустым полем комментариев."
      ],
      "metadata": {
        "id": "Cv0xsGU_38SG"
      }
    },
    {
      "cell_type": "code",
      "source": [
        "full_data.drop_duplicates(inplace=True)\n",
        "full_data.dropna(subset = ['body'], inplace=True)"
      ],
      "metadata": {
        "id": "rfM3KCEkp3z8",
        "colab": {
          "base_uri": "https://localhost:8080/"
        },
        "outputId": "8a615073-1950-439d-f813-e38f8f37a5ef"
      },
      "execution_count": null,
      "outputs": [
        {
          "output_type": "stream",
          "name": "stderr",
          "text": [
            "/usr/local/lib/python3.9/dist-packages/ipykernel/ipkernel.py:283: DeprecationWarning: `should_run_async` will not call `transform_cell` automatically in the future. Please pass the result to `transformed_cell` argument and any exception that happen during thetransform in `preprocessing_exc_tuple` in IPython 7.17 and above.\n",
            "  and should_run_async(code)\n"
          ]
        }
      ]
    },
    {
      "cell_type": "code",
      "source": [
        "full_data"
      ],
      "metadata": {
        "colab": {
          "base_uri": "https://localhost:8080/",
          "height": 478
        },
        "id": "vc-5z9agyTu0",
        "outputId": "9f6c50b2-a3bb-45df-e013-2546949d029f"
      },
      "execution_count": null,
      "outputs": [
        {
          "output_type": "stream",
          "name": "stderr",
          "text": [
            "/usr/local/lib/python3.9/dist-packages/ipykernel/ipkernel.py:283: DeprecationWarning: `should_run_async` will not call `transform_cell` automatically in the future. Please pass the result to `transformed_cell` argument and any exception that happen during thetransform in `preprocessing_exc_tuple` in IPython 7.17 and above.\n",
            "  and should_run_async(code)\n"
          ]
        },
        {
          "output_type": "execute_result",
          "data": {
            "text/plain": [
              "          link_id              author  score  \\\n",
              "0       t3_2l5szg             ADHDbot      1   \n",
              "1       t3_2l61gs             ADHDbot      1   \n",
              "2       t3_2l7ma8             ADHDbot      1   \n",
              "3       t3_2l7t5h             ADHDbot      1   \n",
              "4       t3_2l900k             ADHDbot      1   \n",
              "...           ...                 ...    ...   \n",
              "311870  t3_5on47d           kcheng686      1   \n",
              "311871  t3_5q9ppf    DisconnectedCorn      1   \n",
              "311872  t3_5pqb17          najing_ftw      3   \n",
              "311873  t3_5oh8zt  Fourteen_of_Twelve      5   \n",
              "311874  t3_5obnei           RanaI_Ape      1   \n",
              "\n",
              "                                                     body  ups  is_bot  \\\n",
              "0       As per the rules in the side bar, yes or no qu...    1    True   \n",
              "1       Meme and image posts are not allowed on this s...    1    True   \n",
              "2       As per the rules in the side bar, yes or no qu...    1    True   \n",
              "3       As per the rules in the side bar, yes or no qu...    1    True   \n",
              "4       We cannot and will not diagnose anyone.  You n...    1    True   \n",
              "...                                                   ...  ...     ...   \n",
              "311870  I remember the 2007 clippers.\n",
              "\n",
              "Which is the sa...    0   False   \n",
              "311871  On second thought you might actually be autistic     0   False   \n",
              "311872  Hello darkness, my old friend,\n",
              "I've come to ta...    0   False   \n",
              "311873  You can't use the enter key when you're doing ...    0   False   \n",
              "311874  I was, but I flashed stock so I could get OTAs...    0   False   \n",
              "\n",
              "        is_troll  is_normal  \n",
              "0          False      False  \n",
              "1          False      False  \n",
              "2          False      False  \n",
              "3          False      False  \n",
              "4          False      False  \n",
              "...          ...        ...  \n",
              "311870     False       True  \n",
              "311871     False       True  \n",
              "311872     False       True  \n",
              "311873     False       True  \n",
              "311874     False       True  \n",
              "\n",
              "[228625 rows x 8 columns]"
            ],
            "text/html": [
              "\n",
              "  <div id=\"df-a34ff77e-4996-408c-b4d5-f2563e283429\">\n",
              "    <div class=\"colab-df-container\">\n",
              "      <div>\n",
              "<style scoped>\n",
              "    .dataframe tbody tr th:only-of-type {\n",
              "        vertical-align: middle;\n",
              "    }\n",
              "\n",
              "    .dataframe tbody tr th {\n",
              "        vertical-align: top;\n",
              "    }\n",
              "\n",
              "    .dataframe thead th {\n",
              "        text-align: right;\n",
              "    }\n",
              "</style>\n",
              "<table border=\"1\" class=\"dataframe\">\n",
              "  <thead>\n",
              "    <tr style=\"text-align: right;\">\n",
              "      <th></th>\n",
              "      <th>link_id</th>\n",
              "      <th>author</th>\n",
              "      <th>score</th>\n",
              "      <th>body</th>\n",
              "      <th>ups</th>\n",
              "      <th>is_bot</th>\n",
              "      <th>is_troll</th>\n",
              "      <th>is_normal</th>\n",
              "    </tr>\n",
              "  </thead>\n",
              "  <tbody>\n",
              "    <tr>\n",
              "      <th>0</th>\n",
              "      <td>t3_2l5szg</td>\n",
              "      <td>ADHDbot</td>\n",
              "      <td>1</td>\n",
              "      <td>As per the rules in the side bar, yes or no qu...</td>\n",
              "      <td>1</td>\n",
              "      <td>True</td>\n",
              "      <td>False</td>\n",
              "      <td>False</td>\n",
              "    </tr>\n",
              "    <tr>\n",
              "      <th>1</th>\n",
              "      <td>t3_2l61gs</td>\n",
              "      <td>ADHDbot</td>\n",
              "      <td>1</td>\n",
              "      <td>Meme and image posts are not allowed on this s...</td>\n",
              "      <td>1</td>\n",
              "      <td>True</td>\n",
              "      <td>False</td>\n",
              "      <td>False</td>\n",
              "    </tr>\n",
              "    <tr>\n",
              "      <th>2</th>\n",
              "      <td>t3_2l7ma8</td>\n",
              "      <td>ADHDbot</td>\n",
              "      <td>1</td>\n",
              "      <td>As per the rules in the side bar, yes or no qu...</td>\n",
              "      <td>1</td>\n",
              "      <td>True</td>\n",
              "      <td>False</td>\n",
              "      <td>False</td>\n",
              "    </tr>\n",
              "    <tr>\n",
              "      <th>3</th>\n",
              "      <td>t3_2l7t5h</td>\n",
              "      <td>ADHDbot</td>\n",
              "      <td>1</td>\n",
              "      <td>As per the rules in the side bar, yes or no qu...</td>\n",
              "      <td>1</td>\n",
              "      <td>True</td>\n",
              "      <td>False</td>\n",
              "      <td>False</td>\n",
              "    </tr>\n",
              "    <tr>\n",
              "      <th>4</th>\n",
              "      <td>t3_2l900k</td>\n",
              "      <td>ADHDbot</td>\n",
              "      <td>1</td>\n",
              "      <td>We cannot and will not diagnose anyone.  You n...</td>\n",
              "      <td>1</td>\n",
              "      <td>True</td>\n",
              "      <td>False</td>\n",
              "      <td>False</td>\n",
              "    </tr>\n",
              "    <tr>\n",
              "      <th>...</th>\n",
              "      <td>...</td>\n",
              "      <td>...</td>\n",
              "      <td>...</td>\n",
              "      <td>...</td>\n",
              "      <td>...</td>\n",
              "      <td>...</td>\n",
              "      <td>...</td>\n",
              "      <td>...</td>\n",
              "    </tr>\n",
              "    <tr>\n",
              "      <th>311870</th>\n",
              "      <td>t3_5on47d</td>\n",
              "      <td>kcheng686</td>\n",
              "      <td>1</td>\n",
              "      <td>I remember the 2007 clippers.\n",
              "\n",
              "Which is the sa...</td>\n",
              "      <td>0</td>\n",
              "      <td>False</td>\n",
              "      <td>False</td>\n",
              "      <td>True</td>\n",
              "    </tr>\n",
              "    <tr>\n",
              "      <th>311871</th>\n",
              "      <td>t3_5q9ppf</td>\n",
              "      <td>DisconnectedCorn</td>\n",
              "      <td>1</td>\n",
              "      <td>On second thought you might actually be autistic</td>\n",
              "      <td>0</td>\n",
              "      <td>False</td>\n",
              "      <td>False</td>\n",
              "      <td>True</td>\n",
              "    </tr>\n",
              "    <tr>\n",
              "      <th>311872</th>\n",
              "      <td>t3_5pqb17</td>\n",
              "      <td>najing_ftw</td>\n",
              "      <td>3</td>\n",
              "      <td>Hello darkness, my old friend,\n",
              "I've come to ta...</td>\n",
              "      <td>0</td>\n",
              "      <td>False</td>\n",
              "      <td>False</td>\n",
              "      <td>True</td>\n",
              "    </tr>\n",
              "    <tr>\n",
              "      <th>311873</th>\n",
              "      <td>t3_5oh8zt</td>\n",
              "      <td>Fourteen_of_Twelve</td>\n",
              "      <td>5</td>\n",
              "      <td>You can't use the enter key when you're doing ...</td>\n",
              "      <td>0</td>\n",
              "      <td>False</td>\n",
              "      <td>False</td>\n",
              "      <td>True</td>\n",
              "    </tr>\n",
              "    <tr>\n",
              "      <th>311874</th>\n",
              "      <td>t3_5obnei</td>\n",
              "      <td>RanaI_Ape</td>\n",
              "      <td>1</td>\n",
              "      <td>I was, but I flashed stock so I could get OTAs...</td>\n",
              "      <td>0</td>\n",
              "      <td>False</td>\n",
              "      <td>False</td>\n",
              "      <td>True</td>\n",
              "    </tr>\n",
              "  </tbody>\n",
              "</table>\n",
              "<p>228625 rows × 8 columns</p>\n",
              "</div>\n",
              "      <button class=\"colab-df-convert\" onclick=\"convertToInteractive('df-a34ff77e-4996-408c-b4d5-f2563e283429')\"\n",
              "              title=\"Convert this dataframe to an interactive table.\"\n",
              "              style=\"display:none;\">\n",
              "        \n",
              "  <svg xmlns=\"http://www.w3.org/2000/svg\" height=\"24px\"viewBox=\"0 0 24 24\"\n",
              "       width=\"24px\">\n",
              "    <path d=\"M0 0h24v24H0V0z\" fill=\"none\"/>\n",
              "    <path d=\"M18.56 5.44l.94 2.06.94-2.06 2.06-.94-2.06-.94-.94-2.06-.94 2.06-2.06.94zm-11 1L8.5 8.5l.94-2.06 2.06-.94-2.06-.94L8.5 2.5l-.94 2.06-2.06.94zm10 10l.94 2.06.94-2.06 2.06-.94-2.06-.94-.94-2.06-.94 2.06-2.06.94z\"/><path d=\"M17.41 7.96l-1.37-1.37c-.4-.4-.92-.59-1.43-.59-.52 0-1.04.2-1.43.59L10.3 9.45l-7.72 7.72c-.78.78-.78 2.05 0 2.83L4 21.41c.39.39.9.59 1.41.59.51 0 1.02-.2 1.41-.59l7.78-7.78 2.81-2.81c.8-.78.8-2.07 0-2.86zM5.41 20L4 18.59l7.72-7.72 1.47 1.35L5.41 20z\"/>\n",
              "  </svg>\n",
              "      </button>\n",
              "      \n",
              "  <style>\n",
              "    .colab-df-container {\n",
              "      display:flex;\n",
              "      flex-wrap:wrap;\n",
              "      gap: 12px;\n",
              "    }\n",
              "\n",
              "    .colab-df-convert {\n",
              "      background-color: #E8F0FE;\n",
              "      border: none;\n",
              "      border-radius: 50%;\n",
              "      cursor: pointer;\n",
              "      display: none;\n",
              "      fill: #1967D2;\n",
              "      height: 32px;\n",
              "      padding: 0 0 0 0;\n",
              "      width: 32px;\n",
              "    }\n",
              "\n",
              "    .colab-df-convert:hover {\n",
              "      background-color: #E2EBFA;\n",
              "      box-shadow: 0px 1px 2px rgba(60, 64, 67, 0.3), 0px 1px 3px 1px rgba(60, 64, 67, 0.15);\n",
              "      fill: #174EA6;\n",
              "    }\n",
              "\n",
              "    [theme=dark] .colab-df-convert {\n",
              "      background-color: #3B4455;\n",
              "      fill: #D2E3FC;\n",
              "    }\n",
              "\n",
              "    [theme=dark] .colab-df-convert:hover {\n",
              "      background-color: #434B5C;\n",
              "      box-shadow: 0px 1px 3px 1px rgba(0, 0, 0, 0.15);\n",
              "      filter: drop-shadow(0px 1px 2px rgba(0, 0, 0, 0.3));\n",
              "      fill: #FFFFFF;\n",
              "    }\n",
              "  </style>\n",
              "\n",
              "      <script>\n",
              "        const buttonEl =\n",
              "          document.querySelector('#df-a34ff77e-4996-408c-b4d5-f2563e283429 button.colab-df-convert');\n",
              "        buttonEl.style.display =\n",
              "          google.colab.kernel.accessAllowed ? 'block' : 'none';\n",
              "\n",
              "        async function convertToInteractive(key) {\n",
              "          const element = document.querySelector('#df-a34ff77e-4996-408c-b4d5-f2563e283429');\n",
              "          const dataTable =\n",
              "            await google.colab.kernel.invokeFunction('convertToInteractive',\n",
              "                                                     [key], {});\n",
              "          if (!dataTable) return;\n",
              "\n",
              "          const docLinkHtml = 'Like what you see? Visit the ' +\n",
              "            '<a target=\"_blank\" href=https://colab.research.google.com/notebooks/data_table.ipynb>data table notebook</a>'\n",
              "            + ' to learn more about interactive tables.';\n",
              "          element.innerHTML = '';\n",
              "          dataTable['output_type'] = 'display_data';\n",
              "          await google.colab.output.renderOutput(dataTable, element);\n",
              "          const docLink = document.createElement('div');\n",
              "          docLink.innerHTML = docLinkHtml;\n",
              "          element.appendChild(docLink);\n",
              "        }\n",
              "      </script>\n",
              "    </div>\n",
              "  </div>\n",
              "  "
            ]
          },
          "metadata": {},
          "execution_count": 132
        }
      ]
    },
    {
      "cell_type": "code",
      "source": [
        "# Count num of bots and trolls\n",
        "bots = full_data['is_bot']\n",
        "trolls = full_data['is_troll']\n",
        "normals = full_data['is_normal']\n",
        "\n",
        "print(\"Number of bot comments: \", bots.sum())\n",
        "print(\"Number of troll comments:\", trolls.sum())\n",
        "print(\"Number of normal comments:\", normals.sum())\n",
        "\n",
        "bot_authors = full_data[full_data['is_bot'] == True][['author']]\n",
        "troll_authors = full_data[full_data['is_troll'] == True][['author']]\n",
        "normal_authors = full_data[full_data['is_normal'] == True][['author']]\n",
        "\n",
        "print(\"Number of bot authors: \", len(np.unique(bot_authors)))\n",
        "print(\"Number of troll authors:\", len(np.unique(troll_authors)))\n",
        "print(\"Number of normal authors:\", len(np.unique(normal_authors)))"
      ],
      "metadata": {
        "colab": {
          "base_uri": "https://localhost:8080/"
        },
        "id": "d7d-IXhxqZkP",
        "outputId": "03639ef4-1ee5-408c-d260-6b2f78d7f142"
      },
      "execution_count": null,
      "outputs": [
        {
          "output_type": "stream",
          "name": "stderr",
          "text": [
            "/usr/local/lib/python3.9/dist-packages/ipykernel/ipkernel.py:283: DeprecationWarning: `should_run_async` will not call `transform_cell` automatically in the future. Please pass the result to `transformed_cell` argument and any exception that happen during thetransform in `preprocessing_exc_tuple` in IPython 7.17 and above.\n",
            "  and should_run_async(code)\n"
          ]
        },
        {
          "output_type": "stream",
          "name": "stdout",
          "text": [
            "Number of bot comments:  177238\n",
            "Number of troll comments: 6552\n",
            "Number of normal comments: 44835\n",
            "Number of bot authors:  343\n",
            "Number of troll authors: 153\n",
            "Number of normal authors: 39667\n"
          ]
        }
      ]
    },
    {
      "cell_type": "markdown",
      "source": [
        "Выделим целевую переменную в отдельный столбец."
      ],
      "metadata": {
        "id": "214cqlDR7oYO"
      }
    },
    {
      "cell_type": "code",
      "source": [
        "full_data['is_troll'] = np.where(full_data['is_troll'] == True, 1,0)\n",
        "full_data['is_normal'] = np.where(full_data['is_normal'] == True, 2,0)"
      ],
      "metadata": {
        "id": "4iZIbtD6CZ46",
        "colab": {
          "base_uri": "https://localhost:8080/"
        },
        "outputId": "d7c7f45b-827f-4e69-d1eb-ba4530f66b31"
      },
      "execution_count": null,
      "outputs": [
        {
          "output_type": "stream",
          "name": "stderr",
          "text": [
            "/usr/local/lib/python3.9/dist-packages/ipykernel/ipkernel.py:283: DeprecationWarning: `should_run_async` will not call `transform_cell` automatically in the future. Please pass the result to `transformed_cell` argument and any exception that happen during thetransform in `preprocessing_exc_tuple` in IPython 7.17 and above.\n",
            "  and should_run_async(code)\n"
          ]
        }
      ]
    },
    {
      "cell_type": "code",
      "source": [
        "full_data['Y'] = full_data['is_troll']+full_data['is_normal']\n",
        "full_data.drop(columns = ['is_troll', 'is_normal', 'is_bot'], inplace = True)"
      ],
      "metadata": {
        "id": "Qw0t0Wcr7vwH",
        "colab": {
          "base_uri": "https://localhost:8080/"
        },
        "outputId": "004789ea-8d44-4e26-8e72-84bc0f617c5f"
      },
      "execution_count": null,
      "outputs": [
        {
          "output_type": "stream",
          "name": "stderr",
          "text": [
            "/usr/local/lib/python3.9/dist-packages/ipykernel/ipkernel.py:283: DeprecationWarning: `should_run_async` will not call `transform_cell` automatically in the future. Please pass the result to `transformed_cell` argument and any exception that happen during thetransform in `preprocessing_exc_tuple` in IPython 7.17 and above.\n",
            "  and should_run_async(code)\n"
          ]
        }
      ]
    },
    {
      "cell_type": "code",
      "source": [
        "full_data['Y'].value_counts()"
      ],
      "metadata": {
        "colab": {
          "base_uri": "https://localhost:8080/"
        },
        "id": "J0v2v3lmDmRa",
        "outputId": "e75fdffc-c457-4cb0-926c-51e262bb14c5"
      },
      "execution_count": null,
      "outputs": [
        {
          "output_type": "stream",
          "name": "stderr",
          "text": [
            "/usr/local/lib/python3.9/dist-packages/ipykernel/ipkernel.py:283: DeprecationWarning: `should_run_async` will not call `transform_cell` automatically in the future. Please pass the result to `transformed_cell` argument and any exception that happen during thetransform in `preprocessing_exc_tuple` in IPython 7.17 and above.\n",
            "  and should_run_async(code)\n"
          ]
        },
        {
          "output_type": "execute_result",
          "data": {
            "text/plain": [
              "0    177238\n",
              "2     44835\n",
              "1      6552\n",
              "Name: Y, dtype: int64"
            ]
          },
          "metadata": {},
          "execution_count": 136
        }
      ]
    },
    {
      "cell_type": "markdown",
      "source": [
        "Теперь 0 - бот, 1 - тролль, 2 - нормальный комментарий."
      ],
      "metadata": {
        "id": "pW1SbIbKEIQx"
      }
    },
    {
      "cell_type": "markdown",
      "source": [
        "# Балансировка классов"
      ],
      "metadata": {
        "id": "3erenAK44dJp"
      }
    },
    {
      "cell_type": "code",
      "source": [
        "dataset = pd.concat([full_data[full_data.Y==2].sample(n=80000, replace=True, random_state=1), full_data[full_data.Y==1].sample(n=20000, replace=True, random_state=1), full_data[full_data.Y==0].sample(n=80000)])\n",
        "dataset"
      ],
      "metadata": {
        "colab": {
          "base_uri": "https://localhost:8080/"
        },
        "id": "B0CFF2AxGiQm",
        "outputId": "fff01fe5-8f8d-4517-c841-dd6fe731aa5a"
      },
      "execution_count": null,
      "outputs": [
        {
          "output_type": "execute_result",
          "data": {
            "text/plain": [
              "          link_id          author  score  \\\n",
              "300041  t3_5kgo9t      woodtick57      2   \n",
              "279207  t3_3n3uy6       jessmyser      1   \n",
              "272227  t3_36c1zu    nileppez_del      1   \n",
              "299549  t3_5fti0p      DoubleM101      1   \n",
              "310763  t3_5r60jm       [deleted]      2   \n",
              "...           ...             ...    ...   \n",
              "115834  t3_5xi5pj   gabenizer-bot      1   \n",
              "108884  t3_61cp1p      dogetipbot      1   \n",
              "112102  t3_1t7tq8  fact_check_bot      1   \n",
              "139159  t3_21axp0     nba_gif_bot      2   \n",
              "39394   t3_amhlvi      MovieGuide      1   \n",
              "\n",
              "                                                     body  ups  Y  \n",
              "300041  those states wouldn't have mattered even if he...    0  2  \n",
              "279207  You are a gem, I shall be locating this post h...    1  2  \n",
              "272227  Not very happy about it. Leave Sylvannas and T...    1  2  \n",
              "299549                                   In Portugal too.    0  2  \n",
              "310763  I've had the radio at the lowest possible soun...    0  2  \n",
              "...                                                   ...  ... ..  \n",
              "115834  [Source](https://www.reddit.com/r/gentlemanbon...    1  0  \n",
              "108884  __^[wow ^so ^verify]__: ^/u/tomcarbon ^-&gt; ^...    1  0  \n",
              "112102  The idea that lightning never strikes the same...    1  0  \n",
              "139159  [Mobile friendly version](http://fitbamob.com/...    2  0  \n",
              "39394   ### **[Groundhog Day (1993)](http://www.imdb.c...    1  0  \n",
              "\n",
              "[180000 rows x 6 columns]"
            ],
            "text/html": [
              "\n",
              "  <div id=\"df-8fd2c708-9ce6-46dd-83c5-aa7c29256e2e\">\n",
              "    <div class=\"colab-df-container\">\n",
              "      <div>\n",
              "<style scoped>\n",
              "    .dataframe tbody tr th:only-of-type {\n",
              "        vertical-align: middle;\n",
              "    }\n",
              "\n",
              "    .dataframe tbody tr th {\n",
              "        vertical-align: top;\n",
              "    }\n",
              "\n",
              "    .dataframe thead th {\n",
              "        text-align: right;\n",
              "    }\n",
              "</style>\n",
              "<table border=\"1\" class=\"dataframe\">\n",
              "  <thead>\n",
              "    <tr style=\"text-align: right;\">\n",
              "      <th></th>\n",
              "      <th>link_id</th>\n",
              "      <th>author</th>\n",
              "      <th>score</th>\n",
              "      <th>body</th>\n",
              "      <th>ups</th>\n",
              "      <th>Y</th>\n",
              "    </tr>\n",
              "  </thead>\n",
              "  <tbody>\n",
              "    <tr>\n",
              "      <th>300041</th>\n",
              "      <td>t3_5kgo9t</td>\n",
              "      <td>woodtick57</td>\n",
              "      <td>2</td>\n",
              "      <td>those states wouldn't have mattered even if he...</td>\n",
              "      <td>0</td>\n",
              "      <td>2</td>\n",
              "    </tr>\n",
              "    <tr>\n",
              "      <th>279207</th>\n",
              "      <td>t3_3n3uy6</td>\n",
              "      <td>jessmyser</td>\n",
              "      <td>1</td>\n",
              "      <td>You are a gem, I shall be locating this post h...</td>\n",
              "      <td>1</td>\n",
              "      <td>2</td>\n",
              "    </tr>\n",
              "    <tr>\n",
              "      <th>272227</th>\n",
              "      <td>t3_36c1zu</td>\n",
              "      <td>nileppez_del</td>\n",
              "      <td>1</td>\n",
              "      <td>Not very happy about it. Leave Sylvannas and T...</td>\n",
              "      <td>1</td>\n",
              "      <td>2</td>\n",
              "    </tr>\n",
              "    <tr>\n",
              "      <th>299549</th>\n",
              "      <td>t3_5fti0p</td>\n",
              "      <td>DoubleM101</td>\n",
              "      <td>1</td>\n",
              "      <td>In Portugal too.</td>\n",
              "      <td>0</td>\n",
              "      <td>2</td>\n",
              "    </tr>\n",
              "    <tr>\n",
              "      <th>310763</th>\n",
              "      <td>t3_5r60jm</td>\n",
              "      <td>[deleted]</td>\n",
              "      <td>2</td>\n",
              "      <td>I've had the radio at the lowest possible soun...</td>\n",
              "      <td>0</td>\n",
              "      <td>2</td>\n",
              "    </tr>\n",
              "    <tr>\n",
              "      <th>...</th>\n",
              "      <td>...</td>\n",
              "      <td>...</td>\n",
              "      <td>...</td>\n",
              "      <td>...</td>\n",
              "      <td>...</td>\n",
              "      <td>...</td>\n",
              "    </tr>\n",
              "    <tr>\n",
              "      <th>115834</th>\n",
              "      <td>t3_5xi5pj</td>\n",
              "      <td>gabenizer-bot</td>\n",
              "      <td>1</td>\n",
              "      <td>[Source](https://www.reddit.com/r/gentlemanbon...</td>\n",
              "      <td>1</td>\n",
              "      <td>0</td>\n",
              "    </tr>\n",
              "    <tr>\n",
              "      <th>108884</th>\n",
              "      <td>t3_61cp1p</td>\n",
              "      <td>dogetipbot</td>\n",
              "      <td>1</td>\n",
              "      <td>__^[wow ^so ^verify]__: ^/u/tomcarbon ^-&amp;gt; ^...</td>\n",
              "      <td>1</td>\n",
              "      <td>0</td>\n",
              "    </tr>\n",
              "    <tr>\n",
              "      <th>112102</th>\n",
              "      <td>t3_1t7tq8</td>\n",
              "      <td>fact_check_bot</td>\n",
              "      <td>1</td>\n",
              "      <td>The idea that lightning never strikes the same...</td>\n",
              "      <td>1</td>\n",
              "      <td>0</td>\n",
              "    </tr>\n",
              "    <tr>\n",
              "      <th>139159</th>\n",
              "      <td>t3_21axp0</td>\n",
              "      <td>nba_gif_bot</td>\n",
              "      <td>2</td>\n",
              "      <td>[Mobile friendly version](http://fitbamob.com/...</td>\n",
              "      <td>2</td>\n",
              "      <td>0</td>\n",
              "    </tr>\n",
              "    <tr>\n",
              "      <th>39394</th>\n",
              "      <td>t3_amhlvi</td>\n",
              "      <td>MovieGuide</td>\n",
              "      <td>1</td>\n",
              "      <td>### **[Groundhog Day (1993)](http://www.imdb.c...</td>\n",
              "      <td>1</td>\n",
              "      <td>0</td>\n",
              "    </tr>\n",
              "  </tbody>\n",
              "</table>\n",
              "<p>180000 rows × 6 columns</p>\n",
              "</div>\n",
              "      <button class=\"colab-df-convert\" onclick=\"convertToInteractive('df-8fd2c708-9ce6-46dd-83c5-aa7c29256e2e')\"\n",
              "              title=\"Convert this dataframe to an interactive table.\"\n",
              "              style=\"display:none;\">\n",
              "        \n",
              "  <svg xmlns=\"http://www.w3.org/2000/svg\" height=\"24px\"viewBox=\"0 0 24 24\"\n",
              "       width=\"24px\">\n",
              "    <path d=\"M0 0h24v24H0V0z\" fill=\"none\"/>\n",
              "    <path d=\"M18.56 5.44l.94 2.06.94-2.06 2.06-.94-2.06-.94-.94-2.06-.94 2.06-2.06.94zm-11 1L8.5 8.5l.94-2.06 2.06-.94-2.06-.94L8.5 2.5l-.94 2.06-2.06.94zm10 10l.94 2.06.94-2.06 2.06-.94-2.06-.94-.94-2.06-.94 2.06-2.06.94z\"/><path d=\"M17.41 7.96l-1.37-1.37c-.4-.4-.92-.59-1.43-.59-.52 0-1.04.2-1.43.59L10.3 9.45l-7.72 7.72c-.78.78-.78 2.05 0 2.83L4 21.41c.39.39.9.59 1.41.59.51 0 1.02-.2 1.41-.59l7.78-7.78 2.81-2.81c.8-.78.8-2.07 0-2.86zM5.41 20L4 18.59l7.72-7.72 1.47 1.35L5.41 20z\"/>\n",
              "  </svg>\n",
              "      </button>\n",
              "      \n",
              "  <style>\n",
              "    .colab-df-container {\n",
              "      display:flex;\n",
              "      flex-wrap:wrap;\n",
              "      gap: 12px;\n",
              "    }\n",
              "\n",
              "    .colab-df-convert {\n",
              "      background-color: #E8F0FE;\n",
              "      border: none;\n",
              "      border-radius: 50%;\n",
              "      cursor: pointer;\n",
              "      display: none;\n",
              "      fill: #1967D2;\n",
              "      height: 32px;\n",
              "      padding: 0 0 0 0;\n",
              "      width: 32px;\n",
              "    }\n",
              "\n",
              "    .colab-df-convert:hover {\n",
              "      background-color: #E2EBFA;\n",
              "      box-shadow: 0px 1px 2px rgba(60, 64, 67, 0.3), 0px 1px 3px 1px rgba(60, 64, 67, 0.15);\n",
              "      fill: #174EA6;\n",
              "    }\n",
              "\n",
              "    [theme=dark] .colab-df-convert {\n",
              "      background-color: #3B4455;\n",
              "      fill: #D2E3FC;\n",
              "    }\n",
              "\n",
              "    [theme=dark] .colab-df-convert:hover {\n",
              "      background-color: #434B5C;\n",
              "      box-shadow: 0px 1px 3px 1px rgba(0, 0, 0, 0.15);\n",
              "      filter: drop-shadow(0px 1px 2px rgba(0, 0, 0, 0.3));\n",
              "      fill: #FFFFFF;\n",
              "    }\n",
              "  </style>\n",
              "\n",
              "      <script>\n",
              "        const buttonEl =\n",
              "          document.querySelector('#df-8fd2c708-9ce6-46dd-83c5-aa7c29256e2e button.colab-df-convert');\n",
              "        buttonEl.style.display =\n",
              "          google.colab.kernel.accessAllowed ? 'block' : 'none';\n",
              "\n",
              "        async function convertToInteractive(key) {\n",
              "          const element = document.querySelector('#df-8fd2c708-9ce6-46dd-83c5-aa7c29256e2e');\n",
              "          const dataTable =\n",
              "            await google.colab.kernel.invokeFunction('convertToInteractive',\n",
              "                                                     [key], {});\n",
              "          if (!dataTable) return;\n",
              "\n",
              "          const docLinkHtml = 'Like what you see? Visit the ' +\n",
              "            '<a target=\"_blank\" href=https://colab.research.google.com/notebooks/data_table.ipynb>data table notebook</a>'\n",
              "            + ' to learn more about interactive tables.';\n",
              "          element.innerHTML = '';\n",
              "          dataTable['output_type'] = 'display_data';\n",
              "          await google.colab.output.renderOutput(dataTable, element);\n",
              "          const docLink = document.createElement('div');\n",
              "          docLink.innerHTML = docLinkHtml;\n",
              "          element.appendChild(docLink);\n",
              "        }\n",
              "      </script>\n",
              "    </div>\n",
              "  </div>\n",
              "  "
            ]
          },
          "metadata": {},
          "execution_count": 72
        }
      ]
    },
    {
      "cell_type": "code",
      "source": [
        "dataset['Y'].value_counts()"
      ],
      "metadata": {
        "colab": {
          "base_uri": "https://localhost:8080/"
        },
        "id": "zoKVN7rPJdxO",
        "outputId": "8127526e-0e3e-455b-de88-adb8467a2710"
      },
      "execution_count": null,
      "outputs": [
        {
          "output_type": "execute_result",
          "data": {
            "text/plain": [
              "2    80000\n",
              "0    80000\n",
              "1    20000\n",
              "Name: Y, dtype: int64"
            ]
          },
          "metadata": {},
          "execution_count": 73
        }
      ]
    },
    {
      "cell_type": "markdown",
      "source": [
        "#Анализ тональности"
      ],
      "metadata": {
        "id": "HOlDqtuTXYjo"
      }
    },
    {
      "cell_type": "code",
      "source": [
        "!pip install nltk"
      ],
      "metadata": {
        "colab": {
          "base_uri": "https://localhost:8080/"
        },
        "id": "0opvdB2sowck",
        "outputId": "e2ffe09a-3bce-4937-e56e-a3777bf8ed0d"
      },
      "execution_count": null,
      "outputs": [
        {
          "output_type": "stream",
          "name": "stderr",
          "text": [
            "/usr/local/lib/python3.9/dist-packages/ipykernel/ipkernel.py:283: DeprecationWarning: `should_run_async` will not call `transform_cell` automatically in the future. Please pass the result to `transformed_cell` argument and any exception that happen during thetransform in `preprocessing_exc_tuple` in IPython 7.17 and above.\n",
            "  and should_run_async(code)\n"
          ]
        },
        {
          "output_type": "stream",
          "name": "stdout",
          "text": [
            "Looking in indexes: https://pypi.org/simple, https://us-python.pkg.dev/colab-wheels/public/simple/\n",
            "Requirement already satisfied: nltk in /usr/local/lib/python3.9/dist-packages (3.8.1)\n",
            "Requirement already satisfied: joblib in /usr/local/lib/python3.9/dist-packages (from nltk) (1.2.0)\n",
            "Requirement already satisfied: regex>=2021.8.3 in /usr/local/lib/python3.9/dist-packages (from nltk) (2022.10.31)\n",
            "Requirement already satisfied: tqdm in /usr/local/lib/python3.9/dist-packages (from nltk) (4.65.0)\n",
            "Requirement already satisfied: click in /usr/local/lib/python3.9/dist-packages (from nltk) (8.1.3)\n"
          ]
        }
      ]
    },
    {
      "cell_type": "code",
      "source": [
        "from textblob import TextBlob\n",
        "import nltk\n",
        "\n",
        "nltk.download('all')"
      ],
      "metadata": {
        "id": "owqIvePmoS_H",
        "colab": {
          "base_uri": "https://localhost:8080/"
        },
        "outputId": "ae20f8a9-f1c8-47c8-c8c0-a1d30afa9bbf"
      },
      "execution_count": null,
      "outputs": [
        {
          "output_type": "stream",
          "name": "stderr",
          "text": [
            "/usr/local/lib/python3.9/dist-packages/ipykernel/ipkernel.py:283: DeprecationWarning: `should_run_async` will not call `transform_cell` automatically in the future. Please pass the result to `transformed_cell` argument and any exception that happen during thetransform in `preprocessing_exc_tuple` in IPython 7.17 and above.\n",
            "  and should_run_async(code)\n",
            "[nltk_data] Downloading collection 'all'\n",
            "[nltk_data]    | \n",
            "[nltk_data]    | Downloading package abc to /root/nltk_data...\n",
            "[nltk_data]    |   Package abc is already up-to-date!\n",
            "[nltk_data]    | Downloading package alpino to /root/nltk_data...\n",
            "[nltk_data]    |   Package alpino is already up-to-date!\n",
            "[nltk_data]    | Downloading package averaged_perceptron_tagger to\n",
            "[nltk_data]    |     /root/nltk_data...\n",
            "[nltk_data]    |   Package averaged_perceptron_tagger is already up-\n",
            "[nltk_data]    |       to-date!\n",
            "[nltk_data]    | Downloading package averaged_perceptron_tagger_ru to\n",
            "[nltk_data]    |     /root/nltk_data...\n",
            "[nltk_data]    |   Package averaged_perceptron_tagger_ru is already\n",
            "[nltk_data]    |       up-to-date!\n",
            "[nltk_data]    | Downloading package basque_grammars to\n",
            "[nltk_data]    |     /root/nltk_data...\n",
            "[nltk_data]    |   Package basque_grammars is already up-to-date!\n",
            "[nltk_data]    | Downloading package bcp47 to /root/nltk_data...\n",
            "[nltk_data]    |   Package bcp47 is already up-to-date!\n",
            "[nltk_data]    | Downloading package biocreative_ppi to\n",
            "[nltk_data]    |     /root/nltk_data...\n",
            "[nltk_data]    |   Package biocreative_ppi is already up-to-date!\n",
            "[nltk_data]    | Downloading package bllip_wsj_no_aux to\n",
            "[nltk_data]    |     /root/nltk_data...\n",
            "[nltk_data]    |   Package bllip_wsj_no_aux is already up-to-date!\n",
            "[nltk_data]    | Downloading package book_grammars to\n",
            "[nltk_data]    |     /root/nltk_data...\n",
            "[nltk_data]    |   Package book_grammars is already up-to-date!\n",
            "[nltk_data]    | Downloading package brown to /root/nltk_data...\n",
            "[nltk_data]    |   Package brown is already up-to-date!\n",
            "[nltk_data]    | Downloading package brown_tei to /root/nltk_data...\n",
            "[nltk_data]    |   Package brown_tei is already up-to-date!\n",
            "[nltk_data]    | Downloading package cess_cat to /root/nltk_data...\n",
            "[nltk_data]    |   Package cess_cat is already up-to-date!\n",
            "[nltk_data]    | Downloading package cess_esp to /root/nltk_data...\n",
            "[nltk_data]    |   Package cess_esp is already up-to-date!\n",
            "[nltk_data]    | Downloading package chat80 to /root/nltk_data...\n",
            "[nltk_data]    |   Package chat80 is already up-to-date!\n",
            "[nltk_data]    | Downloading package city_database to\n",
            "[nltk_data]    |     /root/nltk_data...\n",
            "[nltk_data]    |   Package city_database is already up-to-date!\n",
            "[nltk_data]    | Downloading package cmudict to /root/nltk_data...\n",
            "[nltk_data]    |   Package cmudict is already up-to-date!\n",
            "[nltk_data]    | Downloading package comparative_sentences to\n",
            "[nltk_data]    |     /root/nltk_data...\n",
            "[nltk_data]    |   Package comparative_sentences is already up-to-\n",
            "[nltk_data]    |       date!\n",
            "[nltk_data]    | Downloading package comtrans to /root/nltk_data...\n",
            "[nltk_data]    |   Package comtrans is already up-to-date!\n",
            "[nltk_data]    | Downloading package conll2000 to /root/nltk_data...\n",
            "[nltk_data]    |   Package conll2000 is already up-to-date!\n",
            "[nltk_data]    | Downloading package conll2002 to /root/nltk_data...\n",
            "[nltk_data]    |   Package conll2002 is already up-to-date!\n",
            "[nltk_data]    | Downloading package conll2007 to /root/nltk_data...\n",
            "[nltk_data]    |   Package conll2007 is already up-to-date!\n",
            "[nltk_data]    | Downloading package crubadan to /root/nltk_data...\n",
            "[nltk_data]    |   Package crubadan is already up-to-date!\n",
            "[nltk_data]    | Downloading package dependency_treebank to\n",
            "[nltk_data]    |     /root/nltk_data...\n",
            "[nltk_data]    |   Package dependency_treebank is already up-to-date!\n",
            "[nltk_data]    | Downloading package dolch to /root/nltk_data...\n",
            "[nltk_data]    |   Package dolch is already up-to-date!\n",
            "[nltk_data]    | Downloading package europarl_raw to\n",
            "[nltk_data]    |     /root/nltk_data...\n",
            "[nltk_data]    |   Package europarl_raw is already up-to-date!\n",
            "[nltk_data]    | Downloading package extended_omw to\n",
            "[nltk_data]    |     /root/nltk_data...\n",
            "[nltk_data]    |   Package extended_omw is already up-to-date!\n",
            "[nltk_data]    | Downloading package floresta to /root/nltk_data...\n",
            "[nltk_data]    |   Package floresta is already up-to-date!\n",
            "[nltk_data]    | Downloading package framenet_v15 to\n",
            "[nltk_data]    |     /root/nltk_data...\n",
            "[nltk_data]    |   Package framenet_v15 is already up-to-date!\n",
            "[nltk_data]    | Downloading package framenet_v17 to\n",
            "[nltk_data]    |     /root/nltk_data...\n",
            "[nltk_data]    |   Package framenet_v17 is already up-to-date!\n",
            "[nltk_data]    | Downloading package gazetteers to /root/nltk_data...\n",
            "[nltk_data]    |   Package gazetteers is already up-to-date!\n",
            "[nltk_data]    | Downloading package genesis to /root/nltk_data...\n",
            "[nltk_data]    |   Package genesis is already up-to-date!\n",
            "[nltk_data]    | Downloading package gutenberg to /root/nltk_data...\n",
            "[nltk_data]    |   Package gutenberg is already up-to-date!\n",
            "[nltk_data]    | Downloading package ieer to /root/nltk_data...\n",
            "[nltk_data]    |   Package ieer is already up-to-date!\n",
            "[nltk_data]    | Downloading package inaugural to /root/nltk_data...\n",
            "[nltk_data]    |   Package inaugural is already up-to-date!\n",
            "[nltk_data]    | Downloading package indian to /root/nltk_data...\n",
            "[nltk_data]    |   Package indian is already up-to-date!\n",
            "[nltk_data]    | Downloading package jeita to /root/nltk_data...\n",
            "[nltk_data]    |   Package jeita is already up-to-date!\n",
            "[nltk_data]    | Downloading package kimmo to /root/nltk_data...\n",
            "[nltk_data]    |   Package kimmo is already up-to-date!\n",
            "[nltk_data]    | Downloading package knbc to /root/nltk_data...\n",
            "[nltk_data]    |   Package knbc is already up-to-date!\n",
            "[nltk_data]    | Downloading package large_grammars to\n",
            "[nltk_data]    |     /root/nltk_data...\n",
            "[nltk_data]    |   Package large_grammars is already up-to-date!\n",
            "[nltk_data]    | Downloading package lin_thesaurus to\n",
            "[nltk_data]    |     /root/nltk_data...\n",
            "[nltk_data]    |   Package lin_thesaurus is already up-to-date!\n",
            "[nltk_data]    | Downloading package mac_morpho to /root/nltk_data...\n",
            "[nltk_data]    |   Package mac_morpho is already up-to-date!\n",
            "[nltk_data]    | Downloading package machado to /root/nltk_data...\n",
            "[nltk_data]    |   Package machado is already up-to-date!\n",
            "[nltk_data]    | Downloading package masc_tagged to /root/nltk_data...\n",
            "[nltk_data]    |   Package masc_tagged is already up-to-date!\n",
            "[nltk_data]    | Downloading package maxent_ne_chunker to\n",
            "[nltk_data]    |     /root/nltk_data...\n",
            "[nltk_data]    |   Package maxent_ne_chunker is already up-to-date!\n",
            "[nltk_data]    | Downloading package maxent_treebank_pos_tagger to\n",
            "[nltk_data]    |     /root/nltk_data...\n",
            "[nltk_data]    |   Package maxent_treebank_pos_tagger is already up-\n",
            "[nltk_data]    |       to-date!\n",
            "[nltk_data]    | Downloading package moses_sample to\n",
            "[nltk_data]    |     /root/nltk_data...\n",
            "[nltk_data]    |   Package moses_sample is already up-to-date!\n",
            "[nltk_data]    | Downloading package movie_reviews to\n",
            "[nltk_data]    |     /root/nltk_data...\n",
            "[nltk_data]    |   Package movie_reviews is already up-to-date!\n",
            "[nltk_data]    | Downloading package mte_teip5 to /root/nltk_data...\n",
            "[nltk_data]    |   Package mte_teip5 is already up-to-date!\n",
            "[nltk_data]    | Downloading package mwa_ppdb to /root/nltk_data...\n",
            "[nltk_data]    |   Package mwa_ppdb is already up-to-date!\n",
            "[nltk_data]    | Downloading package names to /root/nltk_data...\n",
            "[nltk_data]    |   Package names is already up-to-date!\n",
            "[nltk_data]    | Downloading package nombank.1.0 to /root/nltk_data...\n",
            "[nltk_data]    |   Package nombank.1.0 is already up-to-date!\n",
            "[nltk_data]    | Downloading package nonbreaking_prefixes to\n",
            "[nltk_data]    |     /root/nltk_data...\n",
            "[nltk_data]    |   Package nonbreaking_prefixes is already up-to-date!\n",
            "[nltk_data]    | Downloading package nps_chat to /root/nltk_data...\n",
            "[nltk_data]    |   Package nps_chat is already up-to-date!\n",
            "[nltk_data]    | Downloading package omw to /root/nltk_data...\n",
            "[nltk_data]    |   Package omw is already up-to-date!\n",
            "[nltk_data]    | Downloading package omw-1.4 to /root/nltk_data...\n",
            "[nltk_data]    |   Package omw-1.4 is already up-to-date!\n",
            "[nltk_data]    | Downloading package opinion_lexicon to\n",
            "[nltk_data]    |     /root/nltk_data...\n",
            "[nltk_data]    |   Package opinion_lexicon is already up-to-date!\n",
            "[nltk_data]    | Downloading package panlex_swadesh to\n",
            "[nltk_data]    |     /root/nltk_data...\n",
            "[nltk_data]    |   Package panlex_swadesh is already up-to-date!\n",
            "[nltk_data]    | Downloading package paradigms to /root/nltk_data...\n",
            "[nltk_data]    |   Package paradigms is already up-to-date!\n",
            "[nltk_data]    | Downloading package pe08 to /root/nltk_data...\n",
            "[nltk_data]    |   Package pe08 is already up-to-date!\n",
            "[nltk_data]    | Downloading package perluniprops to\n",
            "[nltk_data]    |     /root/nltk_data...\n",
            "[nltk_data]    |   Package perluniprops is already up-to-date!\n",
            "[nltk_data]    | Downloading package pil to /root/nltk_data...\n",
            "[nltk_data]    |   Package pil is already up-to-date!\n",
            "[nltk_data]    | Downloading package pl196x to /root/nltk_data...\n",
            "[nltk_data]    |   Package pl196x is already up-to-date!\n",
            "[nltk_data]    | Downloading package porter_test to /root/nltk_data...\n",
            "[nltk_data]    |   Package porter_test is already up-to-date!\n",
            "[nltk_data]    | Downloading package ppattach to /root/nltk_data...\n",
            "[nltk_data]    |   Package ppattach is already up-to-date!\n",
            "[nltk_data]    | Downloading package problem_reports to\n",
            "[nltk_data]    |     /root/nltk_data...\n",
            "[nltk_data]    |   Package problem_reports is already up-to-date!\n",
            "[nltk_data]    | Downloading package product_reviews_1 to\n",
            "[nltk_data]    |     /root/nltk_data...\n",
            "[nltk_data]    |   Package product_reviews_1 is already up-to-date!\n",
            "[nltk_data]    | Downloading package product_reviews_2 to\n",
            "[nltk_data]    |     /root/nltk_data...\n",
            "[nltk_data]    |   Package product_reviews_2 is already up-to-date!\n",
            "[nltk_data]    | Downloading package propbank to /root/nltk_data...\n",
            "[nltk_data]    |   Package propbank is already up-to-date!\n",
            "[nltk_data]    | Downloading package pros_cons to /root/nltk_data...\n",
            "[nltk_data]    |   Package pros_cons is already up-to-date!\n",
            "[nltk_data]    | Downloading package ptb to /root/nltk_data...\n",
            "[nltk_data]    |   Package ptb is already up-to-date!\n",
            "[nltk_data]    | Downloading package punkt to /root/nltk_data...\n",
            "[nltk_data]    |   Package punkt is already up-to-date!\n",
            "[nltk_data]    | Downloading package qc to /root/nltk_data...\n",
            "[nltk_data]    |   Package qc is already up-to-date!\n",
            "[nltk_data]    | Downloading package reuters to /root/nltk_data...\n",
            "[nltk_data]    |   Package reuters is already up-to-date!\n",
            "[nltk_data]    | Downloading package rslp to /root/nltk_data...\n",
            "[nltk_data]    |   Package rslp is already up-to-date!\n",
            "[nltk_data]    | Downloading package rte to /root/nltk_data...\n",
            "[nltk_data]    |   Package rte is already up-to-date!\n",
            "[nltk_data]    | Downloading package sample_grammars to\n",
            "[nltk_data]    |     /root/nltk_data...\n",
            "[nltk_data]    |   Package sample_grammars is already up-to-date!\n",
            "[nltk_data]    | Downloading package semcor to /root/nltk_data...\n",
            "[nltk_data]    |   Package semcor is already up-to-date!\n",
            "[nltk_data]    | Downloading package senseval to /root/nltk_data...\n",
            "[nltk_data]    |   Package senseval is already up-to-date!\n",
            "[nltk_data]    | Downloading package sentence_polarity to\n",
            "[nltk_data]    |     /root/nltk_data...\n",
            "[nltk_data]    |   Package sentence_polarity is already up-to-date!\n",
            "[nltk_data]    | Downloading package sentiwordnet to\n",
            "[nltk_data]    |     /root/nltk_data...\n",
            "[nltk_data]    |   Package sentiwordnet is already up-to-date!\n",
            "[nltk_data]    | Downloading package shakespeare to /root/nltk_data...\n",
            "[nltk_data]    |   Package shakespeare is already up-to-date!\n",
            "[nltk_data]    | Downloading package sinica_treebank to\n",
            "[nltk_data]    |     /root/nltk_data...\n",
            "[nltk_data]    |   Package sinica_treebank is already up-to-date!\n",
            "[nltk_data]    | Downloading package smultron to /root/nltk_data...\n",
            "[nltk_data]    |   Package smultron is already up-to-date!\n",
            "[nltk_data]    | Downloading package snowball_data to\n",
            "[nltk_data]    |     /root/nltk_data...\n",
            "[nltk_data]    |   Package snowball_data is already up-to-date!\n",
            "[nltk_data]    | Downloading package spanish_grammars to\n",
            "[nltk_data]    |     /root/nltk_data...\n",
            "[nltk_data]    |   Package spanish_grammars is already up-to-date!\n",
            "[nltk_data]    | Downloading package state_union to /root/nltk_data...\n",
            "[nltk_data]    |   Package state_union is already up-to-date!\n",
            "[nltk_data]    | Downloading package stopwords to /root/nltk_data...\n",
            "[nltk_data]    |   Package stopwords is already up-to-date!\n",
            "[nltk_data]    | Downloading package subjectivity to\n",
            "[nltk_data]    |     /root/nltk_data...\n",
            "[nltk_data]    |   Package subjectivity is already up-to-date!\n",
            "[nltk_data]    | Downloading package swadesh to /root/nltk_data...\n",
            "[nltk_data]    |   Package swadesh is already up-to-date!\n",
            "[nltk_data]    | Downloading package switchboard to /root/nltk_data...\n",
            "[nltk_data]    |   Package switchboard is already up-to-date!\n",
            "[nltk_data]    | Downloading package tagsets to /root/nltk_data...\n",
            "[nltk_data]    |   Package tagsets is already up-to-date!\n",
            "[nltk_data]    | Downloading package timit to /root/nltk_data...\n",
            "[nltk_data]    |   Package timit is already up-to-date!\n",
            "[nltk_data]    | Downloading package toolbox to /root/nltk_data...\n",
            "[nltk_data]    |   Package toolbox is already up-to-date!\n",
            "[nltk_data]    | Downloading package treebank to /root/nltk_data...\n",
            "[nltk_data]    |   Package treebank is already up-to-date!\n",
            "[nltk_data]    | Downloading package twitter_samples to\n",
            "[nltk_data]    |     /root/nltk_data...\n",
            "[nltk_data]    |   Package twitter_samples is already up-to-date!\n",
            "[nltk_data]    | Downloading package udhr to /root/nltk_data...\n",
            "[nltk_data]    |   Package udhr is already up-to-date!\n",
            "[nltk_data]    | Downloading package udhr2 to /root/nltk_data...\n",
            "[nltk_data]    |   Package udhr2 is already up-to-date!\n",
            "[nltk_data]    | Downloading package unicode_samples to\n",
            "[nltk_data]    |     /root/nltk_data...\n",
            "[nltk_data]    |   Package unicode_samples is already up-to-date!\n",
            "[nltk_data]    | Downloading package universal_tagset to\n",
            "[nltk_data]    |     /root/nltk_data...\n",
            "[nltk_data]    |   Package universal_tagset is already up-to-date!\n",
            "[nltk_data]    | Downloading package universal_treebanks_v20 to\n",
            "[nltk_data]    |     /root/nltk_data...\n",
            "[nltk_data]    |   Package universal_treebanks_v20 is already up-to-\n",
            "[nltk_data]    |       date!\n",
            "[nltk_data]    | Downloading package vader_lexicon to\n",
            "[nltk_data]    |     /root/nltk_data...\n",
            "[nltk_data]    |   Package vader_lexicon is already up-to-date!\n",
            "[nltk_data]    | Downloading package verbnet to /root/nltk_data...\n",
            "[nltk_data]    |   Package verbnet is already up-to-date!\n",
            "[nltk_data]    | Downloading package verbnet3 to /root/nltk_data...\n",
            "[nltk_data]    |   Package verbnet3 is already up-to-date!\n",
            "[nltk_data]    | Downloading package webtext to /root/nltk_data...\n",
            "[nltk_data]    |   Package webtext is already up-to-date!\n",
            "[nltk_data]    | Downloading package wmt15_eval to /root/nltk_data...\n",
            "[nltk_data]    |   Package wmt15_eval is already up-to-date!\n",
            "[nltk_data]    | Downloading package word2vec_sample to\n",
            "[nltk_data]    |     /root/nltk_data...\n",
            "[nltk_data]    |   Package word2vec_sample is already up-to-date!\n",
            "[nltk_data]    | Downloading package wordnet to /root/nltk_data...\n",
            "[nltk_data]    |   Package wordnet is already up-to-date!\n",
            "[nltk_data]    | Downloading package wordnet2021 to /root/nltk_data...\n",
            "[nltk_data]    |   Package wordnet2021 is already up-to-date!\n",
            "[nltk_data]    | Downloading package wordnet2022 to /root/nltk_data...\n",
            "[nltk_data]    |   Package wordnet2022 is already up-to-date!\n",
            "[nltk_data]    | Downloading package wordnet31 to /root/nltk_data...\n",
            "[nltk_data]    |   Package wordnet31 is already up-to-date!\n",
            "[nltk_data]    | Downloading package wordnet_ic to /root/nltk_data...\n",
            "[nltk_data]    |   Package wordnet_ic is already up-to-date!\n",
            "[nltk_data]    | Downloading package words to /root/nltk_data...\n",
            "[nltk_data]    |   Package words is already up-to-date!\n",
            "[nltk_data]    | Downloading package ycoe to /root/nltk_data...\n",
            "[nltk_data]    |   Package ycoe is already up-to-date!\n",
            "[nltk_data]    | \n",
            "[nltk_data]  Done downloading collection all\n"
          ]
        },
        {
          "output_type": "execute_result",
          "data": {
            "text/plain": [
              "True"
            ]
          },
          "metadata": {},
          "execution_count": 138
        }
      ]
    },
    {
      "cell_type": "markdown",
      "source": [
        "Анализ тональности сообщений будем проводить с пмощью  TextBlob. Метод .sentiment.polarity принимает на вход комментарий и возвращает значение от -1 до 1, где -1 - отрицательная полярность, а 1 - положительная. Также метод .sentiment.subjectivity определит субъективность / объективность, возвращая значение в пределах от 0 до 1, где 0 - очень объективный комментарий и 1 очень субъективный комментарий."
      ],
      "metadata": {
        "id": "YXCPAh7DugZf"
      }
    },
    {
      "cell_type": "code",
      "source": [
        "full_data.dtypes"
      ],
      "metadata": {
        "colab": {
          "base_uri": "https://localhost:8080/"
        },
        "id": "VzmQZle01gEf",
        "outputId": "bd15a7d7-042b-4377-9a34-8d00b327367f"
      },
      "execution_count": null,
      "outputs": [
        {
          "output_type": "stream",
          "name": "stderr",
          "text": [
            "/usr/local/lib/python3.9/dist-packages/ipykernel/ipkernel.py:283: DeprecationWarning: `should_run_async` will not call `transform_cell` automatically in the future. Please pass the result to `transformed_cell` argument and any exception that happen during thetransform in `preprocessing_exc_tuple` in IPython 7.17 and above.\n",
            "  and should_run_async(code)\n"
          ]
        },
        {
          "output_type": "execute_result",
          "data": {
            "text/plain": [
              "link_id    string\n",
              "author     string\n",
              "score       Int64\n",
              "body       string\n",
              "ups         Int64\n",
              "Y           int64\n",
              "dtype: object"
            ]
          },
          "metadata": {},
          "execution_count": 139
        }
      ]
    },
    {
      "cell_type": "code",
      "source": [
        "#my_data['ups'].plot(kind='line')\n",
        "full_data['body'].apply(lambda x: len(x)).plot(kind='line')"
      ],
      "metadata": {
        "colab": {
          "base_uri": "https://localhost:8080/",
          "height": 502
        },
        "id": "D093PBh61JXC",
        "outputId": "eb2627c1-d559-456c-88fb-e33186c60863"
      },
      "execution_count": null,
      "outputs": [
        {
          "output_type": "stream",
          "name": "stderr",
          "text": [
            "/usr/local/lib/python3.9/dist-packages/ipykernel/ipkernel.py:283: DeprecationWarning: `should_run_async` will not call `transform_cell` automatically in the future. Please pass the result to `transformed_cell` argument and any exception that happen during thetransform in `preprocessing_exc_tuple` in IPython 7.17 and above.\n",
            "  and should_run_async(code)\n"
          ]
        },
        {
          "output_type": "execute_result",
          "data": {
            "text/plain": [
              "<Axes: >"
            ]
          },
          "metadata": {},
          "execution_count": 140
        },
        {
          "output_type": "display_data",
          "data": {
            "text/plain": [
              "<Figure size 640x480 with 1 Axes>"
            ],
            "image/png": "[encoded data removed]"
          },
          "metadata": {}
        }
      ]
    },
    {
      "cell_type": "code",
      "source": [
        "#def polar(text):\n",
        "\n",
        "full_data['polarity'] = full_data['body'].apply(lambda x: TextBlob(x).sentiment.polarity)"
      ],
      "metadata": {
        "id": "iw-1lJFAzkHJ",
        "colab": {
          "base_uri": "https://localhost:8080/"
        },
        "outputId": "80f67299-f357-460a-e9e9-0ed1f1946cd3"
      },
      "execution_count": null,
      "outputs": [
        {
          "output_type": "stream",
          "name": "stderr",
          "text": [
            "/usr/local/lib/python3.9/dist-packages/ipykernel/ipkernel.py:283: DeprecationWarning: `should_run_async` will not call `transform_cell` automatically in the future. Please pass the result to `transformed_cell` argument and any exception that happen during thetransform in `preprocessing_exc_tuple` in IPython 7.17 and above.\n",
            "  and should_run_async(code)\n"
          ]
        }
      ]
    },
    {
      "cell_type": "code",
      "source": [
        "full_data['subjectivity'] = full_data['body'].apply(lambda x: TextBlob(x).sentiment.subjectivity)"
      ],
      "metadata": {
        "id": "EAZwiE1y3Nq-",
        "colab": {
          "base_uri": "https://localhost:8080/"
        },
        "outputId": "89317a4e-4bc5-47bf-f5dc-45973a17cfae"
      },
      "execution_count": null,
      "outputs": [
        {
          "output_type": "stream",
          "name": "stderr",
          "text": [
            "/usr/local/lib/python3.9/dist-packages/ipykernel/ipkernel.py:283: DeprecationWarning: `should_run_async` will not call `transform_cell` automatically in the future. Please pass the result to `transformed_cell` argument and any exception that happen during thetransform in `preprocessing_exc_tuple` in IPython 7.17 and above.\n",
            "  and should_run_async(code)\n"
          ]
        }
      ]
    },
    {
      "cell_type": "markdown",
      "source": [
        "Добавим еще несколько признаков на основе текста."
      ],
      "metadata": {
        "id": "ko-R_tJH32fs"
      }
    },
    {
      "cell_type": "code",
      "source": [
        "full_data['body_length'] = full_data['body'].apply(lambda x: len(x))\n",
        "#длина комментария"
      ],
      "metadata": {
        "id": "R-8RYiwA3Z1b",
        "colab": {
          "base_uri": "https://localhost:8080/"
        },
        "outputId": "8eff9f9f-f560-4e45-d390-e3df48133e17"
      },
      "execution_count": null,
      "outputs": [
        {
          "output_type": "stream",
          "name": "stderr",
          "text": [
            "/usr/local/lib/python3.9/dist-packages/ipykernel/ipkernel.py:283: DeprecationWarning: `should_run_async` will not call `transform_cell` automatically in the future. Please pass the result to `transformed_cell` argument and any exception that happen during thetransform in `preprocessing_exc_tuple` in IPython 7.17 and above.\n",
            "  and should_run_async(code)\n"
          ]
        }
      ]
    },
    {
      "cell_type": "code",
      "source": [
        "full_data.to_csv('drive/MyDrive/Diplom/full_data.csv', sep=',', index=False)"
      ],
      "metadata": {
        "colab": {
          "base_uri": "https://localhost:8080/"
        },
        "id": "kUFOZnTr2QJk",
        "outputId": "d0634afd-4632-4b67-b62f-bb3b80df8a56"
      },
      "execution_count": null,
      "outputs": [
        {
          "output_type": "stream",
          "name": "stderr",
          "text": [
            "/usr/local/lib/python3.9/dist-packages/ipykernel/ipkernel.py:283: DeprecationWarning: `should_run_async` will not call `transform_cell` automatically in the future. Please pass the result to `transformed_cell` argument and any exception that happen during thetransform in `preprocessing_exc_tuple` in IPython 7.17 and above.\n",
            "  and should_run_async(code)\n"
          ]
        }
      ]
    },
    {
      "cell_type": "markdown",
      "source": [
        "# Random Frorest"
      ],
      "metadata": {
        "id": "U6yF6Hv0Gmzb"
      }
    },
    {
      "cell_type": "markdown",
      "source": [
        "(пока на несбалансированном датасете)"
      ],
      "metadata": {
        "id": "QgSnwNeXL5f1"
      }
    },
    {
      "cell_type": "code",
      "source": [
        "from sklearn.model_selection import train_test_split\n",
        "from sklearn.tree import DecisionTreeClassifier\n",
        "from sklearn import metrics"
      ],
      "metadata": {
        "id": "ZL5TKvV4KwaX"
      },
      "execution_count": null,
      "outputs": []
    },
    {
      "cell_type": "code",
      "source": [
        "df = full_data.drop(columns = ['link_id','author','body'])\n",
        "\n",
        "X_train, X_test, y_train, y_test = train_test_split(\n",
        "            df.drop(['Y'], axis=1), df['Y'].values,\n",
        "            test_size=0.3, random_state=16)"
      ],
      "metadata": {
        "id": "8T-VVQ_pGt6z"
      },
      "execution_count": null,
      "outputs": []
    },
    {
      "cell_type": "code",
      "source": [
        "from sklearn.metrics import confusion_matrix\n",
        "from sklearn.metrics import classification_report\n",
        "\n",
        "def metrics(y_test, y_pred):\n",
        "  \n",
        "  conf = confusion_matrix(y_test, y_pred)\n",
        "  print(conf)\n",
        "  print(classification_report(y_test, y_pred,zero_division=0))\n"
      ],
      "metadata": {
        "id": "oeZ-1TErZYWW"
      },
      "execution_count": null,
      "outputs": []
    },
    {
      "cell_type": "code",
      "source": [
        "clf = DecisionTreeClassifier(max_depth=3, \n",
        "                             #class_weight='balanced',\n",
        "                             #class_weight={'normal':1, 'bot':2.5, 'troll':5}, \n",
        "                             min_samples_leaf=100)\n",
        "\n",
        "clf.fit(X_train, y_train)\n",
        "\n",
        "y_pred = clf.predict(X_test)\n",
        "\n",
        "metrics(y_test, y_pred)\n",
        "\n",
        "feature_imp = pd.Series(\n",
        "        clf.feature_importances_,\n",
        "        index=df.columns.drop('Y')).sort_values(ascending=False)\n",
        "print(feature_imp)"
      ],
      "metadata": {
        "colab": {
          "base_uri": "https://localhost:8080/"
        },
        "id": "6VAyH0lkJuSt",
        "outputId": "65c38103-4fd8-40a4-e4dd-b2e6300071fe"
      },
      "execution_count": null,
      "outputs": [
        {
          "output_type": "stream",
          "name": "stdout",
          "text": [
            "[[53162     0     0]\n",
            " [ 2050     0     0]\n",
            " [ 8659     0  4717]]\n",
            "              precision    recall  f1-score   support\n",
            "\n",
            "           0       0.83      1.00      0.91     53162\n",
            "           1       0.00      0.00      0.00      2050\n",
            "           2       1.00      0.35      0.52     13376\n",
            "\n",
            "    accuracy                           0.84     68588\n",
            "   macro avg       0.61      0.45      0.48     68588\n",
            "weighted avg       0.84      0.84      0.81     68588\n",
            "\n",
            "body_length     0.815751\n",
            "score           0.093141\n",
            "ups             0.066730\n",
            "subjectivity    0.024378\n",
            "polarity        0.000000\n",
            "dtype: float64\n"
          ]
        }
      ]
    },
    {
      "cell_type": "markdown",
      "source": [
        "Посмотрим, что будет, если убрать Body_length."
      ],
      "metadata": {
        "id": "WjT2KwOrM8gA"
      }
    },
    {
      "cell_type": "code",
      "source": [
        "df.drop(columns = ['body_length'], inplace = True)\n",
        "\n",
        "X_train, X_test, y_train, y_test = train_test_split(\n",
        "            df.drop(['Y'], axis=1), df['Y'].values,\n",
        "            test_size=0.3, random_state=16)"
      ],
      "metadata": {
        "id": "gjV4cA8MNDJa"
      },
      "execution_count": null,
      "outputs": []
    },
    {
      "cell_type": "code",
      "source": [
        "clf = DecisionTreeClassifier(max_depth=3, \n",
        "                             #class_weight='balanced',\n",
        "                             #class_weight={'normal':1, 'bot':2.5, 'troll':5}, \n",
        "                             min_samples_leaf=100)\n",
        "\n",
        "clf.fit(X_train, y_train)\n",
        "\n",
        "y_pred = clf.predict(X_test)\n",
        "\n",
        "metrics(y_test, y_pred)\n",
        "\n",
        "feature_imp = pd.Series(\n",
        "        clf.feature_importances_,\n",
        "        index=df.columns.drop('Y')).sort_values(ascending=False)\n",
        "print(feature_imp)"
      ],
      "metadata": {
        "colab": {
          "base_uri": "https://localhost:8080/"
        },
        "id": "nW006gF0NHx_",
        "outputId": "125a1283-22ee-4fb8-872d-9e2f9259ea22"
      },
      "execution_count": null,
      "outputs": [
        {
          "output_type": "stream",
          "name": "stdout",
          "text": [
            "[[53162     0     0]\n",
            " [ 2050     0     0]\n",
            " [ 9599     0  3777]]\n",
            "              precision    recall  f1-score   support\n",
            "\n",
            "           0       0.82      1.00      0.90     53162\n",
            "           1       0.00      0.00      0.00      2050\n",
            "           2       1.00      0.28      0.44     13376\n",
            "\n",
            "    accuracy                           0.83     68588\n",
            "   macro avg       0.61      0.43      0.45     68588\n",
            "weighted avg       0.83      0.83      0.78     68588\n",
            "\n",
            "score           0.532913\n",
            "ups             0.430819\n",
            "subjectivity    0.019264\n",
            "polarity        0.017005\n",
            "dtype: float64\n"
          ]
        }
      ]
    },
    {
      "cell_type": "markdown",
      "source": [
        "Все не так уж плохо!"
      ],
      "metadata": {
        "id": "Y21qLd3fNUqx"
      }
    },
    {
      "cell_type": "markdown",
      "source": [
        "# Логистическая регрессия"
      ],
      "metadata": {
        "id": "2LdqPTXMiiqu"
      }
    },
    {
      "cell_type": "code",
      "source": [
        "from sklearn.linear_model import LogisticRegression"
      ],
      "metadata": {
        "id": "cGnI2bAwYVQ7"
      },
      "execution_count": null,
      "outputs": []
    },
    {
      "cell_type": "code",
      "source": [
        "clf = LogisticRegression(max_iter=500)\n",
        "\n",
        "clf.fit(X_train, y_train)\n",
        "\n",
        "y_pred = clf.predict(X_test)\n",
        "\n",
        "metrics(y_test, y_pred)"
      ],
      "metadata": {
        "colab": {
          "base_uri": "https://localhost:8080/"
        },
        "id": "aHdF-zHHNX1D",
        "outputId": "df3864fc-9af6-4a6f-cdca-814e36b4eec9"
      },
      "execution_count": null,
      "outputs": [
        {
          "output_type": "stream",
          "name": "stdout",
          "text": [
            "[[53162     0     0]\n",
            " [ 2050     0     0]\n",
            " [ 9599     0  3777]]\n",
            "              precision    recall  f1-score   support\n",
            "\n",
            "           0       0.82      1.00      0.90     53162\n",
            "           1       0.00      0.00      0.00      2050\n",
            "           2       1.00      0.28      0.44     13376\n",
            "\n",
            "    accuracy                           0.83     68588\n",
            "   macro avg       0.61      0.43      0.45     68588\n",
            "weighted avg       0.83      0.83      0.78     68588\n",
            "\n"
          ]
        }
      ]
    },
    {
      "cell_type": "code",
      "source": [
        "y_proba = model.predict_proba(X_test)[:,1]\n",
        "\n",
        "from sklearn.metrics import roc_curve\n",
        "from sklearn.metrics import RocCurveDisplay\n",
        "def plot_sklearn_roc_curve(y_real, y_pred):\n",
        "    fpr, tpr, _ = roc_curve(y_real, y_pred)\n",
        "    roc_display = RocCurveDisplay(fpr=fpr, tpr=tpr).plot()\n",
        "    roc_display.figure_.set_size_inches(5,5)\n",
        "    plt.plot([0, 1], [0, 1], color = 'g')\n",
        "# Plots the ROC curve using the sklearn methods - Good plot\n",
        "plot_sklearn_roc_curve(y_test, y_proba[:, 1])\n",
        "# Plots the ROC curve using the sklearn methods - Bad plot\n",
        "plot_sklearn_roc_curve(y_test, y_pred)\n"
      ],
      "metadata": {
        "id": "lmTwvY1NiXRD"
      },
      "execution_count": null,
      "outputs": []
    },
    {
      "cell_type": "markdown",
      "source": [
        "# LDA"
      ],
      "metadata": {
        "id": "NRyQ08KN0XH8"
      }
    },
    {
      "cell_type": "markdown",
      "source": [
        "Tokenize Sentences and Clean"
      ],
      "metadata": {
        "id": "zfEn1HNXa1kN"
      }
    },
    {
      "cell_type": "code",
      "source": [
        "import sys\n",
        "#!{sys.executable} -m spacy download en\n",
        "from pprint import pprint"
      ],
      "metadata": {
        "id": "eJItjly08yoC"
      },
      "execution_count": 2,
      "outputs": []
    },
    {
      "cell_type": "code",
      "source": [
        "import gensim, spacy, logging, warnings\n",
        "import gensim.corpora as corpora\n",
        "\n",
        "from gensim.models import CoherenceModel\n",
        "from gensim.utils import simple_preprocess"
      ],
      "metadata": {
        "colab": {
          "base_uri": "https://localhost:8080/"
        },
        "id": "1qyNo-HR84cg",
        "outputId": "91c04c9f-d552-4597-f16f-63c4cc512cd0"
      },
      "execution_count": 3,
      "outputs": [
        {
          "output_type": "stream",
          "name": "stderr",
          "text": [
            "/usr/local/lib/python3.9/dist-packages/torch/cuda/__init__.py:497: UserWarning: Can't initialize NVML\n",
            "  warnings.warn(\"Can't initialize NVML\")\n"
          ]
        }
      ]
    },
    {
      "cell_type": "code",
      "source": [
        "import nltk\n",
        "nltk.download('stopwords')"
      ],
      "metadata": {
        "colab": {
          "base_uri": "https://localhost:8080/"
        },
        "id": "zX8IduXRZFTk",
        "outputId": "815a2329-df16-47d2-8d0e-d87b8da0759c"
      },
      "execution_count": 4,
      "outputs": [
        {
          "output_type": "stream",
          "name": "stderr",
          "text": [
            "[nltk_data] Downloading package stopwords to /root/nltk_data...\n",
            "[nltk_data]   Unzipping corpora/stopwords.zip.\n"
          ]
        },
        {
          "output_type": "execute_result",
          "data": {
            "text/plain": [
              "True"
            ]
          },
          "metadata": {},
          "execution_count": 4
        }
      ]
    },
    {
      "cell_type": "code",
      "source": [
        "from nltk.corpus import stopwords\n",
        "stop_words = stopwords.words('english')\n",
        "stop_words.extend(['from', 'subject', 're', 'edu', 'use', 'not', 'would', 'say', 'could', '_', 'be', 'know', 'good', 'go', 'get', 'do', 'done', 'try', 'many', 'some', 'nice', 'thank', 'think', 'see', 'rather', 'easy', 'easily', 'lot', 'lack', 'make', 'want', 'seem', 'run', 'need', 'even', 'right', 'line', 'even', 'also', 'may', 'take', 'come'])"
      ],
      "metadata": {
        "id": "w3Hh0WGe0aS8"
      },
      "execution_count": 5,
      "outputs": []
    },
    {
      "cell_type": "code",
      "source": [
        "import pickle"
      ],
      "metadata": {
        "id": "sjOT0cSdZR_k"
      },
      "execution_count": 6,
      "outputs": []
    },
    {
      "cell_type": "code",
      "source": [
        "def sent_to_words(sentences):\n",
        "    for sent in sentences:\n",
        "        sent = re.sub(r'\\S*@\\S*\\s?', '', sent)  # remove emails\n",
        "        sent = re.sub(r'\\s+', ' ', sent)  # remove newline chars\n",
        "        sent = re.sub(r\"\\'\", \"\", sent)  # remove single quotes\n",
        "        sent = re.sub(r'http\\S+', '', sent)  # remove links\n",
        "        sent = gensim.utils.simple_preprocess(str(sent), deacc=True) \n",
        "        yield(sent)  \n",
        "\n",
        "#data = full_data.body.values\n",
        "data_words = list(sent_to_words(full_data.body.values))\n",
        "len(data_words)"
      ],
      "metadata": {
        "colab": {
          "base_uri": "https://localhost:8080/"
        },
        "id": "MWLnbEL44DHf",
        "outputId": "452991fe-ce13-4b31-dc2e-316952257a7e"
      },
      "execution_count": null,
      "outputs": [
        {
          "output_type": "stream",
          "name": "stderr",
          "text": [
            "/usr/local/lib/python3.9/dist-packages/ipykernel/ipkernel.py:283: DeprecationWarning: `should_run_async` will not call `transform_cell` automatically in the future. Please pass the result to `transformed_cell` argument and any exception that happen during thetransform in `preprocessing_exc_tuple` in IPython 7.17 and above.\n",
            "  and should_run_async(code)\n"
          ]
        },
        {
          "output_type": "execute_result",
          "data": {
            "text/plain": [
              "228628"
            ]
          },
          "metadata": {},
          "execution_count": 178
        }
      ]
    },
    {
      "cell_type": "markdown",
      "source": [
        "4. Build the Bigram, Trigram Models and Lemmatize"
      ],
      "metadata": {
        "id": "xFEXZr8v4S3W"
      }
    },
    {
      "cell_type": "code",
      "source": [
        "# Build the bigram and trigram models\n",
        "#gensim.models.Phrases : Automatically detect common phrases – aka multi-word expressions, word n-gram collocations – from a stream of sentences.\n",
        "\n",
        "bigram = gensim.models.Phrases(data_words, min_count=5, threshold=100) # higher threshold fewer phrases.\n",
        "trigram = gensim.models.Phrases(bigram[data_words], threshold=100)  \n",
        "bigram_mod = gensim.models.phrases.Phraser(bigram)\n",
        "trigram_mod = gensim.models.phrases.Phraser(trigram)\n",
        "\n",
        "# !python3 -m spacy download en  # run in terminal once\n",
        "def process_words(texts, stop_words=stop_words, allowed_postags=['NOUN', 'ADJ', 'VERB', 'ADV']):\n",
        "    \"\"\"Remove Stopwords, Form Bigrams, Trigrams and Lemmatization\"\"\"\n",
        "    texts = [[word for word in simple_preprocess(str(doc)) if word not in stop_words] for doc in texts]\n",
        "    #Convert a document into a list of tokens.\n",
        "    texts = [bigram_mod[doc] for doc in texts]\n",
        "    texts = [trigram_mod[bigram_mod[doc]] for doc in texts]\n",
        "    texts_out = []\n",
        "    #nlp = spacy.load('en', disable=['parser', 'ner'])\n",
        "    nlp = spacy.load(\"en_core_web_sm\")\n",
        "    for sent in texts:\n",
        "        doc = nlp(\" \".join(sent)) \n",
        "        texts_out.append([token.lemma_ for token in doc if token.pos_ in allowed_postags])\n",
        "    # remove stopwords once more after lemmatization\n",
        "    texts_out = [[word for word in simple_preprocess(str(doc)) if word not in stop_words] for doc in texts_out]    \n",
        "    return texts_out\n",
        "\n",
        "\n",
        "data_ready = process_words(data_words)  # processed Text Data!"
      ],
      "metadata": {
        "colab": {
          "base_uri": "https://localhost:8080/"
        },
        "id": "ilI1c0_J4Iwu",
        "outputId": "47d171e3-36b7-4826-8e6b-cc9c537cd3f7"
      },
      "execution_count": null,
      "outputs": [
        {
          "output_type": "stream",
          "name": "stderr",
          "text": [
            "/usr/local/lib/python3.9/dist-packages/ipykernel/ipkernel.py:283: DeprecationWarning: `should_run_async` will not call `transform_cell` automatically in the future. Please pass the result to `transformed_cell` argument and any exception that happen during thetransform in `preprocessing_exc_tuple` in IPython 7.17 and above.\n",
            "  and should_run_async(code)\n"
          ]
        }
      ]
    },
    {
      "cell_type": "code",
      "source": [
        "with open(\"drive/MyDrive/Diplom/data_ready\", \"wb\") as fp:\n",
        "  pickle.dump(data_ready, fp)"
      ],
      "metadata": {
        "colab": {
          "base_uri": "https://localhost:8080/"
        },
        "id": "nejnDTkuW9MS",
        "outputId": "ea059fd1-69a1-4126-c7d0-dec593830939"
      },
      "execution_count": null,
      "outputs": [
        {
          "output_type": "stream",
          "name": "stderr",
          "text": [
            "/usr/local/lib/python3.9/dist-packages/ipykernel/ipkernel.py:283: DeprecationWarning: `should_run_async` will not call `transform_cell` automatically in the future. Please pass the result to `transformed_cell` argument and any exception that happen during thetransform in `preprocessing_exc_tuple` in IPython 7.17 and above.\n",
            "  and should_run_async(code)\n"
          ]
        }
      ]
    },
    {
      "cell_type": "code",
      "source": [
        "with open(\"drive/MyDrive/Diplom/data_ready\", \"rb\") as fp:\n",
        "  data_ready = pickle.load(fp)"
      ],
      "metadata": {
        "id": "DWNxtAOzZUaW"
      },
      "execution_count": 10,
      "outputs": []
    },
    {
      "cell_type": "code",
      "source": [
        "len(data_ready)"
      ],
      "metadata": {
        "colab": {
          "base_uri": "https://localhost:8080/"
        },
        "id": "R8Pgdi4iZWzm",
        "outputId": "78c5fdef-bb73-44ce-ea61-6f6d18bf20f4"
      },
      "execution_count": null,
      "outputs": [
        {
          "output_type": "stream",
          "name": "stderr",
          "text": [
            "/usr/local/lib/python3.9/dist-packages/ipykernel/ipkernel.py:283: DeprecationWarning: `should_run_async` will not call `transform_cell` automatically in the future. Please pass the result to `transformed_cell` argument and any exception that happen during thetransform in `preprocessing_exc_tuple` in IPython 7.17 and above.\n",
            "  and should_run_async(code)\n"
          ]
        },
        {
          "output_type": "execute_result",
          "data": {
            "text/plain": [
              "228628"
            ]
          },
          "metadata": {},
          "execution_count": 182
        }
      ]
    },
    {
      "cell_type": "markdown",
      "source": [
        "5. Build the Topic Model\n"
      ],
      "metadata": {
        "id": "sg6E6hlWJx7w"
      }
    },
    {
      "cell_type": "code",
      "source": [
        "# Create Dictionary\n",
        "id2word = corpora.Dictionary(data_ready)\n",
        "\n",
        "# Create Corpus: Term Document Frequency\n",
        "corpus = [id2word.doc2bow(text) for text in data_ready]\n",
        "\n",
        "# Build LDA model\n",
        "lda_model = gensim.models.ldamodel.LdaModel(corpus=corpus,\n",
        "                                           id2word=id2word,\n",
        "                                           num_topics=10, \n",
        "                                           random_state=100,\n",
        "                                           #per_word_topics=True\n",
        "                                            )\n",
        "\n",
        "pprint(lda_model.print_topics())"
      ],
      "metadata": {
        "colab": {
          "base_uri": "https://localhost:8080/"
        },
        "id": "i-WgFUe64doO",
        "outputId": "bc4f0267-d22c-46cb-f0d7-21799990eea5"
      },
      "execution_count": 11,
      "outputs": [
        {
          "output_type": "stream",
          "name": "stdout",
          "text": [
            "[(0,\n",
            "  '0.020*\"time\" + 0.016*\"really\" + 0.013*\"much\" + 0.012*\"people\" + '\n",
            "  '0.010*\"give\" + 0.009*\"day\" + 0.008*\"never\" + 0.008*\"actually\" + '\n",
            "  '0.007*\"well\" + 0.006*\"back\"'),\n",
            " (1,\n",
            "  '0.092*\"game\" + 0.070*\"still\" + 0.068*\"play\" + 0.053*\"find\" + 0.036*\"show\" + '\n",
            "  '0.032*\"version\" + 0.031*\"enough\" + 0.030*\"player\" + 0.027*\"bit\" + '\n",
            "  '0.023*\"agree\"'),\n",
            " (2,\n",
            "  '0.173*\"man\" + 0.132*\"reason\" + 0.108*\"title\" + 0.100*\"original\" + '\n",
            "  '0.061*\"subreddit\" + 0.017*\"copy\" + 0.012*\"grind\" + 0.011*\"deny\" + '\n",
            "  '0.011*\"resubmit\" + 0.009*\"iron\"'),\n",
            " (3,\n",
            "  '0.040*\"bad\" + 0.038*\"start\" + 0.035*\"guy\" + 0.031*\"happen\" + 0.031*\"end\" + '\n",
            "  '0.029*\"team\" + 0.023*\"life\" + 0.019*\"action\" + 0.016*\"card\" + '\n",
            "  '0.014*\"season\"'),\n",
            " (4,\n",
            "  '0.067*\"work\" + 0.042*\"sure\" + 0.038*\"pretty\" + 0.035*\"great\" + 0.034*\"long\" '\n",
            "  '+ 0.026*\"thing\" + 0.018*\"hour\" + 0.018*\"video\" + 0.018*\"lol\" + '\n",
            "  '0.015*\"definitely\"'),\n",
            " (5,\n",
            "  '0.123*\"delete\" + 0.091*\"remove\" + 0.090*\"first\" + 0.085*\"comment\" + '\n",
            "  '0.070*\"post\" + 0.063*\"keep\" + 0.045*\"leave\" + 0.037*\"bot\" + 0.036*\"top\" + '\n",
            "  '0.032*\"automatically\"'),\n",
            " (6,\n",
            "  '0.079*\"switch\" + 0.072*\"community\" + 0.067*\"pm\" + 0.052*\"total\" + '\n",
            "  '0.048*\"amp\" + 0.029*\"advantage\" + 0.017*\"peace\" + 0.015*\"seal\" + '\n",
            "  '0.014*\"equivalent\" + 0.014*\"plea\"'),\n",
            " (7,\n",
            "  '0.100*\"way\" + 0.055*\"question\" + 0.038*\"different\" + 0.038*\"hard\" + '\n",
            "  '0.025*\"guess\" + 0.023*\"allow\" + 0.020*\"sell\" + 0.019*\"car\" + '\n",
            "  '0.015*\"basically\" + 0.015*\"plan\"'),\n",
            " (8,\n",
            "  '0.282*\"help\" + 0.087*\"result\" + 0.043*\"verify\" + 0.040*\"stat\" + '\n",
            "  '0.035*\"manage\" + 0.025*\"blood\" + 0.025*\"bug\" + 0.013*\"loan\" + '\n",
            "  '0.012*\"transaction\" + 0.011*\"confused\"'),\n",
            " (9,\n",
            "  '0.019*\"look\" + 0.015*\"people\" + 0.015*\"well\" + 0.014*\"thing\" + 0.013*\"feel\" '\n",
            "  '+ 0.012*\"mean\" + 0.011*\"point\" + 0.009*\"year\" + 0.008*\"link\" + 0.007*\"let\"')]\n"
          ]
        }
      ]
    },
    {
      "cell_type": "markdown",
      "source": [
        "6. What is the Dominant topic and its percentage contribution in each document"
      ],
      "metadata": {
        "id": "7FiNNXaj4loV"
      }
    },
    {
      "cell_type": "code",
      "source": [
        "def format_topics_sentences(ldamodel, corpus, texts):\n",
        "    # Init output\n",
        "    sent_topics_df = pd.DataFrame()\n",
        "\n",
        "    # Get main topic in each document\n",
        "    for i, row_list in enumerate(ldamodel[corpus]):\n",
        "        row = row_list[0] if ldamodel.per_word_topics else row_list            \n",
        "        # print(row)\n",
        "        row = sorted(row, key=lambda x: (x[1]), reverse=True)\n",
        "        # Get the Dominant topic, Perc Contribution and Keywords for each document\n",
        "        for j, (topic_num, prop_topic) in enumerate(row):\n",
        "            if j == 0:  # => dominant topic\n",
        "                wp = ldamodel.show_topic(topic_num)\n",
        "                topic_keywords = \", \".join([word for word, prop in wp])\n",
        "                sent_topics_df = sent_topics_df.append(pd.Series([int(topic_num), round(prop_topic,4), topic_keywords]), ignore_index=True)\n",
        "            else:\n",
        "                break\n",
        "    sent_topics_df.columns = ['Dominant_Topic', 'Perc_Contribution', 'Topic_Keywords']\n",
        "\n",
        "    # Add original text to the end of the output\n",
        "    contents = pd.Series(texts)\n",
        "    sent_topics_df = pd.concat([sent_topics_df, contents], axis=1)\n",
        "    return(sent_topics_df)\n",
        "\n",
        "df_topic_sents_keywords = format_topics_sentences(ldamodel=lda_model, corpus=corpus, texts=data_ready)\n",
        "\n",
        "# Format\n",
        "df_dominant_topic = df_topic_sents_keywords.reset_index()\n",
        "df_dominant_topic.columns = ['Document_No', 'Dominant_Topic', 'Topic_Perc_Contrib', 'Keywords', 'Text']\n",
        "df_dominant_topic.head(10)"
      ],
      "metadata": {
        "colab": {
          "base_uri": "https://localhost:8080/",
          "height": 487
        },
        "id": "lcH2ebuY4mnx",
        "outputId": "c15783d1-785d-49ec-d737-1afd0f311147"
      },
      "execution_count": null,
      "outputs": [
        {
          "output_type": "stream",
          "name": "stderr",
          "text": [
            "/usr/local/lib/python3.9/dist-packages/ipykernel/ipkernel.py:283: DeprecationWarning: `should_run_async` will not call `transform_cell` automatically in the future. Please pass the result to `transformed_cell` argument and any exception that happen during thetransform in `preprocessing_exc_tuple` in IPython 7.17 and above.\n",
            "  and should_run_async(code)\n",
            "<ipython-input-184-dff7132a57fa>:15: FutureWarning: The frame.append method is deprecated and will be removed from pandas in a future version. Use pandas.concat instead.\n",
            "  sent_topics_df = sent_topics_df.append(pd.Series([int(topic_num), round(prop_topic,4), topic_keywords]), ignore_index=True)\n",
            "<ipython-input-184-dff7132a57fa>:15: FutureWarning: The frame.append method is deprecated and will be removed from pandas in a future version. Use pandas.concat instead.\n",
            "  sent_topics_df = sent_topics_df.append(pd.Series([int(topic_num), round(prop_topic,4), topic_keywords]), ignore_index=True)\n"
          ]
        },
        {
          "output_type": "execute_result",
          "data": {
            "text/plain": [
              "   Document_No  Dominant_Topic  Topic_Perc_Contrib  \\\n",
              "0            0               7              0.4556   \n",
              "1            1               9              0.6138   \n",
              "2            2               7              0.4556   \n",
              "3            3               7              0.4556   \n",
              "4            4               1              0.8503   \n",
              "5            5               7              0.4556   \n",
              "6            6               9              0.6138   \n",
              "7            7               1              0.8503   \n",
              "8            8               7              0.4556   \n",
              "9            9               7              0.4556   \n",
              "\n",
              "                                            Keywords  \\\n",
              "0  way, question, different, hard, guess, allow, ...   \n",
              "1  look, people, well, thing, feel, mean, point, ...   \n",
              "2  way, question, different, hard, guess, allow, ...   \n",
              "3  way, question, different, hard, guess, allow, ...   \n",
              "4  game, still, play, find, show, version, enough...   \n",
              "5  way, question, different, hard, guess, allow, ...   \n",
              "6  look, people, well, thing, feel, mean, point, ...   \n",
              "7  game, still, play, find, show, version, enough...   \n",
              "8  way, question, different, hard, guess, allow, ...   \n",
              "9  way, question, different, hard, guess, allow, ...   \n",
              "\n",
              "                                                Text  \n",
              "0  [rule, question, anyone_else, anyone_else, all...  \n",
              "1  [meme, image, post, allow, subreddit, direct, ...  \n",
              "2  [rule, question, anyone_else, anyone_else, all...  \n",
              "3  [rule, question, anyone_else, anyone_else, all...  \n",
              "4  [diagnose_anyone, speak, determine, adhd, unsa...  \n",
              "5  [rule, question, anyone_else, anyone_else, all...  \n",
              "6  [meme, image, post, allow, subreddit, direct, ...  \n",
              "7  [diagnose_anyone, speak, determine, adhd, unsa...  \n",
              "8  [rule, question, anyone_else, anyone_else, all...  \n",
              "9  [rule, question, anyone_else, anyone_else, all...  "
            ],
            "text/html": [
              "\n",
              "  <div id=\"df-ee0e70e3-6be3-4a3c-aa2c-41791d59be02\">\n",
              "    <div class=\"colab-df-container\">\n",
              "      <div>\n",
              "<style scoped>\n",
              "    .dataframe tbody tr th:only-of-type {\n",
              "        vertical-align: middle;\n",
              "    }\n",
              "\n",
              "    .dataframe tbody tr th {\n",
              "        vertical-align: top;\n",
              "    }\n",
              "\n",
              "    .dataframe thead th {\n",
              "        text-align: right;\n",
              "    }\n",
              "</style>\n",
              "<table border=\"1\" class=\"dataframe\">\n",
              "  <thead>\n",
              "    <tr style=\"text-align: right;\">\n",
              "      <th></th>\n",
              "      <th>Document_No</th>\n",
              "      <th>Dominant_Topic</th>\n",
              "      <th>Topic_Perc_Contrib</th>\n",
              "      <th>Keywords</th>\n",
              "      <th>Text</th>\n",
              "    </tr>\n",
              "  </thead>\n",
              "  <tbody>\n",
              "    <tr>\n",
              "      <th>0</th>\n",
              "      <td>0</td>\n",
              "      <td>7</td>\n",
              "      <td>0.4556</td>\n",
              "      <td>way, question, different, hard, guess, allow, ...</td>\n",
              "      <td>[rule, question, anyone_else, anyone_else, all...</td>\n",
              "    </tr>\n",
              "    <tr>\n",
              "      <th>1</th>\n",
              "      <td>1</td>\n",
              "      <td>9</td>\n",
              "      <td>0.6138</td>\n",
              "      <td>look, people, well, thing, feel, mean, point, ...</td>\n",
              "      <td>[meme, image, post, allow, subreddit, direct, ...</td>\n",
              "    </tr>\n",
              "    <tr>\n",
              "      <th>2</th>\n",
              "      <td>2</td>\n",
              "      <td>7</td>\n",
              "      <td>0.4556</td>\n",
              "      <td>way, question, different, hard, guess, allow, ...</td>\n",
              "      <td>[rule, question, anyone_else, anyone_else, all...</td>\n",
              "    </tr>\n",
              "    <tr>\n",
              "      <th>3</th>\n",
              "      <td>3</td>\n",
              "      <td>7</td>\n",
              "      <td>0.4556</td>\n",
              "      <td>way, question, different, hard, guess, allow, ...</td>\n",
              "      <td>[rule, question, anyone_else, anyone_else, all...</td>\n",
              "    </tr>\n",
              "    <tr>\n",
              "      <th>4</th>\n",
              "      <td>4</td>\n",
              "      <td>1</td>\n",
              "      <td>0.8503</td>\n",
              "      <td>game, still, play, find, show, version, enough...</td>\n",
              "      <td>[diagnose_anyone, speak, determine, adhd, unsa...</td>\n",
              "    </tr>\n",
              "    <tr>\n",
              "      <th>5</th>\n",
              "      <td>5</td>\n",
              "      <td>7</td>\n",
              "      <td>0.4556</td>\n",
              "      <td>way, question, different, hard, guess, allow, ...</td>\n",
              "      <td>[rule, question, anyone_else, anyone_else, all...</td>\n",
              "    </tr>\n",
              "    <tr>\n",
              "      <th>6</th>\n",
              "      <td>6</td>\n",
              "      <td>9</td>\n",
              "      <td>0.6138</td>\n",
              "      <td>look, people, well, thing, feel, mean, point, ...</td>\n",
              "      <td>[meme, image, post, allow, subreddit, direct, ...</td>\n",
              "    </tr>\n",
              "    <tr>\n",
              "      <th>7</th>\n",
              "      <td>7</td>\n",
              "      <td>1</td>\n",
              "      <td>0.8503</td>\n",
              "      <td>game, still, play, find, show, version, enough...</td>\n",
              "      <td>[diagnose_anyone, speak, determine, adhd, unsa...</td>\n",
              "    </tr>\n",
              "    <tr>\n",
              "      <th>8</th>\n",
              "      <td>8</td>\n",
              "      <td>7</td>\n",
              "      <td>0.4556</td>\n",
              "      <td>way, question, different, hard, guess, allow, ...</td>\n",
              "      <td>[rule, question, anyone_else, anyone_else, all...</td>\n",
              "    </tr>\n",
              "    <tr>\n",
              "      <th>9</th>\n",
              "      <td>9</td>\n",
              "      <td>7</td>\n",
              "      <td>0.4556</td>\n",
              "      <td>way, question, different, hard, guess, allow, ...</td>\n",
              "      <td>[rule, question, anyone_else, anyone_else, all...</td>\n",
              "    </tr>\n",
              "  </tbody>\n",
              "</table>\n",
              "</div>\n",
              "      <button class=\"colab-df-convert\" onclick=\"convertToInteractive('df-ee0e70e3-6be3-4a3c-aa2c-41791d59be02')\"\n",
              "              title=\"Convert this dataframe to an interactive table.\"\n",
              "              style=\"display:none;\">\n",
              "        \n",
              "  <svg xmlns=\"http://www.w3.org/2000/svg\" height=\"24px\"viewBox=\"0 0 24 24\"\n",
              "       width=\"24px\">\n",
              "    <path d=\"M0 0h24v24H0V0z\" fill=\"none\"/>\n",
              "    <path d=\"M18.56 5.44l.94 2.06.94-2.06 2.06-.94-2.06-.94-.94-2.06-.94 2.06-2.06.94zm-11 1L8.5 8.5l.94-2.06 2.06-.94-2.06-.94L8.5 2.5l-.94 2.06-2.06.94zm10 10l.94 2.06.94-2.06 2.06-.94-2.06-.94-.94-2.06-.94 2.06-2.06.94z\"/><path d=\"M17.41 7.96l-1.37-1.37c-.4-.4-.92-.59-1.43-.59-.52 0-1.04.2-1.43.59L10.3 9.45l-7.72 7.72c-.78.78-.78 2.05 0 2.83L4 21.41c.39.39.9.59 1.41.59.51 0 1.02-.2 1.41-.59l7.78-7.78 2.81-2.81c.8-.78.8-2.07 0-2.86zM5.41 20L4 18.59l7.72-7.72 1.47 1.35L5.41 20z\"/>\n",
              "  </svg>\n",
              "      </button>\n",
              "      \n",
              "  <style>\n",
              "    .colab-df-container {\n",
              "      display:flex;\n",
              "      flex-wrap:wrap;\n",
              "      gap: 12px;\n",
              "    }\n",
              "\n",
              "    .colab-df-convert {\n",
              "      background-color: #E8F0FE;\n",
              "      border: none;\n",
              "      border-radius: 50%;\n",
              "      cursor: pointer;\n",
              "      display: none;\n",
              "      fill: #1967D2;\n",
              "      height: 32px;\n",
              "      padding: 0 0 0 0;\n",
              "      width: 32px;\n",
              "    }\n",
              "\n",
              "    .colab-df-convert:hover {\n",
              "      background-color: #E2EBFA;\n",
              "      box-shadow: 0px 1px 2px rgba(60, 64, 67, 0.3), 0px 1px 3px 1px rgba(60, 64, 67, 0.15);\n",
              "      fill: #174EA6;\n",
              "    }\n",
              "\n",
              "    [theme=dark] .colab-df-convert {\n",
              "      background-color: #3B4455;\n",
              "      fill: #D2E3FC;\n",
              "    }\n",
              "\n",
              "    [theme=dark] .colab-df-convert:hover {\n",
              "      background-color: #434B5C;\n",
              "      box-shadow: 0px 1px 3px 1px rgba(0, 0, 0, 0.15);\n",
              "      filter: drop-shadow(0px 1px 2px rgba(0, 0, 0, 0.3));\n",
              "      fill: #FFFFFF;\n",
              "    }\n",
              "  </style>\n",
              "\n",
              "      <script>\n",
              "        const buttonEl =\n",
              "          document.querySelector('#df-ee0e70e3-6be3-4a3c-aa2c-41791d59be02 button.colab-df-convert');\n",
              "        buttonEl.style.display =\n",
              "          google.colab.kernel.accessAllowed ? 'block' : 'none';\n",
              "\n",
              "        async function convertToInteractive(key) {\n",
              "          const element = document.querySelector('#df-ee0e70e3-6be3-4a3c-aa2c-41791d59be02');\n",
              "          const dataTable =\n",
              "            await google.colab.kernel.invokeFunction('convertToInteractive',\n",
              "                                                     [key], {});\n",
              "          if (!dataTable) return;\n",
              "\n",
              "          const docLinkHtml = 'Like what you see? Visit the ' +\n",
              "            '<a target=\"_blank\" href=https://colab.research.google.com/notebooks/data_table.ipynb>data table notebook</a>'\n",
              "            + ' to learn more about interactive tables.';\n",
              "          element.innerHTML = '';\n",
              "          dataTable['output_type'] = 'display_data';\n",
              "          await google.colab.output.renderOutput(dataTable, element);\n",
              "          const docLink = document.createElement('div');\n",
              "          docLink.innerHTML = docLinkHtml;\n",
              "          element.appendChild(docLink);\n",
              "        }\n",
              "      </script>\n",
              "    </div>\n",
              "  </div>\n",
              "  "
            ]
          },
          "metadata": {},
          "execution_count": 184
        }
      ]
    },
    {
      "cell_type": "code",
      "source": [
        "df_dominant_topic.to_csv('drive/MyDrive/Diplom/dominant_topic.csv', sep=',', index=False)\n",
        "print(\"Saved\")"
      ],
      "metadata": {
        "colab": {
          "base_uri": "https://localhost:8080/"
        },
        "id": "xBQJ569upe3C",
        "outputId": "b5891dd7-584e-4cff-ec46-223add6d4a65"
      },
      "execution_count": null,
      "outputs": [
        {
          "output_type": "stream",
          "name": "stderr",
          "text": [
            "/usr/local/lib/python3.9/dist-packages/ipykernel/ipkernel.py:283: DeprecationWarning: `should_run_async` will not call `transform_cell` automatically in the future. Please pass the result to `transformed_cell` argument and any exception that happen during thetransform in `preprocessing_exc_tuple` in IPython 7.17 and above.\n",
            "  and should_run_async(code)\n"
          ]
        },
        {
          "output_type": "stream",
          "name": "stdout",
          "text": [
            "Saved\n"
          ]
        }
      ]
    },
    {
      "cell_type": "code",
      "source": [
        "with open('drive/MyDrive/Diplom/dominant_topic.csv') as f:\n",
        "    dominant_topic = pd.read_csv(f, sep=',')"
      ],
      "metadata": {
        "id": "UEgEI0p33ys7"
      },
      "execution_count": 8,
      "outputs": []
    },
    {
      "cell_type": "markdown",
      "source": [
        "9 Word Clouds of Top N Keywords in Each Topic"
      ],
      "metadata": {
        "id": "_LnHFOE7aQKP"
      }
    },
    {
      "cell_type": "code",
      "source": [
        "# 1. Wordcloud of Top N words in each topic\n",
        "from matplotlib import pyplot as plt\n",
        "from wordcloud import WordCloud, STOPWORDS\n",
        "import matplotlib.colors as mcolors\n",
        "\n",
        "cols = [color for name, color in mcolors.TABLEAU_COLORS.items()]  # more colors: 'mcolors.XKCD_COLORS'\n",
        "\n",
        "cloud = WordCloud(stopwords=stop_words,\n",
        "                  background_color='white',\n",
        "                  width=2500,\n",
        "                  height=1800,\n",
        "                  max_words=10,\n",
        "                  colormap='tab10',\n",
        "                  color_func=lambda *args, **kwargs: cols[i],\n",
        "                  prefer_horizontal=1.0)\n",
        "\n",
        "topics = lda_model.show_topics(formatted=False)\n",
        "\n",
        "fig, axes = plt.subplots(5, 2, figsize=(10,10), sharex=True, sharey=True)\n",
        "\n",
        "for i, ax in enumerate(axes.flatten()):\n",
        "    fig.add_subplot(ax)\n",
        "    topic_words = dict(topics[i][1])\n",
        "    cloud.generate_from_frequencies(topic_words, max_font_size=300)\n",
        "    plt.gca().imshow(cloud)\n",
        "    plt.gca().set_title('Topic ' + str(i), fontdict=dict(size=16))\n",
        "    plt.gca().axis('off')\n",
        "\n",
        "\n",
        "plt.subplots_adjust(wspace=0, hspace=0)\n",
        "plt.axis('off')\n",
        "plt.margins(x=0, y=0)\n",
        "plt.tight_layout()\n",
        "plt.show()\n"
      ],
      "metadata": {
        "colab": {
          "base_uri": "https://localhost:8080/",
          "height": 1000
        },
        "id": "QAlKCxiWaR6n",
        "outputId": "4d6e4a0e-9b2b-4cec-91c9-31594f48d2d5"
      },
      "execution_count": 12,
      "outputs": [
        {
          "output_type": "display_data",
          "data": {
            "text/plain": [
              "<Figure size 1000x1000 with 10 Axes>"
            ],
            "image/png": "[encoded data removed]"
          },
          "metadata": {}
        }
      ]
    },
    {
      "cell_type": "markdown",
      "source": [
        "14. pyLDAVis\n",
        "Finally, pyLDAVis is the most commonly used and a nice way to visualise the information contained in a topic model. Below is the implementation for LdaModel()."
      ],
      "metadata": {
        "id": "NqtPCYg4aofU"
      }
    },
    {
      "cell_type": "code",
      "source": [
        "!pip install pyLDAvis"
      ],
      "metadata": {
        "colab": {
          "base_uri": "https://localhost:8080/"
        },
        "id": "35Bz0yuEc88J",
        "outputId": "dab5a700-6be5-4630-86d3-729414dc3e4d"
      },
      "execution_count": 13,
      "outputs": [
        {
          "output_type": "stream",
          "name": "stdout",
          "text": [
            "Looking in indexes: https://pypi.org/simple, https://us-python.pkg.dev/colab-wheels/public/simple/\n",
            "Collecting pyLDAvis\n",
            "  Downloading pyLDAvis-3.4.0-py3-none-any.whl (2.6 MB)\n",
            "\u001b[2K     \u001b[90m━━━━━━━━━━━━━━━━━━━━━━━━━━━━━━━━━━━━━━━━\u001b[0m \u001b[32m2.6/2.6 MB\u001b[0m \u001b[31m13.5 MB/s\u001b[0m eta \u001b[36m0:00:00\u001b[0m\n",
            "\u001b[?25hRequirement already satisfied: numpy>=1.22.0 in /usr/local/lib/python3.9/dist-packages (from pyLDAvis) (1.22.4)\n",
            "Requirement already satisfied: jinja2 in /usr/local/lib/python3.9/dist-packages (from pyLDAvis) (3.1.2)\n",
            "Collecting joblib>=1.2.0\n",
            "  Downloading joblib-1.2.0-py3-none-any.whl (297 kB)\n",
            "\u001b[2K     \u001b[90m━━━━━━━━━━━━━━━━━━━━━━━━━━━━━━━━━━━━━━\u001b[0m \u001b[32m298.0/298.0 KB\u001b[0m \u001b[31m23.9 MB/s\u001b[0m eta \u001b[36m0:00:00\u001b[0m\n",
            "\u001b[?25hRequirement already satisfied: numexpr in /usr/local/lib/python3.9/dist-packages (from pyLDAvis) (2.8.4)\n",
            "Requirement already satisfied: pandas>=1.3.4 in /usr/local/lib/python3.9/dist-packages (from pyLDAvis) (1.4.4)\n",
            "Requirement already satisfied: setuptools in /usr/local/lib/python3.9/dist-packages (from pyLDAvis) (67.6.1)\n",
            "Requirement already satisfied: scikit-learn>=1.0.0 in /usr/local/lib/python3.9/dist-packages (from pyLDAvis) (1.2.2)\n",
            "Requirement already satisfied: gensim in /usr/local/lib/python3.9/dist-packages (from pyLDAvis) (4.3.1)\n",
            "Collecting funcy\n",
            "  Downloading funcy-2.0-py2.py3-none-any.whl (30 kB)\n",
            "Requirement already satisfied: scipy in /usr/local/lib/python3.9/dist-packages (from pyLDAvis) (1.10.1)\n",
            "Requirement already satisfied: pytz>=2020.1 in /usr/local/lib/python3.9/dist-packages (from pandas>=1.3.4->pyLDAvis) (2022.7.1)\n",
            "Requirement already satisfied: python-dateutil>=2.8.1 in /usr/local/lib/python3.9/dist-packages (from pandas>=1.3.4->pyLDAvis) (2.8.2)\n",
            "Requirement already satisfied: threadpoolctl>=2.0.0 in /usr/local/lib/python3.9/dist-packages (from scikit-learn>=1.0.0->pyLDAvis) (3.1.0)\n",
            "Requirement already satisfied: smart-open>=1.8.1 in /usr/local/lib/python3.9/dist-packages (from gensim->pyLDAvis) (6.3.0)\n",
            "Requirement already satisfied: MarkupSafe>=2.0 in /usr/local/lib/python3.9/dist-packages (from jinja2->pyLDAvis) (2.1.2)\n",
            "Requirement already satisfied: six>=1.5 in /usr/local/lib/python3.9/dist-packages (from python-dateutil>=2.8.1->pandas>=1.3.4->pyLDAvis) (1.16.0)\n",
            "Installing collected packages: funcy, joblib, pyLDAvis\n",
            "  Attempting uninstall: joblib\n",
            "    Found existing installation: joblib 1.1.1\n",
            "    Uninstalling joblib-1.1.1:\n",
            "      Successfully uninstalled joblib-1.1.1\n",
            "\u001b[31mERROR: pip's dependency resolver does not currently take into account all the packages that are installed. This behaviour is the source of the following dependency conflicts.\n",
            "pandas-profiling 3.2.0 requires joblib~=1.1.0, but you have joblib 1.2.0 which is incompatible.\u001b[0m\u001b[31m\n",
            "\u001b[0mSuccessfully installed funcy-2.0 joblib-1.2.0 pyLDAvis-3.4.0\n"
          ]
        }
      ]
    },
    {
      "cell_type": "code",
      "source": [
        "import pyLDAvis.gensim\n",
        "pyLDAvis.enable_notebook()\n",
        "vis = pyLDAvis.gensim.prepare(lda_model, corpus, dictionary=lda_model.id2word)\n",
        "vis"
      ],
      "metadata": {
        "colab": {
          "base_uri": "https://localhost:8080/",
          "height": 916
        },
        "id": "7Jlxzh6yapR8",
        "outputId": "2c8096a6-eb17-4dca-d363-1ca200392769"
      },
      "execution_count": 14,
      "outputs": [
        {
          "output_type": "stream",
          "name": "stderr",
          "text": [
            "/usr/local/lib/python3.9/dist-packages/pyLDAvis/_prepare.py:243: FutureWarning: In a future version of pandas all arguments of DataFrame.drop except for the argument 'labels' will be keyword-only.\n",
            "  default_term_info = default_term_info.sort_values(\n"
          ]
        },
        {
          "output_type": "execute_result",
          "data": {
            "text/plain": [
              "PreparedData(topic_coordinates=              x         y  topics  cluster       Freq\n",
              "topic                                                \n",
              "9     -0.314958 -0.115379       1        1  27.110444\n",
              "0     -0.287962 -0.145703       2        1  26.808861\n",
              "5      0.057117 -0.052168       3        1  10.878728\n",
              "4     -0.083923  0.070782       4        1   7.220174\n",
              "1      0.008788  0.284589       5        1   6.383675\n",
              "3     -0.030402  0.250295       6        1   6.229184\n",
              "2      0.191488 -0.108108       7        1   5.210813\n",
              "7      0.053710  0.041107       8        1   4.539335\n",
              "8      0.202754 -0.113989       9        1   3.715535\n",
              "6      0.203389 -0.111425      10        1   1.903252, topic_info=                 Term          Freq         Total Category  logprob  loglift\n",
              "44               help  17307.000000  17307.000000  Default  30.0000  30.0000\n",
              "707            delete  22091.000000  22091.000000  Default  29.0000  29.0000\n",
              "1461              man  14856.000000  14856.000000  Default  28.0000  28.0000\n",
              "790            remove  16359.000000  16359.000000  Default  27.0000  27.0000\n",
              "764             first  16145.000000  16145.000000  Default  26.0000  26.0000\n",
              "...               ...           ...           ...      ...      ...      ...\n",
              "9795    advertisement     64.759426     66.006435  Topic10  -6.1839   3.9425\n",
              "10140              bl     60.670428     61.917363  Topic10  -6.2492   3.9413\n",
              "39634  correct_answer     57.383540     58.711048  Topic10  -6.3049   3.9387\n",
              "11922     instruction    321.517984    329.035118  Topic10  -4.5816   3.9385\n",
              "22408          treaty     50.964938     52.211993  Topic10  -6.4235   3.9374\n",
              "\n",
              "[363 rows x 6 columns], token_table=       Topic      Freq       Term\n",
              "term                             \n",
              "3512       8  0.997739     accept\n",
              "2830       6  0.999353     action\n",
              "2585       2  0.999522   actually\n",
              "653        1  0.999434        add\n",
              "8107      10  0.998320  advantage\n",
              "...      ...       ...        ...\n",
              "2639       4  0.997700      worry\n",
              "1847       1  0.687557       year\n",
              "1847       2  0.312184       year\n",
              "2580       8  0.998697      young\n",
              "19363     10  0.988302        zen\n",
              "\n",
              "[380 rows x 3 columns], R=30, lambda_step=0.01, plot_opts={'xlab': 'PC1', 'ylab': 'PC2'}, topic_order=[10, 1, 6, 5, 2, 4, 3, 8, 9, 7])"
            ],
            "text/html": [
              "\n",
              "<link rel=\"stylesheet\" type=\"text/css\" href=\"https://cdn.jsdelivr.net/gh/bmabey/pyLDAvis@3.4.0/pyLDAvis/js/ldavis.v1.0.0.css\">\n",
              "\n",
              "\n",
              "<div id=\"ldavis_el1451396660375254089554001179\" style=\"background-color:white;\"></div>\n",
              "<script type=\"text/javascript\">\n",
              "\n",
              "var ldavis_el1451396660375254089554001179_data = {\"mdsDat\": {\"x\": [-0.3149583499941179, -0.28796187222413727, 0.05711713657000251, -0.08392303025250605, 0.008787736483711471, -0.030401547323710157, 0.19148782935022174, 0.053709530727081976, 0.2027539832239892, 0.2033885834394641], \"y\": [-0.11537887827590157, -0.14570326864723365, -0.052168307214966465, 0.07078241929062958, 0.28458898216884293, 0.25029540257642474, -0.10810826424416567, 0.041106844915045494, -0.1139894865465913, -0.11142544402208426], \"topics\": [1, 2, 3, 4, 5, 6, 7, 8, 9, 10], \"cluster\": [1, 1, 1, 1, 1, 1, 1, 1, 1, 1], \"Freq\": [27.110443637248704, 26.808861243963577, 10.8787276074236, 7.220174230150963, 6.38367520354933, 6.229183955912652, 5.210812566432354, 4.539334988401631, 3.715535050647011, 1.9032515162701718]}, \"tinfo\": {\"Term\": [\"help\", \"delete\", \"man\", \"remove\", \"first\", \"comment\", \"reason\", \"post\", \"title\", \"game\", \"original\", \"keep\", \"way\", \"work\", \"still\", \"play\", \"leave\", \"result\", \"subreddit\", \"find\", \"bot\", \"top\", \"thing\", \"sure\", \"automatically\", \"question\", \"pretty\", \"bad\", \"look\", \"start\", \"look\", \"feel\", \"mean\", \"point\", \"link\", \"let\", \"little\", \"change\", \"ask\", \"big\", \"problem\", \"already\", \"least\", \"add\", \"idea\", \"sound\", \"week\", \"ill\", \"free\", \"true\", \"less\", \"move\", \"image\", \"far\", \"kill\", \"check\", \"believe\", \"case\", \"stuff\", \"understand\", \"well\", \"thing\", \"people\", \"year\", \"new\", \"post\", \"really\", \"much\", \"day\", \"never\", \"actually\", \"tell\", \"love\", \"call\", \"put\", \"last\", \"buy\", \"fuck\", \"shit\", \"money\", \"live\", \"job\", \"pay\", \"high\", \"issue\", \"watch\", \"story\", \"real\", \"build\", \"low\", \"consider\", \"hear\", \"second\", \"side\", \"care\", \"away\", \"one\", \"level\", \"time\", \"talk\", \"give\", \"friend\", \"stop\", \"back\", \"people\", \"maybe\", \"always\", \"well\", \"year\", \"delete\", \"remove\", \"first\", \"comment\", \"keep\", \"leave\", \"bot\", \"top\", \"thread\", \"user\", \"reply\", \"automatically\", \"fall\", \"fix\", \"content\", \"suppose\", \"test\", \"reference\", \"boy\", \"bottom\", \"reality\", \"smile\", \"shut\", \"display\", \"th\", \"giveaway\", \"bright\", \"authority\", \"island\", \"unknown\", \"post\", \"moderator\", \"rule\", \"sure\", \"pretty\", \"great\", \"long\", \"hour\", \"video\", \"lol\", \"definitely\", \"mind\", \"experience\", \"matter\", \"price\", \"minute\", \"situation\", \"depend\", \"later\", \"view\", \"favorite\", \"tag\", \"quality\", \"funny\", \"currently\", \"detail\", \"worry\", \"company\", \"glad\", \"return\", \"online\", \"improve\", \"tv\", \"work\", \"early\", \"thing\", \"game\", \"still\", \"play\", \"find\", \"show\", \"version\", \"enough\", \"player\", \"bit\", \"agree\", \"contact\", \"win\", \"support\", \"small\", \"list\", \"op\", \"completely\", \"family\", \"human\", \"information\", \"speak\", \"main\", \"shoot\", \"simply\", \"skill\", \"choose\", \"business\", \"increase\", \"catch\", \"claim\", \"bad\", \"start\", \"guy\", \"happen\", \"team\", \"life\", \"action\", \"card\", \"season\", \"vote\", \"fight\", \"deal\", \"fucking\", \"often\", \"decide\", \"release\", \"wonder\", \"enjoy\", \"rest\", \"share\", \"choice\", \"death\", \"gun\", \"pc\", \"damn\", \"focus\", \"bear\", \"kinda\", \"laugh\", \"waste\", \"end\", \"perform\", \"ever\", \"man\", \"reason\", \"original\", \"title\", \"copy\", \"grind\", \"deny\", \"iron\", \"extend\", \"conspiracy\", \"bind\", \"genuinely\", \"duration\", \"resubmit\", \"firearm\", \"drone\", \"censor\", \"subreddit\", \"bait\", \"matrix\", \"transport\", \"bing\", \"makeup\", \"wisdom\", \"ironic\", \"lbs\", \"automoderator\", \"hi_ive_mirrore\", \"oscar\", \"satire\", \"ple\", \"subscriber\", \"school_work\", \"size_hi\", \"way\", \"question\", \"different\", \"hard\", \"guess\", \"allow\", \"sell\", \"car\", \"basically\", \"plan\", \"huge\", \"position\", \"market\", \"young\", \"accept\", \"available\", \"recommend\", \"model\", \"appreciate\", \"relate\", \"statement\", \"website\", \"dumb\", \"political\", \"imo\", \"president\", \"program\", \"manager\", \"particular\", \"court\", \"help\", \"result\", \"verify\", \"stat\", \"manage\", \"blood\", \"bug\", \"loan\", \"transaction\", \"confused\", \"everyday\", \"repost\", \"ultra\", \"river\", \"tolerate\", \"kitty\", \"torch\", \"vein\", \"subreddits\", \"km\", \"frequently_aske\", \"discord_remove\", \"imagesofnetwork\", \"http\", \"calf\", \"permanent_ban\", \"meow\", \"potcoins___help\", \"concentration\", \"decide_luck\", \"submitter\", \"switch\", \"community\", \"pm\", \"total\", \"amp\", \"advantage\", \"peace\", \"seal\", \"equivalent\", \"plea\", \"approval\", \"minimal\", \"lonely\", \"advertise\", \"alpha\", \"flaw\", \"ti\", \"constructive\", \"advertising\", \"calendar\", \"ceremony\", \"journey\", \"radar\", \"zen\", \"pmd\", \"advertisement\", \"bl\", \"correct_answer\", \"instruction\", \"treaty\"], \"Freq\": [17307.0, 22091.0, 14856.0, 16359.0, 16145.0, 15319.0, 11374.0, 15588.0, 9256.0, 9673.0, 8580.0, 11333.0, 7495.0, 8212.0, 7336.0, 7192.0, 8039.0, 5312.0, 5303.0, 5629.0, 6581.0, 6443.0, 9170.0, 5013.0, 5735.0, 4093.0, 4547.0, 4129.0, 8560.0, 3952.0, 8559.39769549671, 5916.473565219658, 5405.180565293175, 5026.68957320757, 3457.1244417597727, 3354.4832545496142, 3189.2781833321333, 3166.827011841796, 3101.7836426837985, 3019.735054551387, 2884.6476879173974, 2612.6593728948046, 2601.0022100971996, 2548.0617445149023, 2509.325412867849, 2428.6815330566874, 2412.0229087807547, 2409.8783540839004, 2397.5890308837165, 2355.2438652547585, 2343.6071148853093, 2340.7527075848343, 2280.7083004241663, 2271.60456575678, 2260.3981426992677, 2250.984888968214, 2205.051718365673, 2157.928169937518, 2134.4059708392524, 2119.9843820571245, 6494.059466513387, 6065.484707336875, 6611.585479650759, 4025.705337885563, 2501.2206374395964, 3038.096658547743, 7047.6684112931, 5531.379489682405, 4081.64457017599, 3611.7731505413562, 3415.2258682314277, 2748.3402254513544, 2591.4151490364243, 2556.627129912246, 2540.2508330401706, 2475.715366528308, 2190.531096760032, 2178.144291305256, 2140.485420233413, 2126.960613845157, 2069.944398388069, 2000.3763930874782, 1958.7280305983354, 1917.4500075984956, 1827.1419610318542, 1781.585878414207, 1693.0389011654397, 1603.839298403961, 1486.0888485123642, 1362.5997843207322, 1284.6047018813276, 1671.789591608343, 1284.4904898419402, 1257.8180136643784, 1253.9596240740764, 1248.19351237592, 1825.7228069265727, 1693.974739580149, 8783.4730785792, 2317.379580901902, 4215.387383231064, 1853.711244726579, 1639.7641856100115, 2773.3861326928627, 5263.647107894735, 2203.152917430211, 2136.0011816229517, 2935.668773321504, 1828.4811976055173, 22089.853062896706, 16358.048940731898, 16144.3852500006, 15317.734964378084, 11332.55782850641, 8037.830605789544, 6580.097999922618, 6442.290188377607, 4795.431743501246, 4110.513252878468, 3752.528078484204, 5733.2724816547225, 3029.2166008979552, 2923.329226288001, 2594.587206771588, 2584.2577056376604, 2487.777259754433, 1630.3933942526894, 1609.5777602860576, 1089.4567957282388, 1080.395560014393, 741.891808376746, 600.6440755346736, 599.4539588010144, 565.0455518673028, 559.1016129268902, 395.5162691070498, 324.3066427591461, 318.043610612755, 314.74036593545145, 12538.03416409763, 3135.401525586695, 570.2640871184516, 5012.156325318444, 4545.695343030165, 4123.974237984663, 4055.3158450075794, 2194.6970045283333, 2110.882126628643, 2086.126860028482, 1840.605938737346, 1560.9136963862168, 1525.1626225313519, 1368.6469418762272, 1291.1896841856333, 1260.667693042187, 1200.8420031522664, 985.307428191483, 943.0073531617834, 936.7113076981857, 855.6257997336479, 840.3291906604743, 818.38073394566, 767.697063161731, 725.9477215314091, 709.7665995600605, 696.2219306781795, 1334.335496665667, 668.0589734329953, 654.6405050430145, 637.8429144710125, 637.5996110171777, 634.4227424586588, 8017.65049594774, 1069.5451193435965, 3103.9023741576275, 9671.745714975063, 7335.332996926329, 7191.488028207989, 5628.262027749514, 3757.658278908118, 3342.2418189270766, 3265.6513415267236, 3128.328889604224, 2804.517820338109, 2457.410730996834, 2431.499190907173, 2177.8887023723187, 2038.1457369530503, 1912.9754869701158, 1558.7718475624918, 1426.6180492780109, 1343.0867916051513, 1260.6774099601143, 1144.4818739243299, 1136.6781800016743, 1122.1043855554335, 1026.8172168542972, 1020.8352840218504, 1007.0295484457547, 1003.0997943645602, 961.6661082122391, 936.0188274579768, 926.205036170441, 864.0248341695177, 884.2712779721429, 4128.366623932304, 3951.4987220618664, 3629.725419356916, 3206.144653421323, 3005.763268753966, 2340.5549388665254, 1963.8807254178885, 1643.4547477467231, 1444.7634538808395, 1420.871406824995, 1297.6727178767928, 1340.0289375432667, 1240.3171218182856, 1131.3488117257837, 1008.7695132502745, 987.7008568254017, 926.3064443559423, 887.4848949684978, 885.7552726780391, 884.7688998112335, 782.3947866658418, 753.917469759298, 742.8935923933169, 722.1083566437097, 713.6657515034036, 651.3836513127646, 577.5390213245145, 557.5470475966104, 507.07356790135617, 495.43857966025433, 3156.570251876278, 714.6458069894029, 614.2846889507899, 14854.939479095246, 11373.624108904669, 8579.012788961334, 9254.247035549835, 1428.223077501803, 1073.7800577856028, 979.5551659339758, 816.4776627775659, 747.5732464704989, 687.3944900226614, 665.6513620701459, 490.58564491915484, 342.084924410874, 934.3438114598367, 323.72957937821167, 318.1042527352802, 269.8737755913142, 5279.428405949017, 326.2435432236014, 236.61011991677063, 223.88964982151018, 222.07225107252117, 223.25533880436132, 236.11751199512784, 205.11137739771175, 188.75158587459842, 167.59839038820232, 355.23891109596, 161.27270535368746, 152.57891317747053, 182.4321162393143, 182.292635073968, 193.80519587524287, 706.5199840730525, 7493.638007652026, 4091.7007869889358, 2864.948639223631, 2862.5614603331774, 1861.4394291748476, 1720.3584401785492, 1497.100436115594, 1426.7351576463373, 1160.8605976643253, 1133.9670297774305, 1013.6236808694939, 801.5613672386604, 740.470820031262, 739.581417330462, 696.1934086727302, 638.0064812307539, 609.6622892384138, 589.5060985198164, 543.5576828634483, 519.5094572769519, 513.6968119968088, 570.2345325171547, 472.0975483442266, 434.78738056450794, 438.88113707076576, 414.0378129518862, 409.55962048096217, 392.89083557628067, 385.2904915650459, 377.5578636370934, 17306.836049962905, 5311.255553882264, 2639.9198772796053, 2465.3756565880567, 2167.4375735892677, 1541.686321610302, 1501.9525200574235, 802.2155694019149, 707.3582462630716, 700.7964265867804, 611.6191207985024, 506.470716337911, 472.99034629282835, 354.34377200009754, 458.24697680228303, 169.2403609727764, 162.84570977882422, 144.4388070291924, 180.46362924650165, 128.5078447786974, 414.3612251275142, 212.8557341843496, 212.8557341843496, 41.266789489740795, 38.50819908762941, 192.96718086456087, 33.537727161397484, 28.334106800156523, 17.151092702687784, 16.36134936936002, 17.892751189623844, 2477.4272528015804, 2251.7724847899135, 2111.0226081888077, 1626.1297153600808, 1505.8067252650271, 917.2963636798038, 542.6663222858465, 475.0074079318635, 448.61196594895415, 446.76163625071433, 351.14174230335755, 318.81099690806013, 263.4754672698924, 241.97967458062558, 230.97471813602053, 223.15033481833748, 211.57854326947466, 184.40815563634231, 161.15580874990889, 158.17736547661798, 154.48707358836543, 152.2339318321081, 129.03985648345372, 117.1378327455236, 92.15676600876485, 64.75942645540673, 60.67042783767661, 57.3835402275871, 321.51798401389044, 50.9649376525842], \"Total\": [17307.0, 22091.0, 14856.0, 16359.0, 16145.0, 15319.0, 11374.0, 15588.0, 9256.0, 9673.0, 8580.0, 11333.0, 7495.0, 8212.0, 7336.0, 7192.0, 8039.0, 5312.0, 5303.0, 5629.0, 6581.0, 6443.0, 9170.0, 5013.0, 5735.0, 4093.0, 4547.0, 4129.0, 8560.0, 3952.0, 8560.77983429087, 5917.855698556413, 5406.562709910115, 5028.072197538189, 3458.5064946844377, 3355.8654324431996, 3190.660351588509, 3168.211662236241, 3103.165831493611, 3021.117176214686, 2886.0298603120964, 2614.041526834895, 2602.3843817383704, 2549.443853886872, 2510.7076025825704, 2430.063676929897, 2413.4050746610505, 2411.260525930394, 2398.9711520568376, 2356.6260081499277, 2344.9892596952427, 2342.1348481971904, 2282.090312810651, 2272.986741591208, 2261.780270975967, 2252.367074399729, 2206.433819106811, 2159.3103118712365, 2135.788269685197, 2121.3665489526998, 9431.05687323971, 9170.695495590995, 11876.560019566501, 5855.513743292892, 3982.6753312026217, 15588.000496320832, 7049.069827868866, 5532.780912656439, 4083.048564990699, 3613.1746774547723, 3416.634349936291, 2749.7417003087444, 2592.817411310864, 2558.0285316457, 2541.6522600924263, 2477.1167419285184, 2191.9324948978538, 2179.545678887101, 2141.886797103049, 2128.3620134089706, 2071.3663053759287, 2001.7777946251094, 1960.129458577104, 1918.8513859777293, 1828.5434483887382, 1782.987264121722, 1694.4402720890546, 1605.242624069389, 1487.4903463853536, 1364.0011721210838, 1286.0061527977898, 1673.6134500386888, 1285.8919301196051, 1259.2193932481878, 1255.3610958721415, 1249.5949209570654, 1829.323437253232, 1696.9443675068228, 8979.03981495747, 2336.785228862185, 4544.281680446947, 1909.57939930154, 1695.3057080312074, 3426.3422661251375, 11876.560019566501, 2998.5946977847398, 3204.0884279024067, 9431.05687323971, 5855.513743292892, 22091.08604705264, 16359.2819099312, 16145.61843154395, 15319.058005189014, 11333.791007444866, 8039.06374953111, 6581.33123901105, 6443.523310044704, 4796.664780027956, 4111.746335735867, 3753.7610337764586, 5735.30611403894, 3030.4497884327425, 2924.5623751755975, 2595.820320398286, 2585.490872010604, 2489.010455193326, 1631.6265517646152, 1610.8108542461443, 1090.689897086991, 1081.62882796137, 743.1248833025683, 601.8772440050232, 600.6870748567665, 566.2786291151102, 560.3355740793254, 396.7493549930618, 325.53979998059526, 319.276724490844, 315.9735252176016, 15588.000496320832, 3827.993125068239, 2483.4791964787883, 5013.538972997806, 4547.077928115769, 4125.356822707157, 4056.7044320782375, 2196.082394085121, 2112.2650302687093, 2087.509415266395, 1841.988510504266, 1562.2963604058173, 1526.5452587447264, 1370.029576280147, 1292.5724390539372, 1262.0502987367133, 1202.2247363954173, 986.6900085161573, 944.3900524297713, 938.0939319192375, 857.0084009586321, 841.7120223355273, 819.7633765615323, 769.0798822907327, 727.3303672403683, 711.1493074913972, 697.6045284130499, 1337.0732943016924, 669.4416383188558, 656.0231308145869, 639.2254997708168, 638.9823385313374, 635.8053321603923, 8212.092386894046, 1078.3465947167351, 9170.695495590995, 9673.123752341246, 7336.711128326315, 7192.913042587895, 5629.640155096145, 3759.036404454549, 3343.6197837844693, 3267.029506566289, 3129.7069639187116, 2805.895935523965, 2458.7888807202535, 2432.8777736763604, 2179.266795718112, 2039.5238944036403, 1914.3537981491104, 1560.1500022599666, 1427.9961602907379, 1344.4649504289061, 1262.0555449426245, 1145.8599590965455, 1138.0641711628994, 1123.4825405830718, 1028.1953719694436, 1022.2134194841825, 1008.4077538582728, 1004.4778951399353, 963.0442872548514, 937.3969404960609, 927.583212931981, 865.4029289088593, 885.6844271377697, 4129.757263143085, 3952.8893823926855, 3631.116005487365, 3207.535269011938, 3007.179307671066, 2341.9455853842646, 1965.271892939445, 1644.8540740481596, 1446.1540516575799, 1422.2620437173782, 1299.0633440845513, 1341.496128197789, 1241.723741044915, 1132.7395349789897, 1010.1601886373184, 989.0934157787395, 927.6970869497233, 888.8755046630075, 887.1459369415845, 886.1596390804237, 783.7855538836968, 755.308155780464, 744.2841683314416, 723.4990342328057, 715.1301852025254, 652.774306492704, 578.9297075982456, 558.9376963320719, 508.4641435379161, 496.8292377258422, 3175.0030736366257, 1655.3580239875043, 2088.8136091722295, 14856.09623189554, 11374.780918457267, 8580.169502176033, 9256.234488870883, 1429.379852292142, 1074.9405431094524, 980.7120189354082, 817.6344521479684, 748.7301659010581, 688.5512526286643, 666.8082207614576, 491.7436733288145, 343.2417096985027, 937.6637133425538, 324.88653666883545, 319.2614110542594, 271.0309194965082, 5303.202317748562, 327.74702713921977, 237.77250540889915, 225.04666330083504, 223.2297433893691, 224.44186688912268, 237.39990629581098, 206.27162023161893, 189.91440920361427, 168.75543157865545, 357.74372605170925, 162.4298947438051, 153.73572975291324, 184.6293116710749, 187.5588838899279, 205.2699087763189, 1362.3221270037948, 7495.021891691504, 4093.085622526676, 2866.3325159956557, 2863.9453213479183, 1862.8232622643739, 1721.7434022883826, 1498.48425367622, 1428.1943525524507, 1162.2444763382377, 1135.350896793735, 1015.0075763510208, 802.9452604546071, 741.8546683200176, 740.9653259501846, 697.5773494123545, 639.3903256565067, 611.0468578180087, 590.8899354113979, 544.9415514476085, 520.893337416543, 515.0811836120246, 571.7856286089273, 473.48142700167097, 436.171243749961, 440.2840689421349, 415.4216512882213, 410.94343635775294, 394.27469081963625, 386.6743868601665, 378.9416491511386, 17307.987395618304, 5312.407376578281, 2641.071154229173, 2466.5269364608434, 2168.5899856770093, 1542.8375500858544, 1503.1037388032562, 803.3766080683586, 708.5096059591992, 701.9477425631447, 612.770408763804, 507.6225411837488, 474.14176462283814, 355.4950374134844, 459.8232559397157, 170.39155542036283, 164.01768370613482, 145.5902213534836, 181.92382970763913, 129.65904973789222, 422.9402867297841, 217.58611206607077, 217.58611206607077, 42.417995705941244, 39.66663788578134, 199.14527284462966, 34.688971403797304, 29.488222664314087, 18.34779088518971, 17.51260237389421, 58.35414790257664, 2478.674207460185, 2253.019469736881, 2112.269539526823, 1627.3768118791763, 1507.0538027802077, 918.5433721127515, 543.9132747366364, 476.2543879179544, 449.85895030892254, 448.00860175251125, 352.38873541127936, 320.0580312705222, 264.72249922443206, 243.2266248722783, 232.2216501734446, 224.39821692217384, 212.82547231479356, 185.68062931386888, 162.40276656143442, 159.4243931089403, 155.74429724458784, 153.48088631370527, 130.28681029269706, 118.38489645024764, 93.45746777288602, 66.0064352828741, 61.91736274136986, 58.71104783219012, 329.035117929447, 52.21199291861407], \"Category\": [\"Default\", \"Default\", \"Default\", \"Default\", \"Default\", \"Default\", \"Default\", \"Default\", \"Default\", \"Default\", \"Default\", \"Default\", \"Default\", \"Default\", \"Default\", \"Default\", \"Default\", \"Default\", \"Default\", \"Default\", \"Default\", \"Default\", \"Default\", \"Default\", \"Default\", \"Default\", \"Default\", \"Default\", \"Default\", \"Default\", \"Topic1\", \"Topic1\", \"Topic1\", \"Topic1\", \"Topic1\", \"Topic1\", \"Topic1\", \"Topic1\", \"Topic1\", \"Topic1\", \"Topic1\", \"Topic1\", \"Topic1\", \"Topic1\", \"Topic1\", \"Topic1\", \"Topic1\", \"Topic1\", \"Topic1\", \"Topic1\", \"Topic1\", \"Topic1\", \"Topic1\", \"Topic1\", \"Topic1\", \"Topic1\", \"Topic1\", \"Topic1\", \"Topic1\", \"Topic1\", \"Topic1\", \"Topic1\", \"Topic1\", \"Topic1\", \"Topic1\", \"Topic1\", \"Topic2\", \"Topic2\", \"Topic2\", \"Topic2\", \"Topic2\", \"Topic2\", \"Topic2\", \"Topic2\", \"Topic2\", \"Topic2\", \"Topic2\", \"Topic2\", \"Topic2\", \"Topic2\", \"Topic2\", \"Topic2\", \"Topic2\", \"Topic2\", \"Topic2\", \"Topic2\", \"Topic2\", \"Topic2\", \"Topic2\", \"Topic2\", \"Topic2\", \"Topic2\", \"Topic2\", \"Topic2\", \"Topic2\", \"Topic2\", \"Topic2\", \"Topic2\", \"Topic2\", \"Topic2\", \"Topic2\", \"Topic2\", \"Topic2\", \"Topic2\", \"Topic2\", \"Topic2\", \"Topic2\", \"Topic2\", \"Topic2\", \"Topic3\", \"Topic3\", \"Topic3\", \"Topic3\", \"Topic3\", \"Topic3\", \"Topic3\", \"Topic3\", \"Topic3\", \"Topic3\", \"Topic3\", \"Topic3\", \"Topic3\", \"Topic3\", \"Topic3\", \"Topic3\", \"Topic3\", \"Topic3\", \"Topic3\", \"Topic3\", \"Topic3\", \"Topic3\", \"Topic3\", \"Topic3\", \"Topic3\", \"Topic3\", \"Topic3\", \"Topic3\", \"Topic3\", \"Topic3\", \"Topic3\", \"Topic3\", \"Topic3\", \"Topic4\", \"Topic4\", \"Topic4\", \"Topic4\", \"Topic4\", \"Topic4\", \"Topic4\", \"Topic4\", \"Topic4\", \"Topic4\", \"Topic4\", \"Topic4\", \"Topic4\", \"Topic4\", \"Topic4\", \"Topic4\", \"Topic4\", \"Topic4\", \"Topic4\", \"Topic4\", \"Topic4\", \"Topic4\", \"Topic4\", \"Topic4\", \"Topic4\", \"Topic4\", \"Topic4\", \"Topic4\", \"Topic4\", \"Topic4\", \"Topic4\", \"Topic4\", \"Topic4\", \"Topic5\", \"Topic5\", \"Topic5\", \"Topic5\", \"Topic5\", \"Topic5\", \"Topic5\", \"Topic5\", \"Topic5\", \"Topic5\", \"Topic5\", \"Topic5\", \"Topic5\", \"Topic5\", \"Topic5\", \"Topic5\", \"Topic5\", \"Topic5\", \"Topic5\", \"Topic5\", \"Topic5\", \"Topic5\", \"Topic5\", \"Topic5\", \"Topic5\", \"Topic5\", \"Topic5\", \"Topic5\", \"Topic5\", \"Topic5\", \"Topic6\", \"Topic6\", \"Topic6\", \"Topic6\", \"Topic6\", \"Topic6\", \"Topic6\", \"Topic6\", \"Topic6\", \"Topic6\", \"Topic6\", \"Topic6\", \"Topic6\", \"Topic6\", \"Topic6\", \"Topic6\", \"Topic6\", \"Topic6\", \"Topic6\", \"Topic6\", \"Topic6\", \"Topic6\", \"Topic6\", \"Topic6\", \"Topic6\", \"Topic6\", \"Topic6\", \"Topic6\", \"Topic6\", \"Topic6\", \"Topic6\", \"Topic6\", \"Topic6\", \"Topic7\", \"Topic7\", \"Topic7\", \"Topic7\", \"Topic7\", \"Topic7\", \"Topic7\", \"Topic7\", \"Topic7\", \"Topic7\", \"Topic7\", \"Topic7\", \"Topic7\", \"Topic7\", \"Topic7\", \"Topic7\", \"Topic7\", \"Topic7\", \"Topic7\", \"Topic7\", \"Topic7\", \"Topic7\", \"Topic7\", \"Topic7\", \"Topic7\", \"Topic7\", \"Topic7\", \"Topic7\", \"Topic7\", \"Topic7\", \"Topic7\", \"Topic7\", \"Topic7\", \"Topic7\", \"Topic8\", \"Topic8\", \"Topic8\", \"Topic8\", \"Topic8\", \"Topic8\", \"Topic8\", \"Topic8\", \"Topic8\", \"Topic8\", \"Topic8\", \"Topic8\", \"Topic8\", \"Topic8\", \"Topic8\", \"Topic8\", \"Topic8\", \"Topic8\", \"Topic8\", \"Topic8\", \"Topic8\", \"Topic8\", \"Topic8\", \"Topic8\", \"Topic8\", \"Topic8\", \"Topic8\", \"Topic8\", \"Topic8\", \"Topic8\", \"Topic9\", \"Topic9\", \"Topic9\", \"Topic9\", \"Topic9\", \"Topic9\", \"Topic9\", \"Topic9\", \"Topic9\", \"Topic9\", \"Topic9\", \"Topic9\", \"Topic9\", \"Topic9\", \"Topic9\", \"Topic9\", \"Topic9\", \"Topic9\", \"Topic9\", \"Topic9\", \"Topic9\", \"Topic9\", \"Topic9\", \"Topic9\", \"Topic9\", \"Topic9\", \"Topic9\", \"Topic9\", \"Topic9\", \"Topic9\", \"Topic9\", \"Topic10\", \"Topic10\", \"Topic10\", \"Topic10\", \"Topic10\", \"Topic10\", \"Topic10\", \"Topic10\", \"Topic10\", \"Topic10\", \"Topic10\", \"Topic10\", \"Topic10\", \"Topic10\", \"Topic10\", \"Topic10\", \"Topic10\", \"Topic10\", \"Topic10\", \"Topic10\", \"Topic10\", \"Topic10\", \"Topic10\", \"Topic10\", \"Topic10\", \"Topic10\", \"Topic10\", \"Topic10\", \"Topic10\", \"Topic10\"], \"logprob\": [30.0, 29.0, 28.0, 27.0, 26.0, 25.0, 24.0, 23.0, 22.0, 21.0, 20.0, 19.0, 18.0, 17.0, 16.0, 15.0, 14.0, 13.0, 12.0, 11.0, 10.0, 9.0, 8.0, 7.0, 6.0, 5.0, 4.0, 3.0, 2.0, 1.0, -3.9562, -4.3255, -4.4159, -4.4885, -4.8628, -4.8929, -4.9434, -4.9505, -4.9713, -4.9981, -5.0438, -5.1429, -5.1473, -5.1679, -5.1832, -5.2159, -5.2228, -5.2237, -5.2288, -5.2466, -5.2515, -5.2528, -5.2787, -5.2827, -5.2877, -5.2919, -5.3125, -5.3341, -5.345, -5.3518, -4.2323, -4.3006, -4.2144, -4.7105, -5.1864, -4.992, -4.1393, -4.3816, -4.6855, -4.8078, -4.8638, -5.081, -5.1398, -5.1534, -5.1598, -5.1855, -5.3079, -5.3136, -5.331, -5.3373, -5.3645, -5.3987, -5.4197, -5.441, -5.4893, -5.5145, -5.5655, -5.6196, -5.6959, -5.7826, -5.8416, -5.5781, -5.8417, -5.8627, -5.8657, -5.8703, -5.4901, -5.565, -3.9192, -5.2516, -4.6533, -5.4749, -5.5975, -5.072, -4.4312, -5.3022, -5.3331, -5.0151, -5.4886, -2.095, -2.3954, -2.4085, -2.4611, -2.7624, -3.106, -3.3061, -3.3272, -3.6225, -3.7766, -3.8677, -3.4438, -4.0818, -4.1174, -4.2367, -4.2407, -4.2787, -4.7013, -4.7141, -5.1044, -5.1128, -5.4887, -5.6999, -5.7019, -5.761, -5.7715, -6.1177, -6.3162, -6.3357, -6.3461, -2.6614, -4.0474, -5.7518, -3.1683, -3.266, -3.3634, -3.3802, -3.9941, -4.0331, -4.0449, -4.1701, -4.3349, -4.3581, -4.4664, -4.5246, -4.5485, -4.5972, -4.795, -4.8389, -4.8456, -4.9361, -4.9542, -4.9806, -5.0445, -5.1005, -5.123, -5.1423, -4.4918, -5.1836, -5.2039, -5.2299, -5.2302, -5.2352, -2.6985, -4.713, -3.6475, -2.3878, -2.6644, -2.6842, -2.9293, -3.3333, -3.4504, -3.4736, -3.5166, -3.6258, -3.7579, -3.7685, -3.8787, -3.945, -4.0084, -4.2132, -4.3017, -4.3621, -4.4254, -4.5221, -4.5289, -4.5418, -4.6306, -4.6364, -4.65, -4.654, -4.6961, -4.7232, -4.7337, -4.8032, -4.78, -3.2147, -3.2585, -3.3434, -3.4675, -3.532, -3.7822, -3.9576, -4.1358, -4.2646, -4.2813, -4.372, -4.3399, -4.4172, -4.5091, -4.6238, -4.6449, -4.7091, -4.7519, -4.7539, -4.755, -4.878, -4.915, -4.9298, -4.9581, -4.9699, -5.0612, -5.1815, -5.2168, -5.3117, -5.3349, -3.4831, -4.9685, -5.1199, -1.7557, -2.0227, -2.3047, -2.229, -4.0976, -4.3829, -4.4747, -4.6568, -4.745, -4.8289, -4.861, -5.1662, -5.5267, -4.522, -5.5819, -5.5994, -5.7638, -2.7902, -5.5742, -5.8954, -5.9506, -5.9588, -5.9535, -5.8975, -6.0382, -6.1214, -6.2402, -5.489, -6.2787, -6.3341, -6.1554, -6.1562, -6.0949, -4.8014, -2.302, -2.9071, -3.2635, -3.2644, -3.6947, -3.7736, -3.9126, -3.9607, -4.1669, -4.1904, -4.3026, -4.5373, -4.6166, -4.6178, -4.6782, -4.7655, -4.8109, -4.8446, -4.9257, -4.971, -4.9822, -4.8778, -5.0667, -5.149, -5.1396, -5.1979, -5.2088, -5.2503, -5.2698, -5.2901, -1.2647, -2.446, -3.1451, -3.2135, -3.3423, -3.683, -3.7091, -4.3362, -4.4621, -4.4714, -4.6075, -4.7961, -4.8645, -5.1533, -4.8962, -5.8923, -5.9308, -6.0507, -5.8281, -6.1676, -4.9968, -5.663, -5.663, -7.3035, -7.3727, -5.7611, -7.5109, -7.6795, -8.1815, -8.2287, -8.1392, -2.5397, -2.6352, -2.6997, -2.9607, -3.0375, -3.5332, -4.0581, -4.1913, -4.2485, -4.2526, -4.4934, -4.59, -4.7807, -4.8658, -4.9123, -4.9468, -5.0, -5.1375, -5.2723, -5.2909, -5.3145, -5.3292, -5.4945, -5.5913, -5.8311, -6.1839, -6.2492, -6.3049, -4.5816, -6.4235], \"loglift\": [30.0, 29.0, 28.0, 27.0, 26.0, 25.0, 24.0, 23.0, 22.0, 21.0, 20.0, 19.0, 18.0, 17.0, 16.0, 15.0, 14.0, 13.0, 12.0, 11.0, 10.0, 9.0, 8.0, 7.0, 6.0, 5.0, 4.0, 3.0, 2.0, 1.0, 1.3051, 1.305, 1.305, 1.305, 1.3049, 1.3048, 1.3048, 1.3048, 1.3048, 1.3048, 1.3048, 1.3047, 1.3047, 1.3047, 1.3047, 1.3047, 1.3047, 1.3047, 1.3047, 1.3047, 1.3047, 1.3047, 1.3046, 1.3046, 1.3046, 1.3046, 1.3046, 1.3046, 1.3046, 1.3046, 0.9321, 0.8919, 0.7195, 0.9306, 0.8401, -0.33, 1.3162, 1.3162, 1.3161, 1.316, 1.316, 1.3159, 1.3159, 1.3159, 1.3159, 1.3159, 1.3158, 1.3158, 1.3158, 1.3158, 1.3158, 1.3157, 1.3157, 1.3157, 1.3157, 1.3157, 1.3156, 1.3156, 1.3155, 1.3154, 1.3153, 1.3153, 1.3153, 1.3153, 1.3153, 1.3153, 1.3145, 1.3147, 1.2944, 1.3081, 1.2413, 1.2867, 1.2831, 1.105, 0.5027, 1.0082, 0.9109, 0.1494, 0.1525, 2.2183, 2.2183, 2.2183, 2.2183, 2.2183, 2.2182, 2.2182, 2.2182, 2.2181, 2.2181, 2.218, 2.218, 2.218, 2.2179, 2.2179, 2.2179, 2.2179, 2.2176, 2.2176, 2.2172, 2.2172, 2.2167, 2.2163, 2.2163, 2.2162, 2.2162, 2.2152, 2.2146, 2.2145, 2.2145, 2.0006, 2.0188, 0.747, 2.628, 2.628, 2.628, 2.6279, 2.6277, 2.6276, 2.6276, 2.6275, 2.6274, 2.6274, 2.6273, 2.6272, 2.6272, 2.6271, 2.6269, 2.6268, 2.6268, 2.6267, 2.6266, 2.6266, 2.6265, 2.6264, 2.6263, 2.6263, 2.6262, 2.6262, 2.6262, 2.6261, 2.6261, 2.6261, 2.6043, 2.6201, 1.5449, 2.7513, 2.7512, 2.7512, 2.7512, 2.7511, 2.751, 2.751, 2.751, 2.7509, 2.7509, 2.7509, 2.7508, 2.7508, 2.7507, 2.7505, 2.7505, 2.7504, 2.7503, 2.7502, 2.7502, 2.7502, 2.7501, 2.7501, 2.7501, 2.7501, 2.75, 2.75, 2.7499, 2.7498, 2.7498, 2.7756, 2.7756, 2.7755, 2.7755, 2.7755, 2.7753, 2.7752, 2.7751, 2.775, 2.7749, 2.7749, 2.7748, 2.7748, 2.7747, 2.7745, 2.7745, 2.7744, 2.7744, 2.7744, 2.7744, 2.7741, 2.7741, 2.7741, 2.774, 2.7739, 2.7738, 2.7735, 2.7734, 2.7732, 2.7731, 2.7701, 1.9359, 1.552, 2.9544, 2.9543, 2.9543, 2.9542, 2.9536, 2.9534, 2.9533, 2.953, 2.9529, 2.9528, 2.9527, 2.9521, 2.9511, 2.9509, 2.9509, 2.9508, 2.9502, 2.9499, 2.9498, 2.9495, 2.9493, 2.9492, 2.9491, 2.949, 2.9488, 2.9483, 2.9476, 2.9474, 2.9473, 2.9469, 2.9425, 2.926, 2.897, 2.2978, 3.0922, 3.0921, 3.0919, 3.0919, 3.0916, 3.0916, 3.0915, 3.0914, 3.0912, 3.0912, 3.091, 3.0907, 3.0905, 3.0905, 3.0904, 3.0902, 3.0901, 3.09, 3.0898, 3.0897, 3.0897, 3.0897, 3.0895, 3.0892, 3.0892, 3.0891, 3.089, 3.0889, 3.0888, 3.0887, 3.2926, 3.2924, 3.2922, 3.2922, 3.2921, 3.2919, 3.2919, 3.2912, 3.291, 3.291, 3.2908, 3.2904, 3.2902, 3.2894, 3.2892, 3.2859, 3.2855, 3.2847, 3.2846, 3.2837, 3.2722, 3.2707, 3.2707, 3.2651, 3.263, 3.2611, 3.2589, 3.2527, 3.2252, 3.2246, 2.1105, 3.9611, 3.9611, 3.961, 3.9608, 3.9608, 3.9602, 3.9593, 3.959, 3.9588, 3.9588, 3.9581, 3.9577, 3.9569, 3.9565, 3.9562, 3.956, 3.9557, 3.9547, 3.9539, 3.9538, 3.9535, 3.9534, 3.952, 3.951, 3.9476, 3.9425, 3.9413, 3.9387, 3.9385, 3.9374]}, \"token.table\": {\"Topic\": [8, 6, 2, 1, 10, 10, 10, 10, 5, 8, 10, 1, 1, 2, 10, 8, 10, 1, 3, 1, 3, 7, 8, 2, 1, 2, 6, 7, 8, 6, 1, 1, 7, 7, 5, 10, 9, 3, 3, 3, 3, 9, 2, 5, 2, 10, 9, 2, 8, 6, 2, 1, 5, 7, 10, 1, 1, 6, 5, 5, 3, 10, 2, 4, 5, 9, 9, 2, 7, 10, 5, 3, 7, 10, 8, 4, 6, 2, 6, 6, 6, 9, 4, 3, 7, 4, 4, 8, 3, 9, 3, 7, 8, 7, 2, 4, 1, 2, 6, 6, 5, 10, 1, 2, 6, 9, 4, 7, 3, 5, 1, 4, 1, 6, 5, 7, 3, 3, 10, 6, 1, 3, 9, 1, 2, 4, 2, 6, 4, 5, 7, 2, 4, 3, 4, 4, 7, 8, 6, 6, 6, 8, 2, 9, 1, 7, 2, 4, 9, 8, 5, 1, 1, 1, 3, 9, 8, 4, 5, 5, 4, 5, 10, 7, 7, 3, 2, 2, 10, 3, 1, 6, 9, 9, 2, 4, 6, 7, 1, 3, 1, 1, 1, 2, 6, 1, 5, 1, 2, 9, 4, 10, 4, 1, 2, 2, 5, 7, 7, 9, 8, 8, 7, 4, 1, 2, 1, 9, 4, 10, 4, 8, 1, 3, 2, 1, 2, 2, 1, 2, 6, 1, 2, 4, 5, 7, 7, 8, 2, 6, 10, 1, 2, 1, 6, 3, 8, 9, 8, 5, 5, 3, 7, 10, 10, 10, 1, 8, 8, 1, 3, 7, 9, 8, 4, 4, 1, 8, 2, 4, 8, 10, 2, 3, 2, 7, 8, 3, 8, 6, 3, 3, 9, 6, 1, 3, 7, 9, 4, 9, 1, 3, 7, 1, 2, 3, 7, 10, 6, 2, 8, 6, 2, 5, 5, 3, 2, 5, 4, 3, 5, 7, 5, 5, 3, 1, 5, 6, 9, 8, 5, 1, 2, 2, 1, 3, 8, 9, 1, 3, 7, 9, 1, 3, 7, 5, 3, 4, 10, 4, 1, 2, 6, 2, 3, 3, 1, 4, 3, 10, 1, 2, 1, 7, 9, 3, 9, 10, 9, 7, 10, 1, 4, 9, 1, 3, 3, 9, 9, 5, 4, 4, 6, 6, 2, 8, 8, 1, 1, 2, 5, 7, 6, 2, 4, 4, 1, 2, 8, 10], \"Freq\": [0.9977388179050205, 0.9993528157889936, 0.9995216491526752, 0.9994336592725229, 0.9983197613094724, 0.9949568643115348, 0.9847524672623061, 0.9913624220132742, 0.9992724545265841, 0.9989874203751468, 0.9947392925141469, 0.9996015645412656, 0.33301203259815265, 0.6666482676941463, 0.9993007530465975, 0.9982721973666583, 0.996059081146114, 0.999624308993809, 0.9952700100550316, 0.00017435860965680453, 0.9995979091624604, 0.9955235125080798, 0.9978255447404852, 0.9987236496161142, 0.19029038822129965, 0.8093178627878281, 0.9995744875470605, 0.9946695866184694, 0.9989292473626904, 0.9983940924329093, 0.9993501644624939, 0.9996302108956642, 0.998787926218824, 0.9944911311069147, 0.9996806953840939, 0.9851840792185917, 0.9994571365690395, 0.9997977249643418, 0.9984506163562122, 0.9994966173439874, 0.9981112634875616, 0.999265693528156, 0.9989980799613422, 0.9985097663159412, 0.9995745786423513, 0.9910654004624815, 0.9831939906855504, 0.9995979201822905, 0.9991637324777849, 0.9988728033219405, 0.9989157734164161, 0.9993931803761447, 0.9983788720121064, 0.9961963029958968, 0.9888002496691836, 0.9996175564118132, 0.9993930499094632, 0.9977218846726004, 0.9989156394273122, 0.9980981633117191, 0.9999309353624318, 0.9995475095752279, 0.0007479021563453377, 0.9977014765646804, 0.9989103840688158, 0.9265420620049881, 0.9986498388616736, 0.9992176143204285, 0.997747077472095, 0.9909488172240736, 0.9992281676882094, 0.9996839841371762, 0.9990346496839666, 0.970856458956742, 0.9975150550137521, 0.9981708900105244, 0.9984196091482206, 0.9997431906640323, 0.9988847316318393, 0.998268050238234, 0.9988514805370785, 0.9136277783506908, 0.9994633459988328, 0.9999508377700251, 0.9992739775574677, 0.9982871940512514, 0.9983838731483106, 0.9995351146497415, 0.018383526237122094, 0.9789227721267515, 0.9971914247411288, 0.9960489711234002, 0.9968712035632482, 0.9963824044006966, 0.006491419395485541, 0.9922598218813612, 0.0018897619500971516, 0.0034645635751781112, 0.9943297460761179, 0.9978900254836941, 0.9996848799301568, 0.9980906230534422, 0.0009574813143775786, 0.704227506724709, 0.29394676351391663, 0.9987427448310401, 0.9989877412832181, 0.9990247943327095, 0.9995215929865341, 0.9991636303593338, 0.9995658832613703, 0.9988233476387114, 0.9996864238246185, 0.9991814532452221, 0.9997086572052638, 0.9972712422068166, 0.9998997603250187, 0.9994657747125316, 0.9937690372884791, 0.9972818990039035, 0.999595179768625, 0.01891519973624832, 0.9788615863508505, 0.02618377639509953, 0.9708944287302905, 0.0026183776395099527, 0.999290825192574, 0.998611815987778, 0.9985958775991952, 0.9998838273581506, 0.9984876809420236, 0.927539333253972, 0.07217862427219521, 0.9976164745893211, 0.9978465063474747, 0.9996711017336273, 0.9991250277836468, 0.9990212371182452, 0.9982746262972105, 0.9996926549618138, 0.9995213555321526, 0.9996699233952298, 0.9990359482121445, 0.9999429514480376, 0.0027952971000683806, 0.992330470524275, 0.9990351592670186, 0.9995071250113219, 0.9665708932649396, 0.9990073213496168, 0.9983768006886182, 0.9993198719831756, 0.9994772336224814, 0.9995222306476959, 0.018383526237122094, 0.9789227721267515, 0.9970835443916467, 0.9984626515130367, 0.9982931850103489, 0.9990649286834046, 0.012156757081648943, 0.006078378540824472, 0.9786189450727399, 0.998000998926018, 0.9938352147998302, 0.9960011977293991, 0.9991559137464859, 0.9991118921241494, 0.9903513307143769, 0.9999302080438622, 0.9992128895106159, 0.9983223598296815, 0.991833190225127, 0.99491705562223, 0.9995491767062827, 0.9985280950109597, 0.9971204586271738, 0.9951851509980273, 0.9994680333358573, 0.9998676774355506, 0.9995781389227466, 0.9994441277575777, 0.0011785890205336734, 0.9982649003920213, 0.9995962393873855, 0.9995644088895732, 0.999262889941159, 0.9994796213305241, 0.9993403844735802, 0.998286472303857, 0.9992769300797609, 0.9934931891717609, 0.9995798480991714, 0.9997920943739563, 0.9992990592770106, 0.9992660034745228, 0.9988374077514529, 0.9935757668161129, 0.9999262099626692, 0.9992668112978891, 0.996766998112442, 0.9974999573377119, 0.9967510734364738, 0.9992485006908081, 0.2647907036541418, 0.734677481297323, 0.9997109605503604, 0.980138603829519, 0.9991702211957528, 0.996694251769524, 0.9991677837739394, 0.9984939066346116, 0.18051234091170998, 0.818966988072664, 0.9993600649699677, 0.9995154641936761, 0.9996781161798103, 0.9996748904883835, 0.6279698423835091, 0.37160950288988137, 0.9984643115868451, 0.0010933003750299305, 0.9981832424023265, 0.9980828365400689, 0.9993024068842489, 0.9998636970778099, 0.9911968499021659, 0.9956697756120784, 0.9994237836831839, 0.9979280770783678, 0.9983209184642927, 0.5567268627537606, 0.44322598389833573, 0.5672488889974947, 0.4319307301738112, 0.005021459890640668, 0.02510729945320334, 0.9691417588936488, 0.9988101504146868, 0.9997340378541256, 0.9994545930534742, 0.005416258073807604, 0.985758969432984, 0.9977487000281561, 0.9993989689748084, 0.9844050153763222, 0.9997867577281976, 0.9973147157985673, 0.998822758535156, 0.19489350162113775, 0.8043366436227205, 0.0007056710065281485, 0.9495316255151892, 0.9965778112820726, 0.9997629404789603, 0.9987834809048783, 0.9996431567371292, 0.997704218453725, 0.9993499267707195, 0.9978489200518708, 0.9997347667195865, 0.9901232496995962, 0.9992258964154348, 0.9984940971253142, 0.9998482313418664, 0.9999313465056721, 0.998286779803194, 0.9990031102626664, 0.9982849897428644, 0.998894527290045, 0.999921640207788, 0.9997972609951431, 0.9968036463078154, 0.9987082881250235, 0.0021329608595713526, 0.0010664804297856763, 0.9960927214198216, 0.9997350774369288, 0.9984404043599553, 0.9957944914664294, 0.7698876651396708, 0.2295167202560734, 0.9952143216538164, 0.009743269298080047, 0.01461490394712007, 0.024358173245200117, 0.9450971219137645, 0.9973661388749862, 0.9992019856693295, 0.9985287020819633, 0.9990094966479769, 0.9986913880645398, 0.9991190957871345, 0.9988129489781158, 0.9997242898596777, 0.9985424868380373, 0.9990316276458844, 0.998603983504801, 0.9989812749993072, 0.20846758220437311, 0.2723291302740226, 0.5189668331637035, 0.9985286932175552, 0.9992928171634631, 0.9984862795906266, 0.9995622843384742, 0.9986804062105831, 0.9995220249771973, 0.9993809366367454, 0.9979009452365495, 0.9997667717460337, 0.031852662174252505, 0.9673771475143353, 0.9991500012642648, 0.9991627120953049, 0.41128181736229713, 0.2741878782415314, 0.30846136302172283, 0.003771306241337378, 0.0005656959362006067, 0.9954362824010009, 0.9894250813061114, 0.010663317879273231, 0.010663317879273231, 0.9703619270138639, 0.9992528185583793, 0.9994233698417799, 0.999693036594291, 0.9993245552581513, 0.9979660236635602, 0.007702890183350083, 0.9915331419345634, 0.9996078359318123, 0.9993665949392451, 0.9995940333672695, 0.9977420494975976, 0.6613456965086101, 0.3384694215931947, 0.9996529296700307, 0.9961213650517707, 0.021605873678923974, 0.9781669511442745, 0.00010803529245097857, 0.9997585963413557, 0.9960348766266952, 0.999763590512301, 0.9937952805871947, 0.9991539686020311, 0.9978693218179371, 0.9953491276631998, 0.9767870780090069, 0.9993100270707764, 0.9971605583201734, 0.9975919340837938, 0.9993558166770498, 0.9969189658629433, 0.9998184869213889, 0.9890774164727544, 0.99959442432005, 0.9995155598156451, 0.9994011024892324, 0.998833878056327, 0.9991126503565548, 0.9963181761721286, 0.9994462864981773, 0.9998636572772874, 0.9968771012778488, 0.9994178040496381, 0.6885760617589419, 0.31131187516542247, 0.9994187055386696, 0.9941031725005542, 0.9981706453824241, 0.023501927512166714, 0.976365050738615, 0.9976999455311737, 0.6875570917430635, 0.3121843923761351, 0.9986972049617211, 0.9883017471673031], \"Term\": [\"accept\", \"action\", \"actually\", \"add\", \"advantage\", \"advertise\", \"advertisement\", \"advertising\", \"agree\", \"allow\", \"alpha\", \"already\", \"always\", \"always\", \"amp\", \"appreciate\", \"approval\", \"ask\", \"authority\", \"automatically\", \"automatically\", \"automoderator\", \"available\", \"away\", \"back\", \"back\", \"bad\", \"bait\", \"basically\", \"bear\", \"believe\", \"big\", \"bind\", \"bing\", \"bit\", \"bl\", \"blood\", \"bot\", \"bottom\", \"boy\", \"bright\", \"bug\", \"build\", \"business\", \"buy\", \"calendar\", \"calf\", \"call\", \"car\", \"card\", \"care\", \"case\", \"catch\", \"censor\", \"ceremony\", \"change\", \"check\", \"choice\", \"choose\", \"claim\", \"comment\", \"community\", \"company\", \"company\", \"completely\", \"concentration\", \"confused\", \"consider\", \"conspiracy\", \"constructive\", \"contact\", \"content\", \"copy\", \"correct_answer\", \"court\", \"currently\", \"damn\", \"day\", \"deal\", \"death\", \"decide\", \"decide_luck\", \"definitely\", \"delete\", \"deny\", \"depend\", \"detail\", \"different\", \"discord_remove\", \"discord_remove\", \"display\", \"drone\", \"dumb\", \"duration\", \"early\", \"early\", \"end\", \"end\", \"end\", \"enjoy\", \"enough\", \"equivalent\", \"ever\", \"ever\", \"ever\", \"everyday\", \"experience\", \"extend\", \"fall\", \"family\", \"far\", \"favorite\", \"feel\", \"fight\", \"find\", \"firearm\", \"first\", \"fix\", \"flaw\", \"focus\", \"free\", \"frequently_aske\", \"frequently_aske\", \"friend\", \"friend\", \"friend\", \"fuck\", \"fucking\", \"funny\", \"game\", \"genuinely\", \"give\", \"give\", \"giveaway\", \"glad\", \"great\", \"grind\", \"guess\", \"gun\", \"guy\", \"happen\", \"hard\", \"hear\", \"help\", \"hi_ive_mirrore\", \"hi_ive_mirrore\", \"high\", \"hour\", \"http\", \"huge\", \"human\", \"idea\", \"ill\", \"image\", \"imagesofnetwork\", \"imagesofnetwork\", \"imo\", \"improve\", \"increase\", \"information\", \"instruction\", \"instruction\", \"instruction\", \"iron\", \"ironic\", \"island\", \"issue\", \"job\", \"journey\", \"keep\", \"kill\", \"kinda\", \"kitty\", \"km\", \"last\", \"later\", \"laugh\", \"lbs\", \"least\", \"leave\", \"less\", \"let\", \"level\", \"level\", \"life\", \"link\", \"list\", \"little\", \"live\", \"loan\", \"lol\", \"lonely\", \"long\", \"look\", \"love\", \"low\", \"main\", \"makeup\", \"man\", \"manage\", \"manager\", \"market\", \"matrix\", \"matter\", \"maybe\", \"maybe\", \"mean\", \"meow\", \"mind\", \"minimal\", \"minute\", \"model\", \"moderator\", \"moderator\", \"money\", \"move\", \"much\", \"never\", \"new\", \"new\", \"often\", \"one\", \"one\", \"online\", \"op\", \"original\", \"oscar\", \"particular\", \"pay\", \"pc\", \"peace\", \"people\", \"people\", \"perform\", \"perform\", \"permanent_ban\", \"permanent_ban\", \"permanent_ban\", \"plan\", \"play\", \"player\", \"ple\", \"ple\", \"plea\", \"pm\", \"pmd\", \"point\", \"political\", \"position\", \"post\", \"post\", \"post\", \"potcoins___help\", \"president\", \"pretty\", \"price\", \"problem\", \"program\", \"put\", \"quality\", \"question\", \"radar\", \"real\", \"reality\", \"really\", \"reason\", \"recommend\", \"reference\", \"relate\", \"release\", \"remove\", \"reply\", \"repost\", \"rest\", \"resubmit\", \"resubmit\", \"resubmit\", \"result\", \"return\", \"river\", \"rule\", \"rule\", \"satire\", \"school_work\", \"school_work\", \"school_work\", \"school_work\", \"seal\", \"season\", \"second\", \"sell\", \"share\", \"shit\", \"shoot\", \"show\", \"shut\", \"side\", \"simply\", \"situation\", \"size_hi\", \"size_hi\", \"size_hi\", \"skill\", \"small\", \"smile\", \"sound\", \"speak\", \"start\", \"stat\", \"statement\", \"still\", \"stop\", \"stop\", \"story\", \"stuff\", \"submitter\", \"submitter\", \"submitter\", \"subreddit\", \"subreddit\", \"subreddit\", \"subreddits\", \"subscriber\", \"subscriber\", \"subscriber\", \"support\", \"suppose\", \"sure\", \"switch\", \"tag\", \"talk\", \"talk\", \"team\", \"tell\", \"test\", \"th\", \"thing\", \"thing\", \"thread\", \"ti\", \"time\", \"time\", \"title\", \"title\", \"tolerate\", \"top\", \"torch\", \"total\", \"transaction\", \"transport\", \"treaty\", \"true\", \"tv\", \"ultra\", \"understand\", \"unknown\", \"user\", \"vein\", \"verify\", \"version\", \"video\", \"view\", \"vote\", \"waste\", \"watch\", \"way\", \"website\", \"week\", \"well\", \"well\", \"win\", \"wisdom\", \"wonder\", \"work\", \"work\", \"worry\", \"year\", \"year\", \"young\", \"zen\"]}, \"R\": 30, \"lambda.step\": 0.01, \"plot.opts\": {\"xlab\": \"PC1\", \"ylab\": \"PC2\"}, \"topic.order\": [10, 1, 6, 5, 2, 4, 3, 8, 9, 7]};\n",
              "\n",
              "function LDAvis_load_lib(url, callback){\n",
              "  var s = document.createElement('script');\n",
              "  s.src = url;\n",
              "  s.async = true;\n",
              "  s.onreadystatechange = s.onload = callback;\n",
              "  s.onerror = function(){console.warn(\"failed to load library \" + url);};\n",
              "  document.getElementsByTagName(\"head\")[0].appendChild(s);\n",
              "}\n",
              "\n",
              "if(typeof(LDAvis) !== \"undefined\"){\n",
              "   // already loaded: just create the visualization\n",
              "   !function(LDAvis){\n",
              "       new LDAvis(\"#\" + \"ldavis_el1451396660375254089554001179\", ldavis_el1451396660375254089554001179_data);\n",
              "   }(LDAvis);\n",
              "}else if(typeof define === \"function\" && define.amd){\n",
              "   // require.js is available: use it to load d3/LDAvis\n",
              "   require.config({paths: {d3: \"https://d3js.org/d3.v5\"}});\n",
              "   require([\"d3\"], function(d3){\n",
              "      window.d3 = d3;\n",
              "      LDAvis_load_lib(\"https://cdn.jsdelivr.net/gh/bmabey/pyLDAvis@3.4.0/pyLDAvis/js/ldavis.v3.0.0.js\", function(){\n",
              "        new LDAvis(\"#\" + \"ldavis_el1451396660375254089554001179\", ldavis_el1451396660375254089554001179_data);\n",
              "      });\n",
              "    });\n",
              "}else{\n",
              "    // require.js not available: dynamically load d3 & LDAvis\n",
              "    LDAvis_load_lib(\"https://d3js.org/d3.v5.js\", function(){\n",
              "         LDAvis_load_lib(\"https://cdn.jsdelivr.net/gh/bmabey/pyLDAvis@3.4.0/pyLDAvis/js/ldavis.v3.0.0.js\", function(){\n",
              "                 new LDAvis(\"#\" + \"ldavis_el1451396660375254089554001179\", ldavis_el1451396660375254089554001179_data);\n",
              "            })\n",
              "         });\n",
              "}\n",
              "</script>"
            ]
          },
          "metadata": {},
          "execution_count": 14
        }
      ]
    },
    {
      "cell_type": "markdown",
      "source": [
        "Добавление новых признаков в таблицу"
      ],
      "metadata": {
        "id": "xK3AmuV8qRN7"
      }
    },
    {
      "cell_type": "code",
      "source": [
        "df_dominant_topic"
      ],
      "metadata": {
        "colab": {
          "base_uri": "https://localhost:8080/",
          "height": 478
        },
        "id": "KF3HLvIILQoY",
        "outputId": "3116ad2a-637f-4935-f738-bd82c9eb1e2b"
      },
      "execution_count": null,
      "outputs": [
        {
          "output_type": "stream",
          "name": "stderr",
          "text": [
            "/usr/local/lib/python3.9/dist-packages/ipykernel/ipkernel.py:283: DeprecationWarning: `should_run_async` will not call `transform_cell` automatically in the future. Please pass the result to `transformed_cell` argument and any exception that happen during thetransform in `preprocessing_exc_tuple` in IPython 7.17 and above.\n",
            "  and should_run_async(code)\n"
          ]
        },
        {
          "output_type": "execute_result",
          "data": {
            "text/plain": [
              "        Document_No  Dominant_Topic  Topic_Perc_Contrib  \\\n",
              "0                 0               7              0.4556   \n",
              "1                 1               9              0.6138   \n",
              "2                 2               7              0.4556   \n",
              "3                 3               7              0.4556   \n",
              "4                 4               1              0.8503   \n",
              "...             ...             ...                 ...   \n",
              "228623       228623               9              0.5249   \n",
              "228624       228624               0              0.7753   \n",
              "228625       228625               0              0.8200   \n",
              "228626       228626               0              0.7750   \n",
              "228627       228627               9              0.5250   \n",
              "\n",
              "                                                 Keywords  \\\n",
              "0       way, question, different, hard, guess, allow, ...   \n",
              "1       look, people, well, thing, feel, mean, point, ...   \n",
              "2       way, question, different, hard, guess, allow, ...   \n",
              "3       way, question, different, hard, guess, allow, ...   \n",
              "4       game, still, play, find, show, version, enough...   \n",
              "...                                                   ...   \n",
              "228623  look, people, well, thing, feel, mean, point, ...   \n",
              "228624  time, really, much, people, give, day, never, ...   \n",
              "228625  time, really, much, people, give, day, never, ...   \n",
              "228626  time, really, much, people, give, day, never, ...   \n",
              "228627  look, people, well, thing, feel, mean, point, ...   \n",
              "\n",
              "                                                     Text  \n",
              "0       [rule, question, anyone_else, anyone_else, all...  \n",
              "1       [meme, image, post, allow, subreddit, direct, ...  \n",
              "2       [rule, question, anyone_else, anyone_else, all...  \n",
              "3       [rule, question, anyone_else, anyone_else, all...  \n",
              "4       [diagnose_anyone, speak, determine, adhd, unsa...  \n",
              "...                                                   ...  \n",
              "228623             [remember, clipper, year, manu, prime]  \n",
              "228624              [second, thought, actually, autistic]  \n",
              "228625                      [darkness, old, friend, talk]  \n",
              "228626                     [enter, key, spoiler, tagging]  \n",
              "228627                             [flash, still, though]  \n",
              "\n",
              "[228628 rows x 5 columns]"
            ],
            "text/html": [
              "\n",
              "  <div id=\"df-b9b64729-d3ec-4806-9957-e71576653919\">\n",
              "    <div class=\"colab-df-container\">\n",
              "      <div>\n",
              "<style scoped>\n",
              "    .dataframe tbody tr th:only-of-type {\n",
              "        vertical-align: middle;\n",
              "    }\n",
              "\n",
              "    .dataframe tbody tr th {\n",
              "        vertical-align: top;\n",
              "    }\n",
              "\n",
              "    .dataframe thead th {\n",
              "        text-align: right;\n",
              "    }\n",
              "</style>\n",
              "<table border=\"1\" class=\"dataframe\">\n",
              "  <thead>\n",
              "    <tr style=\"text-align: right;\">\n",
              "      <th></th>\n",
              "      <th>Document_No</th>\n",
              "      <th>Dominant_Topic</th>\n",
              "      <th>Topic_Perc_Contrib</th>\n",
              "      <th>Keywords</th>\n",
              "      <th>Text</th>\n",
              "    </tr>\n",
              "  </thead>\n",
              "  <tbody>\n",
              "    <tr>\n",
              "      <th>0</th>\n",
              "      <td>0</td>\n",
              "      <td>7</td>\n",
              "      <td>0.4556</td>\n",
              "      <td>way, question, different, hard, guess, allow, ...</td>\n",
              "      <td>[rule, question, anyone_else, anyone_else, all...</td>\n",
              "    </tr>\n",
              "    <tr>\n",
              "      <th>1</th>\n",
              "      <td>1</td>\n",
              "      <td>9</td>\n",
              "      <td>0.6138</td>\n",
              "      <td>look, people, well, thing, feel, mean, point, ...</td>\n",
              "      <td>[meme, image, post, allow, subreddit, direct, ...</td>\n",
              "    </tr>\n",
              "    <tr>\n",
              "      <th>2</th>\n",
              "      <td>2</td>\n",
              "      <td>7</td>\n",
              "      <td>0.4556</td>\n",
              "      <td>way, question, different, hard, guess, allow, ...</td>\n",
              "      <td>[rule, question, anyone_else, anyone_else, all...</td>\n",
              "    </tr>\n",
              "    <tr>\n",
              "      <th>3</th>\n",
              "      <td>3</td>\n",
              "      <td>7</td>\n",
              "      <td>0.4556</td>\n",
              "      <td>way, question, different, hard, guess, allow, ...</td>\n",
              "      <td>[rule, question, anyone_else, anyone_else, all...</td>\n",
              "    </tr>\n",
              "    <tr>\n",
              "      <th>4</th>\n",
              "      <td>4</td>\n",
              "      <td>1</td>\n",
              "      <td>0.8503</td>\n",
              "      <td>game, still, play, find, show, version, enough...</td>\n",
              "      <td>[diagnose_anyone, speak, determine, adhd, unsa...</td>\n",
              "    </tr>\n",
              "    <tr>\n",
              "      <th>...</th>\n",
              "      <td>...</td>\n",
              "      <td>...</td>\n",
              "      <td>...</td>\n",
              "      <td>...</td>\n",
              "      <td>...</td>\n",
              "    </tr>\n",
              "    <tr>\n",
              "      <th>228623</th>\n",
              "      <td>228623</td>\n",
              "      <td>9</td>\n",
              "      <td>0.5249</td>\n",
              "      <td>look, people, well, thing, feel, mean, point, ...</td>\n",
              "      <td>[remember, clipper, year, manu, prime]</td>\n",
              "    </tr>\n",
              "    <tr>\n",
              "      <th>228624</th>\n",
              "      <td>228624</td>\n",
              "      <td>0</td>\n",
              "      <td>0.7753</td>\n",
              "      <td>time, really, much, people, give, day, never, ...</td>\n",
              "      <td>[second, thought, actually, autistic]</td>\n",
              "    </tr>\n",
              "    <tr>\n",
              "      <th>228625</th>\n",
              "      <td>228625</td>\n",
              "      <td>0</td>\n",
              "      <td>0.8200</td>\n",
              "      <td>time, really, much, people, give, day, never, ...</td>\n",
              "      <td>[darkness, old, friend, talk]</td>\n",
              "    </tr>\n",
              "    <tr>\n",
              "      <th>228626</th>\n",
              "      <td>228626</td>\n",
              "      <td>0</td>\n",
              "      <td>0.7750</td>\n",
              "      <td>time, really, much, people, give, day, never, ...</td>\n",
              "      <td>[enter, key, spoiler, tagging]</td>\n",
              "    </tr>\n",
              "    <tr>\n",
              "      <th>228627</th>\n",
              "      <td>228627</td>\n",
              "      <td>9</td>\n",
              "      <td>0.5250</td>\n",
              "      <td>look, people, well, thing, feel, mean, point, ...</td>\n",
              "      <td>[flash, still, though]</td>\n",
              "    </tr>\n",
              "  </tbody>\n",
              "</table>\n",
              "<p>228628 rows × 5 columns</p>\n",
              "</div>\n",
              "      <button class=\"colab-df-convert\" onclick=\"convertToInteractive('df-b9b64729-d3ec-4806-9957-e71576653919')\"\n",
              "              title=\"Convert this dataframe to an interactive table.\"\n",
              "              style=\"display:none;\">\n",
              "        \n",
              "  <svg xmlns=\"http://www.w3.org/2000/svg\" height=\"24px\"viewBox=\"0 0 24 24\"\n",
              "       width=\"24px\">\n",
              "    <path d=\"M0 0h24v24H0V0z\" fill=\"none\"/>\n",
              "    <path d=\"M18.56 5.44l.94 2.06.94-2.06 2.06-.94-2.06-.94-.94-2.06-.94 2.06-2.06.94zm-11 1L8.5 8.5l.94-2.06 2.06-.94-2.06-.94L8.5 2.5l-.94 2.06-2.06.94zm10 10l.94 2.06.94-2.06 2.06-.94-2.06-.94-.94-2.06-.94 2.06-2.06.94z\"/><path d=\"M17.41 7.96l-1.37-1.37c-.4-.4-.92-.59-1.43-.59-.52 0-1.04.2-1.43.59L10.3 9.45l-7.72 7.72c-.78.78-.78 2.05 0 2.83L4 21.41c.39.39.9.59 1.41.59.51 0 1.02-.2 1.41-.59l7.78-7.78 2.81-2.81c.8-.78.8-2.07 0-2.86zM5.41 20L4 18.59l7.72-7.72 1.47 1.35L5.41 20z\"/>\n",
              "  </svg>\n",
              "      </button>\n",
              "      \n",
              "  <style>\n",
              "    .colab-df-container {\n",
              "      display:flex;\n",
              "      flex-wrap:wrap;\n",
              "      gap: 12px;\n",
              "    }\n",
              "\n",
              "    .colab-df-convert {\n",
              "      background-color: #E8F0FE;\n",
              "      border: none;\n",
              "      border-radius: 50%;\n",
              "      cursor: pointer;\n",
              "      display: none;\n",
              "      fill: #1967D2;\n",
              "      height: 32px;\n",
              "      padding: 0 0 0 0;\n",
              "      width: 32px;\n",
              "    }\n",
              "\n",
              "    .colab-df-convert:hover {\n",
              "      background-color: #E2EBFA;\n",
              "      box-shadow: 0px 1px 2px rgba(60, 64, 67, 0.3), 0px 1px 3px 1px rgba(60, 64, 67, 0.15);\n",
              "      fill: #174EA6;\n",
              "    }\n",
              "\n",
              "    [theme=dark] .colab-df-convert {\n",
              "      background-color: #3B4455;\n",
              "      fill: #D2E3FC;\n",
              "    }\n",
              "\n",
              "    [theme=dark] .colab-df-convert:hover {\n",
              "      background-color: #434B5C;\n",
              "      box-shadow: 0px 1px 3px 1px rgba(0, 0, 0, 0.15);\n",
              "      filter: drop-shadow(0px 1px 2px rgba(0, 0, 0, 0.3));\n",
              "      fill: #FFFFFF;\n",
              "    }\n",
              "  </style>\n",
              "\n",
              "      <script>\n",
              "        const buttonEl =\n",
              "          document.querySelector('#df-b9b64729-d3ec-4806-9957-e71576653919 button.colab-df-convert');\n",
              "        buttonEl.style.display =\n",
              "          google.colab.kernel.accessAllowed ? 'block' : 'none';\n",
              "\n",
              "        async function convertToInteractive(key) {\n",
              "          const element = document.querySelector('#df-b9b64729-d3ec-4806-9957-e71576653919');\n",
              "          const dataTable =\n",
              "            await google.colab.kernel.invokeFunction('convertToInteractive',\n",
              "                                                     [key], {});\n",
              "          if (!dataTable) return;\n",
              "\n",
              "          const docLinkHtml = 'Like what you see? Visit the ' +\n",
              "            '<a target=\"_blank\" href=https://colab.research.google.com/notebooks/data_table.ipynb>data table notebook</a>'\n",
              "            + ' to learn more about interactive tables.';\n",
              "          element.innerHTML = '';\n",
              "          dataTable['output_type'] = 'display_data';\n",
              "          await google.colab.output.renderOutput(dataTable, element);\n",
              "          const docLink = document.createElement('div');\n",
              "          docLink.innerHTML = docLinkHtml;\n",
              "          element.appendChild(docLink);\n",
              "        }\n",
              "      </script>\n",
              "    </div>\n",
              "  </div>\n",
              "  "
            ]
          },
          "metadata": {},
          "execution_count": 186
        }
      ]
    },
    {
      "cell_type": "code",
      "source": [
        "with open('drive/MyDrive/Diplom/full_data.csv') as f:\n",
        "    full_data = pd.read_csv(f, sep=',')"
      ],
      "metadata": {
        "colab": {
          "base_uri": "https://localhost:8080/"
        },
        "id": "QoawxLu8NWR-",
        "outputId": "8cb80e60-482b-4cf9-f004-9fe6050e0978"
      },
      "execution_count": null,
      "outputs": [
        {
          "output_type": "stream",
          "name": "stderr",
          "text": [
            "/usr/local/lib/python3.9/dist-packages/ipykernel/ipkernel.py:283: DeprecationWarning: `should_run_async` will not call `transform_cell` automatically in the future. Please pass the result to `transformed_cell` argument and any exception that happen during thetransform in `preprocessing_exc_tuple` in IPython 7.17 and above.\n",
            "  and should_run_async(code)\n"
          ]
        }
      ]
    },
    {
      "cell_type": "code",
      "source": [
        "full_data"
      ],
      "metadata": {
        "colab": {
          "base_uri": "https://localhost:8080/",
          "height": 478
        },
        "id": "-KrRYnviNe7G",
        "outputId": "c2ff9fec-4c04-4586-b312-ddf2fcea2cbe"
      },
      "execution_count": null,
      "outputs": [
        {
          "output_type": "stream",
          "name": "stderr",
          "text": [
            "/usr/local/lib/python3.9/dist-packages/ipykernel/ipkernel.py:283: DeprecationWarning: `should_run_async` will not call `transform_cell` automatically in the future. Please pass the result to `transformed_cell` argument and any exception that happen during thetransform in `preprocessing_exc_tuple` in IPython 7.17 and above.\n",
            "  and should_run_async(code)\n"
          ]
        },
        {
          "output_type": "execute_result",
          "data": {
            "text/plain": [
              "          link_id              author  score  \\\n",
              "0       t3_2l5szg             ADHDbot      1   \n",
              "1       t3_2l61gs             ADHDbot      1   \n",
              "2       t3_2l7ma8             ADHDbot      1   \n",
              "3       t3_2l7t5h             ADHDbot      1   \n",
              "4       t3_2l900k             ADHDbot      1   \n",
              "...           ...                 ...    ...   \n",
              "228623  t3_5on47d           kcheng686      1   \n",
              "228624  t3_5q9ppf    DisconnectedCorn      1   \n",
              "228625  t3_5pqb17          najing_ftw      3   \n",
              "228626  t3_5oh8zt  Fourteen_of_Twelve      5   \n",
              "228627  t3_5obnei           RanaI_Ape      1   \n",
              "\n",
              "                                                     body  ups    Y  polarity  \\\n",
              "0       As per the rules in the side bar, yes or no qu...  1.0  0.0  0.166667   \n",
              "1       Meme and image posts are not allowed on this s...  1.0  0.0  0.100000   \n",
              "2       As per the rules in the side bar, yes or no qu...  1.0  0.0  0.166667   \n",
              "3       As per the rules in the side bar, yes or no qu...  1.0  0.0  0.166667   \n",
              "4       We cannot and will not diagnose anyone.  You n...  1.0  0.0  0.050000   \n",
              "...                                                   ...  ...  ...       ...   \n",
              "228623  I remember the 2007 clippers.\\n\\nWhich is the ...  0.0  2.0  0.000000   \n",
              "228624  On second thought you might actually be autistic   0.0  2.0 -0.100000   \n",
              "228625  Hello darkness, my old friend,\\nI've come to t...  0.0  2.0  0.100000   \n",
              "228626  You can't use the enter key when you're doing ...  0.0  2.0  0.000000   \n",
              "228627  I was, but I flashed stock so I could get OTAs...  0.0  2.0  0.000000   \n",
              "\n",
              "        subjectivity  body_length  \n",
              "0              0.375        250.0  \n",
              "1              0.400        254.0  \n",
              "2              0.375        250.0  \n",
              "3              0.375        250.0  \n",
              "4              0.550        254.0  \n",
              "...              ...          ...  \n",
              "228623         0.125         76.0  \n",
              "228624         0.100         49.0  \n",
              "228625         0.200         63.0  \n",
              "228626         1.000         62.0  \n",
              "228627         0.000         71.0  \n",
              "\n",
              "[228628 rows x 9 columns]"
            ],
            "text/html": [
              "\n",
              "  <div id=\"df-4993db62-9e09-417c-872a-98dd68bfa111\">\n",
              "    <div class=\"colab-df-container\">\n",
              "      <div>\n",
              "<style scoped>\n",
              "    .dataframe tbody tr th:only-of-type {\n",
              "        vertical-align: middle;\n",
              "    }\n",
              "\n",
              "    .dataframe tbody tr th {\n",
              "        vertical-align: top;\n",
              "    }\n",
              "\n",
              "    .dataframe thead th {\n",
              "        text-align: right;\n",
              "    }\n",
              "</style>\n",
              "<table border=\"1\" class=\"dataframe\">\n",
              "  <thead>\n",
              "    <tr style=\"text-align: right;\">\n",
              "      <th></th>\n",
              "      <th>link_id</th>\n",
              "      <th>author</th>\n",
              "      <th>score</th>\n",
              "      <th>body</th>\n",
              "      <th>ups</th>\n",
              "      <th>Y</th>\n",
              "      <th>polarity</th>\n",
              "      <th>subjectivity</th>\n",
              "      <th>body_length</th>\n",
              "    </tr>\n",
              "  </thead>\n",
              "  <tbody>\n",
              "    <tr>\n",
              "      <th>0</th>\n",
              "      <td>t3_2l5szg</td>\n",
              "      <td>ADHDbot</td>\n",
              "      <td>1</td>\n",
              "      <td>As per the rules in the side bar, yes or no qu...</td>\n",
              "      <td>1.0</td>\n",
              "      <td>0.0</td>\n",
              "      <td>0.166667</td>\n",
              "      <td>0.375</td>\n",
              "      <td>250.0</td>\n",
              "    </tr>\n",
              "    <tr>\n",
              "      <th>1</th>\n",
              "      <td>t3_2l61gs</td>\n",
              "      <td>ADHDbot</td>\n",
              "      <td>1</td>\n",
              "      <td>Meme and image posts are not allowed on this s...</td>\n",
              "      <td>1.0</td>\n",
              "      <td>0.0</td>\n",
              "      <td>0.100000</td>\n",
              "      <td>0.400</td>\n",
              "      <td>254.0</td>\n",
              "    </tr>\n",
              "    <tr>\n",
              "      <th>2</th>\n",
              "      <td>t3_2l7ma8</td>\n",
              "      <td>ADHDbot</td>\n",
              "      <td>1</td>\n",
              "      <td>As per the rules in the side bar, yes or no qu...</td>\n",
              "      <td>1.0</td>\n",
              "      <td>0.0</td>\n",
              "      <td>0.166667</td>\n",
              "      <td>0.375</td>\n",
              "      <td>250.0</td>\n",
              "    </tr>\n",
              "    <tr>\n",
              "      <th>3</th>\n",
              "      <td>t3_2l7t5h</td>\n",
              "      <td>ADHDbot</td>\n",
              "      <td>1</td>\n",
              "      <td>As per the rules in the side bar, yes or no qu...</td>\n",
              "      <td>1.0</td>\n",
              "      <td>0.0</td>\n",
              "      <td>0.166667</td>\n",
              "      <td>0.375</td>\n",
              "      <td>250.0</td>\n",
              "    </tr>\n",
              "    <tr>\n",
              "      <th>4</th>\n",
              "      <td>t3_2l900k</td>\n",
              "      <td>ADHDbot</td>\n",
              "      <td>1</td>\n",
              "      <td>We cannot and will not diagnose anyone.  You n...</td>\n",
              "      <td>1.0</td>\n",
              "      <td>0.0</td>\n",
              "      <td>0.050000</td>\n",
              "      <td>0.550</td>\n",
              "      <td>254.0</td>\n",
              "    </tr>\n",
              "    <tr>\n",
              "      <th>...</th>\n",
              "      <td>...</td>\n",
              "      <td>...</td>\n",
              "      <td>...</td>\n",
              "      <td>...</td>\n",
              "      <td>...</td>\n",
              "      <td>...</td>\n",
              "      <td>...</td>\n",
              "      <td>...</td>\n",
              "      <td>...</td>\n",
              "    </tr>\n",
              "    <tr>\n",
              "      <th>228623</th>\n",
              "      <td>t3_5on47d</td>\n",
              "      <td>kcheng686</td>\n",
              "      <td>1</td>\n",
              "      <td>I remember the 2007 clippers.\\n\\nWhich is the ...</td>\n",
              "      <td>0.0</td>\n",
              "      <td>2.0</td>\n",
              "      <td>0.000000</td>\n",
              "      <td>0.125</td>\n",
              "      <td>76.0</td>\n",
              "    </tr>\n",
              "    <tr>\n",
              "      <th>228624</th>\n",
              "      <td>t3_5q9ppf</td>\n",
              "      <td>DisconnectedCorn</td>\n",
              "      <td>1</td>\n",
              "      <td>On second thought you might actually be autistic</td>\n",
              "      <td>0.0</td>\n",
              "      <td>2.0</td>\n",
              "      <td>-0.100000</td>\n",
              "      <td>0.100</td>\n",
              "      <td>49.0</td>\n",
              "    </tr>\n",
              "    <tr>\n",
              "      <th>228625</th>\n",
              "      <td>t3_5pqb17</td>\n",
              "      <td>najing_ftw</td>\n",
              "      <td>3</td>\n",
              "      <td>Hello darkness, my old friend,\\nI've come to t...</td>\n",
              "      <td>0.0</td>\n",
              "      <td>2.0</td>\n",
              "      <td>0.100000</td>\n",
              "      <td>0.200</td>\n",
              "      <td>63.0</td>\n",
              "    </tr>\n",
              "    <tr>\n",
              "      <th>228626</th>\n",
              "      <td>t3_5oh8zt</td>\n",
              "      <td>Fourteen_of_Twelve</td>\n",
              "      <td>5</td>\n",
              "      <td>You can't use the enter key when you're doing ...</td>\n",
              "      <td>0.0</td>\n",
              "      <td>2.0</td>\n",
              "      <td>0.000000</td>\n",
              "      <td>1.000</td>\n",
              "      <td>62.0</td>\n",
              "    </tr>\n",
              "    <tr>\n",
              "      <th>228627</th>\n",
              "      <td>t3_5obnei</td>\n",
              "      <td>RanaI_Ape</td>\n",
              "      <td>1</td>\n",
              "      <td>I was, but I flashed stock so I could get OTAs...</td>\n",
              "      <td>0.0</td>\n",
              "      <td>2.0</td>\n",
              "      <td>0.000000</td>\n",
              "      <td>0.000</td>\n",
              "      <td>71.0</td>\n",
              "    </tr>\n",
              "  </tbody>\n",
              "</table>\n",
              "<p>228628 rows × 9 columns</p>\n",
              "</div>\n",
              "      <button class=\"colab-df-convert\" onclick=\"convertToInteractive('df-4993db62-9e09-417c-872a-98dd68bfa111')\"\n",
              "              title=\"Convert this dataframe to an interactive table.\"\n",
              "              style=\"display:none;\">\n",
              "        \n",
              "  <svg xmlns=\"http://www.w3.org/2000/svg\" height=\"24px\"viewBox=\"0 0 24 24\"\n",
              "       width=\"24px\">\n",
              "    <path d=\"M0 0h24v24H0V0z\" fill=\"none\"/>\n",
              "    <path d=\"M18.56 5.44l.94 2.06.94-2.06 2.06-.94-2.06-.94-.94-2.06-.94 2.06-2.06.94zm-11 1L8.5 8.5l.94-2.06 2.06-.94-2.06-.94L8.5 2.5l-.94 2.06-2.06.94zm10 10l.94 2.06.94-2.06 2.06-.94-2.06-.94-.94-2.06-.94 2.06-2.06.94z\"/><path d=\"M17.41 7.96l-1.37-1.37c-.4-.4-.92-.59-1.43-.59-.52 0-1.04.2-1.43.59L10.3 9.45l-7.72 7.72c-.78.78-.78 2.05 0 2.83L4 21.41c.39.39.9.59 1.41.59.51 0 1.02-.2 1.41-.59l7.78-7.78 2.81-2.81c.8-.78.8-2.07 0-2.86zM5.41 20L4 18.59l7.72-7.72 1.47 1.35L5.41 20z\"/>\n",
              "  </svg>\n",
              "      </button>\n",
              "      \n",
              "  <style>\n",
              "    .colab-df-container {\n",
              "      display:flex;\n",
              "      flex-wrap:wrap;\n",
              "      gap: 12px;\n",
              "    }\n",
              "\n",
              "    .colab-df-convert {\n",
              "      background-color: #E8F0FE;\n",
              "      border: none;\n",
              "      border-radius: 50%;\n",
              "      cursor: pointer;\n",
              "      display: none;\n",
              "      fill: #1967D2;\n",
              "      height: 32px;\n",
              "      padding: 0 0 0 0;\n",
              "      width: 32px;\n",
              "    }\n",
              "\n",
              "    .colab-df-convert:hover {\n",
              "      background-color: #E2EBFA;\n",
              "      box-shadow: 0px 1px 2px rgba(60, 64, 67, 0.3), 0px 1px 3px 1px rgba(60, 64, 67, 0.15);\n",
              "      fill: #174EA6;\n",
              "    }\n",
              "\n",
              "    [theme=dark] .colab-df-convert {\n",
              "      background-color: #3B4455;\n",
              "      fill: #D2E3FC;\n",
              "    }\n",
              "\n",
              "    [theme=dark] .colab-df-convert:hover {\n",
              "      background-color: #434B5C;\n",
              "      box-shadow: 0px 1px 3px 1px rgba(0, 0, 0, 0.15);\n",
              "      filter: drop-shadow(0px 1px 2px rgba(0, 0, 0, 0.3));\n",
              "      fill: #FFFFFF;\n",
              "    }\n",
              "  </style>\n",
              "\n",
              "      <script>\n",
              "        const buttonEl =\n",
              "          document.querySelector('#df-4993db62-9e09-417c-872a-98dd68bfa111 button.colab-df-convert');\n",
              "        buttonEl.style.display =\n",
              "          google.colab.kernel.accessAllowed ? 'block' : 'none';\n",
              "\n",
              "        async function convertToInteractive(key) {\n",
              "          const element = document.querySelector('#df-4993db62-9e09-417c-872a-98dd68bfa111');\n",
              "          const dataTable =\n",
              "            await google.colab.kernel.invokeFunction('convertToInteractive',\n",
              "                                                     [key], {});\n",
              "          if (!dataTable) return;\n",
              "\n",
              "          const docLinkHtml = 'Like what you see? Visit the ' +\n",
              "            '<a target=\"_blank\" href=https://colab.research.google.com/notebooks/data_table.ipynb>data table notebook</a>'\n",
              "            + ' to learn more about interactive tables.';\n",
              "          element.innerHTML = '';\n",
              "          dataTable['output_type'] = 'display_data';\n",
              "          await google.colab.output.renderOutput(dataTable, element);\n",
              "          const docLink = document.createElement('div');\n",
              "          docLink.innerHTML = docLinkHtml;\n",
              "          element.appendChild(docLink);\n",
              "        }\n",
              "      </script>\n",
              "    </div>\n",
              "  </div>\n",
              "  "
            ]
          },
          "metadata": {},
          "execution_count": 187
        }
      ]
    },
    {
      "cell_type": "code",
      "source": [
        "result = pd.concat([full_data,df_dominant_topic], axis=1)"
      ],
      "metadata": {
        "colab": {
          "base_uri": "https://localhost:8080/"
        },
        "id": "_6cZ9P7GueXJ",
        "outputId": "e6ea1fa1-f5cd-41ac-b2e3-9bdc4c4f489b"
      },
      "execution_count": null,
      "outputs": [
        {
          "output_type": "stream",
          "name": "stderr",
          "text": [
            "/usr/local/lib/python3.9/dist-packages/ipykernel/ipkernel.py:283: DeprecationWarning: `should_run_async` will not call `transform_cell` automatically in the future. Please pass the result to `transformed_cell` argument and any exception that happen during thetransform in `preprocessing_exc_tuple` in IPython 7.17 and above.\n",
            "  and should_run_async(code)\n"
          ]
        }
      ]
    },
    {
      "cell_type": "code",
      "source": [
        "result"
      ],
      "metadata": {
        "colab": {
          "base_uri": "https://localhost:8080/",
          "height": 1000
        },
        "id": "7gmW-1XLO0ac",
        "outputId": "794dac07-e603-4924-9c2b-95f551554d17"
      },
      "execution_count": null,
      "outputs": [
        {
          "output_type": "stream",
          "name": "stderr",
          "text": [
            "/usr/local/lib/python3.9/dist-packages/ipykernel/ipkernel.py:283: DeprecationWarning: `should_run_async` will not call `transform_cell` automatically in the future. Please pass the result to `transformed_cell` argument and any exception that happen during thetransform in `preprocessing_exc_tuple` in IPython 7.17 and above.\n",
            "  and should_run_async(code)\n"
          ]
        },
        {
          "output_type": "execute_result",
          "data": {
            "text/plain": [
              "          link_id              author  score  \\\n",
              "0       t3_2l5szg             ADHDbot      1   \n",
              "1       t3_2l61gs             ADHDbot      1   \n",
              "2       t3_2l7ma8             ADHDbot      1   \n",
              "3       t3_2l7t5h             ADHDbot      1   \n",
              "4       t3_2l900k             ADHDbot      1   \n",
              "...           ...                 ...    ...   \n",
              "228623  t3_5on47d           kcheng686      1   \n",
              "228624  t3_5q9ppf    DisconnectedCorn      1   \n",
              "228625  t3_5pqb17          najing_ftw      3   \n",
              "228626  t3_5oh8zt  Fourteen_of_Twelve      5   \n",
              "228627  t3_5obnei           RanaI_Ape      1   \n",
              "\n",
              "                                                     body  ups    Y  polarity  \\\n",
              "0       As per the rules in the side bar, yes or no qu...  1.0  0.0  0.166667   \n",
              "1       Meme and image posts are not allowed on this s...  1.0  0.0  0.100000   \n",
              "2       As per the rules in the side bar, yes or no qu...  1.0  0.0  0.166667   \n",
              "3       As per the rules in the side bar, yes or no qu...  1.0  0.0  0.166667   \n",
              "4       We cannot and will not diagnose anyone.  You n...  1.0  0.0  0.050000   \n",
              "...                                                   ...  ...  ...       ...   \n",
              "228623  I remember the 2007 clippers.\\n\\nWhich is the ...  0.0  2.0  0.000000   \n",
              "228624  On second thought you might actually be autistic   0.0  2.0 -0.100000   \n",
              "228625  Hello darkness, my old friend,\\nI've come to t...  0.0  2.0  0.100000   \n",
              "228626  You can't use the enter key when you're doing ...  0.0  2.0  0.000000   \n",
              "228627  I was, but I flashed stock so I could get OTAs...  0.0  2.0  0.000000   \n",
              "\n",
              "        subjectivity  body_length  Document_No  Dominant_Topic  \\\n",
              "0              0.375        250.0            0               7   \n",
              "1              0.400        254.0            1               9   \n",
              "2              0.375        250.0            2               7   \n",
              "3              0.375        250.0            3               7   \n",
              "4              0.550        254.0            4               1   \n",
              "...              ...          ...          ...             ...   \n",
              "228623         0.125         76.0       228623               9   \n",
              "228624         0.100         49.0       228624               0   \n",
              "228625         0.200         63.0       228625               0   \n",
              "228626         1.000         62.0       228626               0   \n",
              "228627         0.000         71.0       228627               9   \n",
              "\n",
              "        Topic_Perc_Contrib                                           Keywords  \\\n",
              "0                   0.4556  way, question, different, hard, guess, allow, ...   \n",
              "1                   0.6138  look, people, well, thing, feel, mean, point, ...   \n",
              "2                   0.4556  way, question, different, hard, guess, allow, ...   \n",
              "3                   0.4556  way, question, different, hard, guess, allow, ...   \n",
              "4                   0.8503  game, still, play, find, show, version, enough...   \n",
              "...                    ...                                                ...   \n",
              "228623              0.5249  look, people, well, thing, feel, mean, point, ...   \n",
              "228624              0.7753  time, really, much, people, give, day, never, ...   \n",
              "228625              0.8200  time, really, much, people, give, day, never, ...   \n",
              "228626              0.7750  time, really, much, people, give, day, never, ...   \n",
              "228627              0.5250  look, people, well, thing, feel, mean, point, ...   \n",
              "\n",
              "                                                     Text  \n",
              "0       [rule, question, anyone_else, anyone_else, all...  \n",
              "1       [meme, image, post, allow, subreddit, direct, ...  \n",
              "2       [rule, question, anyone_else, anyone_else, all...  \n",
              "3       [rule, question, anyone_else, anyone_else, all...  \n",
              "4       [diagnose_anyone, speak, determine, adhd, unsa...  \n",
              "...                                                   ...  \n",
              "228623             [remember, clipper, year, manu, prime]  \n",
              "228624              [second, thought, actually, autistic]  \n",
              "228625                      [darkness, old, friend, talk]  \n",
              "228626                     [enter, key, spoiler, tagging]  \n",
              "228627                             [flash, still, though]  \n",
              "\n",
              "[228628 rows x 14 columns]"
            ],
            "text/html": [
              "\n",
              "  <div id=\"df-ee2df403-e674-4aa3-81dc-abb64fb7402e\">\n",
              "    <div class=\"colab-df-container\">\n",
              "      <div>\n",
              "<style scoped>\n",
              "    .dataframe tbody tr th:only-of-type {\n",
              "        vertical-align: middle;\n",
              "    }\n",
              "\n",
              "    .dataframe tbody tr th {\n",
              "        vertical-align: top;\n",
              "    }\n",
              "\n",
              "    .dataframe thead th {\n",
              "        text-align: right;\n",
              "    }\n",
              "</style>\n",
              "<table border=\"1\" class=\"dataframe\">\n",
              "  <thead>\n",
              "    <tr style=\"text-align: right;\">\n",
              "      <th></th>\n",
              "      <th>link_id</th>\n",
              "      <th>author</th>\n",
              "      <th>score</th>\n",
              "      <th>body</th>\n",
              "      <th>ups</th>\n",
              "      <th>Y</th>\n",
              "      <th>polarity</th>\n",
              "      <th>subjectivity</th>\n",
              "      <th>body_length</th>\n",
              "      <th>Document_No</th>\n",
              "      <th>Dominant_Topic</th>\n",
              "      <th>Topic_Perc_Contrib</th>\n",
              "      <th>Keywords</th>\n",
              "      <th>Text</th>\n",
              "    </tr>\n",
              "  </thead>\n",
              "  <tbody>\n",
              "    <tr>\n",
              "      <th>0</th>\n",
              "      <td>t3_2l5szg</td>\n",
              "      <td>ADHDbot</td>\n",
              "      <td>1</td>\n",
              "      <td>As per the rules in the side bar, yes or no qu...</td>\n",
              "      <td>1.0</td>\n",
              "      <td>0.0</td>\n",
              "      <td>0.166667</td>\n",
              "      <td>0.375</td>\n",
              "      <td>250.0</td>\n",
              "      <td>0</td>\n",
              "      <td>7</td>\n",
              "      <td>0.4556</td>\n",
              "      <td>way, question, different, hard, guess, allow, ...</td>\n",
              "      <td>[rule, question, anyone_else, anyone_else, all...</td>\n",
              "    </tr>\n",
              "    <tr>\n",
              "      <th>1</th>\n",
              "      <td>t3_2l61gs</td>\n",
              "      <td>ADHDbot</td>\n",
              "      <td>1</td>\n",
              "      <td>Meme and image posts are not allowed on this s...</td>\n",
              "      <td>1.0</td>\n",
              "      <td>0.0</td>\n",
              "      <td>0.100000</td>\n",
              "      <td>0.400</td>\n",
              "      <td>254.0</td>\n",
              "      <td>1</td>\n",
              "      <td>9</td>\n",
              "      <td>0.6138</td>\n",
              "      <td>look, people, well, thing, feel, mean, point, ...</td>\n",
              "      <td>[meme, image, post, allow, subreddit, direct, ...</td>\n",
              "    </tr>\n",
              "    <tr>\n",
              "      <th>2</th>\n",
              "      <td>t3_2l7ma8</td>\n",
              "      <td>ADHDbot</td>\n",
              "      <td>1</td>\n",
              "      <td>As per the rules in the side bar, yes or no qu...</td>\n",
              "      <td>1.0</td>\n",
              "      <td>0.0</td>\n",
              "      <td>0.166667</td>\n",
              "      <td>0.375</td>\n",
              "      <td>250.0</td>\n",
              "      <td>2</td>\n",
              "      <td>7</td>\n",
              "      <td>0.4556</td>\n",
              "      <td>way, question, different, hard, guess, allow, ...</td>\n",
              "      <td>[rule, question, anyone_else, anyone_else, all...</td>\n",
              "    </tr>\n",
              "    <tr>\n",
              "      <th>3</th>\n",
              "      <td>t3_2l7t5h</td>\n",
              "      <td>ADHDbot</td>\n",
              "      <td>1</td>\n",
              "      <td>As per the rules in the side bar, yes or no qu...</td>\n",
              "      <td>1.0</td>\n",
              "      <td>0.0</td>\n",
              "      <td>0.166667</td>\n",
              "      <td>0.375</td>\n",
              "      <td>250.0</td>\n",
              "      <td>3</td>\n",
              "      <td>7</td>\n",
              "      <td>0.4556</td>\n",
              "      <td>way, question, different, hard, guess, allow, ...</td>\n",
              "      <td>[rule, question, anyone_else, anyone_else, all...</td>\n",
              "    </tr>\n",
              "    <tr>\n",
              "      <th>4</th>\n",
              "      <td>t3_2l900k</td>\n",
              "      <td>ADHDbot</td>\n",
              "      <td>1</td>\n",
              "      <td>We cannot and will not diagnose anyone.  You n...</td>\n",
              "      <td>1.0</td>\n",
              "      <td>0.0</td>\n",
              "      <td>0.050000</td>\n",
              "      <td>0.550</td>\n",
              "      <td>254.0</td>\n",
              "      <td>4</td>\n",
              "      <td>1</td>\n",
              "      <td>0.8503</td>\n",
              "      <td>game, still, play, find, show, version, enough...</td>\n",
              "      <td>[diagnose_anyone, speak, determine, adhd, unsa...</td>\n",
              "    </tr>\n",
              "    <tr>\n",
              "      <th>...</th>\n",
              "      <td>...</td>\n",
              "      <td>...</td>\n",
              "      <td>...</td>\n",
              "      <td>...</td>\n",
              "      <td>...</td>\n",
              "      <td>...</td>\n",
              "      <td>...</td>\n",
              "      <td>...</td>\n",
              "      <td>...</td>\n",
              "      <td>...</td>\n",
              "      <td>...</td>\n",
              "      <td>...</td>\n",
              "      <td>...</td>\n",
              "      <td>...</td>\n",
              "    </tr>\n",
              "    <tr>\n",
              "      <th>228623</th>\n",
              "      <td>t3_5on47d</td>\n",
              "      <td>kcheng686</td>\n",
              "      <td>1</td>\n",
              "      <td>I remember the 2007 clippers.\\n\\nWhich is the ...</td>\n",
              "      <td>0.0</td>\n",
              "      <td>2.0</td>\n",
              "      <td>0.000000</td>\n",
              "      <td>0.125</td>\n",
              "      <td>76.0</td>\n",
              "      <td>228623</td>\n",
              "      <td>9</td>\n",
              "      <td>0.5249</td>\n",
              "      <td>look, people, well, thing, feel, mean, point, ...</td>\n",
              "      <td>[remember, clipper, year, manu, prime]</td>\n",
              "    </tr>\n",
              "    <tr>\n",
              "      <th>228624</th>\n",
              "      <td>t3_5q9ppf</td>\n",
              "      <td>DisconnectedCorn</td>\n",
              "      <td>1</td>\n",
              "      <td>On second thought you might actually be autistic</td>\n",
              "      <td>0.0</td>\n",
              "      <td>2.0</td>\n",
              "      <td>-0.100000</td>\n",
              "      <td>0.100</td>\n",
              "      <td>49.0</td>\n",
              "      <td>228624</td>\n",
              "      <td>0</td>\n",
              "      <td>0.7753</td>\n",
              "      <td>time, really, much, people, give, day, never, ...</td>\n",
              "      <td>[second, thought, actually, autistic]</td>\n",
              "    </tr>\n",
              "    <tr>\n",
              "      <th>228625</th>\n",
              "      <td>t3_5pqb17</td>\n",
              "      <td>najing_ftw</td>\n",
              "      <td>3</td>\n",
              "      <td>Hello darkness, my old friend,\\nI've come to t...</td>\n",
              "      <td>0.0</td>\n",
              "      <td>2.0</td>\n",
              "      <td>0.100000</td>\n",
              "      <td>0.200</td>\n",
              "      <td>63.0</td>\n",
              "      <td>228625</td>\n",
              "      <td>0</td>\n",
              "      <td>0.8200</td>\n",
              "      <td>time, really, much, people, give, day, never, ...</td>\n",
              "      <td>[darkness, old, friend, talk]</td>\n",
              "    </tr>\n",
              "    <tr>\n",
              "      <th>228626</th>\n",
              "      <td>t3_5oh8zt</td>\n",
              "      <td>Fourteen_of_Twelve</td>\n",
              "      <td>5</td>\n",
              "      <td>You can't use the enter key when you're doing ...</td>\n",
              "      <td>0.0</td>\n",
              "      <td>2.0</td>\n",
              "      <td>0.000000</td>\n",
              "      <td>1.000</td>\n",
              "      <td>62.0</td>\n",
              "      <td>228626</td>\n",
              "      <td>0</td>\n",
              "      <td>0.7750</td>\n",
              "      <td>time, really, much, people, give, day, never, ...</td>\n",
              "      <td>[enter, key, spoiler, tagging]</td>\n",
              "    </tr>\n",
              "    <tr>\n",
              "      <th>228627</th>\n",
              "      <td>t3_5obnei</td>\n",
              "      <td>RanaI_Ape</td>\n",
              "      <td>1</td>\n",
              "      <td>I was, but I flashed stock so I could get OTAs...</td>\n",
              "      <td>0.0</td>\n",
              "      <td>2.0</td>\n",
              "      <td>0.000000</td>\n",
              "      <td>0.000</td>\n",
              "      <td>71.0</td>\n",
              "      <td>228627</td>\n",
              "      <td>9</td>\n",
              "      <td>0.5250</td>\n",
              "      <td>look, people, well, thing, feel, mean, point, ...</td>\n",
              "      <td>[flash, still, though]</td>\n",
              "    </tr>\n",
              "  </tbody>\n",
              "</table>\n",
              "<p>228628 rows × 14 columns</p>\n",
              "</div>\n",
              "      <button class=\"colab-df-convert\" onclick=\"convertToInteractive('df-ee2df403-e674-4aa3-81dc-abb64fb7402e')\"\n",
              "              title=\"Convert this dataframe to an interactive table.\"\n",
              "              style=\"display:none;\">\n",
              "        \n",
              "  <svg xmlns=\"http://www.w3.org/2000/svg\" height=\"24px\"viewBox=\"0 0 24 24\"\n",
              "       width=\"24px\">\n",
              "    <path d=\"M0 0h24v24H0V0z\" fill=\"none\"/>\n",
              "    <path d=\"M18.56 5.44l.94 2.06.94-2.06 2.06-.94-2.06-.94-.94-2.06-.94 2.06-2.06.94zm-11 1L8.5 8.5l.94-2.06 2.06-.94-2.06-.94L8.5 2.5l-.94 2.06-2.06.94zm10 10l.94 2.06.94-2.06 2.06-.94-2.06-.94-.94-2.06-.94 2.06-2.06.94z\"/><path d=\"M17.41 7.96l-1.37-1.37c-.4-.4-.92-.59-1.43-.59-.52 0-1.04.2-1.43.59L10.3 9.45l-7.72 7.72c-.78.78-.78 2.05 0 2.83L4 21.41c.39.39.9.59 1.41.59.51 0 1.02-.2 1.41-.59l7.78-7.78 2.81-2.81c.8-.78.8-2.07 0-2.86zM5.41 20L4 18.59l7.72-7.72 1.47 1.35L5.41 20z\"/>\n",
              "  </svg>\n",
              "      </button>\n",
              "      \n",
              "  <style>\n",
              "    .colab-df-container {\n",
              "      display:flex;\n",
              "      flex-wrap:wrap;\n",
              "      gap: 12px;\n",
              "    }\n",
              "\n",
              "    .colab-df-convert {\n",
              "      background-color: #E8F0FE;\n",
              "      border: none;\n",
              "      border-radius: 50%;\n",
              "      cursor: pointer;\n",
              "      display: none;\n",
              "      fill: #1967D2;\n",
              "      height: 32px;\n",
              "      padding: 0 0 0 0;\n",
              "      width: 32px;\n",
              "    }\n",
              "\n",
              "    .colab-df-convert:hover {\n",
              "      background-color: #E2EBFA;\n",
              "      box-shadow: 0px 1px 2px rgba(60, 64, 67, 0.3), 0px 1px 3px 1px rgba(60, 64, 67, 0.15);\n",
              "      fill: #174EA6;\n",
              "    }\n",
              "\n",
              "    [theme=dark] .colab-df-convert {\n",
              "      background-color: #3B4455;\n",
              "      fill: #D2E3FC;\n",
              "    }\n",
              "\n",
              "    [theme=dark] .colab-df-convert:hover {\n",
              "      background-color: #434B5C;\n",
              "      box-shadow: 0px 1px 3px 1px rgba(0, 0, 0, 0.15);\n",
              "      filter: drop-shadow(0px 1px 2px rgba(0, 0, 0, 0.3));\n",
              "      fill: #FFFFFF;\n",
              "    }\n",
              "  </style>\n",
              "\n",
              "      <script>\n",
              "        const buttonEl =\n",
              "          document.querySelector('#df-ee2df403-e674-4aa3-81dc-abb64fb7402e button.colab-df-convert');\n",
              "        buttonEl.style.display =\n",
              "          google.colab.kernel.accessAllowed ? 'block' : 'none';\n",
              "\n",
              "        async function convertToInteractive(key) {\n",
              "          const element = document.querySelector('#df-ee2df403-e674-4aa3-81dc-abb64fb7402e');\n",
              "          const dataTable =\n",
              "            await google.colab.kernel.invokeFunction('convertToInteractive',\n",
              "                                                     [key], {});\n",
              "          if (!dataTable) return;\n",
              "\n",
              "          const docLinkHtml = 'Like what you see? Visit the ' +\n",
              "            '<a target=\"_blank\" href=https://colab.research.google.com/notebooks/data_table.ipynb>data table notebook</a>'\n",
              "            + ' to learn more about interactive tables.';\n",
              "          element.innerHTML = '';\n",
              "          dataTable['output_type'] = 'display_data';\n",
              "          await google.colab.output.renderOutput(dataTable, element);\n",
              "          const docLink = document.createElement('div');\n",
              "          docLink.innerHTML = docLinkHtml;\n",
              "          element.appendChild(docLink);\n",
              "        }\n",
              "      </script>\n",
              "    </div>\n",
              "  </div>\n",
              "  "
            ]
          },
          "metadata": {},
          "execution_count": 189
        }
      ]
    },
    {
      "cell_type": "code",
      "source": [
        "result.to_csv('drive/MyDrive/Diplom/result.csv', sep=',', index=False)\n",
        "print(\"Saved\")"
      ],
      "metadata": {
        "colab": {
          "base_uri": "https://localhost:8080/"
        },
        "id": "UQCisyQMjMil",
        "outputId": "cfed2ea2-4210-40b4-ba25-0bbb1788f4da"
      },
      "execution_count": null,
      "outputs": [
        {
          "output_type": "stream",
          "name": "stderr",
          "text": [
            "/usr/local/lib/python3.9/dist-packages/ipykernel/ipkernel.py:283: DeprecationWarning: `should_run_async` will not call `transform_cell` automatically in the future. Please pass the result to `transformed_cell` argument and any exception that happen during thetransform in `preprocessing_exc_tuple` in IPython 7.17 and above.\n",
            "  and should_run_async(code)\n"
          ]
        },
        {
          "output_type": "stream",
          "name": "stdout",
          "text": [
            "Saved\n"
          ]
        }
      ]
    }
  ]
}