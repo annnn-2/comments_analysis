{
 "cells": [
  {
   "cell_type": "markdown",
   "metadata": {
    "id": "NYQegsC-uHvg"
   },
   "source": [
    "ЛДА на всем датасете"
   ]
  },
  {
   "cell_type": "code",
   "execution_count": null,
   "metadata": {
    "id": "AAFPNOUjE9lk"
   },
   "outputs": [],
   "source": [
    "#pip install --upgrade ipykernel"
   ]
  },
  {
   "cell_type": "code",
   "execution_count": 1,
   "metadata": {
    "colab": {
     "base_uri": "https://localhost:8080/",
     "height": 818
    },
    "id": "39oVbJ6ZDP4L",
    "outputId": "4a240c22-3cbf-4009-991e-6d93e00b681e"
   },
   "outputs": [
    {
     "name": "stdout",
     "output_type": "stream",
     "text": [
      "Requirement already satisfied: pyLDAvis in c:\\users\\philipp\\appdata\\local\\programs\\python\\python39\\lib\\site-packages (3.4.1)\n",
      "Requirement already satisfied: numpy>=1.24.2 in c:\\users\\philipp\\appdata\\local\\programs\\python\\python39\\lib\\site-packages (from pyLDAvis) (1.24.3)\n",
      "Requirement already satisfied: scipy in c:\\users\\philipp\\appdata\\local\\programs\\python\\python39\\lib\\site-packages (from pyLDAvis) (1.8.0)\n",
      "Requirement already satisfied: setuptools in c:\\users\\philipp\\appdata\\local\\programs\\python\\python39\\lib\\site-packages (from pyLDAvis) (56.0.0)\n",
      "Requirement already satisfied: jinja2 in c:\\users\\philipp\\appdata\\local\\programs\\python\\python39\\lib\\site-packages (from pyLDAvis) (3.1.2)\n",
      "Requirement already satisfied: pandas>=2.0.0 in c:\\users\\philipp\\appdata\\local\\programs\\python\\python39\\lib\\site-packages (from pyLDAvis) (2.0.1)\n",
      "Requirement already satisfied: funcy in c:\\users\\philipp\\appdata\\local\\programs\\python\\python39\\lib\\site-packages (from pyLDAvis) (2.0)\n",
      "Requirement already satisfied: gensim in c:\\users\\philipp\\appdata\\local\\programs\\python\\python39\\lib\\site-packages (from pyLDAvis) (4.3.1)\n",
      "Requirement already satisfied: joblib>=1.2.0 in c:\\users\\philipp\\appdata\\local\\programs\\python\\python39\\lib\\site-packages (from pyLDAvis) (1.2.0)\n",
      "Requirement already satisfied: scikit-learn>=1.0.0 in c:\\users\\philipp\\appdata\\local\\programs\\python\\python39\\lib\\site-packages (from pyLDAvis) (1.2.2)\n",
      "Requirement already satisfied: numexpr in c:\\users\\philipp\\appdata\\local\\programs\\python\\python39\\lib\\site-packages (from pyLDAvis) (2.8.4)\n",
      "Requirement already satisfied: pytz>=2020.1 in c:\\users\\philipp\\appdata\\local\\programs\\python\\python39\\lib\\site-packages (from pandas>=2.0.0->pyLDAvis) (2023.3)\n",
      "Requirement already satisfied: python-dateutil>=2.8.2 in c:\\users\\philipp\\appdata\\local\\programs\\python\\python39\\lib\\site-packages (from pandas>=2.0.0->pyLDAvis) (2.8.2)\n",
      "Requirement already satisfied: tzdata>=2022.1 in c:\\users\\philipp\\appdata\\local\\programs\\python\\python39\\lib\\site-packages (from pandas>=2.0.0->pyLDAvis) (2023.3)\n",
      "Requirement already satisfied: six>=1.5 in c:\\users\\philipp\\appdata\\local\\programs\\python\\python39\\lib\\site-packages (from python-dateutil>=2.8.2->pandas>=2.0.0->pyLDAvis) (1.16.0)\n",
      "Requirement already satisfied: threadpoolctl>=2.0.0 in c:\\users\\philipp\\appdata\\local\\programs\\python\\python39\\lib\\site-packages (from scikit-learn>=1.0.0->pyLDAvis) (3.1.0)\n",
      "Requirement already satisfied: smart-open>=1.8.1 in c:\\users\\philipp\\appdata\\local\\programs\\python\\python39\\lib\\site-packages (from gensim->pyLDAvis) (6.3.0)\n",
      "Requirement already satisfied: MarkupSafe>=2.0 in c:\\users\\philipp\\appdata\\local\\programs\\python\\python39\\lib\\site-packages (from jinja2->pyLDAvis) (2.1.2)\n"
     ]
    },
    {
     "name": "stderr",
     "output_type": "stream",
     "text": [
      "WARNING: You are using pip version 21.1.1; however, version 23.1.2 is available.\n",
      "You should consider upgrading via the 'c:\\users\\philipp\\appdata\\local\\programs\\python\\python39\\python.exe -m pip install --upgrade pip' command.\n"
     ]
    }
   ],
   "source": [
    "!pip install pyLDAvis"
   ]
  },
  {
   "cell_type": "code",
   "execution_count": 2,
   "metadata": {
    "colab": {
     "base_uri": "https://localhost:8080/"
    },
    "id": "aQGaPZAGDXXl",
    "outputId": "fd8d0723-7e79-4b52-93cd-ea3441ee8b96"
   },
   "outputs": [
    {
     "name": "stderr",
     "output_type": "stream",
     "text": [
      "c:\\users\\philipp\\appdata\\local\\programs\\python\\python39\\lib\\site-packages\\requests\\__init__.py:102: RequestsDependencyWarning: urllib3 (1.26.8) or chardet (5.1.0)/charset_normalizer (2.0.12) doesn't match a supported version!\n",
      "  warnings.warn(\"urllib3 ({}) or chardet ({})/charset_normalizer ({}) doesn't match a supported \"\n",
      "c:\\users\\philipp\\appdata\\local\\programs\\python\\python39\\lib\\site-packages\\cupy\\__init__.py:103: DeprecationWarning: `np.bool8` is a deprecated alias for `np.bool_`.  (Deprecated NumPy 1.24)\n",
      "  from numpy import bool8  # NOQA\n",
      "c:\\users\\philipp\\appdata\\local\\programs\\python\\python39\\lib\\site-packages\\cupy\\__init__.py:103: DeprecationWarning: `np.bool8` is a deprecated alias for `np.bool_`.  (Deprecated NumPy 1.24)\n",
      "  from numpy import bool8  # NOQA\n",
      "c:\\users\\philipp\\appdata\\local\\programs\\python\\python39\\lib\\site-packages\\cupy\\__init__.py:114: DeprecationWarning: `np.int0` is a deprecated alias for `np.intp`.  (Deprecated NumPy 1.24)\n",
      "  from numpy import int0  # NOQA\n",
      "c:\\users\\philipp\\appdata\\local\\programs\\python\\python39\\lib\\site-packages\\cupy\\__init__.py:114: DeprecationWarning: `np.int0` is a deprecated alias for `np.intp`.  (Deprecated NumPy 1.24)\n",
      "  from numpy import int0  # NOQA\n",
      "c:\\users\\philipp\\appdata\\local\\programs\\python\\python39\\lib\\site-packages\\cupy\\__init__.py:129: DeprecationWarning: `np.uint0` is a deprecated alias for `np.uintp`.  (Deprecated NumPy 1.24)\n",
      "  from numpy import uint0  # NOQA\n",
      "c:\\users\\philipp\\appdata\\local\\programs\\python\\python39\\lib\\site-packages\\cupy\\__init__.py:129: DeprecationWarning: `np.uint0` is a deprecated alias for `np.uintp`.  (Deprecated NumPy 1.24)\n",
      "  from numpy import uint0  # NOQA\n",
      "c:\\users\\philipp\\appdata\\local\\programs\\python\\python39\\lib\\site-packages\\tensorflow\\python\\framework\\dtypes.py:205: DeprecationWarning: `np.bool8` is a deprecated alias for `np.bool_`.  (Deprecated NumPy 1.24)\n",
      "  np.bool8: (False, True),\n",
      "c:\\users\\philipp\\appdata\\local\\programs\\python\\python39\\lib\\site-packages\\flatbuffers\\compat.py:19: DeprecationWarning: the imp module is deprecated in favour of importlib; see the module's documentation for alternative uses\n",
      "  import imp\n",
      "c:\\users\\philipp\\appdata\\local\\programs\\python\\python39\\lib\\site-packages\\tensorboard\\compat\\tensorflow_stub\\dtypes.py:326: DeprecationWarning: `np.bool8` is a deprecated alias for `np.bool_`.  (Deprecated NumPy 1.24)\n",
      "  np.bool8: (False, True),\n",
      "[nltk_data] Downloading package stopwords to\n",
      "[nltk_data]     C:\\Users\\Philipp\\AppData\\Roaming\\nltk_data...\n",
      "[nltk_data]   Package stopwords is already up-to-date!\n",
      "c:\\users\\philipp\\appdata\\local\\programs\\python\\python39\\lib\\site-packages\\matplotlib_inline\\config.py:59: DeprecationWarning: InlineBackend._figure_formats_changed is deprecated in traitlets 4.1: use @observe and @unobserve instead.\n",
      "  def _figure_formats_changed(self, name, old, new):\n"
     ]
    }
   ],
   "source": [
    "import pickle\n",
    "import gensim\n",
    "import pyLDAvis\n",
    "import pyLDAvis.gensim\n",
    "import spacy\n",
    "import pandas as pd\n",
    "import nltk; nltk.download('stopwords')\n",
    "import gensim.corpora as corpora\n",
    "from gensim.utils import simple_preprocess\n",
    "from gensim.models import CoherenceModel\n",
    "import re\n",
    "import warnings\n",
    "from pprint import pprint\n",
    "from sklearn.model_selection import train_test_split\n",
    "import numpy as np\n",
    "from sklearn.metrics import accuracy_score\n",
    "from sklearn.linear_model import LogisticRegression\n",
    "from sklearn.naive_bayes import GaussianNB, MultinomialNB\n",
    "from sklearn.preprocessing import StandardScaler, MinMaxScaler\n",
    "import seaborn as sns\n",
    "%config InlineBackend.figure_formats = ['retina']\n",
    "from sklearn.metrics import f1_score\n",
    "from sklearn import linear_model\n",
    "from sklearn import metrics\n",
    "from sklearn.model_selection import KFold\n",
    "from sklearn.metrics import fbeta_score\n",
    "import matplotlib.pyplot as plt"
   ]
  },
  {
   "cell_type": "code",
   "execution_count": 3,
   "metadata": {
    "colab": {
     "base_uri": "https://localhost:8080/"
    },
    "id": "L3RegMp2DaeE",
    "outputId": "07e36dd8-22d9-45dc-8feb-1e1b637f01f4"
   },
   "outputs": [],
   "source": [
    "train = pd.read_csv('train2.csv', sep='\\t', encoding='ISO-8859-1')\n",
    "test = pd.read_csv('test2.csv',sep='\\t',encoding='ISO-8859-1')"
   ]
  },
  {
   "cell_type": "code",
   "execution_count": 4,
   "metadata": {
    "colab": {
     "base_uri": "https://localhost:8080/"
    },
    "id": "24vrQgCDGfWE",
    "outputId": "1571ee55-d2b5-408e-b08f-78d928e87ac9"
   },
   "outputs": [],
   "source": [
    "train.drop(columns = ['Unnamed: 0','body'], inplace = True)\n",
    "test.drop(columns = ['Unnamed: 0','body'], inplace = True)"
   ]
  },
  {
   "cell_type": "code",
   "execution_count": 5,
   "metadata": {
    "colab": {
     "base_uri": "https://localhost:8080/"
    },
    "id": "3Z78utmqDjMF",
    "outputId": "032f024f-02d4-4268-dcc9-9a8e7f597613"
   },
   "outputs": [],
   "source": [
    "def sent_to_words(sentences):\n",
    "    for sentence in sentences:\n",
    "        yield(gensim.utils.simple_preprocess(str(sentence), deacc=True))"
   ]
  },
  {
   "cell_type": "code",
   "execution_count": 6,
   "metadata": {
    "colab": {
     "base_uri": "https://localhost:8080/"
    },
    "id": "E9c5DWBIDmYK",
    "outputId": "7d48de0e-1ae8-4341-8a7c-2c88e487d470"
   },
   "outputs": [],
   "source": [
    "def bigrams(words, bi_min=5, tri_min=5):\n",
    "    bigram = gensim.models.Phrases(words, min_count = bi_min)\n",
    "    bigram_mod = gensim.models.phrases.Phraser(bigram)\n",
    "    return bigram_mod"
   ]
  },
  {
   "cell_type": "code",
   "execution_count": 7,
   "metadata": {
    "colab": {
     "base_uri": "https://localhost:8080/"
    },
    "id": "1EjL2oW6Do07",
    "outputId": "6aece798-a1bb-48bf-dca3-5657a3d743ab"
   },
   "outputs": [],
   "source": [
    "def get_corpus(df):\n",
    "\n",
    "    words = list(sent_to_words(df.body_new))\n",
    "    bigram = bigrams(words)\n",
    "    bigram = [bigram[review] for review in words]\n",
    "    id2word = gensim.corpora.Dictionary(bigram)\n",
    "    id2word.filter_extremes(no_below=10, no_above=0.35)\n",
    "    id2word.compactify()\n",
    "    corpus = [id2word.doc2bow(body_new) for body_new in bigram]\n",
    "    return corpus, id2word, bigram"
   ]
  },
  {
   "cell_type": "code",
   "execution_count": 8,
   "metadata": {
    "colab": {
     "base_uri": "https://localhost:8080/"
    },
    "id": "tOszwJhFDseC",
    "outputId": "5503587d-3ef0-45dd-b560-05b7279e7ff8"
   },
   "outputs": [],
   "source": [
    "train_corpus, train_id2word, bigram_train = get_corpus(train)"
   ]
  },
  {
   "cell_type": "code",
   "execution_count": 9,
   "metadata": {
    "colab": {
     "base_uri": "https://localhost:8080/"
    },
    "id": "6oRsUcTED0AT",
    "outputId": "7b888bba-6e2e-4096-e42e-7831d9ac3d7e"
   },
   "outputs": [],
   "source": [
    "TOPICS = 3\n",
    "\n",
    "with warnings.catch_warnings():\n",
    "    warnings.simplefilter('ignore')\n",
    "    lda_train = gensim.models.ldamulticore.LdaMulticore(\n",
    "                           corpus=train_corpus,\n",
    "                           num_topics=TOPICS,\n",
    "                           id2word=train_id2word,\n",
    "                           chunksize=100,\n",
    "                           workers=7, # Num. Processing Cores - 1\n",
    "                           passes=50,\n",
    "                           eval_every = 1,\n",
    "                           per_word_topics=True)\n",
    "    lda_train.save('lda_train3.model')"
   ]
  },
  {
   "cell_type": "code",
   "execution_count": 10,
   "metadata": {
    "colab": {
     "base_uri": "https://localhost:8080/"
    },
    "id": "FCgFlFWLD2n_",
    "outputId": "746e2796-e93d-4cb6-bf6c-1ced2d4d7585"
   },
   "outputs": [],
   "source": [
    "train_vecs = []\n",
    "for i in range(len(train)):\n",
    "    top_topics = lda_train.get_document_topics(train_corpus[i], minimum_probability=0.0)\n",
    "    topic_vec = [top_topics[i][1] for i in range(TOPICS)]\n",
    "    train_vecs.append(topic_vec)"
   ]
  },
  {
   "cell_type": "code",
   "execution_count": 11,
   "metadata": {
    "colab": {
     "base_uri": "https://localhost:8080/"
    },
    "id": "TMnrThg0D49M",
    "outputId": "4c93326d-6a0b-496d-be41-951709c429e7"
   },
   "outputs": [],
   "source": [
    "X3 = np.array(train_vecs)"
   ]
  },
  {
   "cell_type": "code",
   "execution_count": 12,
   "metadata": {
    "colab": {
     "base_uri": "https://localhost:8080/"
    },
    "id": "QvPyLpWzD7i1",
    "outputId": "9e2c1ddc-2f37-457b-859c-6c1ee3af391d"
   },
   "outputs": [],
   "source": [
    "TOPICS = 20\n",
    "\n",
    "with warnings.catch_warnings():\n",
    "    warnings.simplefilter('ignore')\n",
    "    lda_train = gensim.models.ldamulticore.LdaMulticore(\n",
    "                           corpus=train_corpus,\n",
    "                           num_topics=TOPICS,\n",
    "                           id2word=train_id2word,\n",
    "                           chunksize=100,\n",
    "                           workers=7, # Num. Processing Cores - 1\n",
    "                           passes=50,\n",
    "                           eval_every = 1,\n",
    "                           per_word_topics=True)\n",
    "    lda_train.save('lda_train20.model')"
   ]
  },
  {
   "cell_type": "code",
   "execution_count": 13,
   "metadata": {
    "colab": {
     "base_uri": "https://localhost:8080/"
    },
    "id": "5tZGyuyED-Tq",
    "outputId": "7bea8150-4a91-47cf-f224-5128f0767ff0"
   },
   "outputs": [],
   "source": [
    "train_vecs = []\n",
    "for i in range(len(train)):\n",
    "    top_topics = lda_train.get_document_topics(train_corpus[i], minimum_probability=0.0)\n",
    "    topic_vec = [top_topics[i][1] for i in range(TOPICS)]\n",
    "    train_vecs.append(topic_vec)"
   ]
  },
  {
   "cell_type": "code",
   "execution_count": 14,
   "metadata": {
    "colab": {
     "base_uri": "https://localhost:8080/"
    },
    "id": "KF77gei3EAnk",
    "outputId": "0835cea9-296b-490c-d948-fe3597cd458a"
   },
   "outputs": [],
   "source": [
    "X20 = np.array(train_vecs)"
   ]
  },
  {
   "cell_type": "code",
   "execution_count": 19,
   "metadata": {},
   "outputs": [],
   "source": [
    "cols = train.drop(columns = ['Y', 'body_new']).columns"
   ]
  },
  {
   "cell_type": "code",
   "execution_count": 16,
   "metadata": {
    "colab": {
     "base_uri": "https://localhost:8080/"
    },
    "id": "exhTsiwaDYsB",
    "outputId": "68dcbe01-5254-4c7e-e0fd-882f9dbbce7c"
   },
   "outputs": [
    {
     "ename": "KeyError",
     "evalue": "\"['Unnamed: 0', 'body'] not found in axis\"",
     "output_type": "error",
     "traceback": [
      "\u001b[1;31m---------------------------------------------------------------------------\u001b[0m",
      "\u001b[1;31mKeyError\u001b[0m                                  Traceback (most recent call last)",
      "Cell \u001b[1;32mIn[16], line 1\u001b[0m\n\u001b[1;32m----> 1\u001b[0m cols \u001b[38;5;241m=\u001b[39m \u001b[43mtrain\u001b[49m\u001b[38;5;241;43m.\u001b[39;49m\u001b[43mdrop\u001b[49m\u001b[43m(\u001b[49m\u001b[43mcolumns\u001b[49m\u001b[43m \u001b[49m\u001b[38;5;241;43m=\u001b[39;49m\u001b[43m \u001b[49m\u001b[43m[\u001b[49m\u001b[38;5;124;43m'\u001b[39;49m\u001b[38;5;124;43mUnnamed: 0\u001b[39;49m\u001b[38;5;124;43m'\u001b[39;49m\u001b[43m,\u001b[49m\u001b[38;5;124;43m'\u001b[39;49m\u001b[38;5;124;43mbody\u001b[39;49m\u001b[38;5;124;43m'\u001b[39;49m\u001b[43m,\u001b[49m\u001b[43m \u001b[49m\u001b[38;5;124;43m'\u001b[39;49m\u001b[38;5;124;43mY\u001b[39;49m\u001b[38;5;124;43m'\u001b[39;49m\u001b[43m,\u001b[49m\u001b[43m \u001b[49m\u001b[38;5;124;43m'\u001b[39;49m\u001b[38;5;124;43mbody_new\u001b[39;49m\u001b[38;5;124;43m'\u001b[39;49m\u001b[43m]\u001b[49m\u001b[43m)\u001b[49m\u001b[38;5;241m.\u001b[39mcolumns\n",
      "File \u001b[1;32mc:\\users\\philipp\\appdata\\local\\programs\\python\\python39\\lib\\site-packages\\pandas\\core\\frame.py:5268\u001b[0m, in \u001b[0;36mDataFrame.drop\u001b[1;34m(self, labels, axis, index, columns, level, inplace, errors)\u001b[0m\n\u001b[0;32m   5120\u001b[0m \u001b[38;5;28;01mdef\u001b[39;00m \u001b[38;5;21mdrop\u001b[39m(\n\u001b[0;32m   5121\u001b[0m     \u001b[38;5;28mself\u001b[39m,\n\u001b[0;32m   5122\u001b[0m     labels: IndexLabel \u001b[38;5;241m=\u001b[39m \u001b[38;5;28;01mNone\u001b[39;00m,\n\u001b[1;32m   (...)\u001b[0m\n\u001b[0;32m   5129\u001b[0m     errors: IgnoreRaise \u001b[38;5;241m=\u001b[39m \u001b[38;5;124m\"\u001b[39m\u001b[38;5;124mraise\u001b[39m\u001b[38;5;124m\"\u001b[39m,\n\u001b[0;32m   5130\u001b[0m ) \u001b[38;5;241m-\u001b[39m\u001b[38;5;241m>\u001b[39m DataFrame \u001b[38;5;241m|\u001b[39m \u001b[38;5;28;01mNone\u001b[39;00m:\n\u001b[0;32m   5131\u001b[0m \u001b[38;5;250m    \u001b[39m\u001b[38;5;124;03m\"\"\"\u001b[39;00m\n\u001b[0;32m   5132\u001b[0m \u001b[38;5;124;03m    Drop specified labels from rows or columns.\u001b[39;00m\n\u001b[0;32m   5133\u001b[0m \n\u001b[1;32m   (...)\u001b[0m\n\u001b[0;32m   5266\u001b[0m \u001b[38;5;124;03m            weight  1.0     0.8\u001b[39;00m\n\u001b[0;32m   5267\u001b[0m \u001b[38;5;124;03m    \"\"\"\u001b[39;00m\n\u001b[1;32m-> 5268\u001b[0m     \u001b[38;5;28;01mreturn\u001b[39;00m \u001b[38;5;28;43msuper\u001b[39;49m\u001b[43m(\u001b[49m\u001b[43m)\u001b[49m\u001b[38;5;241;43m.\u001b[39;49m\u001b[43mdrop\u001b[49m\u001b[43m(\u001b[49m\n\u001b[0;32m   5269\u001b[0m \u001b[43m        \u001b[49m\u001b[43mlabels\u001b[49m\u001b[38;5;241;43m=\u001b[39;49m\u001b[43mlabels\u001b[49m\u001b[43m,\u001b[49m\n\u001b[0;32m   5270\u001b[0m \u001b[43m        \u001b[49m\u001b[43maxis\u001b[49m\u001b[38;5;241;43m=\u001b[39;49m\u001b[43maxis\u001b[49m\u001b[43m,\u001b[49m\n\u001b[0;32m   5271\u001b[0m \u001b[43m        \u001b[49m\u001b[43mindex\u001b[49m\u001b[38;5;241;43m=\u001b[39;49m\u001b[43mindex\u001b[49m\u001b[43m,\u001b[49m\n\u001b[0;32m   5272\u001b[0m \u001b[43m        \u001b[49m\u001b[43mcolumns\u001b[49m\u001b[38;5;241;43m=\u001b[39;49m\u001b[43mcolumns\u001b[49m\u001b[43m,\u001b[49m\n\u001b[0;32m   5273\u001b[0m \u001b[43m        \u001b[49m\u001b[43mlevel\u001b[49m\u001b[38;5;241;43m=\u001b[39;49m\u001b[43mlevel\u001b[49m\u001b[43m,\u001b[49m\n\u001b[0;32m   5274\u001b[0m \u001b[43m        \u001b[49m\u001b[43minplace\u001b[49m\u001b[38;5;241;43m=\u001b[39;49m\u001b[43minplace\u001b[49m\u001b[43m,\u001b[49m\n\u001b[0;32m   5275\u001b[0m \u001b[43m        \u001b[49m\u001b[43merrors\u001b[49m\u001b[38;5;241;43m=\u001b[39;49m\u001b[43merrors\u001b[49m\u001b[43m,\u001b[49m\n\u001b[0;32m   5276\u001b[0m \u001b[43m    \u001b[49m\u001b[43m)\u001b[49m\n",
      "File \u001b[1;32mc:\\users\\philipp\\appdata\\local\\programs\\python\\python39\\lib\\site-packages\\pandas\\core\\generic.py:4549\u001b[0m, in \u001b[0;36mNDFrame.drop\u001b[1;34m(self, labels, axis, index, columns, level, inplace, errors)\u001b[0m\n\u001b[0;32m   4547\u001b[0m \u001b[38;5;28;01mfor\u001b[39;00m axis, labels \u001b[38;5;129;01min\u001b[39;00m axes\u001b[38;5;241m.\u001b[39mitems():\n\u001b[0;32m   4548\u001b[0m     \u001b[38;5;28;01mif\u001b[39;00m labels \u001b[38;5;129;01mis\u001b[39;00m \u001b[38;5;129;01mnot\u001b[39;00m \u001b[38;5;28;01mNone\u001b[39;00m:\n\u001b[1;32m-> 4549\u001b[0m         obj \u001b[38;5;241m=\u001b[39m \u001b[43mobj\u001b[49m\u001b[38;5;241;43m.\u001b[39;49m\u001b[43m_drop_axis\u001b[49m\u001b[43m(\u001b[49m\u001b[43mlabels\u001b[49m\u001b[43m,\u001b[49m\u001b[43m \u001b[49m\u001b[43maxis\u001b[49m\u001b[43m,\u001b[49m\u001b[43m \u001b[49m\u001b[43mlevel\u001b[49m\u001b[38;5;241;43m=\u001b[39;49m\u001b[43mlevel\u001b[49m\u001b[43m,\u001b[49m\u001b[43m \u001b[49m\u001b[43merrors\u001b[49m\u001b[38;5;241;43m=\u001b[39;49m\u001b[43merrors\u001b[49m\u001b[43m)\u001b[49m\n\u001b[0;32m   4551\u001b[0m \u001b[38;5;28;01mif\u001b[39;00m inplace:\n\u001b[0;32m   4552\u001b[0m     \u001b[38;5;28mself\u001b[39m\u001b[38;5;241m.\u001b[39m_update_inplace(obj)\n",
      "File \u001b[1;32mc:\\users\\philipp\\appdata\\local\\programs\\python\\python39\\lib\\site-packages\\pandas\\core\\generic.py:4591\u001b[0m, in \u001b[0;36mNDFrame._drop_axis\u001b[1;34m(self, labels, axis, level, errors, only_slice)\u001b[0m\n\u001b[0;32m   4589\u001b[0m         new_axis \u001b[38;5;241m=\u001b[39m axis\u001b[38;5;241m.\u001b[39mdrop(labels, level\u001b[38;5;241m=\u001b[39mlevel, errors\u001b[38;5;241m=\u001b[39merrors)\n\u001b[0;32m   4590\u001b[0m     \u001b[38;5;28;01melse\u001b[39;00m:\n\u001b[1;32m-> 4591\u001b[0m         new_axis \u001b[38;5;241m=\u001b[39m \u001b[43maxis\u001b[49m\u001b[38;5;241;43m.\u001b[39;49m\u001b[43mdrop\u001b[49m\u001b[43m(\u001b[49m\u001b[43mlabels\u001b[49m\u001b[43m,\u001b[49m\u001b[43m \u001b[49m\u001b[43merrors\u001b[49m\u001b[38;5;241;43m=\u001b[39;49m\u001b[43merrors\u001b[49m\u001b[43m)\u001b[49m\n\u001b[0;32m   4592\u001b[0m     indexer \u001b[38;5;241m=\u001b[39m axis\u001b[38;5;241m.\u001b[39mget_indexer(new_axis)\n\u001b[0;32m   4594\u001b[0m \u001b[38;5;66;03m# Case for non-unique axis\u001b[39;00m\n\u001b[0;32m   4595\u001b[0m \u001b[38;5;28;01melse\u001b[39;00m:\n",
      "File \u001b[1;32mc:\\users\\philipp\\appdata\\local\\programs\\python\\python39\\lib\\site-packages\\pandas\\core\\indexes\\base.py:6696\u001b[0m, in \u001b[0;36mIndex.drop\u001b[1;34m(self, labels, errors)\u001b[0m\n\u001b[0;32m   6694\u001b[0m \u001b[38;5;28;01mif\u001b[39;00m mask\u001b[38;5;241m.\u001b[39many():\n\u001b[0;32m   6695\u001b[0m     \u001b[38;5;28;01mif\u001b[39;00m errors \u001b[38;5;241m!=\u001b[39m \u001b[38;5;124m\"\u001b[39m\u001b[38;5;124mignore\u001b[39m\u001b[38;5;124m\"\u001b[39m:\n\u001b[1;32m-> 6696\u001b[0m         \u001b[38;5;28;01mraise\u001b[39;00m \u001b[38;5;167;01mKeyError\u001b[39;00m(\u001b[38;5;124mf\u001b[39m\u001b[38;5;124m\"\u001b[39m\u001b[38;5;132;01m{\u001b[39;00m\u001b[38;5;28mlist\u001b[39m(labels[mask])\u001b[38;5;132;01m}\u001b[39;00m\u001b[38;5;124m not found in axis\u001b[39m\u001b[38;5;124m\"\u001b[39m)\n\u001b[0;32m   6697\u001b[0m     indexer \u001b[38;5;241m=\u001b[39m indexer[\u001b[38;5;241m~\u001b[39mmask]\n\u001b[0;32m   6698\u001b[0m \u001b[38;5;28;01mreturn\u001b[39;00m \u001b[38;5;28mself\u001b[39m\u001b[38;5;241m.\u001b[39mdelete(indexer)\n",
      "\u001b[1;31mKeyError\u001b[0m: \"['Unnamed: 0', 'body'] not found in axis\""
     ]
    }
   ],
   "source": [
    "cols = train.drop(columns = ['Unnamed: 0','body', 'Y', 'body_new']).columns"
   ]
  },
  {
   "cell_type": "code",
   "execution_count": 20,
   "metadata": {
    "colab": {
     "base_uri": "https://localhost:8080/"
    },
    "id": "XxzcujjzDuFJ",
    "outputId": "3fd11056-02eb-4332-f516-feeff80dbd78"
   },
   "outputs": [],
   "source": [
    "cols = np.array(cols)"
   ]
  },
  {
   "cell_type": "code",
   "execution_count": 21,
   "metadata": {
    "colab": {
     "base_uri": "https://localhost:8080/"
    },
    "id": "T1BPbV8tEGGp",
    "outputId": "582d9a44-69d4-4725-eeda-afcc681f51b1"
   },
   "outputs": [],
   "source": [
    "train_vecs = []\n",
    "\n",
    "for i in range(len(train)):\n",
    "  topic_vec = []\n",
    "  for c in cols:\n",
    "    topic_vec.extend([train.iloc[i][c]])   \n",
    "  train_vecs.append(topic_vec)"
   ]
  },
  {
   "cell_type": "code",
   "execution_count": 22,
   "metadata": {
    "colab": {
     "base_uri": "https://localhost:8080/"
    },
    "id": "CbyCpR9nEISv",
    "outputId": "d6876788-d027-4517-d76d-4aaec99f8a8a"
   },
   "outputs": [],
   "source": [
    "features = np.array(train_vecs)\n",
    "X_train = np.concatenate((X3,X20,features), axis=1)\n",
    "y_train = np.array(train.Y)"
   ]
  },
  {
   "cell_type": "code",
   "execution_count": 23,
   "metadata": {
    "colab": {
     "base_uri": "https://localhost:8080/"
    },
    "id": "zfH9-xgWEQQc",
    "outputId": "c57cf36d-f6d9-4e98-d4d2-3272f6c041b0"
   },
   "outputs": [],
   "source": [
    "def get_bigram(df):\n",
    "    words = list(sent_to_words(df.body_new))\n",
    "    bigram = bigrams(words)\n",
    "    bigram = [bigram[review] for review in words]\n",
    "    return bigram"
   ]
  },
  {
   "cell_type": "code",
   "execution_count": 24,
   "metadata": {
    "colab": {
     "base_uri": "https://localhost:8080/"
    },
    "id": "ulEIDVtMESgV",
    "outputId": "2396de06-1b9f-4ff8-f787-7875d3672410"
   },
   "outputs": [],
   "source": [
    "bigram_test = get_bigram(test)"
   ]
  },
  {
   "cell_type": "code",
   "execution_count": 25,
   "metadata": {
    "colab": {
     "base_uri": "https://localhost:8080/"
    },
    "id": "S2oHay9PEVWF",
    "outputId": "0d9d426b-b6b7-451f-be65-ef091c4b943a"
   },
   "outputs": [],
   "source": [
    "lda_train3 = gensim.models.ldamulticore.LdaMulticore.load('lda_train3.model')\n",
    "lda_train20 = gensim.models.ldamulticore.LdaMulticore.load('lda_train20.model')"
   ]
  },
  {
   "cell_type": "code",
   "execution_count": 26,
   "metadata": {
    "colab": {
     "base_uri": "https://localhost:8080/"
    },
    "id": "U4bfFGXDEYFe",
    "outputId": "54369778-43e1-4012-a5c0-e0f5574cff49"
   },
   "outputs": [],
   "source": [
    "test_corpus = [train_id2word.doc2bow(body_new) for body_new in bigram_test]"
   ]
  },
  {
   "cell_type": "code",
   "execution_count": 27,
   "metadata": {
    "colab": {
     "base_uri": "https://localhost:8080/"
    },
    "id": "J2IqwnxzEbNH",
    "outputId": "571ae724-30af-46ad-988f-c301b6c9f47e"
   },
   "outputs": [],
   "source": [
    "test_vecs3 = []\n",
    "for i in range(len(test)):\n",
    "    top_topics = lda_train3.get_document_topics(test_corpus[i], minimum_probability=0.0)\n",
    "    topic_vec = [top_topics[i][1] for i in range(3)]\n",
    "    test_vecs3.append(topic_vec)\n",
    "\n",
    "X3 = np.array(test_vecs3)\n",
    "\n",
    "test_vecs20 = []\n",
    "for i in range(len(test)):\n",
    "    top_topics = lda_train20.get_document_topics(test_corpus[i], minimum_probability=0.0)\n",
    "    topic_vec = [top_topics[i][1] for i in range(20)]\n",
    "    test_vecs20.append(topic_vec)\n",
    "\n",
    "X20 = np.array(test_vecs20)"
   ]
  },
  {
   "cell_type": "code",
   "execution_count": 28,
   "metadata": {
    "colab": {
     "base_uri": "https://localhost:8080/"
    },
    "id": "0aqAZRtxEdlj",
    "outputId": "b5c0892b-ad84-43f4-8ff2-57acb740ef9c"
   },
   "outputs": [],
   "source": [
    "test_vecs = []\n",
    "\n",
    "for i in range(len(test)):\n",
    "  topic_vec = []\n",
    "  for c in cols:\n",
    "    topic_vec.extend([test.iloc[i][c]])   \n",
    "  test_vecs.append(topic_vec)"
   ]
  },
  {
   "cell_type": "code",
   "execution_count": 29,
   "metadata": {
    "colab": {
     "base_uri": "https://localhost:8080/"
    },
    "id": "LeAzkTJ4EgXJ",
    "outputId": "4f0aeab8-d060-4b53-9810-7a689bd2e716"
   },
   "outputs": [],
   "source": [
    "features = np.array(test_vecs)\n",
    "X_test = np.concatenate((X3,X20,features), axis=1)\n",
    "y_test = np.array(test.Y)"
   ]
  },
  {
   "cell_type": "code",
   "execution_count": 32,
   "metadata": {
    "id": "eQGPaxMIG-6O"
   },
   "outputs": [],
   "source": [
    "from sklearn import metrics\n",
    "from sklearn.metrics import confusion_matrix\n",
    "from sklearn.metrics import classification_report\n",
    "from sklearn.metrics import f1_score, accuracy_score, balanced_accuracy_score, log_loss, roc_auc_score\n",
    "from sklearn.linear_model import LogisticRegression\n",
    "from sklearn.pipeline import Pipeline\n",
    "from sklearn.preprocessing import StandardScaler\n",
    "\n",
    "def metrics(y_test, y_pred, y_pred_proba):\n",
    "  \n",
    "  conf = confusion_matrix(y_test, y_pred)\n",
    "  print(conf)\n",
    "  f1_ma = round(f1_score(y_test, y_pred, average='macro'), 4)\n",
    "  f1_mi = round(f1_score(y_test, y_pred, average='micro'), 4)\n",
    "  f1_we = round(f1_score(y_test, y_pred, average='weighted'), 4)\n",
    "  b_acc = round(balanced_accuracy_score(y_test, y_pred), 4)\n",
    "  neg_ll = round(- log_loss(y_test, y_pred_proba), 4)\n",
    "  roc_auc_ovr = round(roc_auc_score(y_test, y_pred_proba, average='weighted', multi_class = 'ovr'), 4)\n",
    "  roc_auc_ovo = round(roc_auc_score(y_test, y_pred_proba, average='weighted', multi_class = 'ovo'), 4)\n",
    "\n",
    "  print('f1_score_macro:', f1_ma)\n",
    "  print('f1_score_micro:', f1_mi)\n",
    "  print('f1_score_weighted:', f1_we)\n",
    "  print('balanced_accuracy_score:', b_acc)\n",
    "  print('neg_log_loss:', neg_ll)\n",
    "  print('roc_auc_score ovr:', roc_auc_ovr)\n",
    "  print('roc_auc_score ovo:', roc_auc_ovo)\n",
    "\n",
    "  return pd.DataFrame({'features': ['+LDA'],'f1_score_macro': [f1_ma], 'f1_score_micro': [f1_mi],'f1_score_weighted': [f1_we], 'balanced_accuracy_score': [b_acc], 'neg_log_loss': [neg_ll],'roc_auc_score ovr': [roc_auc_ovr], 'roc_auc_score ovo': [roc_auc_ovo]})\n"
   ]
  },
  {
   "cell_type": "code",
   "execution_count": 33,
   "metadata": {
    "id": "GGkekMGqHPvE"
   },
   "outputs": [
    {
     "name": "stdout",
     "output_type": "stream",
     "text": [
      "[[45956  5008  2196]\n",
      " [  171  1403   418]\n",
      " [ 2681  4967  5784]]\n",
      "f1_score_macro: 0.5471\n",
      "f1_score_micro: 0.7749\n",
      "f1_score_weighted: 0.8085\n",
      "balanced_accuracy_score: 0.6665\n",
      "neg_log_loss: -0.698\n",
      "roc_auc_score ovr: 0.8767\n",
      "roc_auc_score ovo: 0.8729\n"
     ]
    }
   ],
   "source": [
    "pipel = Pipeline(steps = [('scaler', StandardScaler()), ('model',LogisticRegression(max_iter=10000,class_weight = 'balanced'))])\n",
    "\n",
    "pipel.fit(X_train, y_train)\n",
    "\n",
    "y_pred = pipel.predict(X_test)\n",
    "y_pred_proba = pipel.predict_proba(X_test)\n",
    "\n",
    "res = metrics(y_test, y_pred, y_pred_proba)"
   ]
  },
  {
   "cell_type": "code",
   "execution_count": null,
   "metadata": {
    "id": "EHJFAIKFHfkq"
   },
   "outputs": [],
   "source": [
    "with open('drive/MyDrive/Diplom/results.csv') as f:\n",
    "    results = pd.read_csv(f)"
   ]
  },
  {
   "cell_type": "code",
   "execution_count": 34,
   "metadata": {},
   "outputs": [],
   "source": [
    "results = pd.read_csv('results.csv', sep='\\t', encoding='ISO-8859-1')\n"
   ]
  },
  {
   "cell_type": "code",
   "execution_count": 36,
   "metadata": {
    "id": "1fi-MrQqHi3T"
   },
   "outputs": [],
   "source": [
    "results = pd.concat([results, res])\n",
    "# results.drop(columns = ['Unnamed: 0'], inplace = True)"
   ]
  },
  {
   "cell_type": "code",
   "execution_count": 37,
   "metadata": {
    "colab": {
     "base_uri": "https://localhost:8080/"
    },
    "id": "CgpWXKtbEoSg",
    "outputId": "e5ee6d9a-c205-4f44-a407-940783d2c692"
   },
   "outputs": [],
   "source": [
    "columns = np.concatenate((np.array(['a3','b3','c3','d20','e20','f20','g20','h20','i20','j20','k20','l20','m20','n20','o20','p20','q20','r20','s20','t20','u20','v20','w20']),cols), axis=0)"
   ]
  },
  {
   "cell_type": "code",
   "execution_count": 38,
   "metadata": {
    "colab": {
     "base_uri": "https://localhost:8080/"
    },
    "id": "MjfTB2WsEqWu",
    "outputId": "135d7c1d-49cc-4996-baab-8de6d5ab4f92"
   },
   "outputs": [],
   "source": [
    "test = pd.DataFrame(X_test, columns = columns)\n",
    "test['Y'] = y_test"
   ]
  },
  {
   "cell_type": "code",
   "execution_count": 39,
   "metadata": {
    "colab": {
     "base_uri": "https://localhost:8080/"
    },
    "id": "UcnMFQ3KEsbN",
    "outputId": "89715084-db59-4fd6-a86d-6c2009d40a4d"
   },
   "outputs": [],
   "source": [
    "train = pd.DataFrame(X_train, columns = columns)\n",
    "train['Y'] = y_train"
   ]
  },
  {
   "cell_type": "code",
   "execution_count": 40,
   "metadata": {
    "id": "p1Rk6UHiEuso"
   },
   "outputs": [],
   "source": [
    "train.to_csv('train3.csv', sep='\\t')\n",
    "test.to_csv('test3.csv', sep='\\t')\n",
    "results.to_csv('results.csv')"
   ]
  },
  {
   "cell_type": "code",
   "execution_count": null,
   "metadata": {},
   "outputs": [],
   "source": []
  }
 ],
 "metadata": {
  "colab": {
   "provenance": []
  },
  "kernelspec": {
   "display_name": "Python 3 (ipykernel)",
   "language": "python",
   "name": "python3"
  },
  "language_info": {
   "codemirror_mode": {
    "name": "ipython",
    "version": 3
   },
   "file_extension": ".py",
   "mimetype": "text/x-python",
   "name": "python",
   "nbconvert_exporter": "python",
   "pygments_lexer": "ipython3",
   "version": "3.9.5"
  }
 },
 "nbformat": 4,
 "nbformat_minor": 1
}
