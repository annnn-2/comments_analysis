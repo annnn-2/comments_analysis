{
  "nbformat": 4,
  "nbformat_minor": 0,
  "metadata": {
    "colab": {
      "provenance": [],
      "collapsed_sections": [
        "4VBKPFbkXSYA",
        "HOlDqtuTXYjo"
      ]
    },
    "kernelspec": {
      "name": "python3",
      "display_name": "Python 3"
    },
    "language_info": {
      "name": "python"
    }
  },
  "cells": [
    {
      "cell_type": "code",
      "execution_count": 1,
      "metadata": {
        "id": "yUdwWdICEZsa"
      },
      "outputs": [],
      "source": [
        "import pandas as pd\n",
        "import numpy as np \n",
        "import matplotlib.pyplot as plt\n",
        "import seaborn as sns"
      ]
    },
    {
      "cell_type": "markdown",
      "source": [
        "#Датасет с нормальными комментариями"
      ],
      "metadata": {
        "id": "gEyHr0zSXE4A"
      }
    },
    {
      "cell_type": "markdown",
      "source": [
        "Скачиваем датасет с номальными комментариями.\n"
      ],
      "metadata": {
        "id": "m1RZ3WbHOEcQ"
      }
    },
    {
      "cell_type": "code",
      "source": [
        "with open('drive/MyDrive/Diplom/my_clean_data_normies.csv') as f:\n",
        "    my_data_normies = pd.read_csv(f, sep=',')"
      ],
      "metadata": {
        "id": "0pxQ8hVuEa4t"
      },
      "execution_count": 2,
      "outputs": []
    },
    {
      "cell_type": "code",
      "source": [
        "#my_data_normies"
      ],
      "metadata": {
        "id": "b4QJNXhGFMFQ"
      },
      "execution_count": 3,
      "outputs": []
    },
    {
      "cell_type": "markdown",
      "source": [
        "Проверим датасет с нормальными комментариями, так как многие имена авторов содержат 'bot', что вызывает подозрения."
      ],
      "metadata": {
        "id": "Mfssv6o0OiWv"
      }
    },
    {
      "cell_type": "code",
      "source": [
        "import re\n",
        "\n",
        "word = '[bB][oO][tT]'\n",
        "\n",
        "def bot(author_name):\n",
        "    #print(author_name)\n",
        "    if pd.isna(author_name):\n",
        "      #print(author_name)\n",
        "      return 0\n",
        "    if re.search(word, author_name) != None:\n",
        "      return 1\n",
        "    return 0\n",
        "\n",
        "\n",
        "my_data_normies['bot_author'] = my_data_normies['author'].apply(bot)"
      ],
      "metadata": {
        "id": "he35IQceHFMl"
      },
      "execution_count": 4,
      "outputs": []
    },
    {
      "cell_type": "code",
      "source": [
        "sum(my_data_normies['bot_author'])"
      ],
      "metadata": {
        "colab": {
          "base_uri": "https://localhost:8080/"
        },
        "id": "KqW9tdBlChYs",
        "outputId": "e40f9876-0af0-45a3-e22b-5cc999b0d077"
      },
      "execution_count": 5,
      "outputs": [
        {
          "output_type": "execute_result",
          "data": {
            "text/plain": [
              "120637"
            ]
          },
          "metadata": {},
          "execution_count": 5
        }
      ]
    },
    {
      "cell_type": "markdown",
      "source": [
        "Получаем 120 637 строк, в которых имя автора похоже имя бота."
      ],
      "metadata": {
        "id": "8AByaELpPHyQ"
      }
    },
    {
      "cell_type": "code",
      "source": [
        "my_data_normies = my_data_normies.drop(my_data_normies[my_data_normies.bot_author == 1].index)"
      ],
      "metadata": {
        "id": "RmTFuM0kG5bj"
      },
      "execution_count": 6,
      "outputs": []
    },
    {
      "cell_type": "markdown",
      "source": [
        "Попробуем другой датасет для нормальных комментариев."
      ],
      "metadata": {
        "id": "slYY39rhPI3v"
      }
    },
    {
      "cell_type": "code",
      "source": [
        "normal_comments=pd.read_csv(\"drive/MyDrive/Diplom/csv-zusammenfuehren.de_3mjg6fs7.csv\", \n",
        "                            usecols = [\"link_id\", \"author\", \"score\", \"body\", \"ups\"],\n",
        "                            dtype={\n",
        "                                \"link_id\": str,\n",
        "                                #\"gilded\": bool,  = 0 everywhere\n",
        "                                \"author\": str,\n",
        "                                #\"created_utc\": int,\n",
        "                                #\"score\": np.float64,\n",
        "                                \"body\": str,\n",
        "                                #\"controversiality\": np.float64, = 0 everywhere\n",
        "                                #\"ups\": np.float64\n",
        "                                }, error_bad_lines=False)"
      ],
      "metadata": {
        "colab": {
          "base_uri": "https://localhost:8080/"
        },
        "id": "0ns_HHaoDmS9",
        "outputId": "3585b002-6d94-4a31-e64f-93a0c5be2597"
      },
      "execution_count": 7,
      "outputs": [
        {
          "output_type": "stream",
          "name": "stderr",
          "text": [
            "<ipython-input-7-9475aeb00ac9>:1: FutureWarning: The error_bad_lines argument has been deprecated and will be removed in a future version. Use on_bad_lines in the future.\n",
            "\n",
            "\n",
            "  normal_comments=pd.read_csv(\"drive/MyDrive/Diplom/csv-zusammenfuehren.de_3mjg6fs7.csv\",\n"
          ]
        }
      ]
    },
    {
      "cell_type": "code",
      "source": [
        "normal_comments = normal_comments.convert_dtypes()\n",
        "normal_comments.dtypes"
      ],
      "metadata": {
        "colab": {
          "base_uri": "https://localhost:8080/"
        },
        "id": "YTLw0IvewXfA",
        "outputId": "a6c488bd-0ca4-45cf-958c-bdbee007c233"
      },
      "execution_count": 8,
      "outputs": [
        {
          "output_type": "execute_result",
          "data": {
            "text/plain": [
              "body       string\n",
              "author     string\n",
              "link_id    string\n",
              "score      string\n",
              "ups        string\n",
              "dtype: object"
            ]
          },
          "metadata": {},
          "execution_count": 8
        }
      ]
    },
    {
      "cell_type": "code",
      "source": [
        "normal_comments"
      ],
      "metadata": {
        "colab": {
          "base_uri": "https://localhost:8080/",
          "height": 424
        },
        "id": "OeLt8if9KmlY",
        "outputId": "335acac9-28e2-47c8-bb88-36f103d970d2"
      },
      "execution_count": 9,
      "outputs": [
        {
          "output_type": "execute_result",
          "data": {
            "text/plain": [
              "                                                    body              author  \\\n",
              "0      I guess there was some awkwardness, but it was...        elevenghosts   \n",
              "1      Food schmooze isn't bad, I've gotten a few int...       BeerBaldBeard   \n",
              "2      Is there a fatigue animation before sleep that...            tmrxwoot   \n",
              "3      I recently saw some Shohei Inamura films, spec...       Zassolluto711   \n",
              "4                                How long did that take?             Ditto_B   \n",
              "...                                                  ...                 ...   \n",
              "45144  I remember the 2007 clippers.\n",
              "\n",
              "Which is the sa...           kcheng686   \n",
              "45145  On second thought you might actually be autistic     DisconnectedCorn   \n",
              "45146  Hello darkness, my old friend,\n",
              "I've come to ta...          najing_ftw   \n",
              "45147  You can't use the enter key when you're doing ...  Fourteen_of_Twelve   \n",
              "45148  I was, but I flashed stock so I could get OTAs...           RanaI_Ape   \n",
              "\n",
              "         link_id score   ups  \n",
              "0      t3_2urgi1     1     1  \n",
              "1      t3_2wj4w8     1     1  \n",
              "2      t3_2vvy1m     1     1  \n",
              "3      t3_2x9q0x     2     2  \n",
              "4      t3_2w566b     2     2  \n",
              "...          ...   ...   ...  \n",
              "45144  t3_5on47d     1  <NA>  \n",
              "45145  t3_5q9ppf     1  <NA>  \n",
              "45146  t3_5pqb17     3  <NA>  \n",
              "45147  t3_5oh8zt     5  <NA>  \n",
              "45148  t3_5obnei     1  <NA>  \n",
              "\n",
              "[45149 rows x 5 columns]"
            ],
            "text/html": [
              "\n",
              "  <div id=\"df-1acd9175-ba96-4542-a303-9df6b24113e4\">\n",
              "    <div class=\"colab-df-container\">\n",
              "      <div>\n",
              "<style scoped>\n",
              "    .dataframe tbody tr th:only-of-type {\n",
              "        vertical-align: middle;\n",
              "    }\n",
              "\n",
              "    .dataframe tbody tr th {\n",
              "        vertical-align: top;\n",
              "    }\n",
              "\n",
              "    .dataframe thead th {\n",
              "        text-align: right;\n",
              "    }\n",
              "</style>\n",
              "<table border=\"1\" class=\"dataframe\">\n",
              "  <thead>\n",
              "    <tr style=\"text-align: right;\">\n",
              "      <th></th>\n",
              "      <th>body</th>\n",
              "      <th>author</th>\n",
              "      <th>link_id</th>\n",
              "      <th>score</th>\n",
              "      <th>ups</th>\n",
              "    </tr>\n",
              "  </thead>\n",
              "  <tbody>\n",
              "    <tr>\n",
              "      <th>0</th>\n",
              "      <td>I guess there was some awkwardness, but it was...</td>\n",
              "      <td>elevenghosts</td>\n",
              "      <td>t3_2urgi1</td>\n",
              "      <td>1</td>\n",
              "      <td>1</td>\n",
              "    </tr>\n",
              "    <tr>\n",
              "      <th>1</th>\n",
              "      <td>Food schmooze isn't bad, I've gotten a few int...</td>\n",
              "      <td>BeerBaldBeard</td>\n",
              "      <td>t3_2wj4w8</td>\n",
              "      <td>1</td>\n",
              "      <td>1</td>\n",
              "    </tr>\n",
              "    <tr>\n",
              "      <th>2</th>\n",
              "      <td>Is there a fatigue animation before sleep that...</td>\n",
              "      <td>tmrxwoot</td>\n",
              "      <td>t3_2vvy1m</td>\n",
              "      <td>1</td>\n",
              "      <td>1</td>\n",
              "    </tr>\n",
              "    <tr>\n",
              "      <th>3</th>\n",
              "      <td>I recently saw some Shohei Inamura films, spec...</td>\n",
              "      <td>Zassolluto711</td>\n",
              "      <td>t3_2x9q0x</td>\n",
              "      <td>2</td>\n",
              "      <td>2</td>\n",
              "    </tr>\n",
              "    <tr>\n",
              "      <th>4</th>\n",
              "      <td>How long did that take?</td>\n",
              "      <td>Ditto_B</td>\n",
              "      <td>t3_2w566b</td>\n",
              "      <td>2</td>\n",
              "      <td>2</td>\n",
              "    </tr>\n",
              "    <tr>\n",
              "      <th>...</th>\n",
              "      <td>...</td>\n",
              "      <td>...</td>\n",
              "      <td>...</td>\n",
              "      <td>...</td>\n",
              "      <td>...</td>\n",
              "    </tr>\n",
              "    <tr>\n",
              "      <th>45144</th>\n",
              "      <td>I remember the 2007 clippers.\n",
              "\n",
              "Which is the sa...</td>\n",
              "      <td>kcheng686</td>\n",
              "      <td>t3_5on47d</td>\n",
              "      <td>1</td>\n",
              "      <td>&lt;NA&gt;</td>\n",
              "    </tr>\n",
              "    <tr>\n",
              "      <th>45145</th>\n",
              "      <td>On second thought you might actually be autistic</td>\n",
              "      <td>DisconnectedCorn</td>\n",
              "      <td>t3_5q9ppf</td>\n",
              "      <td>1</td>\n",
              "      <td>&lt;NA&gt;</td>\n",
              "    </tr>\n",
              "    <tr>\n",
              "      <th>45146</th>\n",
              "      <td>Hello darkness, my old friend,\n",
              "I've come to ta...</td>\n",
              "      <td>najing_ftw</td>\n",
              "      <td>t3_5pqb17</td>\n",
              "      <td>3</td>\n",
              "      <td>&lt;NA&gt;</td>\n",
              "    </tr>\n",
              "    <tr>\n",
              "      <th>45147</th>\n",
              "      <td>You can't use the enter key when you're doing ...</td>\n",
              "      <td>Fourteen_of_Twelve</td>\n",
              "      <td>t3_5oh8zt</td>\n",
              "      <td>5</td>\n",
              "      <td>&lt;NA&gt;</td>\n",
              "    </tr>\n",
              "    <tr>\n",
              "      <th>45148</th>\n",
              "      <td>I was, but I flashed stock so I could get OTAs...</td>\n",
              "      <td>RanaI_Ape</td>\n",
              "      <td>t3_5obnei</td>\n",
              "      <td>1</td>\n",
              "      <td>&lt;NA&gt;</td>\n",
              "    </tr>\n",
              "  </tbody>\n",
              "</table>\n",
              "<p>45149 rows × 5 columns</p>\n",
              "</div>\n",
              "      <button class=\"colab-df-convert\" onclick=\"convertToInteractive('df-1acd9175-ba96-4542-a303-9df6b24113e4')\"\n",
              "              title=\"Convert this dataframe to an interactive table.\"\n",
              "              style=\"display:none;\">\n",
              "        \n",
              "  <svg xmlns=\"http://www.w3.org/2000/svg\" height=\"24px\"viewBox=\"0 0 24 24\"\n",
              "       width=\"24px\">\n",
              "    <path d=\"M0 0h24v24H0V0z\" fill=\"none\"/>\n",
              "    <path d=\"M18.56 5.44l.94 2.06.94-2.06 2.06-.94-2.06-.94-.94-2.06-.94 2.06-2.06.94zm-11 1L8.5 8.5l.94-2.06 2.06-.94-2.06-.94L8.5 2.5l-.94 2.06-2.06.94zm10 10l.94 2.06.94-2.06 2.06-.94-2.06-.94-.94-2.06-.94 2.06-2.06.94z\"/><path d=\"M17.41 7.96l-1.37-1.37c-.4-.4-.92-.59-1.43-.59-.52 0-1.04.2-1.43.59L10.3 9.45l-7.72 7.72c-.78.78-.78 2.05 0 2.83L4 21.41c.39.39.9.59 1.41.59.51 0 1.02-.2 1.41-.59l7.78-7.78 2.81-2.81c.8-.78.8-2.07 0-2.86zM5.41 20L4 18.59l7.72-7.72 1.47 1.35L5.41 20z\"/>\n",
              "  </svg>\n",
              "      </button>\n",
              "      \n",
              "  <style>\n",
              "    .colab-df-container {\n",
              "      display:flex;\n",
              "      flex-wrap:wrap;\n",
              "      gap: 12px;\n",
              "    }\n",
              "\n",
              "    .colab-df-convert {\n",
              "      background-color: #E8F0FE;\n",
              "      border: none;\n",
              "      border-radius: 50%;\n",
              "      cursor: pointer;\n",
              "      display: none;\n",
              "      fill: #1967D2;\n",
              "      height: 32px;\n",
              "      padding: 0 0 0 0;\n",
              "      width: 32px;\n",
              "    }\n",
              "\n",
              "    .colab-df-convert:hover {\n",
              "      background-color: #E2EBFA;\n",
              "      box-shadow: 0px 1px 2px rgba(60, 64, 67, 0.3), 0px 1px 3px 1px rgba(60, 64, 67, 0.15);\n",
              "      fill: #174EA6;\n",
              "    }\n",
              "\n",
              "    [theme=dark] .colab-df-convert {\n",
              "      background-color: #3B4455;\n",
              "      fill: #D2E3FC;\n",
              "    }\n",
              "\n",
              "    [theme=dark] .colab-df-convert:hover {\n",
              "      background-color: #434B5C;\n",
              "      box-shadow: 0px 1px 3px 1px rgba(0, 0, 0, 0.15);\n",
              "      filter: drop-shadow(0px 1px 2px rgba(0, 0, 0, 0.3));\n",
              "      fill: #FFFFFF;\n",
              "    }\n",
              "  </style>\n",
              "\n",
              "      <script>\n",
              "        const buttonEl =\n",
              "          document.querySelector('#df-1acd9175-ba96-4542-a303-9df6b24113e4 button.colab-df-convert');\n",
              "        buttonEl.style.display =\n",
              "          google.colab.kernel.accessAllowed ? 'block' : 'none';\n",
              "\n",
              "        async function convertToInteractive(key) {\n",
              "          const element = document.querySelector('#df-1acd9175-ba96-4542-a303-9df6b24113e4');\n",
              "          const dataTable =\n",
              "            await google.colab.kernel.invokeFunction('convertToInteractive',\n",
              "                                                     [key], {});\n",
              "          if (!dataTable) return;\n",
              "\n",
              "          const docLinkHtml = 'Like what you see? Visit the ' +\n",
              "            '<a target=\"_blank\" href=https://colab.research.google.com/notebooks/data_table.ipynb>data table notebook</a>'\n",
              "            + ' to learn more about interactive tables.';\n",
              "          element.innerHTML = '';\n",
              "          dataTable['output_type'] = 'display_data';\n",
              "          await google.colab.output.renderOutput(dataTable, element);\n",
              "          const docLink = document.createElement('div');\n",
              "          docLink.innerHTML = docLinkHtml;\n",
              "          element.appendChild(docLink);\n",
              "        }\n",
              "      </script>\n",
              "    </div>\n",
              "  </div>\n",
              "  "
            ]
          },
          "metadata": {},
          "execution_count": 9
        }
      ]
    },
    {
      "cell_type": "markdown",
      "source": [
        "Посчитаем количество авторов содержащих паттерн \"bot\"."
      ],
      "metadata": {
        "id": "MF-Es2h_P2fa"
      }
    },
    {
      "cell_type": "code",
      "source": [
        "normal_comments['bot_author'] = normal_comments['author'].apply(bot)\n",
        "sum(normal_comments['bot_author'])"
      ],
      "metadata": {
        "colab": {
          "base_uri": "https://localhost:8080/"
        },
        "id": "rDZ5eiXeETMw",
        "outputId": "3ba47aac-a5d8-4a08-da04-a05e9e9affdc"
      },
      "execution_count": 10,
      "outputs": [
        {
          "output_type": "execute_result",
          "data": {
            "text/plain": [
              "303"
            ]
          },
          "metadata": {},
          "execution_count": 10
        }
      ]
    },
    {
      "cell_type": "markdown",
      "source": [
        "Таких авторов всего 303, значит этот датасет нам вероятно подходит больше. Удалим комментарии этих авторов."
      ],
      "metadata": {
        "id": "laLslTy-P9TG"
      }
    },
    {
      "cell_type": "code",
      "source": [
        "normal_comments = normal_comments.drop(normal_comments[normal_comments.bot_author == 1].index)"
      ],
      "metadata": {
        "id": "tIip-oQ4RF2k"
      },
      "execution_count": 11,
      "outputs": []
    },
    {
      "cell_type": "markdown",
      "source": [
        "Добавим признаки is_bot is_troll is_normal."
      ],
      "metadata": {
        "id": "imTwFsOrZtVY"
      }
    },
    {
      "cell_type": "code",
      "source": [
        "normal_comments.drop(['bot_author'], axis=1, inplace = True)\n",
        "normal_comments['is_bot'] = False\n",
        "normal_comments['is_troll'] = False\n",
        "normal_comments['is_normal'] = True"
      ],
      "metadata": {
        "id": "87yrZgQoq8vM"
      },
      "execution_count": 12,
      "outputs": []
    },
    {
      "cell_type": "markdown",
      "source": [
        "Проверим все признаки на соответствие типу и удалим или заменим пустые значения."
      ],
      "metadata": {
        "id": "K6Gu2zIYXBpx"
      }
    },
    {
      "cell_type": "code",
      "source": [
        "print('number of nuns in score column:' ,normal_comments.score.isna().sum())\n",
        "print('number of nuns in link_id column:' ,normal_comments.link_id.isna().sum())\n",
        "\n",
        "print('number of nuns in author column:' ,normal_comments.author.isna().sum())\n",
        "print('number of nuns in body column:' ,normal_comments.body.isna().sum())\n",
        "\n",
        "print('number of nuns in ups column:' ,normal_comments.ups.isna().sum())"
      ],
      "metadata": {
        "colab": {
          "base_uri": "https://localhost:8080/"
        },
        "id": "-k73VtCnYOY-",
        "outputId": "e6880dcd-00bd-43b7-fa6f-1743689b6f21"
      },
      "execution_count": 13,
      "outputs": [
        {
          "output_type": "stream",
          "name": "stdout",
          "text": [
            "number of nuns in score column: 13\n",
            "number of nuns in link_id column: 13\n",
            "number of nuns in author column: 16\n",
            "number of nuns in body column: 0\n",
            "number of nuns in ups column: 13499\n"
          ]
        }
      ]
    },
    {
      "cell_type": "markdown",
      "source": [
        "Зополняем 'score','ups' нулями, а 'link_id','author' строкой 'unknown'."
      ],
      "metadata": {
        "id": "a4IqN8yFkyjb"
      }
    },
    {
      "cell_type": "code",
      "source": [
        "normal_comments[['score','ups']] = normal_comments[['score','ups']].fillna(value='0')\n",
        "normal_comments[['link_id','author']] = normal_comments[['link_id','author']].fillna(value='unknown')"
      ],
      "metadata": {
        "id": "mrLaLqnkXz_2"
      },
      "execution_count": 14,
      "outputs": []
    },
    {
      "cell_type": "code",
      "source": [
        "def check_num(x):\n",
        "  result = re.match(\"[-+]?\\d+$\", x)\n",
        "  \n",
        "  if result is not None:\n",
        "    return 0\n",
        "  else:\n",
        "    return 1"
      ],
      "metadata": {
        "id": "CEpkPjrdXz6y"
      },
      "execution_count": 15,
      "outputs": []
    },
    {
      "cell_type": "code",
      "source": [
        "normal_comments['is_score_ok'] = normal_comments.score.apply(lambda x: check_num(x))\n",
        "print('number of wrong-type values in score column', normal_comments['is_score_ok'].sum())"
      ],
      "metadata": {
        "colab": {
          "base_uri": "https://localhost:8080/"
        },
        "id": "C_-kYyyh8ui6",
        "outputId": "73b23c01-0317-418a-a01d-78f252dc0415"
      },
      "execution_count": 16,
      "outputs": [
        {
          "output_type": "stream",
          "name": "stdout",
          "text": [
            "number of wrong-type values in score column 6\n"
          ]
        }
      ]
    },
    {
      "cell_type": "code",
      "source": [
        "normal_comments[normal_comments.is_score_ok == 1]"
      ],
      "metadata": {
        "colab": {
          "base_uri": "https://localhost:8080/",
          "height": 368
        },
        "id": "8yfM7j1Vdgr7",
        "outputId": "676a8ff8-6c30-4e8e-a7a6-392ae7cac888"
      },
      "execution_count": 17,
      "outputs": [
        {
          "output_type": "execute_result",
          "data": {
            "text/plain": [
              "                                                    body  \\\n",
              "4579                                             However   \n",
              "9682   &gt; Sometimes, we need a moment to raise awar...   \n",
              "11213                                     And I'm really   \n",
              "33340  I thought Titan of Braavos was used by his fat...   \n",
              "38618  You mean to tell me that not all white people ...   \n",
              "40409  Who let Chip be on Reddit again?\n",
              "[removed],,,,...   \n",
              "\n",
              "                                                  author     link_id  \\\n",
              "4579                                               false  1425957719   \n",
              "9682                                             unknown    t5_2zc5x   \n",
              "11213   those negative people who contribute little o...       false   \n",
              "33340                                            unknown    t5_2r2o9   \n",
              "38618                                            unknown  1489440218   \n",
              "40409                                            unknown    t5_2qh0u   \n",
              "\n",
              "            score         ups  is_bot  is_troll  is_normal  is_score_ok  \n",
              "4579    t3_2ygb9z     cp9w6yh   False     False       True            1  \n",
              "9682   t1_cwbjml0   Fireteams   False     False       True            1  \n",
              "11213  p_U_c_K_IV  t1_ctitrc4   False     False       True            1  \n",
              "33340  t1_d5apvwb      asoiaf   False     False       True            1  \n",
              "38618   t3_5z537w     devy9pm   False     False       True            1  \n",
              "40409   t3_66v6i6        pics   False     False       True            1  "
            ],
            "text/html": [
              "\n",
              "  <div id=\"df-1a3859e0-c5bd-48f9-a9c3-e73c70855837\">\n",
              "    <div class=\"colab-df-container\">\n",
              "      <div>\n",
              "<style scoped>\n",
              "    .dataframe tbody tr th:only-of-type {\n",
              "        vertical-align: middle;\n",
              "    }\n",
              "\n",
              "    .dataframe tbody tr th {\n",
              "        vertical-align: top;\n",
              "    }\n",
              "\n",
              "    .dataframe thead th {\n",
              "        text-align: right;\n",
              "    }\n",
              "</style>\n",
              "<table border=\"1\" class=\"dataframe\">\n",
              "  <thead>\n",
              "    <tr style=\"text-align: right;\">\n",
              "      <th></th>\n",
              "      <th>body</th>\n",
              "      <th>author</th>\n",
              "      <th>link_id</th>\n",
              "      <th>score</th>\n",
              "      <th>ups</th>\n",
              "      <th>is_bot</th>\n",
              "      <th>is_troll</th>\n",
              "      <th>is_normal</th>\n",
              "      <th>is_score_ok</th>\n",
              "    </tr>\n",
              "  </thead>\n",
              "  <tbody>\n",
              "    <tr>\n",
              "      <th>4579</th>\n",
              "      <td>However</td>\n",
              "      <td>false</td>\n",
              "      <td>1425957719</td>\n",
              "      <td>t3_2ygb9z</td>\n",
              "      <td>cp9w6yh</td>\n",
              "      <td>False</td>\n",
              "      <td>False</td>\n",
              "      <td>True</td>\n",
              "      <td>1</td>\n",
              "    </tr>\n",
              "    <tr>\n",
              "      <th>9682</th>\n",
              "      <td>&amp;gt; Sometimes, we need a moment to raise awar...</td>\n",
              "      <td>unknown</td>\n",
              "      <td>t5_2zc5x</td>\n",
              "      <td>t1_cwbjml0</td>\n",
              "      <td>Fireteams</td>\n",
              "      <td>False</td>\n",
              "      <td>False</td>\n",
              "      <td>True</td>\n",
              "      <td>1</td>\n",
              "    </tr>\n",
              "    <tr>\n",
              "      <th>11213</th>\n",
              "      <td>And I'm really</td>\n",
              "      <td>those negative people who contribute little o...</td>\n",
              "      <td>false</td>\n",
              "      <td>p_U_c_K_IV</td>\n",
              "      <td>t1_ctitrc4</td>\n",
              "      <td>False</td>\n",
              "      <td>False</td>\n",
              "      <td>True</td>\n",
              "      <td>1</td>\n",
              "    </tr>\n",
              "    <tr>\n",
              "      <th>33340</th>\n",
              "      <td>I thought Titan of Braavos was used by his fat...</td>\n",
              "      <td>unknown</td>\n",
              "      <td>t5_2r2o9</td>\n",
              "      <td>t1_d5apvwb</td>\n",
              "      <td>asoiaf</td>\n",
              "      <td>False</td>\n",
              "      <td>False</td>\n",
              "      <td>True</td>\n",
              "      <td>1</td>\n",
              "    </tr>\n",
              "    <tr>\n",
              "      <th>38618</th>\n",
              "      <td>You mean to tell me that not all white people ...</td>\n",
              "      <td>unknown</td>\n",
              "      <td>1489440218</td>\n",
              "      <td>t3_5z537w</td>\n",
              "      <td>devy9pm</td>\n",
              "      <td>False</td>\n",
              "      <td>False</td>\n",
              "      <td>True</td>\n",
              "      <td>1</td>\n",
              "    </tr>\n",
              "    <tr>\n",
              "      <th>40409</th>\n",
              "      <td>Who let Chip be on Reddit again?\n",
              "[removed],,,,...</td>\n",
              "      <td>unknown</td>\n",
              "      <td>t5_2qh0u</td>\n",
              "      <td>t3_66v6i6</td>\n",
              "      <td>pics</td>\n",
              "      <td>False</td>\n",
              "      <td>False</td>\n",
              "      <td>True</td>\n",
              "      <td>1</td>\n",
              "    </tr>\n",
              "  </tbody>\n",
              "</table>\n",
              "</div>\n",
              "      <button class=\"colab-df-convert\" onclick=\"convertToInteractive('df-1a3859e0-c5bd-48f9-a9c3-e73c70855837')\"\n",
              "              title=\"Convert this dataframe to an interactive table.\"\n",
              "              style=\"display:none;\">\n",
              "        \n",
              "  <svg xmlns=\"http://www.w3.org/2000/svg\" height=\"24px\"viewBox=\"0 0 24 24\"\n",
              "       width=\"24px\">\n",
              "    <path d=\"M0 0h24v24H0V0z\" fill=\"none\"/>\n",
              "    <path d=\"M18.56 5.44l.94 2.06.94-2.06 2.06-.94-2.06-.94-.94-2.06-.94 2.06-2.06.94zm-11 1L8.5 8.5l.94-2.06 2.06-.94-2.06-.94L8.5 2.5l-.94 2.06-2.06.94zm10 10l.94 2.06.94-2.06 2.06-.94-2.06-.94-.94-2.06-.94 2.06-2.06.94z\"/><path d=\"M17.41 7.96l-1.37-1.37c-.4-.4-.92-.59-1.43-.59-.52 0-1.04.2-1.43.59L10.3 9.45l-7.72 7.72c-.78.78-.78 2.05 0 2.83L4 21.41c.39.39.9.59 1.41.59.51 0 1.02-.2 1.41-.59l7.78-7.78 2.81-2.81c.8-.78.8-2.07 0-2.86zM5.41 20L4 18.59l7.72-7.72 1.47 1.35L5.41 20z\"/>\n",
              "  </svg>\n",
              "      </button>\n",
              "      \n",
              "  <style>\n",
              "    .colab-df-container {\n",
              "      display:flex;\n",
              "      flex-wrap:wrap;\n",
              "      gap: 12px;\n",
              "    }\n",
              "\n",
              "    .colab-df-convert {\n",
              "      background-color: #E8F0FE;\n",
              "      border: none;\n",
              "      border-radius: 50%;\n",
              "      cursor: pointer;\n",
              "      display: none;\n",
              "      fill: #1967D2;\n",
              "      height: 32px;\n",
              "      padding: 0 0 0 0;\n",
              "      width: 32px;\n",
              "    }\n",
              "\n",
              "    .colab-df-convert:hover {\n",
              "      background-color: #E2EBFA;\n",
              "      box-shadow: 0px 1px 2px rgba(60, 64, 67, 0.3), 0px 1px 3px 1px rgba(60, 64, 67, 0.15);\n",
              "      fill: #174EA6;\n",
              "    }\n",
              "\n",
              "    [theme=dark] .colab-df-convert {\n",
              "      background-color: #3B4455;\n",
              "      fill: #D2E3FC;\n",
              "    }\n",
              "\n",
              "    [theme=dark] .colab-df-convert:hover {\n",
              "      background-color: #434B5C;\n",
              "      box-shadow: 0px 1px 3px 1px rgba(0, 0, 0, 0.15);\n",
              "      filter: drop-shadow(0px 1px 2px rgba(0, 0, 0, 0.3));\n",
              "      fill: #FFFFFF;\n",
              "    }\n",
              "  </style>\n",
              "\n",
              "      <script>\n",
              "        const buttonEl =\n",
              "          document.querySelector('#df-1a3859e0-c5bd-48f9-a9c3-e73c70855837 button.colab-df-convert');\n",
              "        buttonEl.style.display =\n",
              "          google.colab.kernel.accessAllowed ? 'block' : 'none';\n",
              "\n",
              "        async function convertToInteractive(key) {\n",
              "          const element = document.querySelector('#df-1a3859e0-c5bd-48f9-a9c3-e73c70855837');\n",
              "          const dataTable =\n",
              "            await google.colab.kernel.invokeFunction('convertToInteractive',\n",
              "                                                     [key], {});\n",
              "          if (!dataTable) return;\n",
              "\n",
              "          const docLinkHtml = 'Like what you see? Visit the ' +\n",
              "            '<a target=\"_blank\" href=https://colab.research.google.com/notebooks/data_table.ipynb>data table notebook</a>'\n",
              "            + ' to learn more about interactive tables.';\n",
              "          element.innerHTML = '';\n",
              "          dataTable['output_type'] = 'display_data';\n",
              "          await google.colab.output.renderOutput(dataTable, element);\n",
              "          const docLink = document.createElement('div');\n",
              "          docLink.innerHTML = docLinkHtml;\n",
              "          element.appendChild(docLink);\n",
              "        }\n",
              "      </script>\n",
              "    </div>\n",
              "  </div>\n",
              "  "
            ]
          },
          "metadata": {},
          "execution_count": 17
        }
      ]
    },
    {
      "cell_type": "markdown",
      "source": [
        "Удалим строки, приведенные выше (в них перепутаны значения в столбцах)."
      ],
      "metadata": {
        "id": "tNwUegOllIjv"
      }
    },
    {
      "cell_type": "code",
      "source": [
        "normal_comments = normal_comments.drop(normal_comments[normal_comments.is_score_ok == 1].index)"
      ],
      "metadata": {
        "id": "MMDWVd2qggPn"
      },
      "execution_count": 18,
      "outputs": []
    },
    {
      "cell_type": "code",
      "source": [
        "normal_comments['is_ups_ok'] = normal_comments.score.apply(lambda x: check_num(x))\n",
        "print('number of wrong values in ups column', normal_comments['is_ups_ok'].sum())"
      ],
      "metadata": {
        "colab": {
          "base_uri": "https://localhost:8080/"
        },
        "id": "ESrmbjezgzwv",
        "outputId": "a2bcddd0-1e47-4ae5-ecae-e5d3254ed8c6"
      },
      "execution_count": 19,
      "outputs": [
        {
          "output_type": "stream",
          "name": "stdout",
          "text": [
            "number of wrong values in ups column 0\n"
          ]
        }
      ]
    },
    {
      "cell_type": "code",
      "source": [
        "normal_comments.drop(['is_ups_ok'], axis=1, inplace = True)\n",
        "normal_comments.drop(['is_score_ok'], axis=1, inplace = True)"
      ],
      "metadata": {
        "id": "Ym5RV_9KhPct"
      },
      "execution_count": 20,
      "outputs": []
    },
    {
      "cell_type": "code",
      "source": [
        "normal_comments.score = normal_comments.score.astype('int64')\n",
        "normal_comments.ups = normal_comments.ups.astype('int64')"
      ],
      "metadata": {
        "id": "Wg62r2RthYUR"
      },
      "execution_count": 21,
      "outputs": []
    },
    {
      "cell_type": "code",
      "source": [
        "normal_comments['score'].plot(kind='line')"
      ],
      "metadata": {
        "colab": {
          "base_uri": "https://localhost:8080/",
          "height": 282
        },
        "id": "-aYedRKLbjbg",
        "outputId": "1cb357e4-89be-40f1-f96c-615502951236"
      },
      "execution_count": 22,
      "outputs": [
        {
          "output_type": "execute_result",
          "data": {
            "text/plain": [
              "<Axes: >"
            ]
          },
          "metadata": {},
          "execution_count": 22
        },
        {
          "output_type": "display_data",
          "data": {
            "text/plain": [
              "<Figure size 432x288 with 1 Axes>"
            ],
            "image/png": "[encoded data removed]"
          },
          "metadata": {
            "needs_background": "light"
          }
        }
      ]
    },
    {
      "cell_type": "code",
      "source": [
        "normal_comments['ups'].plot(kind='line')"
      ],
      "metadata": {
        "colab": {
          "base_uri": "https://localhost:8080/",
          "height": 282
        },
        "id": "BwT32xORhnRL",
        "outputId": "df366837-2b7f-4307-86ae-8adb14c7e5bc"
      },
      "execution_count": 23,
      "outputs": [
        {
          "output_type": "execute_result",
          "data": {
            "text/plain": [
              "<Axes: >"
            ]
          },
          "metadata": {},
          "execution_count": 23
        },
        {
          "output_type": "display_data",
          "data": {
            "text/plain": [
              "<Figure size 432x288 with 1 Axes>"
            ],
            "image/png": "[encoded data removed]"
          },
          "metadata": {
            "needs_background": "light"
          }
        }
      ]
    },
    {
      "cell_type": "code",
      "source": [
        "normal_comments[normal_comments.score > 4000]"
      ],
      "metadata": {
        "colab": {
          "base_uri": "https://localhost:8080/",
          "height": 81
        },
        "id": "qZu1pp88iMH5",
        "outputId": "80a0913d-3dc2-4fe5-ede6-c937376b88c4"
      },
      "execution_count": 24,
      "outputs": [
        {
          "output_type": "execute_result",
          "data": {
            "text/plain": [
              "                                                    body        author  \\\n",
              "34280  I know this is the opposite of what you asked ...  dewayneestes   \n",
              "\n",
              "         link_id  score   ups  is_bot  is_troll  is_normal  \n",
              "34280  t3_4r4a7r   4490  4490   False     False       True  "
            ],
            "text/html": [
              "\n",
              "  <div id=\"df-2e875c0e-afc0-42d4-b910-d7f90dfaa8ae\">\n",
              "    <div class=\"colab-df-container\">\n",
              "      <div>\n",
              "<style scoped>\n",
              "    .dataframe tbody tr th:only-of-type {\n",
              "        vertical-align: middle;\n",
              "    }\n",
              "\n",
              "    .dataframe tbody tr th {\n",
              "        vertical-align: top;\n",
              "    }\n",
              "\n",
              "    .dataframe thead th {\n",
              "        text-align: right;\n",
              "    }\n",
              "</style>\n",
              "<table border=\"1\" class=\"dataframe\">\n",
              "  <thead>\n",
              "    <tr style=\"text-align: right;\">\n",
              "      <th></th>\n",
              "      <th>body</th>\n",
              "      <th>author</th>\n",
              "      <th>link_id</th>\n",
              "      <th>score</th>\n",
              "      <th>ups</th>\n",
              "      <th>is_bot</th>\n",
              "      <th>is_troll</th>\n",
              "      <th>is_normal</th>\n",
              "    </tr>\n",
              "  </thead>\n",
              "  <tbody>\n",
              "    <tr>\n",
              "      <th>34280</th>\n",
              "      <td>I know this is the opposite of what you asked ...</td>\n",
              "      <td>dewayneestes</td>\n",
              "      <td>t3_4r4a7r</td>\n",
              "      <td>4490</td>\n",
              "      <td>4490</td>\n",
              "      <td>False</td>\n",
              "      <td>False</td>\n",
              "      <td>True</td>\n",
              "    </tr>\n",
              "  </tbody>\n",
              "</table>\n",
              "</div>\n",
              "      <button class=\"colab-df-convert\" onclick=\"convertToInteractive('df-2e875c0e-afc0-42d4-b910-d7f90dfaa8ae')\"\n",
              "              title=\"Convert this dataframe to an interactive table.\"\n",
              "              style=\"display:none;\">\n",
              "        \n",
              "  <svg xmlns=\"http://www.w3.org/2000/svg\" height=\"24px\"viewBox=\"0 0 24 24\"\n",
              "       width=\"24px\">\n",
              "    <path d=\"M0 0h24v24H0V0z\" fill=\"none\"/>\n",
              "    <path d=\"M18.56 5.44l.94 2.06.94-2.06 2.06-.94-2.06-.94-.94-2.06-.94 2.06-2.06.94zm-11 1L8.5 8.5l.94-2.06 2.06-.94-2.06-.94L8.5 2.5l-.94 2.06-2.06.94zm10 10l.94 2.06.94-2.06 2.06-.94-2.06-.94-.94-2.06-.94 2.06-2.06.94z\"/><path d=\"M17.41 7.96l-1.37-1.37c-.4-.4-.92-.59-1.43-.59-.52 0-1.04.2-1.43.59L10.3 9.45l-7.72 7.72c-.78.78-.78 2.05 0 2.83L4 21.41c.39.39.9.59 1.41.59.51 0 1.02-.2 1.41-.59l7.78-7.78 2.81-2.81c.8-.78.8-2.07 0-2.86zM5.41 20L4 18.59l7.72-7.72 1.47 1.35L5.41 20z\"/>\n",
              "  </svg>\n",
              "      </button>\n",
              "      \n",
              "  <style>\n",
              "    .colab-df-container {\n",
              "      display:flex;\n",
              "      flex-wrap:wrap;\n",
              "      gap: 12px;\n",
              "    }\n",
              "\n",
              "    .colab-df-convert {\n",
              "      background-color: #E8F0FE;\n",
              "      border: none;\n",
              "      border-radius: 50%;\n",
              "      cursor: pointer;\n",
              "      display: none;\n",
              "      fill: #1967D2;\n",
              "      height: 32px;\n",
              "      padding: 0 0 0 0;\n",
              "      width: 32px;\n",
              "    }\n",
              "\n",
              "    .colab-df-convert:hover {\n",
              "      background-color: #E2EBFA;\n",
              "      box-shadow: 0px 1px 2px rgba(60, 64, 67, 0.3), 0px 1px 3px 1px rgba(60, 64, 67, 0.15);\n",
              "      fill: #174EA6;\n",
              "    }\n",
              "\n",
              "    [theme=dark] .colab-df-convert {\n",
              "      background-color: #3B4455;\n",
              "      fill: #D2E3FC;\n",
              "    }\n",
              "\n",
              "    [theme=dark] .colab-df-convert:hover {\n",
              "      background-color: #434B5C;\n",
              "      box-shadow: 0px 1px 3px 1px rgba(0, 0, 0, 0.15);\n",
              "      filter: drop-shadow(0px 1px 2px rgba(0, 0, 0, 0.3));\n",
              "      fill: #FFFFFF;\n",
              "    }\n",
              "  </style>\n",
              "\n",
              "      <script>\n",
              "        const buttonEl =\n",
              "          document.querySelector('#df-2e875c0e-afc0-42d4-b910-d7f90dfaa8ae button.colab-df-convert');\n",
              "        buttonEl.style.display =\n",
              "          google.colab.kernel.accessAllowed ? 'block' : 'none';\n",
              "\n",
              "        async function convertToInteractive(key) {\n",
              "          const element = document.querySelector('#df-2e875c0e-afc0-42d4-b910-d7f90dfaa8ae');\n",
              "          const dataTable =\n",
              "            await google.colab.kernel.invokeFunction('convertToInteractive',\n",
              "                                                     [key], {});\n",
              "          if (!dataTable) return;\n",
              "\n",
              "          const docLinkHtml = 'Like what you see? Visit the ' +\n",
              "            '<a target=\"_blank\" href=https://colab.research.google.com/notebooks/data_table.ipynb>data table notebook</a>'\n",
              "            + ' to learn more about interactive tables.';\n",
              "          element.innerHTML = '';\n",
              "          dataTable['output_type'] = 'display_data';\n",
              "          await google.colab.output.renderOutput(dataTable, element);\n",
              "          const docLink = document.createElement('div');\n",
              "          docLink.innerHTML = docLinkHtml;\n",
              "          element.appendChild(docLink);\n",
              "        }\n",
              "      </script>\n",
              "    </div>\n",
              "  </div>\n",
              "  "
            ]
          },
          "metadata": {},
          "execution_count": 24
        }
      ]
    },
    {
      "cell_type": "markdown",
      "source": [
        "#Датасет с ботами и троллями"
      ],
      "metadata": {
        "id": "pOIoFDMeXM5U"
      }
    },
    {
      "cell_type": "markdown",
      "source": [
        "Теперь откроем датасет с ботами и тролями."
      ],
      "metadata": {
        "id": "xoGz3HHeow2i"
      }
    },
    {
      "cell_type": "code",
      "source": [
        "with open('drive/MyDrive/Diplom/training-dump.csv') as f:\n",
        "    my_data = pd.read_csv(f, sep=',',\n",
        "                          usecols = [\"link_id\",  \"author\", \"score\", \"body\", \"ups\",\"is_bot\",\"is_troll\"],\n",
        "                          dtype={\"link_id\": str,\n",
        "                                 \"author\": str,\n",
        "                                 \"body\": str,\n",
        "                                 \"is_bot\": bool,\n",
        "                                 \"is_troll\": bool})"
      ],
      "metadata": {
        "id": "jwhyEfhQSEZa"
      },
      "execution_count": 25,
      "outputs": []
    },
    {
      "cell_type": "code",
      "source": [
        "my_data['is_normal'] = False"
      ],
      "metadata": {
        "id": "beup5UhqpZDn"
      },
      "execution_count": 26,
      "outputs": []
    },
    {
      "cell_type": "code",
      "source": [
        "my_data"
      ],
      "metadata": {
        "colab": {
          "base_uri": "https://localhost:8080/",
          "height": 424
        },
        "id": "8KSCRlV6p_zX",
        "outputId": "729a8f1e-ba5c-462e-eb49-6ce2ae029517"
      },
      "execution_count": 27,
      "outputs": [
        {
          "output_type": "execute_result",
          "data": {
            "text/plain": [
              "          link_id       author  score  \\\n",
              "0       t3_2l5szg      ADHDbot      1   \n",
              "1       t3_2l61gs      ADHDbot      1   \n",
              "2       t3_2l7ma8      ADHDbot      1   \n",
              "3       t3_2l7t5h      ADHDbot      1   \n",
              "4       t3_2l900k      ADHDbot      1   \n",
              "...           ...          ...    ...   \n",
              "267031  t3_96p3s7  haiku_robot      7   \n",
              "267032  t3_1w5fy8  tipmoonbot2      2   \n",
              "267033  t3_1w5fy8  tipmoonbot2      1   \n",
              "267034  t3_1w6etv  tipmoonbot2      2   \n",
              "267035  t3_1w6etv  tipmoonbot2      1   \n",
              "\n",
              "                                                     body  ups  is_bot  \\\n",
              "0       As per the rules in the side bar, yes or no qu...    1    True   \n",
              "1       Meme and image posts are not allowed on this s...    1    True   \n",
              "2       As per the rules in the side bar, yes or no qu...    1    True   \n",
              "3       As per the rules in the side bar, yes or no qu...    1    True   \n",
              "4       We cannot and will not diagnose anyone.  You n...    1    True   \n",
              "...                                                   ...  ...     ...   \n",
              "267031                                               ಠ\\_ಠ    7    True   \n",
              "267032                +/u/tipmoonbot 48 moon TO THE MOON!    2    True   \n",
              "267033                +/u/tipmoonbot 26 moon TO THE MOON!    1    True   \n",
              "267034                                          blah blah    2    True   \n",
              "267035                            +/u/tipmoonbot 35 moons    1    True   \n",
              "\n",
              "        is_troll  is_normal  \n",
              "0          False      False  \n",
              "1          False      False  \n",
              "2          False      False  \n",
              "3          False      False  \n",
              "4          False      False  \n",
              "...          ...        ...  \n",
              "267031     False      False  \n",
              "267032     False      False  \n",
              "267033     False      False  \n",
              "267034     False      False  \n",
              "267035     False      False  \n",
              "\n",
              "[267036 rows x 8 columns]"
            ],
            "text/html": [
              "\n",
              "  <div id=\"df-9af5164e-c119-4573-9939-43ac4d06ad8f\">\n",
              "    <div class=\"colab-df-container\">\n",
              "      <div>\n",
              "<style scoped>\n",
              "    .dataframe tbody tr th:only-of-type {\n",
              "        vertical-align: middle;\n",
              "    }\n",
              "\n",
              "    .dataframe tbody tr th {\n",
              "        vertical-align: top;\n",
              "    }\n",
              "\n",
              "    .dataframe thead th {\n",
              "        text-align: right;\n",
              "    }\n",
              "</style>\n",
              "<table border=\"1\" class=\"dataframe\">\n",
              "  <thead>\n",
              "    <tr style=\"text-align: right;\">\n",
              "      <th></th>\n",
              "      <th>link_id</th>\n",
              "      <th>author</th>\n",
              "      <th>score</th>\n",
              "      <th>body</th>\n",
              "      <th>ups</th>\n",
              "      <th>is_bot</th>\n",
              "      <th>is_troll</th>\n",
              "      <th>is_normal</th>\n",
              "    </tr>\n",
              "  </thead>\n",
              "  <tbody>\n",
              "    <tr>\n",
              "      <th>0</th>\n",
              "      <td>t3_2l5szg</td>\n",
              "      <td>ADHDbot</td>\n",
              "      <td>1</td>\n",
              "      <td>As per the rules in the side bar, yes or no qu...</td>\n",
              "      <td>1</td>\n",
              "      <td>True</td>\n",
              "      <td>False</td>\n",
              "      <td>False</td>\n",
              "    </tr>\n",
              "    <tr>\n",
              "      <th>1</th>\n",
              "      <td>t3_2l61gs</td>\n",
              "      <td>ADHDbot</td>\n",
              "      <td>1</td>\n",
              "      <td>Meme and image posts are not allowed on this s...</td>\n",
              "      <td>1</td>\n",
              "      <td>True</td>\n",
              "      <td>False</td>\n",
              "      <td>False</td>\n",
              "    </tr>\n",
              "    <tr>\n",
              "      <th>2</th>\n",
              "      <td>t3_2l7ma8</td>\n",
              "      <td>ADHDbot</td>\n",
              "      <td>1</td>\n",
              "      <td>As per the rules in the side bar, yes or no qu...</td>\n",
              "      <td>1</td>\n",
              "      <td>True</td>\n",
              "      <td>False</td>\n",
              "      <td>False</td>\n",
              "    </tr>\n",
              "    <tr>\n",
              "      <th>3</th>\n",
              "      <td>t3_2l7t5h</td>\n",
              "      <td>ADHDbot</td>\n",
              "      <td>1</td>\n",
              "      <td>As per the rules in the side bar, yes or no qu...</td>\n",
              "      <td>1</td>\n",
              "      <td>True</td>\n",
              "      <td>False</td>\n",
              "      <td>False</td>\n",
              "    </tr>\n",
              "    <tr>\n",
              "      <th>4</th>\n",
              "      <td>t3_2l900k</td>\n",
              "      <td>ADHDbot</td>\n",
              "      <td>1</td>\n",
              "      <td>We cannot and will not diagnose anyone.  You n...</td>\n",
              "      <td>1</td>\n",
              "      <td>True</td>\n",
              "      <td>False</td>\n",
              "      <td>False</td>\n",
              "    </tr>\n",
              "    <tr>\n",
              "      <th>...</th>\n",
              "      <td>...</td>\n",
              "      <td>...</td>\n",
              "      <td>...</td>\n",
              "      <td>...</td>\n",
              "      <td>...</td>\n",
              "      <td>...</td>\n",
              "      <td>...</td>\n",
              "      <td>...</td>\n",
              "    </tr>\n",
              "    <tr>\n",
              "      <th>267031</th>\n",
              "      <td>t3_96p3s7</td>\n",
              "      <td>haiku_robot</td>\n",
              "      <td>7</td>\n",
              "      <td>ಠ\\_ಠ</td>\n",
              "      <td>7</td>\n",
              "      <td>True</td>\n",
              "      <td>False</td>\n",
              "      <td>False</td>\n",
              "    </tr>\n",
              "    <tr>\n",
              "      <th>267032</th>\n",
              "      <td>t3_1w5fy8</td>\n",
              "      <td>tipmoonbot2</td>\n",
              "      <td>2</td>\n",
              "      <td>+/u/tipmoonbot 48 moon TO THE MOON!</td>\n",
              "      <td>2</td>\n",
              "      <td>True</td>\n",
              "      <td>False</td>\n",
              "      <td>False</td>\n",
              "    </tr>\n",
              "    <tr>\n",
              "      <th>267033</th>\n",
              "      <td>t3_1w5fy8</td>\n",
              "      <td>tipmoonbot2</td>\n",
              "      <td>1</td>\n",
              "      <td>+/u/tipmoonbot 26 moon TO THE MOON!</td>\n",
              "      <td>1</td>\n",
              "      <td>True</td>\n",
              "      <td>False</td>\n",
              "      <td>False</td>\n",
              "    </tr>\n",
              "    <tr>\n",
              "      <th>267034</th>\n",
              "      <td>t3_1w6etv</td>\n",
              "      <td>tipmoonbot2</td>\n",
              "      <td>2</td>\n",
              "      <td>blah blah</td>\n",
              "      <td>2</td>\n",
              "      <td>True</td>\n",
              "      <td>False</td>\n",
              "      <td>False</td>\n",
              "    </tr>\n",
              "    <tr>\n",
              "      <th>267035</th>\n",
              "      <td>t3_1w6etv</td>\n",
              "      <td>tipmoonbot2</td>\n",
              "      <td>1</td>\n",
              "      <td>+/u/tipmoonbot 35 moons</td>\n",
              "      <td>1</td>\n",
              "      <td>True</td>\n",
              "      <td>False</td>\n",
              "      <td>False</td>\n",
              "    </tr>\n",
              "  </tbody>\n",
              "</table>\n",
              "<p>267036 rows × 8 columns</p>\n",
              "</div>\n",
              "      <button class=\"colab-df-convert\" onclick=\"convertToInteractive('df-9af5164e-c119-4573-9939-43ac4d06ad8f')\"\n",
              "              title=\"Convert this dataframe to an interactive table.\"\n",
              "              style=\"display:none;\">\n",
              "        \n",
              "  <svg xmlns=\"http://www.w3.org/2000/svg\" height=\"24px\"viewBox=\"0 0 24 24\"\n",
              "       width=\"24px\">\n",
              "    <path d=\"M0 0h24v24H0V0z\" fill=\"none\"/>\n",
              "    <path d=\"M18.56 5.44l.94 2.06.94-2.06 2.06-.94-2.06-.94-.94-2.06-.94 2.06-2.06.94zm-11 1L8.5 8.5l.94-2.06 2.06-.94-2.06-.94L8.5 2.5l-.94 2.06-2.06.94zm10 10l.94 2.06.94-2.06 2.06-.94-2.06-.94-.94-2.06-.94 2.06-2.06.94z\"/><path d=\"M17.41 7.96l-1.37-1.37c-.4-.4-.92-.59-1.43-.59-.52 0-1.04.2-1.43.59L10.3 9.45l-7.72 7.72c-.78.78-.78 2.05 0 2.83L4 21.41c.39.39.9.59 1.41.59.51 0 1.02-.2 1.41-.59l7.78-7.78 2.81-2.81c.8-.78.8-2.07 0-2.86zM5.41 20L4 18.59l7.72-7.72 1.47 1.35L5.41 20z\"/>\n",
              "  </svg>\n",
              "      </button>\n",
              "      \n",
              "  <style>\n",
              "    .colab-df-container {\n",
              "      display:flex;\n",
              "      flex-wrap:wrap;\n",
              "      gap: 12px;\n",
              "    }\n",
              "\n",
              "    .colab-df-convert {\n",
              "      background-color: #E8F0FE;\n",
              "      border: none;\n",
              "      border-radius: 50%;\n",
              "      cursor: pointer;\n",
              "      display: none;\n",
              "      fill: #1967D2;\n",
              "      height: 32px;\n",
              "      padding: 0 0 0 0;\n",
              "      width: 32px;\n",
              "    }\n",
              "\n",
              "    .colab-df-convert:hover {\n",
              "      background-color: #E2EBFA;\n",
              "      box-shadow: 0px 1px 2px rgba(60, 64, 67, 0.3), 0px 1px 3px 1px rgba(60, 64, 67, 0.15);\n",
              "      fill: #174EA6;\n",
              "    }\n",
              "\n",
              "    [theme=dark] .colab-df-convert {\n",
              "      background-color: #3B4455;\n",
              "      fill: #D2E3FC;\n",
              "    }\n",
              "\n",
              "    [theme=dark] .colab-df-convert:hover {\n",
              "      background-color: #434B5C;\n",
              "      box-shadow: 0px 1px 3px 1px rgba(0, 0, 0, 0.15);\n",
              "      filter: drop-shadow(0px 1px 2px rgba(0, 0, 0, 0.3));\n",
              "      fill: #FFFFFF;\n",
              "    }\n",
              "  </style>\n",
              "\n",
              "      <script>\n",
              "        const buttonEl =\n",
              "          document.querySelector('#df-9af5164e-c119-4573-9939-43ac4d06ad8f button.colab-df-convert');\n",
              "        buttonEl.style.display =\n",
              "          google.colab.kernel.accessAllowed ? 'block' : 'none';\n",
              "\n",
              "        async function convertToInteractive(key) {\n",
              "          const element = document.querySelector('#df-9af5164e-c119-4573-9939-43ac4d06ad8f');\n",
              "          const dataTable =\n",
              "            await google.colab.kernel.invokeFunction('convertToInteractive',\n",
              "                                                     [key], {});\n",
              "          if (!dataTable) return;\n",
              "\n",
              "          const docLinkHtml = 'Like what you see? Visit the ' +\n",
              "            '<a target=\"_blank\" href=https://colab.research.google.com/notebooks/data_table.ipynb>data table notebook</a>'\n",
              "            + ' to learn more about interactive tables.';\n",
              "          element.innerHTML = '';\n",
              "          dataTable['output_type'] = 'display_data';\n",
              "          await google.colab.output.renderOutput(dataTable, element);\n",
              "          const docLink = document.createElement('div');\n",
              "          docLink.innerHTML = docLinkHtml;\n",
              "          element.appendChild(docLink);\n",
              "        }\n",
              "      </script>\n",
              "    </div>\n",
              "  </div>\n",
              "  "
            ]
          },
          "metadata": {},
          "execution_count": 27
        }
      ]
    },
    {
      "cell_type": "code",
      "source": [
        "my_data = my_data.convert_dtypes()\n",
        "my_data.dtypes"
      ],
      "metadata": {
        "colab": {
          "base_uri": "https://localhost:8080/"
        },
        "id": "XaHpPmzf3fjV",
        "outputId": "45ab1b3e-0ed3-450a-d367-e71c08035717"
      },
      "execution_count": 28,
      "outputs": [
        {
          "output_type": "execute_result",
          "data": {
            "text/plain": [
              "link_id       string\n",
              "author        string\n",
              "score          Int64\n",
              "body          string\n",
              "ups            Int64\n",
              "is_bot       boolean\n",
              "is_troll     boolean\n",
              "is_normal    boolean\n",
              "dtype: object"
            ]
          },
          "metadata": {},
          "execution_count": 28
        }
      ]
    },
    {
      "cell_type": "code",
      "source": [
        "print('number of nuns in score column:' ,my_data.score.isna().sum())\n",
        "print('number of nuns in link_id column:' ,my_data.link_id.isna().sum())\n",
        "\n",
        "print('number of nuns in author column:' ,my_data.author.isna().sum())\n",
        "print('number of nuns in body column:' ,my_data.body.isna().sum())\n",
        "\n",
        "\n",
        "print('number of nuns in ups column:' ,my_data.ups.isna().sum())\n",
        "\n",
        "print('number of nuns in is_bot column:' ,my_data.is_bot.isna().sum())\n",
        "print('number of nuns in is_troll column:' ,my_data.is_troll.isna().sum())"
      ],
      "metadata": {
        "colab": {
          "base_uri": "https://localhost:8080/"
        },
        "id": "YDae4UXKjB-x",
        "outputId": "d60f176b-ba91-4c6a-fcd4-8eabdf8fc4aa"
      },
      "execution_count": 29,
      "outputs": [
        {
          "output_type": "stream",
          "name": "stdout",
          "text": [
            "number of nuns in score column: 0\n",
            "number of nuns in link_id column: 0\n",
            "number of nuns in author column: 0\n",
            "number of nuns in body column: 1\n",
            "number of nuns in ups column: 0\n",
            "number of nuns in is_bot column: 0\n",
            "number of nuns in is_troll column: 0\n"
          ]
        }
      ]
    },
    {
      "cell_type": "code",
      "source": [
        "my_data.dropna(subset = ['body'], inplace = True)"
      ],
      "metadata": {
        "id": "gaL1hj3hjDtQ"
      },
      "execution_count": 30,
      "outputs": []
    },
    {
      "cell_type": "code",
      "source": [
        "my_data.is_bot = my_data.is_bot.astype(bool)\n",
        "my_data.is_troll = my_data.is_troll.astype(bool)\n",
        "my_data.is_normal = my_data.is_normal.astype(bool)"
      ],
      "metadata": {
        "id": "KzuzZ6BD5-YG"
      },
      "execution_count": 31,
      "outputs": []
    },
    {
      "cell_type": "code",
      "source": [
        "my_data.dtypes"
      ],
      "metadata": {
        "colab": {
          "base_uri": "https://localhost:8080/"
        },
        "id": "jB4ACYNw6YZo",
        "outputId": "c987614d-b5ae-4ada-8a46-7637fd94fe7b"
      },
      "execution_count": 32,
      "outputs": [
        {
          "output_type": "execute_result",
          "data": {
            "text/plain": [
              "link_id      string\n",
              "author       string\n",
              "score         Int64\n",
              "body         string\n",
              "ups           Int64\n",
              "is_bot         bool\n",
              "is_troll       bool\n",
              "is_normal      bool\n",
              "dtype: object"
            ]
          },
          "metadata": {},
          "execution_count": 32
        }
      ]
    },
    {
      "cell_type": "code",
      "source": [
        "my_data['score'].plot(kind='line')"
      ],
      "metadata": {
        "colab": {
          "base_uri": "https://localhost:8080/",
          "height": 282
        },
        "id": "xGgYu_sKb__x",
        "outputId": "086b9509-b076-4e84-85f4-d49ba9a127db"
      },
      "execution_count": 33,
      "outputs": [
        {
          "output_type": "execute_result",
          "data": {
            "text/plain": [
              "<Axes: >"
            ]
          },
          "metadata": {},
          "execution_count": 33
        },
        {
          "output_type": "display_data",
          "data": {
            "text/plain": [
              "<Figure size 432x288 with 1 Axes>"
            ],
            "image/png": "[encoded data removed]"
          },
          "metadata": {
            "needs_background": "light"
          }
        }
      ]
    },
    {
      "cell_type": "code",
      "source": [
        "my_data['ups'].plot(kind='line')"
      ],
      "metadata": {
        "colab": {
          "base_uri": "https://localhost:8080/",
          "height": 282
        },
        "id": "AkreOF2fkOmR",
        "outputId": "f11c9de6-c14e-497c-9b47-c034576a403a"
      },
      "execution_count": 34,
      "outputs": [
        {
          "output_type": "execute_result",
          "data": {
            "text/plain": [
              "<Axes: >"
            ]
          },
          "metadata": {},
          "execution_count": 34
        },
        {
          "output_type": "display_data",
          "data": {
            "text/plain": [
              "<Figure size 432x288 with 1 Axes>"
            ],
            "image/png": "[encoded data removed]"
          },
          "metadata": {
            "needs_background": "light"
          }
        }
      ]
    },
    {
      "cell_type": "markdown",
      "source": [
        "Посмотрим на это крайнее значение."
      ],
      "metadata": {
        "id": "6c7lvsZ6kV98"
      }
    },
    {
      "cell_type": "code",
      "source": [
        "my_data[my_data.score > 10000]"
      ],
      "metadata": {
        "colab": {
          "base_uri": "https://localhost:8080/",
          "height": 206
        },
        "id": "dlIQfYNrkU8o",
        "outputId": "42f840bb-772f-4683-d1ab-811dcb621d7c"
      },
      "execution_count": 35,
      "outputs": [
        {
          "output_type": "execute_result",
          "data": {
            "text/plain": [
              "          link_id   author  score  \\\n",
              "192972  t3_7ja1xx  BerskyN  22893   \n",
              "192973  t3_7ja1xx  BerskyN  11927   \n",
              "192974  t3_7ja1xx  BerskyN  14938   \n",
              "192975  t3_7ja1xx  BerskyN  22030   \n",
              "192976  t3_7ja1xx  BerskyN  14104   \n",
              "\n",
              "                                                     body    ups  is_bot  \\\n",
              "192972          You may never know if you've gone insane.  22893   False   \n",
              "192973  If you become an astronaut and are in the ISS ...  11927   False   \n",
              "192974  There are a huge amount of illnesses that aren...  14938   False   \n",
              "192975  The first firefighter killed responding to the...  22030   False   \n",
              "192976  Every picture you pose for could be the one us...  14104   False   \n",
              "\n",
              "        is_troll  is_normal  \n",
              "192972      True      False  \n",
              "192973      True      False  \n",
              "192974      True      False  \n",
              "192975      True      False  \n",
              "192976      True      False  "
            ],
            "text/html": [
              "\n",
              "  <div id=\"df-be18c575-5012-4c80-a233-83f2d40875d5\">\n",
              "    <div class=\"colab-df-container\">\n",
              "      <div>\n",
              "<style scoped>\n",
              "    .dataframe tbody tr th:only-of-type {\n",
              "        vertical-align: middle;\n",
              "    }\n",
              "\n",
              "    .dataframe tbody tr th {\n",
              "        vertical-align: top;\n",
              "    }\n",
              "\n",
              "    .dataframe thead th {\n",
              "        text-align: right;\n",
              "    }\n",
              "</style>\n",
              "<table border=\"1\" class=\"dataframe\">\n",
              "  <thead>\n",
              "    <tr style=\"text-align: right;\">\n",
              "      <th></th>\n",
              "      <th>link_id</th>\n",
              "      <th>author</th>\n",
              "      <th>score</th>\n",
              "      <th>body</th>\n",
              "      <th>ups</th>\n",
              "      <th>is_bot</th>\n",
              "      <th>is_troll</th>\n",
              "      <th>is_normal</th>\n",
              "    </tr>\n",
              "  </thead>\n",
              "  <tbody>\n",
              "    <tr>\n",
              "      <th>192972</th>\n",
              "      <td>t3_7ja1xx</td>\n",
              "      <td>BerskyN</td>\n",
              "      <td>22893</td>\n",
              "      <td>You may never know if you've gone insane.</td>\n",
              "      <td>22893</td>\n",
              "      <td>False</td>\n",
              "      <td>True</td>\n",
              "      <td>False</td>\n",
              "    </tr>\n",
              "    <tr>\n",
              "      <th>192973</th>\n",
              "      <td>t3_7ja1xx</td>\n",
              "      <td>BerskyN</td>\n",
              "      <td>11927</td>\n",
              "      <td>If you become an astronaut and are in the ISS ...</td>\n",
              "      <td>11927</td>\n",
              "      <td>False</td>\n",
              "      <td>True</td>\n",
              "      <td>False</td>\n",
              "    </tr>\n",
              "    <tr>\n",
              "      <th>192974</th>\n",
              "      <td>t3_7ja1xx</td>\n",
              "      <td>BerskyN</td>\n",
              "      <td>14938</td>\n",
              "      <td>There are a huge amount of illnesses that aren...</td>\n",
              "      <td>14938</td>\n",
              "      <td>False</td>\n",
              "      <td>True</td>\n",
              "      <td>False</td>\n",
              "    </tr>\n",
              "    <tr>\n",
              "      <th>192975</th>\n",
              "      <td>t3_7ja1xx</td>\n",
              "      <td>BerskyN</td>\n",
              "      <td>22030</td>\n",
              "      <td>The first firefighter killed responding to the...</td>\n",
              "      <td>22030</td>\n",
              "      <td>False</td>\n",
              "      <td>True</td>\n",
              "      <td>False</td>\n",
              "    </tr>\n",
              "    <tr>\n",
              "      <th>192976</th>\n",
              "      <td>t3_7ja1xx</td>\n",
              "      <td>BerskyN</td>\n",
              "      <td>14104</td>\n",
              "      <td>Every picture you pose for could be the one us...</td>\n",
              "      <td>14104</td>\n",
              "      <td>False</td>\n",
              "      <td>True</td>\n",
              "      <td>False</td>\n",
              "    </tr>\n",
              "  </tbody>\n",
              "</table>\n",
              "</div>\n",
              "      <button class=\"colab-df-convert\" onclick=\"convertToInteractive('df-be18c575-5012-4c80-a233-83f2d40875d5')\"\n",
              "              title=\"Convert this dataframe to an interactive table.\"\n",
              "              style=\"display:none;\">\n",
              "        \n",
              "  <svg xmlns=\"http://www.w3.org/2000/svg\" height=\"24px\"viewBox=\"0 0 24 24\"\n",
              "       width=\"24px\">\n",
              "    <path d=\"M0 0h24v24H0V0z\" fill=\"none\"/>\n",
              "    <path d=\"M18.56 5.44l.94 2.06.94-2.06 2.06-.94-2.06-.94-.94-2.06-.94 2.06-2.06.94zm-11 1L8.5 8.5l.94-2.06 2.06-.94-2.06-.94L8.5 2.5l-.94 2.06-2.06.94zm10 10l.94 2.06.94-2.06 2.06-.94-2.06-.94-.94-2.06-.94 2.06-2.06.94z\"/><path d=\"M17.41 7.96l-1.37-1.37c-.4-.4-.92-.59-1.43-.59-.52 0-1.04.2-1.43.59L10.3 9.45l-7.72 7.72c-.78.78-.78 2.05 0 2.83L4 21.41c.39.39.9.59 1.41.59.51 0 1.02-.2 1.41-.59l7.78-7.78 2.81-2.81c.8-.78.8-2.07 0-2.86zM5.41 20L4 18.59l7.72-7.72 1.47 1.35L5.41 20z\"/>\n",
              "  </svg>\n",
              "      </button>\n",
              "      \n",
              "  <style>\n",
              "    .colab-df-container {\n",
              "      display:flex;\n",
              "      flex-wrap:wrap;\n",
              "      gap: 12px;\n",
              "    }\n",
              "\n",
              "    .colab-df-convert {\n",
              "      background-color: #E8F0FE;\n",
              "      border: none;\n",
              "      border-radius: 50%;\n",
              "      cursor: pointer;\n",
              "      display: none;\n",
              "      fill: #1967D2;\n",
              "      height: 32px;\n",
              "      padding: 0 0 0 0;\n",
              "      width: 32px;\n",
              "    }\n",
              "\n",
              "    .colab-df-convert:hover {\n",
              "      background-color: #E2EBFA;\n",
              "      box-shadow: 0px 1px 2px rgba(60, 64, 67, 0.3), 0px 1px 3px 1px rgba(60, 64, 67, 0.15);\n",
              "      fill: #174EA6;\n",
              "    }\n",
              "\n",
              "    [theme=dark] .colab-df-convert {\n",
              "      background-color: #3B4455;\n",
              "      fill: #D2E3FC;\n",
              "    }\n",
              "\n",
              "    [theme=dark] .colab-df-convert:hover {\n",
              "      background-color: #434B5C;\n",
              "      box-shadow: 0px 1px 3px 1px rgba(0, 0, 0, 0.15);\n",
              "      filter: drop-shadow(0px 1px 2px rgba(0, 0, 0, 0.3));\n",
              "      fill: #FFFFFF;\n",
              "    }\n",
              "  </style>\n",
              "\n",
              "      <script>\n",
              "        const buttonEl =\n",
              "          document.querySelector('#df-be18c575-5012-4c80-a233-83f2d40875d5 button.colab-df-convert');\n",
              "        buttonEl.style.display =\n",
              "          google.colab.kernel.accessAllowed ? 'block' : 'none';\n",
              "\n",
              "        async function convertToInteractive(key) {\n",
              "          const element = document.querySelector('#df-be18c575-5012-4c80-a233-83f2d40875d5');\n",
              "          const dataTable =\n",
              "            await google.colab.kernel.invokeFunction('convertToInteractive',\n",
              "                                                     [key], {});\n",
              "          if (!dataTable) return;\n",
              "\n",
              "          const docLinkHtml = 'Like what you see? Visit the ' +\n",
              "            '<a target=\"_blank\" href=https://colab.research.google.com/notebooks/data_table.ipynb>data table notebook</a>'\n",
              "            + ' to learn more about interactive tables.';\n",
              "          element.innerHTML = '';\n",
              "          dataTable['output_type'] = 'display_data';\n",
              "          await google.colab.output.renderOutput(dataTable, element);\n",
              "          const docLink = document.createElement('div');\n",
              "          docLink.innerHTML = docLinkHtml;\n",
              "          element.appendChild(docLink);\n",
              "        }\n",
              "      </script>\n",
              "    </div>\n",
              "  </div>\n",
              "  "
            ]
          },
          "metadata": {},
          "execution_count": 35
        }
      ]
    },
    {
      "cell_type": "markdown",
      "source": [
        "#Объединенный датасет"
      ],
      "metadata": {
        "id": "4VBKPFbkXSYA"
      }
    },
    {
      "cell_type": "markdown",
      "source": [
        "Соединяем два датасета"
      ],
      "metadata": {
        "id": "B5bnLFYbrwwS"
      }
    },
    {
      "cell_type": "code",
      "source": [
        "#full_data = my_data.append(normal_comments)\n",
        "frames = [my_data, normal_comments]\n",
        "\n",
        "full_data = pd.concat(frames, ignore_index=True)"
      ],
      "metadata": {
        "id": "9gBzogQErz8U"
      },
      "execution_count": 70,
      "outputs": []
    },
    {
      "cell_type": "code",
      "source": [
        "full_data.dtypes"
      ],
      "metadata": {
        "colab": {
          "base_uri": "https://localhost:8080/"
        },
        "id": "QHhOUYYv7Acp",
        "outputId": "4d504624-1a92-4c8c-cc4b-b201ce5ca226"
      },
      "execution_count": 75,
      "outputs": [
        {
          "output_type": "execute_result",
          "data": {
            "text/plain": [
              "link_id      string\n",
              "author       string\n",
              "score         Int64\n",
              "body         string\n",
              "ups           Int64\n",
              "is_bot         bool\n",
              "is_troll      int64\n",
              "is_normal     int64\n",
              "dtype: object"
            ]
          },
          "metadata": {},
          "execution_count": 75
        }
      ]
    },
    {
      "cell_type": "markdown",
      "source": [
        "Удалим повторяющиеся строки и строки с пустым полем комментариев."
      ],
      "metadata": {
        "id": "Cv0xsGU_38SG"
      }
    },
    {
      "cell_type": "code",
      "source": [
        "full_data.drop_duplicates(inplace=True)\n",
        "full_data.dropna(subset = ['body'], inplace=True)"
      ],
      "metadata": {
        "id": "rfM3KCEkp3z8"
      },
      "execution_count": 73,
      "outputs": []
    },
    {
      "cell_type": "code",
      "source": [
        "full_data"
      ],
      "metadata": {
        "colab": {
          "base_uri": "https://localhost:8080/",
          "height": 424
        },
        "id": "vc-5z9agyTu0",
        "outputId": "a9b7343c-1cde-4d47-cfaa-3516fea529f5"
      },
      "execution_count": 92,
      "outputs": [
        {
          "output_type": "execute_result",
          "data": {
            "text/plain": [
              "          link_id              author  score  \\\n",
              "0       t3_2l5szg             ADHDbot      1   \n",
              "1       t3_2l61gs             ADHDbot      1   \n",
              "2       t3_2l7ma8             ADHDbot      1   \n",
              "3       t3_2l7t5h             ADHDbot      1   \n",
              "4       t3_2l900k             ADHDbot      1   \n",
              "...           ...                 ...    ...   \n",
              "311870  t3_5on47d           kcheng686      1   \n",
              "311871  t3_5q9ppf    DisconnectedCorn      1   \n",
              "311872  t3_5pqb17          najing_ftw      3   \n",
              "311873  t3_5oh8zt  Fourteen_of_Twelve      5   \n",
              "311874  t3_5obnei           RanaI_Ape      1   \n",
              "\n",
              "                                                     body  ups  Y  \n",
              "0       As per the rules in the side bar, yes or no qu...    1  0  \n",
              "1       Meme and image posts are not allowed on this s...    1  0  \n",
              "2       As per the rules in the side bar, yes or no qu...    1  0  \n",
              "3       As per the rules in the side bar, yes or no qu...    1  0  \n",
              "4       We cannot and will not diagnose anyone.  You n...    1  0  \n",
              "...                                                   ...  ... ..  \n",
              "311870  I remember the 2007 clippers.\n",
              "\n",
              "Which is the sa...    0  2  \n",
              "311871  On second thought you might actually be autistic     0  2  \n",
              "311872  Hello darkness, my old friend,\n",
              "I've come to ta...    0  2  \n",
              "311873  You can't use the enter key when you're doing ...    0  2  \n",
              "311874  I was, but I flashed stock so I could get OTAs...    0  2  \n",
              "\n",
              "[228625 rows x 6 columns]"
            ],
            "text/html": [
              "\n",
              "  <div id=\"df-0b1b45f5-0ac4-40a5-9502-31dc92b10c27\">\n",
              "    <div class=\"colab-df-container\">\n",
              "      <div>\n",
              "<style scoped>\n",
              "    .dataframe tbody tr th:only-of-type {\n",
              "        vertical-align: middle;\n",
              "    }\n",
              "\n",
              "    .dataframe tbody tr th {\n",
              "        vertical-align: top;\n",
              "    }\n",
              "\n",
              "    .dataframe thead th {\n",
              "        text-align: right;\n",
              "    }\n",
              "</style>\n",
              "<table border=\"1\" class=\"dataframe\">\n",
              "  <thead>\n",
              "    <tr style=\"text-align: right;\">\n",
              "      <th></th>\n",
              "      <th>link_id</th>\n",
              "      <th>author</th>\n",
              "      <th>score</th>\n",
              "      <th>body</th>\n",
              "      <th>ups</th>\n",
              "      <th>Y</th>\n",
              "    </tr>\n",
              "  </thead>\n",
              "  <tbody>\n",
              "    <tr>\n",
              "      <th>0</th>\n",
              "      <td>t3_2l5szg</td>\n",
              "      <td>ADHDbot</td>\n",
              "      <td>1</td>\n",
              "      <td>As per the rules in the side bar, yes or no qu...</td>\n",
              "      <td>1</td>\n",
              "      <td>0</td>\n",
              "    </tr>\n",
              "    <tr>\n",
              "      <th>1</th>\n",
              "      <td>t3_2l61gs</td>\n",
              "      <td>ADHDbot</td>\n",
              "      <td>1</td>\n",
              "      <td>Meme and image posts are not allowed on this s...</td>\n",
              "      <td>1</td>\n",
              "      <td>0</td>\n",
              "    </tr>\n",
              "    <tr>\n",
              "      <th>2</th>\n",
              "      <td>t3_2l7ma8</td>\n",
              "      <td>ADHDbot</td>\n",
              "      <td>1</td>\n",
              "      <td>As per the rules in the side bar, yes or no qu...</td>\n",
              "      <td>1</td>\n",
              "      <td>0</td>\n",
              "    </tr>\n",
              "    <tr>\n",
              "      <th>3</th>\n",
              "      <td>t3_2l7t5h</td>\n",
              "      <td>ADHDbot</td>\n",
              "      <td>1</td>\n",
              "      <td>As per the rules in the side bar, yes or no qu...</td>\n",
              "      <td>1</td>\n",
              "      <td>0</td>\n",
              "    </tr>\n",
              "    <tr>\n",
              "      <th>4</th>\n",
              "      <td>t3_2l900k</td>\n",
              "      <td>ADHDbot</td>\n",
              "      <td>1</td>\n",
              "      <td>We cannot and will not diagnose anyone.  You n...</td>\n",
              "      <td>1</td>\n",
              "      <td>0</td>\n",
              "    </tr>\n",
              "    <tr>\n",
              "      <th>...</th>\n",
              "      <td>...</td>\n",
              "      <td>...</td>\n",
              "      <td>...</td>\n",
              "      <td>...</td>\n",
              "      <td>...</td>\n",
              "      <td>...</td>\n",
              "    </tr>\n",
              "    <tr>\n",
              "      <th>311870</th>\n",
              "      <td>t3_5on47d</td>\n",
              "      <td>kcheng686</td>\n",
              "      <td>1</td>\n",
              "      <td>I remember the 2007 clippers.\n",
              "\n",
              "Which is the sa...</td>\n",
              "      <td>0</td>\n",
              "      <td>2</td>\n",
              "    </tr>\n",
              "    <tr>\n",
              "      <th>311871</th>\n",
              "      <td>t3_5q9ppf</td>\n",
              "      <td>DisconnectedCorn</td>\n",
              "      <td>1</td>\n",
              "      <td>On second thought you might actually be autistic</td>\n",
              "      <td>0</td>\n",
              "      <td>2</td>\n",
              "    </tr>\n",
              "    <tr>\n",
              "      <th>311872</th>\n",
              "      <td>t3_5pqb17</td>\n",
              "      <td>najing_ftw</td>\n",
              "      <td>3</td>\n",
              "      <td>Hello darkness, my old friend,\n",
              "I've come to ta...</td>\n",
              "      <td>0</td>\n",
              "      <td>2</td>\n",
              "    </tr>\n",
              "    <tr>\n",
              "      <th>311873</th>\n",
              "      <td>t3_5oh8zt</td>\n",
              "      <td>Fourteen_of_Twelve</td>\n",
              "      <td>5</td>\n",
              "      <td>You can't use the enter key when you're doing ...</td>\n",
              "      <td>0</td>\n",
              "      <td>2</td>\n",
              "    </tr>\n",
              "    <tr>\n",
              "      <th>311874</th>\n",
              "      <td>t3_5obnei</td>\n",
              "      <td>RanaI_Ape</td>\n",
              "      <td>1</td>\n",
              "      <td>I was, but I flashed stock so I could get OTAs...</td>\n",
              "      <td>0</td>\n",
              "      <td>2</td>\n",
              "    </tr>\n",
              "  </tbody>\n",
              "</table>\n",
              "<p>228625 rows × 6 columns</p>\n",
              "</div>\n",
              "      <button class=\"colab-df-convert\" onclick=\"convertToInteractive('df-0b1b45f5-0ac4-40a5-9502-31dc92b10c27')\"\n",
              "              title=\"Convert this dataframe to an interactive table.\"\n",
              "              style=\"display:none;\">\n",
              "        \n",
              "  <svg xmlns=\"http://www.w3.org/2000/svg\" height=\"24px\"viewBox=\"0 0 24 24\"\n",
              "       width=\"24px\">\n",
              "    <path d=\"M0 0h24v24H0V0z\" fill=\"none\"/>\n",
              "    <path d=\"M18.56 5.44l.94 2.06.94-2.06 2.06-.94-2.06-.94-.94-2.06-.94 2.06-2.06.94zm-11 1L8.5 8.5l.94-2.06 2.06-.94-2.06-.94L8.5 2.5l-.94 2.06-2.06.94zm10 10l.94 2.06.94-2.06 2.06-.94-2.06-.94-.94-2.06-.94 2.06-2.06.94z\"/><path d=\"M17.41 7.96l-1.37-1.37c-.4-.4-.92-.59-1.43-.59-.52 0-1.04.2-1.43.59L10.3 9.45l-7.72 7.72c-.78.78-.78 2.05 0 2.83L4 21.41c.39.39.9.59 1.41.59.51 0 1.02-.2 1.41-.59l7.78-7.78 2.81-2.81c.8-.78.8-2.07 0-2.86zM5.41 20L4 18.59l7.72-7.72 1.47 1.35L5.41 20z\"/>\n",
              "  </svg>\n",
              "      </button>\n",
              "      \n",
              "  <style>\n",
              "    .colab-df-container {\n",
              "      display:flex;\n",
              "      flex-wrap:wrap;\n",
              "      gap: 12px;\n",
              "    }\n",
              "\n",
              "    .colab-df-convert {\n",
              "      background-color: #E8F0FE;\n",
              "      border: none;\n",
              "      border-radius: 50%;\n",
              "      cursor: pointer;\n",
              "      display: none;\n",
              "      fill: #1967D2;\n",
              "      height: 32px;\n",
              "      padding: 0 0 0 0;\n",
              "      width: 32px;\n",
              "    }\n",
              "\n",
              "    .colab-df-convert:hover {\n",
              "      background-color: #E2EBFA;\n",
              "      box-shadow: 0px 1px 2px rgba(60, 64, 67, 0.3), 0px 1px 3px 1px rgba(60, 64, 67, 0.15);\n",
              "      fill: #174EA6;\n",
              "    }\n",
              "\n",
              "    [theme=dark] .colab-df-convert {\n",
              "      background-color: #3B4455;\n",
              "      fill: #D2E3FC;\n",
              "    }\n",
              "\n",
              "    [theme=dark] .colab-df-convert:hover {\n",
              "      background-color: #434B5C;\n",
              "      box-shadow: 0px 1px 3px 1px rgba(0, 0, 0, 0.15);\n",
              "      filter: drop-shadow(0px 1px 2px rgba(0, 0, 0, 0.3));\n",
              "      fill: #FFFFFF;\n",
              "    }\n",
              "  </style>\n",
              "\n",
              "      <script>\n",
              "        const buttonEl =\n",
              "          document.querySelector('#df-0b1b45f5-0ac4-40a5-9502-31dc92b10c27 button.colab-df-convert');\n",
              "        buttonEl.style.display =\n",
              "          google.colab.kernel.accessAllowed ? 'block' : 'none';\n",
              "\n",
              "        async function convertToInteractive(key) {\n",
              "          const element = document.querySelector('#df-0b1b45f5-0ac4-40a5-9502-31dc92b10c27');\n",
              "          const dataTable =\n",
              "            await google.colab.kernel.invokeFunction('convertToInteractive',\n",
              "                                                     [key], {});\n",
              "          if (!dataTable) return;\n",
              "\n",
              "          const docLinkHtml = 'Like what you see? Visit the ' +\n",
              "            '<a target=\"_blank\" href=https://colab.research.google.com/notebooks/data_table.ipynb>data table notebook</a>'\n",
              "            + ' to learn more about interactive tables.';\n",
              "          element.innerHTML = '';\n",
              "          dataTable['output_type'] = 'display_data';\n",
              "          await google.colab.output.renderOutput(dataTable, element);\n",
              "          const docLink = document.createElement('div');\n",
              "          docLink.innerHTML = docLinkHtml;\n",
              "          element.appendChild(docLink);\n",
              "        }\n",
              "      </script>\n",
              "    </div>\n",
              "  </div>\n",
              "  "
            ]
          },
          "metadata": {},
          "execution_count": 92
        }
      ]
    },
    {
      "cell_type": "code",
      "source": [
        "# Count num of bots and trolls\n",
        "bots = full_data['is_bot']\n",
        "trolls = full_data['is_troll']\n",
        "normals = full_data['is_normal']\n",
        "\n",
        "print(\"Number of bot comments: \", bots.sum())\n",
        "print(\"Number of troll comments:\", trolls.sum())\n",
        "print(\"Number of normal comments:\", normals.sum())\n",
        "\n",
        "bot_authors = full_data[full_data['is_bot'] == True][['author']]\n",
        "troll_authors = full_data[full_data['is_troll'] == True][['author']]\n",
        "normal_authors = full_data[full_data['is_normal'] == True][['author']]\n",
        "\n",
        "print(\"Number of bot authors: \", len(np.unique(bot_authors)))\n",
        "print(\"Number of troll authors:\", len(np.unique(troll_authors)))\n",
        "print(\"Number of normal authors:\", len(np.unique(normal_authors)))"
      ],
      "metadata": {
        "colab": {
          "base_uri": "https://localhost:8080/"
        },
        "id": "d7d-IXhxqZkP",
        "outputId": "9af45270-b7f4-40c9-c151-06344cb64950"
      },
      "execution_count": 40,
      "outputs": [
        {
          "output_type": "stream",
          "name": "stdout",
          "text": [
            "Number of bot comments:  177238\n",
            "Number of troll comments: 6552\n",
            "Number of normal comments: 44835\n",
            "Number of bot authors:  343\n",
            "Number of troll authors: 153\n",
            "Number of normal authors: 39667\n"
          ]
        }
      ]
    },
    {
      "cell_type": "markdown",
      "source": [
        "Выделим целевую переменную в отдельный столбец."
      ],
      "metadata": {
        "id": "214cqlDR7oYO"
      }
    },
    {
      "cell_type": "code",
      "source": [
        "full_data['is_troll'] = np.where(full_data['is_troll'] == True, 1,0)\n",
        "full_data['is_normal'] = np.where(full_data['is_normal'] == True, 2,0)"
      ],
      "metadata": {
        "id": "4iZIbtD6CZ46"
      },
      "execution_count": 72,
      "outputs": []
    },
    {
      "cell_type": "code",
      "source": [
        "full_data['Y'] = full_data['is_troll']+full_data['is_normal']\n",
        "full_data.drop(columns = ['is_troll', 'is_normal', 'is_bot'], inplace = True)"
      ],
      "metadata": {
        "id": "Qw0t0Wcr7vwH"
      },
      "execution_count": 85,
      "outputs": []
    },
    {
      "cell_type": "code",
      "source": [
        "full_data['Y'].value_counts()"
      ],
      "metadata": {
        "colab": {
          "base_uri": "https://localhost:8080/"
        },
        "id": "J0v2v3lmDmRa",
        "outputId": "4b6da1ff-3c14-4b41-aee7-85ef447d80ca"
      },
      "execution_count": 86,
      "outputs": [
        {
          "output_type": "execute_result",
          "data": {
            "text/plain": [
              "0    177238\n",
              "2     44835\n",
              "1      6552\n",
              "Name: Y, dtype: int64"
            ]
          },
          "metadata": {},
          "execution_count": 86
        }
      ]
    },
    {
      "cell_type": "markdown",
      "source": [
        "Теперь 0 - бот, 1 - тролль, 2 - нормальный комментарий."
      ],
      "metadata": {
        "id": "pW1SbIbKEIQx"
      }
    },
    {
      "cell_type": "markdown",
      "source": [
        "# Балансировка классов"
      ],
      "metadata": {
        "id": "3erenAK44dJp"
      }
    },
    {
      "cell_type": "code",
      "source": [
        "dataset = full_data[full_data.Y==2].sample(n=80000, replace=True, random_state=1)\n",
        "dataset = dataset.append(full_data[full_data.Y==1].sample(n=20000, replace=True, random_state=1))\n",
        "dataset = dataset.append(full_data[full_data.Y==0].sample(n=80000))\n",
        "dataset"
      ],
      "metadata": {
        "colab": {
          "base_uri": "https://localhost:8080/",
          "height": 513
        },
        "id": "B0CFF2AxGiQm",
        "outputId": "49352819-b7f0-4212-c099-90b3367de576"
      },
      "execution_count": 95,
      "outputs": [
        {
          "output_type": "stream",
          "name": "stderr",
          "text": [
            "<ipython-input-95-9ad7b2d14f6b>:2: FutureWarning: The frame.append method is deprecated and will be removed from pandas in a future version. Use pandas.concat instead.\n",
            "  dataset = dataset.append(full_data[full_data.Y==1].sample(n=20000, replace=True, random_state=1))\n",
            "<ipython-input-95-9ad7b2d14f6b>:3: FutureWarning: The frame.append method is deprecated and will be removed from pandas in a future version. Use pandas.concat instead.\n",
            "  dataset = dataset.append(full_data[full_data.Y==0].sample(n=80000))\n"
          ]
        },
        {
          "output_type": "execute_result",
          "data": {
            "text/plain": [
              "          link_id            author  score  \\\n",
              "300041  t3_5kgo9t        woodtick57      2   \n",
              "279207  t3_3n3uy6         jessmyser      1   \n",
              "272227  t3_36c1zu      nileppez_del      1   \n",
              "299549  t3_5fti0p        DoubleM101      1   \n",
              "310763  t3_5r60jm         [deleted]      2   \n",
              "...           ...               ...    ...   \n",
              "155740  t3_21fuf0         rightsbot      2   \n",
              "5071    t3_24yr6v        AutoInsult      3   \n",
              "173271  t3_7dii11          xkcd_bot     99   \n",
              "17867   t3_20emy2  DownvotesMcGoats      1   \n",
              "129875  t3_2pi861           PGN-Bot      1   \n",
              "\n",
              "                                                     body  ups  Y  \n",
              "300041  those states wouldn't have mattered even if he...    0  2  \n",
              "279207  You are a gem, I shall be locating this post h...    1  2  \n",
              "272227  Not very happy about it. Leave Sylvannas and T...    1  2  \n",
              "299549                                   In Portugal too.    0  2  \n",
              "310763  I've had the radio at the lowest possible soun...    0  2  \n",
              "...                                                   ...  ... ..  \n",
              "155740  Post text automatically copied [here](http://w...    2  0  \n",
              "5071    Yea I agree. When I saw the view low count on ...    3  0  \n",
              "173271  **[Mobile Version!](http://m.xkcd.com/1917/)**...   99  0  \n",
              "17867   **User:** /u/Dw-Im-Here  **Comment Score:** -7...    1  0  \n",
              "129875  [pgn]    [Event London Chess Classic]    [Site...    1  0  \n",
              "\n",
              "[180000 rows x 6 columns]"
            ],
            "text/html": [
              "\n",
              "  <div id=\"df-e2f5c066-1e77-42fd-ac9d-921543050d4e\">\n",
              "    <div class=\"colab-df-container\">\n",
              "      <div>\n",
              "<style scoped>\n",
              "    .dataframe tbody tr th:only-of-type {\n",
              "        vertical-align: middle;\n",
              "    }\n",
              "\n",
              "    .dataframe tbody tr th {\n",
              "        vertical-align: top;\n",
              "    }\n",
              "\n",
              "    .dataframe thead th {\n",
              "        text-align: right;\n",
              "    }\n",
              "</style>\n",
              "<table border=\"1\" class=\"dataframe\">\n",
              "  <thead>\n",
              "    <tr style=\"text-align: right;\">\n",
              "      <th></th>\n",
              "      <th>link_id</th>\n",
              "      <th>author</th>\n",
              "      <th>score</th>\n",
              "      <th>body</th>\n",
              "      <th>ups</th>\n",
              "      <th>Y</th>\n",
              "    </tr>\n",
              "  </thead>\n",
              "  <tbody>\n",
              "    <tr>\n",
              "      <th>300041</th>\n",
              "      <td>t3_5kgo9t</td>\n",
              "      <td>woodtick57</td>\n",
              "      <td>2</td>\n",
              "      <td>those states wouldn't have mattered even if he...</td>\n",
              "      <td>0</td>\n",
              "      <td>2</td>\n",
              "    </tr>\n",
              "    <tr>\n",
              "      <th>279207</th>\n",
              "      <td>t3_3n3uy6</td>\n",
              "      <td>jessmyser</td>\n",
              "      <td>1</td>\n",
              "      <td>You are a gem, I shall be locating this post h...</td>\n",
              "      <td>1</td>\n",
              "      <td>2</td>\n",
              "    </tr>\n",
              "    <tr>\n",
              "      <th>272227</th>\n",
              "      <td>t3_36c1zu</td>\n",
              "      <td>nileppez_del</td>\n",
              "      <td>1</td>\n",
              "      <td>Not very happy about it. Leave Sylvannas and T...</td>\n",
              "      <td>1</td>\n",
              "      <td>2</td>\n",
              "    </tr>\n",
              "    <tr>\n",
              "      <th>299549</th>\n",
              "      <td>t3_5fti0p</td>\n",
              "      <td>DoubleM101</td>\n",
              "      <td>1</td>\n",
              "      <td>In Portugal too.</td>\n",
              "      <td>0</td>\n",
              "      <td>2</td>\n",
              "    </tr>\n",
              "    <tr>\n",
              "      <th>310763</th>\n",
              "      <td>t3_5r60jm</td>\n",
              "      <td>[deleted]</td>\n",
              "      <td>2</td>\n",
              "      <td>I've had the radio at the lowest possible soun...</td>\n",
              "      <td>0</td>\n",
              "      <td>2</td>\n",
              "    </tr>\n",
              "    <tr>\n",
              "      <th>...</th>\n",
              "      <td>...</td>\n",
              "      <td>...</td>\n",
              "      <td>...</td>\n",
              "      <td>...</td>\n",
              "      <td>...</td>\n",
              "      <td>...</td>\n",
              "    </tr>\n",
              "    <tr>\n",
              "      <th>155740</th>\n",
              "      <td>t3_21fuf0</td>\n",
              "      <td>rightsbot</td>\n",
              "      <td>2</td>\n",
              "      <td>Post text automatically copied [here](http://w...</td>\n",
              "      <td>2</td>\n",
              "      <td>0</td>\n",
              "    </tr>\n",
              "    <tr>\n",
              "      <th>5071</th>\n",
              "      <td>t3_24yr6v</td>\n",
              "      <td>AutoInsult</td>\n",
              "      <td>3</td>\n",
              "      <td>Yea I agree. When I saw the view low count on ...</td>\n",
              "      <td>3</td>\n",
              "      <td>0</td>\n",
              "    </tr>\n",
              "    <tr>\n",
              "      <th>173271</th>\n",
              "      <td>t3_7dii11</td>\n",
              "      <td>xkcd_bot</td>\n",
              "      <td>99</td>\n",
              "      <td>**[Mobile Version!](http://m.xkcd.com/1917/)**...</td>\n",
              "      <td>99</td>\n",
              "      <td>0</td>\n",
              "    </tr>\n",
              "    <tr>\n",
              "      <th>17867</th>\n",
              "      <td>t3_20emy2</td>\n",
              "      <td>DownvotesMcGoats</td>\n",
              "      <td>1</td>\n",
              "      <td>**User:** /u/Dw-Im-Here  **Comment Score:** -7...</td>\n",
              "      <td>1</td>\n",
              "      <td>0</td>\n",
              "    </tr>\n",
              "    <tr>\n",
              "      <th>129875</th>\n",
              "      <td>t3_2pi861</td>\n",
              "      <td>PGN-Bot</td>\n",
              "      <td>1</td>\n",
              "      <td>[pgn]    [Event London Chess Classic]    [Site...</td>\n",
              "      <td>1</td>\n",
              "      <td>0</td>\n",
              "    </tr>\n",
              "  </tbody>\n",
              "</table>\n",
              "<p>180000 rows × 6 columns</p>\n",
              "</div>\n",
              "      <button class=\"colab-df-convert\" onclick=\"convertToInteractive('df-e2f5c066-1e77-42fd-ac9d-921543050d4e')\"\n",
              "              title=\"Convert this dataframe to an interactive table.\"\n",
              "              style=\"display:none;\">\n",
              "        \n",
              "  <svg xmlns=\"http://www.w3.org/2000/svg\" height=\"24px\"viewBox=\"0 0 24 24\"\n",
              "       width=\"24px\">\n",
              "    <path d=\"M0 0h24v24H0V0z\" fill=\"none\"/>\n",
              "    <path d=\"M18.56 5.44l.94 2.06.94-2.06 2.06-.94-2.06-.94-.94-2.06-.94 2.06-2.06.94zm-11 1L8.5 8.5l.94-2.06 2.06-.94-2.06-.94L8.5 2.5l-.94 2.06-2.06.94zm10 10l.94 2.06.94-2.06 2.06-.94-2.06-.94-.94-2.06-.94 2.06-2.06.94z\"/><path d=\"M17.41 7.96l-1.37-1.37c-.4-.4-.92-.59-1.43-.59-.52 0-1.04.2-1.43.59L10.3 9.45l-7.72 7.72c-.78.78-.78 2.05 0 2.83L4 21.41c.39.39.9.59 1.41.59.51 0 1.02-.2 1.41-.59l7.78-7.78 2.81-2.81c.8-.78.8-2.07 0-2.86zM5.41 20L4 18.59l7.72-7.72 1.47 1.35L5.41 20z\"/>\n",
              "  </svg>\n",
              "      </button>\n",
              "      \n",
              "  <style>\n",
              "    .colab-df-container {\n",
              "      display:flex;\n",
              "      flex-wrap:wrap;\n",
              "      gap: 12px;\n",
              "    }\n",
              "\n",
              "    .colab-df-convert {\n",
              "      background-color: #E8F0FE;\n",
              "      border: none;\n",
              "      border-radius: 50%;\n",
              "      cursor: pointer;\n",
              "      display: none;\n",
              "      fill: #1967D2;\n",
              "      height: 32px;\n",
              "      padding: 0 0 0 0;\n",
              "      width: 32px;\n",
              "    }\n",
              "\n",
              "    .colab-df-convert:hover {\n",
              "      background-color: #E2EBFA;\n",
              "      box-shadow: 0px 1px 2px rgba(60, 64, 67, 0.3), 0px 1px 3px 1px rgba(60, 64, 67, 0.15);\n",
              "      fill: #174EA6;\n",
              "    }\n",
              "\n",
              "    [theme=dark] .colab-df-convert {\n",
              "      background-color: #3B4455;\n",
              "      fill: #D2E3FC;\n",
              "    }\n",
              "\n",
              "    [theme=dark] .colab-df-convert:hover {\n",
              "      background-color: #434B5C;\n",
              "      box-shadow: 0px 1px 3px 1px rgba(0, 0, 0, 0.15);\n",
              "      filter: drop-shadow(0px 1px 2px rgba(0, 0, 0, 0.3));\n",
              "      fill: #FFFFFF;\n",
              "    }\n",
              "  </style>\n",
              "\n",
              "      <script>\n",
              "        const buttonEl =\n",
              "          document.querySelector('#df-e2f5c066-1e77-42fd-ac9d-921543050d4e button.colab-df-convert');\n",
              "        buttonEl.style.display =\n",
              "          google.colab.kernel.accessAllowed ? 'block' : 'none';\n",
              "\n",
              "        async function convertToInteractive(key) {\n",
              "          const element = document.querySelector('#df-e2f5c066-1e77-42fd-ac9d-921543050d4e');\n",
              "          const dataTable =\n",
              "            await google.colab.kernel.invokeFunction('convertToInteractive',\n",
              "                                                     [key], {});\n",
              "          if (!dataTable) return;\n",
              "\n",
              "          const docLinkHtml = 'Like what you see? Visit the ' +\n",
              "            '<a target=\"_blank\" href=https://colab.research.google.com/notebooks/data_table.ipynb>data table notebook</a>'\n",
              "            + ' to learn more about interactive tables.';\n",
              "          element.innerHTML = '';\n",
              "          dataTable['output_type'] = 'display_data';\n",
              "          await google.colab.output.renderOutput(dataTable, element);\n",
              "          const docLink = document.createElement('div');\n",
              "          docLink.innerHTML = docLinkHtml;\n",
              "          element.appendChild(docLink);\n",
              "        }\n",
              "      </script>\n",
              "    </div>\n",
              "  </div>\n",
              "  "
            ]
          },
          "metadata": {},
          "execution_count": 95
        }
      ]
    },
    {
      "cell_type": "code",
      "source": [
        "dataset['Y'].value_counts()"
      ],
      "metadata": {
        "colab": {
          "base_uri": "https://localhost:8080/"
        },
        "id": "zoKVN7rPJdxO",
        "outputId": "ec3cb778-ed4e-40d9-9e82-7b828d5aeefa"
      },
      "execution_count": 96,
      "outputs": [
        {
          "output_type": "execute_result",
          "data": {
            "text/plain": [
              "2    80000\n",
              "0    80000\n",
              "1    20000\n",
              "Name: Y, dtype: int64"
            ]
          },
          "metadata": {},
          "execution_count": 96
        }
      ]
    },
    {
      "cell_type": "markdown",
      "source": [
        "#Анализ тональности"
      ],
      "metadata": {
        "id": "HOlDqtuTXYjo"
      }
    },
    {
      "cell_type": "code",
      "source": [
        "!pip install nltk"
      ],
      "metadata": {
        "colab": {
          "base_uri": "https://localhost:8080/"
        },
        "id": "0opvdB2sowck",
        "outputId": "d59363de-cea2-42ab-9b69-10a656e18b8a"
      },
      "execution_count": 97,
      "outputs": [
        {
          "output_type": "stream",
          "name": "stdout",
          "text": [
            "Looking in indexes: https://pypi.org/simple, https://us-python.pkg.dev/colab-wheels/public/simple/\n",
            "Requirement already satisfied: nltk in /usr/local/lib/python3.9/dist-packages (3.8.1)\n",
            "Requirement already satisfied: tqdm in /usr/local/lib/python3.9/dist-packages (from nltk) (4.65.0)\n",
            "Requirement already satisfied: click in /usr/local/lib/python3.9/dist-packages (from nltk) (8.1.3)\n",
            "Requirement already satisfied: regex>=2021.8.3 in /usr/local/lib/python3.9/dist-packages (from nltk) (2022.10.31)\n",
            "Requirement already satisfied: joblib in /usr/local/lib/python3.9/dist-packages (from nltk) (1.1.1)\n"
          ]
        }
      ]
    },
    {
      "cell_type": "code",
      "source": [
        "from textblob import TextBlob\n",
        "import nltk\n",
        "\n",
        "nltk.download('all')"
      ],
      "metadata": {
        "colab": {
          "base_uri": "https://localhost:8080/"
        },
        "id": "owqIvePmoS_H",
        "outputId": "40dc0d9c-188b-4719-b43a-befc09019575"
      },
      "execution_count": 98,
      "outputs": [
        {
          "output_type": "stream",
          "name": "stderr",
          "text": [
            "[nltk_data] Downloading collection 'all'\n",
            "[nltk_data]    | \n",
            "[nltk_data]    | Downloading package abc to /root/nltk_data...\n",
            "[nltk_data]    |   Package abc is already up-to-date!\n",
            "[nltk_data]    | Downloading package alpino to /root/nltk_data...\n",
            "[nltk_data]    |   Package alpino is already up-to-date!\n",
            "[nltk_data]    | Downloading package averaged_perceptron_tagger to\n",
            "[nltk_data]    |     /root/nltk_data...\n",
            "[nltk_data]    |   Package averaged_perceptron_tagger is already up-\n",
            "[nltk_data]    |       to-date!\n",
            "[nltk_data]    | Downloading package averaged_perceptron_tagger_ru to\n",
            "[nltk_data]    |     /root/nltk_data...\n",
            "[nltk_data]    |   Package averaged_perceptron_tagger_ru is already\n",
            "[nltk_data]    |       up-to-date!\n",
            "[nltk_data]    | Downloading package basque_grammars to\n",
            "[nltk_data]    |     /root/nltk_data...\n",
            "[nltk_data]    |   Package basque_grammars is already up-to-date!\n",
            "[nltk_data]    | Downloading package bcp47 to /root/nltk_data...\n",
            "[nltk_data]    |   Package bcp47 is already up-to-date!\n",
            "[nltk_data]    | Downloading package biocreative_ppi to\n",
            "[nltk_data]    |     /root/nltk_data...\n",
            "[nltk_data]    |   Package biocreative_ppi is already up-to-date!\n",
            "[nltk_data]    | Downloading package bllip_wsj_no_aux to\n",
            "[nltk_data]    |     /root/nltk_data...\n",
            "[nltk_data]    |   Package bllip_wsj_no_aux is already up-to-date!\n",
            "[nltk_data]    | Downloading package book_grammars to\n",
            "[nltk_data]    |     /root/nltk_data...\n",
            "[nltk_data]    |   Package book_grammars is already up-to-date!\n",
            "[nltk_data]    | Downloading package brown to /root/nltk_data...\n",
            "[nltk_data]    |   Package brown is already up-to-date!\n",
            "[nltk_data]    | Downloading package brown_tei to /root/nltk_data...\n",
            "[nltk_data]    |   Package brown_tei is already up-to-date!\n",
            "[nltk_data]    | Downloading package cess_cat to /root/nltk_data...\n",
            "[nltk_data]    |   Package cess_cat is already up-to-date!\n",
            "[nltk_data]    | Downloading package cess_esp to /root/nltk_data...\n",
            "[nltk_data]    |   Package cess_esp is already up-to-date!\n",
            "[nltk_data]    | Downloading package chat80 to /root/nltk_data...\n",
            "[nltk_data]    |   Package chat80 is already up-to-date!\n",
            "[nltk_data]    | Downloading package city_database to\n",
            "[nltk_data]    |     /root/nltk_data...\n",
            "[nltk_data]    |   Package city_database is already up-to-date!\n",
            "[nltk_data]    | Downloading package cmudict to /root/nltk_data...\n",
            "[nltk_data]    |   Package cmudict is already up-to-date!\n",
            "[nltk_data]    | Downloading package comparative_sentences to\n",
            "[nltk_data]    |     /root/nltk_data...\n",
            "[nltk_data]    |   Package comparative_sentences is already up-to-\n",
            "[nltk_data]    |       date!\n",
            "[nltk_data]    | Downloading package comtrans to /root/nltk_data...\n",
            "[nltk_data]    |   Package comtrans is already up-to-date!\n",
            "[nltk_data]    | Downloading package conll2000 to /root/nltk_data...\n",
            "[nltk_data]    |   Package conll2000 is already up-to-date!\n",
            "[nltk_data]    | Downloading package conll2002 to /root/nltk_data...\n",
            "[nltk_data]    |   Package conll2002 is already up-to-date!\n",
            "[nltk_data]    | Downloading package conll2007 to /root/nltk_data...\n",
            "[nltk_data]    |   Package conll2007 is already up-to-date!\n",
            "[nltk_data]    | Downloading package crubadan to /root/nltk_data...\n",
            "[nltk_data]    |   Package crubadan is already up-to-date!\n",
            "[nltk_data]    | Downloading package dependency_treebank to\n",
            "[nltk_data]    |     /root/nltk_data...\n",
            "[nltk_data]    |   Package dependency_treebank is already up-to-date!\n",
            "[nltk_data]    | Downloading package dolch to /root/nltk_data...\n",
            "[nltk_data]    |   Package dolch is already up-to-date!\n",
            "[nltk_data]    | Downloading package europarl_raw to\n",
            "[nltk_data]    |     /root/nltk_data...\n",
            "[nltk_data]    |   Package europarl_raw is already up-to-date!\n",
            "[nltk_data]    | Downloading package extended_omw to\n",
            "[nltk_data]    |     /root/nltk_data...\n",
            "[nltk_data]    |   Package extended_omw is already up-to-date!\n",
            "[nltk_data]    | Downloading package floresta to /root/nltk_data...\n",
            "[nltk_data]    |   Package floresta is already up-to-date!\n",
            "[nltk_data]    | Downloading package framenet_v15 to\n",
            "[nltk_data]    |     /root/nltk_data...\n",
            "[nltk_data]    |   Package framenet_v15 is already up-to-date!\n",
            "[nltk_data]    | Downloading package framenet_v17 to\n",
            "[nltk_data]    |     /root/nltk_data...\n",
            "[nltk_data]    |   Package framenet_v17 is already up-to-date!\n",
            "[nltk_data]    | Downloading package gazetteers to /root/nltk_data...\n",
            "[nltk_data]    |   Package gazetteers is already up-to-date!\n",
            "[nltk_data]    | Downloading package genesis to /root/nltk_data...\n",
            "[nltk_data]    |   Package genesis is already up-to-date!\n",
            "[nltk_data]    | Downloading package gutenberg to /root/nltk_data...\n",
            "[nltk_data]    |   Package gutenberg is already up-to-date!\n",
            "[nltk_data]    | Downloading package ieer to /root/nltk_data...\n",
            "[nltk_data]    |   Package ieer is already up-to-date!\n",
            "[nltk_data]    | Downloading package inaugural to /root/nltk_data...\n",
            "[nltk_data]    |   Package inaugural is already up-to-date!\n",
            "[nltk_data]    | Downloading package indian to /root/nltk_data...\n",
            "[nltk_data]    |   Package indian is already up-to-date!\n",
            "[nltk_data]    | Downloading package jeita to /root/nltk_data...\n",
            "[nltk_data]    |   Package jeita is already up-to-date!\n",
            "[nltk_data]    | Downloading package kimmo to /root/nltk_data...\n",
            "[nltk_data]    |   Package kimmo is already up-to-date!\n",
            "[nltk_data]    | Downloading package knbc to /root/nltk_data...\n",
            "[nltk_data]    |   Package knbc is already up-to-date!\n",
            "[nltk_data]    | Downloading package large_grammars to\n",
            "[nltk_data]    |     /root/nltk_data...\n",
            "[nltk_data]    |   Package large_grammars is already up-to-date!\n",
            "[nltk_data]    | Downloading package lin_thesaurus to\n",
            "[nltk_data]    |     /root/nltk_data...\n",
            "[nltk_data]    |   Package lin_thesaurus is already up-to-date!\n",
            "[nltk_data]    | Downloading package mac_morpho to /root/nltk_data...\n",
            "[nltk_data]    |   Package mac_morpho is already up-to-date!\n",
            "[nltk_data]    | Downloading package machado to /root/nltk_data...\n",
            "[nltk_data]    |   Package machado is already up-to-date!\n",
            "[nltk_data]    | Downloading package masc_tagged to /root/nltk_data...\n",
            "[nltk_data]    |   Package masc_tagged is already up-to-date!\n",
            "[nltk_data]    | Downloading package maxent_ne_chunker to\n",
            "[nltk_data]    |     /root/nltk_data...\n",
            "[nltk_data]    |   Package maxent_ne_chunker is already up-to-date!\n",
            "[nltk_data]    | Downloading package maxent_treebank_pos_tagger to\n",
            "[nltk_data]    |     /root/nltk_data...\n",
            "[nltk_data]    |   Package maxent_treebank_pos_tagger is already up-\n",
            "[nltk_data]    |       to-date!\n",
            "[nltk_data]    | Downloading package moses_sample to\n",
            "[nltk_data]    |     /root/nltk_data...\n",
            "[nltk_data]    |   Package moses_sample is already up-to-date!\n",
            "[nltk_data]    | Downloading package movie_reviews to\n",
            "[nltk_data]    |     /root/nltk_data...\n",
            "[nltk_data]    |   Package movie_reviews is already up-to-date!\n",
            "[nltk_data]    | Downloading package mte_teip5 to /root/nltk_data...\n",
            "[nltk_data]    |   Package mte_teip5 is already up-to-date!\n",
            "[nltk_data]    | Downloading package mwa_ppdb to /root/nltk_data...\n",
            "[nltk_data]    |   Package mwa_ppdb is already up-to-date!\n",
            "[nltk_data]    | Downloading package names to /root/nltk_data...\n",
            "[nltk_data]    |   Package names is already up-to-date!\n",
            "[nltk_data]    | Downloading package nombank.1.0 to /root/nltk_data...\n",
            "[nltk_data]    |   Package nombank.1.0 is already up-to-date!\n",
            "[nltk_data]    | Downloading package nonbreaking_prefixes to\n",
            "[nltk_data]    |     /root/nltk_data...\n",
            "[nltk_data]    |   Package nonbreaking_prefixes is already up-to-date!\n",
            "[nltk_data]    | Downloading package nps_chat to /root/nltk_data...\n",
            "[nltk_data]    |   Package nps_chat is already up-to-date!\n",
            "[nltk_data]    | Downloading package omw to /root/nltk_data...\n",
            "[nltk_data]    |   Package omw is already up-to-date!\n",
            "[nltk_data]    | Downloading package omw-1.4 to /root/nltk_data...\n",
            "[nltk_data]    |   Package omw-1.4 is already up-to-date!\n",
            "[nltk_data]    | Downloading package opinion_lexicon to\n",
            "[nltk_data]    |     /root/nltk_data...\n",
            "[nltk_data]    |   Package opinion_lexicon is already up-to-date!\n",
            "[nltk_data]    | Downloading package panlex_swadesh to\n",
            "[nltk_data]    |     /root/nltk_data...\n",
            "[nltk_data]    |   Package panlex_swadesh is already up-to-date!\n",
            "[nltk_data]    | Downloading package paradigms to /root/nltk_data...\n",
            "[nltk_data]    |   Package paradigms is already up-to-date!\n",
            "[nltk_data]    | Downloading package pe08 to /root/nltk_data...\n",
            "[nltk_data]    |   Package pe08 is already up-to-date!\n",
            "[nltk_data]    | Downloading package perluniprops to\n",
            "[nltk_data]    |     /root/nltk_data...\n",
            "[nltk_data]    |   Package perluniprops is already up-to-date!\n",
            "[nltk_data]    | Downloading package pil to /root/nltk_data...\n",
            "[nltk_data]    |   Package pil is already up-to-date!\n",
            "[nltk_data]    | Downloading package pl196x to /root/nltk_data...\n",
            "[nltk_data]    |   Package pl196x is already up-to-date!\n",
            "[nltk_data]    | Downloading package porter_test to /root/nltk_data...\n",
            "[nltk_data]    |   Package porter_test is already up-to-date!\n",
            "[nltk_data]    | Downloading package ppattach to /root/nltk_data...\n",
            "[nltk_data]    |   Package ppattach is already up-to-date!\n",
            "[nltk_data]    | Downloading package problem_reports to\n",
            "[nltk_data]    |     /root/nltk_data...\n",
            "[nltk_data]    |   Package problem_reports is already up-to-date!\n",
            "[nltk_data]    | Downloading package product_reviews_1 to\n",
            "[nltk_data]    |     /root/nltk_data...\n",
            "[nltk_data]    |   Package product_reviews_1 is already up-to-date!\n",
            "[nltk_data]    | Downloading package product_reviews_2 to\n",
            "[nltk_data]    |     /root/nltk_data...\n",
            "[nltk_data]    |   Package product_reviews_2 is already up-to-date!\n",
            "[nltk_data]    | Downloading package propbank to /root/nltk_data...\n",
            "[nltk_data]    |   Package propbank is already up-to-date!\n",
            "[nltk_data]    | Downloading package pros_cons to /root/nltk_data...\n",
            "[nltk_data]    |   Package pros_cons is already up-to-date!\n",
            "[nltk_data]    | Downloading package ptb to /root/nltk_data...\n",
            "[nltk_data]    |   Package ptb is already up-to-date!\n",
            "[nltk_data]    | Downloading package punkt to /root/nltk_data...\n",
            "[nltk_data]    |   Package punkt is already up-to-date!\n",
            "[nltk_data]    | Downloading package qc to /root/nltk_data...\n",
            "[nltk_data]    |   Package qc is already up-to-date!\n",
            "[nltk_data]    | Downloading package reuters to /root/nltk_data...\n",
            "[nltk_data]    |   Package reuters is already up-to-date!\n",
            "[nltk_data]    | Downloading package rslp to /root/nltk_data...\n",
            "[nltk_data]    |   Package rslp is already up-to-date!\n",
            "[nltk_data]    | Downloading package rte to /root/nltk_data...\n",
            "[nltk_data]    |   Package rte is already up-to-date!\n",
            "[nltk_data]    | Downloading package sample_grammars to\n",
            "[nltk_data]    |     /root/nltk_data...\n",
            "[nltk_data]    |   Package sample_grammars is already up-to-date!\n",
            "[nltk_data]    | Downloading package semcor to /root/nltk_data...\n",
            "[nltk_data]    |   Package semcor is already up-to-date!\n",
            "[nltk_data]    | Downloading package senseval to /root/nltk_data...\n",
            "[nltk_data]    |   Package senseval is already up-to-date!\n",
            "[nltk_data]    | Downloading package sentence_polarity to\n",
            "[nltk_data]    |     /root/nltk_data...\n",
            "[nltk_data]    |   Package sentence_polarity is already up-to-date!\n",
            "[nltk_data]    | Downloading package sentiwordnet to\n",
            "[nltk_data]    |     /root/nltk_data...\n",
            "[nltk_data]    |   Package sentiwordnet is already up-to-date!\n",
            "[nltk_data]    | Downloading package shakespeare to /root/nltk_data...\n",
            "[nltk_data]    |   Package shakespeare is already up-to-date!\n",
            "[nltk_data]    | Downloading package sinica_treebank to\n",
            "[nltk_data]    |     /root/nltk_data...\n",
            "[nltk_data]    |   Package sinica_treebank is already up-to-date!\n",
            "[nltk_data]    | Downloading package smultron to /root/nltk_data...\n",
            "[nltk_data]    |   Package smultron is already up-to-date!\n",
            "[nltk_data]    | Downloading package snowball_data to\n",
            "[nltk_data]    |     /root/nltk_data...\n",
            "[nltk_data]    |   Package snowball_data is already up-to-date!\n",
            "[nltk_data]    | Downloading package spanish_grammars to\n",
            "[nltk_data]    |     /root/nltk_data...\n",
            "[nltk_data]    |   Package spanish_grammars is already up-to-date!\n",
            "[nltk_data]    | Downloading package state_union to /root/nltk_data...\n",
            "[nltk_data]    |   Package state_union is already up-to-date!\n",
            "[nltk_data]    | Downloading package stopwords to /root/nltk_data...\n",
            "[nltk_data]    |   Package stopwords is already up-to-date!\n",
            "[nltk_data]    | Downloading package subjectivity to\n",
            "[nltk_data]    |     /root/nltk_data...\n",
            "[nltk_data]    |   Package subjectivity is already up-to-date!\n",
            "[nltk_data]    | Downloading package swadesh to /root/nltk_data...\n",
            "[nltk_data]    |   Package swadesh is already up-to-date!\n",
            "[nltk_data]    | Downloading package switchboard to /root/nltk_data...\n",
            "[nltk_data]    |   Package switchboard is already up-to-date!\n",
            "[nltk_data]    | Downloading package tagsets to /root/nltk_data...\n",
            "[nltk_data]    |   Package tagsets is already up-to-date!\n",
            "[nltk_data]    | Downloading package timit to /root/nltk_data...\n",
            "[nltk_data]    |   Package timit is already up-to-date!\n",
            "[nltk_data]    | Downloading package toolbox to /root/nltk_data...\n",
            "[nltk_data]    |   Package toolbox is already up-to-date!\n",
            "[nltk_data]    | Downloading package treebank to /root/nltk_data...\n",
            "[nltk_data]    |   Package treebank is already up-to-date!\n",
            "[nltk_data]    | Downloading package twitter_samples to\n",
            "[nltk_data]    |     /root/nltk_data...\n",
            "[nltk_data]    |   Package twitter_samples is already up-to-date!\n",
            "[nltk_data]    | Downloading package udhr to /root/nltk_data...\n",
            "[nltk_data]    |   Package udhr is already up-to-date!\n",
            "[nltk_data]    | Downloading package udhr2 to /root/nltk_data...\n",
            "[nltk_data]    |   Package udhr2 is already up-to-date!\n",
            "[nltk_data]    | Downloading package unicode_samples to\n",
            "[nltk_data]    |     /root/nltk_data...\n",
            "[nltk_data]    |   Package unicode_samples is already up-to-date!\n",
            "[nltk_data]    | Downloading package universal_tagset to\n",
            "[nltk_data]    |     /root/nltk_data...\n",
            "[nltk_data]    |   Package universal_tagset is already up-to-date!\n",
            "[nltk_data]    | Downloading package universal_treebanks_v20 to\n",
            "[nltk_data]    |     /root/nltk_data...\n",
            "[nltk_data]    |   Package universal_treebanks_v20 is already up-to-\n",
            "[nltk_data]    |       date!\n",
            "[nltk_data]    | Downloading package vader_lexicon to\n",
            "[nltk_data]    |     /root/nltk_data...\n",
            "[nltk_data]    |   Package vader_lexicon is already up-to-date!\n",
            "[nltk_data]    | Downloading package verbnet to /root/nltk_data...\n",
            "[nltk_data]    |   Package verbnet is already up-to-date!\n",
            "[nltk_data]    | Downloading package verbnet3 to /root/nltk_data...\n",
            "[nltk_data]    |   Package verbnet3 is already up-to-date!\n",
            "[nltk_data]    | Downloading package webtext to /root/nltk_data...\n",
            "[nltk_data]    |   Package webtext is already up-to-date!\n",
            "[nltk_data]    | Downloading package wmt15_eval to /root/nltk_data...\n",
            "[nltk_data]    |   Package wmt15_eval is already up-to-date!\n",
            "[nltk_data]    | Downloading package word2vec_sample to\n",
            "[nltk_data]    |     /root/nltk_data...\n",
            "[nltk_data]    |   Package word2vec_sample is already up-to-date!\n",
            "[nltk_data]    | Downloading package wordnet to /root/nltk_data...\n",
            "[nltk_data]    |   Package wordnet is already up-to-date!\n",
            "[nltk_data]    | Downloading package wordnet2021 to /root/nltk_data...\n",
            "[nltk_data]    |   Package wordnet2021 is already up-to-date!\n",
            "[nltk_data]    | Downloading package wordnet2022 to /root/nltk_data...\n",
            "[nltk_data]    |   Package wordnet2022 is already up-to-date!\n",
            "[nltk_data]    | Downloading package wordnet31 to /root/nltk_data...\n",
            "[nltk_data]    |   Package wordnet31 is already up-to-date!\n",
            "[nltk_data]    | Downloading package wordnet_ic to /root/nltk_data...\n",
            "[nltk_data]    |   Package wordnet_ic is already up-to-date!\n",
            "[nltk_data]    | Downloading package words to /root/nltk_data...\n",
            "[nltk_data]    |   Package words is already up-to-date!\n",
            "[nltk_data]    | Downloading package ycoe to /root/nltk_data...\n",
            "[nltk_data]    |   Package ycoe is already up-to-date!\n",
            "[nltk_data]    | \n",
            "[nltk_data]  Done downloading collection all\n"
          ]
        },
        {
          "output_type": "execute_result",
          "data": {
            "text/plain": [
              "True"
            ]
          },
          "metadata": {},
          "execution_count": 98
        }
      ]
    },
    {
      "cell_type": "markdown",
      "source": [
        "Анализ тональности сообщений будем проводить с пмощью  TextBlob. Метод .sentiment.polarity принимает на вход комментарий и возвращает значение от -1 до 1, где -1 - отрицательная полярность, а 1 - положительная. Также метод .sentiment.subjectivity определит субъективность / объективность, возвращая значение в пределах от 0 до 1, где 0 - очень объективный комментарий и 1 очень субъективный комментарий."
      ],
      "metadata": {
        "id": "YXCPAh7DugZf"
      }
    },
    {
      "cell_type": "code",
      "source": [
        "full_data.dtypes"
      ],
      "metadata": {
        "colab": {
          "base_uri": "https://localhost:8080/"
        },
        "id": "VzmQZle01gEf",
        "outputId": "37eb9440-35d1-47fd-bdc5-e9eb3a9ca340"
      },
      "execution_count": 99,
      "outputs": [
        {
          "output_type": "execute_result",
          "data": {
            "text/plain": [
              "link_id    string\n",
              "author     string\n",
              "score       Int64\n",
              "body       string\n",
              "ups         Int64\n",
              "Y           int64\n",
              "dtype: object"
            ]
          },
          "metadata": {},
          "execution_count": 99
        }
      ]
    },
    {
      "cell_type": "code",
      "source": [
        "#my_data['ups'].plot(kind='line')\n",
        "full_data['body'].apply(lambda x: len(x)).plot(kind='line')"
      ],
      "metadata": {
        "colab": {
          "base_uri": "https://localhost:8080/",
          "height": 282
        },
        "id": "D093PBh61JXC",
        "outputId": "337d70ad-fb36-434f-a658-9e2be4a79b6e"
      },
      "execution_count": 100,
      "outputs": [
        {
          "output_type": "execute_result",
          "data": {
            "text/plain": [
              "<Axes: >"
            ]
          },
          "metadata": {},
          "execution_count": 100
        },
        {
          "output_type": "display_data",
          "data": {
            "text/plain": [
              "<Figure size 432x288 with 1 Axes>"
            ],
            "image/png": "[encoded data removed]"
          },
          "metadata": {
            "needs_background": "light"
          }
        }
      ]
    },
    {
      "cell_type": "code",
      "source": [
        "#def polar(text):\n",
        "\n",
        "full_data['polarity'] = full_data['body'].apply(lambda x: TextBlob(x).sentiment.polarity)"
      ],
      "metadata": {
        "id": "iw-1lJFAzkHJ"
      },
      "execution_count": 101,
      "outputs": []
    },
    {
      "cell_type": "code",
      "source": [
        "full_data['subjectivity'] = full_data['body'].apply(lambda x: TextBlob(x).sentiment.subjectivity)"
      ],
      "metadata": {
        "id": "EAZwiE1y3Nq-"
      },
      "execution_count": 102,
      "outputs": []
    },
    {
      "cell_type": "markdown",
      "source": [
        "Добавим еще несколько признаков на основе текста."
      ],
      "metadata": {
        "id": "ko-R_tJH32fs"
      }
    },
    {
      "cell_type": "code",
      "source": [
        "full_data['body_length'] = full_data['body'].apply(lambda x: len(x))\n",
        "#длина комментария"
      ],
      "metadata": {
        "id": "R-8RYiwA3Z1b"
      },
      "execution_count": 103,
      "outputs": []
    },
    {
      "cell_type": "markdown",
      "source": [
        "# Random Frorest"
      ],
      "metadata": {
        "id": "U6yF6Hv0Gmzb"
      }
    },
    {
      "cell_type": "markdown",
      "source": [
        "(пока на несбалансированном датасете)"
      ],
      "metadata": {
        "id": "QgSnwNeXL5f1"
      }
    },
    {
      "cell_type": "code",
      "source": [
        "from sklearn.model_selection import train_test_split\n",
        "from sklearn.tree import DecisionTreeClassifier\n",
        "from sklearn import metrics"
      ],
      "metadata": {
        "id": "ZL5TKvV4KwaX"
      },
      "execution_count": 108,
      "outputs": []
    },
    {
      "cell_type": "code",
      "source": [
        "full_data.drop(columns = ['link_id','author','body'], inplace = True)\n",
        "\n",
        "X_train, X_test, y_train, y_test = train_test_split(\n",
        "            full_data.drop(['Y'], axis=1), full_data['Y'].values,\n",
        "            test_size=0.3, random_state=16)"
      ],
      "metadata": {
        "id": "8T-VVQ_pGt6z"
      },
      "execution_count": 110,
      "outputs": []
    },
    {
      "cell_type": "code",
      "source": [
        "clf = DecisionTreeClassifier(max_depth=3, \n",
        "                             #class_weight='balanced',\n",
        "                             #class_weight={'normal':1, 'bot':2.5, 'troll':5}, \n",
        "                             min_samples_leaf=100)\n",
        "\n",
        "clf.fit(X_train, y_train)\n",
        "\n",
        "y_pred = clf.predict(X_test)\n",
        "\n",
        "y_true = y_test\n",
        "\n",
        "matrix = pd.crosstab(y_true, y_pred, rownames=['True'],\n",
        "                     colnames=['Predicted'], margins=True)\n",
        "print(matrix)\n",
        "print(\"Accuracy:\", metrics.accuracy_score(y_test, y_pred))\n",
        "print(\"Mcc:\", metrics.matthews_corrcoef(y_test, y_pred))\n",
        "print(\"F1 :\", metrics.f1_score(y_test, y_pred, average=None))\n",
        "print(\"Recall :\", metrics.recall_score(y_test, y_pred, average=None))\n",
        "print(\"Precision:\", metrics.precision_score(y_test, y_pred, average=None))\n",
        "\n",
        "feature_imp = pd.Series(\n",
        "        clf.feature_importances_,\n",
        "        index=full_data.columns.drop('Y')).sort_values(ascending=False)\n",
        "print(feature_imp)"
      ],
      "metadata": {
        "colab": {
          "base_uri": "https://localhost:8080/"
        },
        "id": "6VAyH0lkJuSt",
        "outputId": "8f36225b-e8f1-4828-a15e-5694411d771c"
      },
      "execution_count": 112,
      "outputs": [
        {
          "output_type": "stream",
          "name": "stdout",
          "text": [
            "Predicted      0     2    All\n",
            "True                         \n",
            "0          53162     0  53162\n",
            "1           2050     0   2050\n",
            "2           8659  4717  13376\n",
            "All        63871  4717  68588\n",
            "Accuracy: 0.8438648160027993\n",
            "Mcc: 0.5058326925685853\n",
            "F1 : [0.90849589 0.         0.52141712]\n",
            "Recall : [1.         0.         0.35264653]\n",
            "Precision: [0.83233392 0.         1.        ]\n",
            "body_length     0.815751\n",
            "score           0.093141\n",
            "ups             0.066730\n",
            "subjectivity    0.024378\n",
            "polarity        0.000000\n",
            "dtype: float64\n"
          ]
        },
        {
          "output_type": "stream",
          "name": "stderr",
          "text": [
            "/usr/local/lib/python3.9/dist-packages/sklearn/metrics/_classification.py:1344: UndefinedMetricWarning: Precision is ill-defined and being set to 0.0 in labels with no predicted samples. Use `zero_division` parameter to control this behavior.\n",
            "  _warn_prf(average, modifier, msg_start, len(result))\n"
          ]
        }
      ]
    },
    {
      "cell_type": "markdown",
      "source": [
        "Посмотрим, что будет, если убрать Body_length."
      ],
      "metadata": {
        "id": "WjT2KwOrM8gA"
      }
    },
    {
      "cell_type": "code",
      "source": [
        "full_data.drop(columns = ['body_length'], inplace = True)\n",
        "\n",
        "X_train, X_test, y_train, y_test = train_test_split(\n",
        "            full_data.drop(['Y'], axis=1), full_data['Y'].values,\n",
        "            test_size=0.3, random_state=16)"
      ],
      "metadata": {
        "id": "gjV4cA8MNDJa"
      },
      "execution_count": 113,
      "outputs": []
    },
    {
      "cell_type": "code",
      "source": [
        "clf = DecisionTreeClassifier(max_depth=3, \n",
        "                             #class_weight='balanced',\n",
        "                             #class_weight={'normal':1, 'bot':2.5, 'troll':5}, \n",
        "                             min_samples_leaf=100)\n",
        "\n",
        "clf.fit(X_train, y_train)\n",
        "\n",
        "y_pred = clf.predict(X_test)\n",
        "\n",
        "y_true = y_test\n",
        "\n",
        "matrix = pd.crosstab(y_true, y_pred, rownames=['True'],\n",
        "                     colnames=['Predicted'], margins=True)\n",
        "print(matrix)\n",
        "print(\"Accuracy:\", metrics.accuracy_score(y_test, y_pred))\n",
        "print(\"Mcc:\", metrics.matthews_corrcoef(y_test, y_pred))\n",
        "print(\"F1 :\", metrics.f1_score(y_test, y_pred, average=None))\n",
        "print(\"Recall :\", metrics.recall_score(y_test, y_pred, average=None))\n",
        "print(\"Precision:\", metrics.precision_score(y_test, y_pred, average=None))\n",
        "\n",
        "feature_imp = pd.Series(\n",
        "        clf.feature_importances_,\n",
        "        index=full_data.columns.drop('Y')).sort_values(ascending=False)\n",
        "print(feature_imp)"
      ],
      "metadata": {
        "colab": {
          "base_uri": "https://localhost:8080/"
        },
        "id": "nW006gF0NHx_",
        "outputId": "056793e1-c739-481f-84a0-348552198985"
      },
      "execution_count": 114,
      "outputs": [
        {
          "output_type": "stream",
          "name": "stdout",
          "text": [
            "Predicted      0     2    All\n",
            "True                         \n",
            "0          53162     0  53162\n",
            "1           2050     0   2050\n",
            "2           9599  3777  13376\n",
            "All        64811  3777  68588\n",
            "Accuracy: 0.8301597947162769\n",
            "Mcc: 0.44933986018633715\n",
            "F1 : [0.90125707 0.         0.44038944]\n",
            "Recall : [1.         0.         0.28237141]\n",
            "Precision: [0.82026199 0.         1.        ]\n",
            "score           0.532913\n",
            "ups             0.430819\n",
            "subjectivity    0.019264\n",
            "polarity        0.017005\n",
            "dtype: float64\n"
          ]
        },
        {
          "output_type": "stream",
          "name": "stderr",
          "text": [
            "/usr/local/lib/python3.9/dist-packages/sklearn/metrics/_classification.py:1344: UndefinedMetricWarning: Precision is ill-defined and being set to 0.0 in labels with no predicted samples. Use `zero_division` parameter to control this behavior.\n",
            "  _warn_prf(average, modifier, msg_start, len(result))\n"
          ]
        }
      ]
    },
    {
      "cell_type": "markdown",
      "source": [
        "Все не так уж плохо!"
      ],
      "metadata": {
        "id": "Y21qLd3fNUqx"
      }
    },
    {
      "cell_type": "code",
      "source": [],
      "metadata": {
        "id": "aHdF-zHHNX1D"
      },
      "execution_count": null,
      "outputs": []
    }
  ]
}